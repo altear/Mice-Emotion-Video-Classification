{
 "cells": [
  {
   "cell_type": "code",
   "execution_count": 59,
   "metadata": {},
   "outputs": [],
   "source": [
    "import json\n",
    "import re\n",
    "from pathlib import Path\n",
    "from ruamel.yaml import YAML\n",
    "\n",
    "project_path = Path(r\"C:\\Users\\Owner\\Documents\\repos\\COMP4905\\pose-estimation\\MousePose-AndreTelfer-2020-05-21\")\n",
    "\n",
    "yaml = YAML()\n",
    "with open(project_path / 'config.yaml', 'r') as fp:\n",
    "    config = yaml.load(fp)"
   ]
  },
  {
   "cell_type": "markdown",
   "metadata": {},
   "source": [
    "# What Frames are Already Labelled?"
   ]
  },
  {
   "cell_type": "code",
   "execution_count": 71,
   "metadata": {},
   "outputs": [
    {
     "name": "stdout",
     "output_type": "stream",
     "text": [
      "{\n",
      "    \"Rat 2 LPS 1\": [\n",
      "        0,\n",
      "        1323,\n",
      "        17072,\n",
      "        19623,\n",
      "        24044,\n",
      "        41117,\n",
      "        51152\n",
      "    ],\n",
      "    \"Rat 4 Control 1\": [\n",
      "        0,\n",
      "        6179,\n",
      "        16331,\n",
      "        23834,\n",
      "        41489,\n",
      "        42372,\n",
      "        48110,\n",
      "        52303\n",
      "    ]\n",
      "}\n"
     ]
    }
   ],
   "source": [
    "labeled_data_folder = project_path / \"labeled-data\"\n",
    "labeled_frames = {}\n",
    "\n",
    "r = re.compile(\"img(\\d+).png\")\n",
    "for video_folder in os.listdir(labeled_data_folder):\n",
    "    images = os.listdir(labeled_data_folder / video_folder)\n",
    "    images = list(filter(lambda x: r.match(x), images))\n",
    "    frames = list(map(lambda x: int(r.match(x).group(1)), images))\n",
    "    \n",
    "    labeled_frames[video_folder] = frames\n",
    "    \n",
    "print(json.dumps(labeled_frames, indent=4))"
   ]
  },
  {
   "cell_type": "markdown",
   "metadata": {},
   "source": [
    "# Random Sample Frames\n",
    "\n",
    "## Select Videos\n",
    "\n",
    "### Get Videos from Project"
   ]
  },
  {
   "cell_type": "code",
   "execution_count": 44,
   "metadata": {},
   "outputs": [
    {
     "data": {
      "text/plain": [
       "[WindowsPath('C:/Users/Owner/Documents/repos/COMP4905/pose-estimation/MousePose-AndreTelfer-2020-05-21/videos/Rat 2 LPS 1.MP4'),\n",
       " WindowsPath('C:/Users/Owner/Documents/repos/COMP4905/pose-estimation/MousePose-AndreTelfer-2020-05-21/videos/Rat 4 Control 1.MP4')]"
      ]
     },
     "execution_count": 44,
     "metadata": {},
     "output_type": "execute_result"
    }
   ],
   "source": [
    "import os\n",
    "import shutil\n",
    "\n",
    "# Temporarily change the CWD, this lets us use pathlib to resolve relative paths\n",
    "initial_cwd = os.getcwd()\n",
    "os.chdir(project_path)\n",
    "    \n",
    "videos = list(config['video_sets'].keys())\n",
    "videos = list(map(lambda x: Path(os.path.abspath(x)), videos))\n",
    "\n",
    "# Change CWD back\n",
    "os.chdir(initial_cwd)\n",
    "\n",
    "videos"
   ]
  },
  {
   "cell_type": "markdown",
   "metadata": {},
   "source": [
    "### Specify Videos Manually"
   ]
  },
  {
   "cell_type": "code",
   "execution_count": 46,
   "metadata": {},
   "outputs": [],
   "source": [
    "video_folder = Path(r\"C:\\Users\\Owner\\Documents\\repos\\COMP4905\\videos\")\n",
    "videos = [\n",
    "    *map(lambda x: video_folder / x, os.listdir(video_folder))\n",
    "]"
   ]
  },
  {
   "cell_type": "markdown",
   "metadata": {},
   "source": [
    "# Sample Frames According to Spring Simulation"
   ]
  },
  {
   "cell_type": "code",
   "execution_count": 347,
   "metadata": {},
   "outputs": [
    {
     "name": "stdout",
     "output_type": "stream",
     "text": [
      "Rat 2 LPS 1:\n",
      "\tFrames: 63720\n",
      "\tLabeled: [0, 1323, 17072, 19623, 24044, 41117, 51152]\n",
      "\tNew: [ 5364 46884 37306 19794   630 43888 51744 27153   600 35262 14859 38442\n",
      " 36701 31114  3019 23736 42859 23414 53558 41101 48465 27306 24878 57718\n",
      " 54371 33365 18115 13177 33770 33703 59933 47881 24006 53082  8488 29607\n",
      " 62513 15457 22285 13623 25964 18553 43063 53420 14303 13990 17515 45310\n",
      " 45164 52245 10438 60686 61816  8899   522 32798 30369 39879 32085 62221\n",
      "  3209 48236 29463 26135 26175 42829 57703 12670 53018  3727 55768 62373\n",
      " 43977 28421  2430 22904 54160 21920 43096 28021 46430 56680 36501 13235\n",
      "  9631 29146 26376  5978 55721 36459 62266  4894  8565 53465 16320 11766\n",
      "   519 50331 53663 51135]\n"
     ]
    },
    {
     "data": {
      "image/png": "[encoded data removed]",
      "text/plain": [
       "<Figure size 720x360 with 2 Axes>"
      ]
     },
     "metadata": {
      "needs_background": "light"
     },
     "output_type": "display_data"
    }
   ],
   "source": [
    "import cv2\n",
    "import os\n",
    "import numpy as np\n",
    "import matplotlib.pyplot as plt\n",
    "import scipy.stats\n",
    "\n",
    "n_samples = 100\n",
    "def spring(frames, n_samples, fixed_points, k=1e3, dt=1, n=10000, x=None):\n",
    "     # Spring simulation\n",
    "    v = np.zeros(n_samples)\n",
    "    \n",
    "    if x is not None:\n",
    "        x = x.copy()\n",
    "    else:\n",
    "        x = np.random.choice(np.arange(frames+1), size=n_samples).astype(np.float32)\n",
    "    \n",
    "    for _ in range(n):\n",
    "        points = np.array(fixed_points + list(x))\n",
    "        p1, p2 = np.meshgrid(x, points) # Create a mesh of points p1 and p2\n",
    "        delta = p1-p2\n",
    "        delta[delta==0] = 1e10\n",
    "        f = np.sum(k / delta**2 * np.sign(delta), axis=0) # force\n",
    "        v += f * dt\n",
    "        x += v * dt\n",
    "        \n",
    "        # Wrap around points that overshoot\n",
    "        x %= frames\n",
    "        \n",
    "    x = x.astype(int)\n",
    "    x[x>frames] = frames\n",
    "    x[x<0] = 0\n",
    "    return x\n",
    "\n",
    "for video in videos:\n",
    "    cap = cv2.VideoCapture(str(video))\n",
    "    frames = int(cap.get(cv2.CAP_PROP_FRAME_COUNT))\n",
    "    \n",
    "    name, ext = os.path.splitext(video.name)\n",
    "    fixed_points = labeled_frames[name]\n",
    "    \n",
    "    x0 = np.random.choice(np.arange(frames+1), size=n_samples).astype(np.float32)\n",
    "    x = spring(frames, n_samples, fixed_points, x=x0)\n",
    "    print(f\"{name}:\")\n",
    "    print(f\"\\tFrames: {frames}\")\n",
    "    print(f\"\\tLabeled: {fixed_points}\")\n",
    "    print(f\"\\tNew: {x}\")\n",
    "    break\n",
    "    \n",
    "bins = 20\n",
    "plt.figure(figsize=(10, 5))\n",
    "\n",
    "plt.subplot(1, 2, 1)\n",
    "pts = list(fixed_points) + list(x0)\n",
    "plt.hist(pts, bins=bins)\n",
    "# xx, yy = np.meshgrid(pts, pts)\n",
    "# deltas_squared = np.sum(np.sort(np.abs(xx-yy), axis=0)[:,:5])\n",
    "metric = scipy.stats.entropy(pts)\n",
    "plt.title(f\"Random\")\n",
    "\n",
    "plt.subplot(1, 2, 2)\n",
    "pts = list(fixed_points) + list(x)\n",
    "plt.hist(pts, bins=bins)\n",
    "# xx, yy = np.meshgrid(pts, pts)\n",
    "# metric = np.sum(np.sort(np.abs(xx-yy), axis=0)[:,:5])\n",
    "# metric = scipy.stats.entropy(pts)\n",
    "plt.title(f\"Spring\")\n",
    "\n",
    "plt.savefig(\"spring-test.png\")"
   ]
  }
 ],
 "metadata": {
  "kernelspec": {
   "display_name": "DLC-CPU",
   "language": "python",
   "name": "dlc-cpu"
  },
  "language_info": {
   "codemirror_mode": {
    "name": "ipython",
    "version": 3
   },
   "file_extension": ".py",
   "mimetype": "text/x-python",
   "name": "python",
   "nbconvert_exporter": "python",
   "pygments_lexer": "ipython3",
   "version": "3.7.7"
  }
 },
 "nbformat": 4,
 "nbformat_minor": 4
}
