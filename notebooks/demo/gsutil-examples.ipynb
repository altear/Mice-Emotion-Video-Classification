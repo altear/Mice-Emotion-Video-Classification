{
 "cells": [
  {
   "cell_type": "markdown",
   "metadata": {},
   "source": [
    "# Auth"
   ]
  },
  {
   "cell_type": "markdown",
   "metadata": {},
   "source": [
    "```\n",
    "gcloud auth login\n",
    "```"
   ]
  },
  {
   "cell_type": "markdown",
   "metadata": {},
   "source": [
    "# List Projects"
   ]
  },
  {
   "cell_type": "code",
   "execution_count": 11,
   "metadata": {},
   "outputs": [
    {
     "name": "stdout",
     "output_type": "stream",
     "text": [
      "PROJECT_ID                NAME              PROJECT_NUMBER\n",
      "api-project-403641426164  API Project       403641426164\n",
      "lithe-catbird-268708      My First Project  568531594283\n",
      "metal-coil-278721         comp4905          932970905802\n",
      "propane-avatar-261503     My First Project  712956250218\n",
      "solaceheroesdemo          SolaceHeroesDemo  835925097594\n",
      "subtle-odyssey-641        My Project        1026958354298\n",
      "teachers-pa               teachers-pa       675146005333\n"
     ]
    }
   ],
   "source": [
    "%%bash\n",
    "gcloud projects list"
   ]
  },
  {
   "cell_type": "markdown",
   "metadata": {},
   "source": [
    "# List Project Contents"
   ]
  },
  {
   "cell_type": "code",
   "execution_count": 9,
   "metadata": {},
   "outputs": [
    {
     "name": "stdout",
     "output_type": "stream",
     "text": [
      "gs://rat-emotion/2020-05-29_frames/\n",
      "gs://rat-emotion/24fps/\n"
     ]
    }
   ],
   "source": [
    "%%bash\n",
    "gsutil ls gs://rat-emotion"
   ]
  },
  {
   "cell_type": "markdown",
   "metadata": {},
   "source": [
    "# Copy to Project\n",
    "```\n",
    "gsutil cp -r -m gs://rat-emotion/2020-05-29_frames/ my_folder\n",
    "```"
   ]
  }
 ],
 "metadata": {
  "kernelspec": {
   "display_name": "DLC-GPU",
   "language": "python",
   "name": "dlc-gpu"
  },
  "language_info": {
   "codemirror_mode": {
    "name": "ipython",
    "version": 3
   },
   "file_extension": ".py",
   "mimetype": "text/x-python",
   "name": "python",
   "nbconvert_exporter": "python",
   "pygments_lexer": "ipython3",
   "version": "3.7.7"
  }
 },
 "nbformat": 4,
 "nbformat_minor": 4
}
