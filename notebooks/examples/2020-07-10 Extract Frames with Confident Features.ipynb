{
 "cells": [
  {
   "cell_type": "markdown",
   "metadata": {},
   "source": [
    "# Extract Frames with Confident Features\n",
    "This uses DLC to find frames with confident features, we then remove them"
   ]
  },
  {
   "cell_type": "code",
   "execution_count": 5,
   "metadata": {},
   "outputs": [
    {
     "name": "stdout",
     "output_type": "stream",
     "text": [
      "hello2\n"
     ]
    }
   ],
   "source": [
    "print('hello2')"
   ]
  },
  {
   "cell_type": "code",
   "execution_count": 1,
   "metadata": {},
   "outputs": [
    {
     "name": "stdout",
     "output_type": "stream",
     "text": [
      "DLC loaded in light mode; you cannot use any GUI (labeling, relabeling and standalone GUI)\n"
     ]
    }
   ],
   "source": [
    "import tensorflow as tf\n",
    "import pandas as pd\n",
    "import cv2\n",
    "import time\n",
    "import os\n",
    "import tempfile\n",
    "import deeplabcut \n",
    "\n",
    "from deeplabcut.pose_estimation_tensorflow.nnet.net_factory import pose_net\n",
    "from deeplabcut.pose_estimation_tensorflow.predict_videos import GetPoseF_GTF\n",
    "from tensorflow.compat.v1 import ConfigProto\n",
    "from pathlib import Path\n",
    "from ruamel.yaml import YAML\n",
    "\n",
    "yaml = YAML()"
   ]
  },
  {
   "cell_type": "code",
   "execution_count": null,
   "metadata": {},
   "outputs": [],
   "source": [
    "tf.__version__"
   ]
  },
  {
   "cell_type": "code",
   "execution_count": 7,
   "metadata": {},
   "outputs": [],
   "source": [
    "class URL(str):\n",
    "    def __truediv__(str, value):\n",
    "        return URL(str + '/' + value)\n",
    "\n",
    "project = 'Darknet-MousePose-AndreTelfer-2020-06-09'\n",
    "gs_project_path = URL('gs://rat-emotion/dlc') / project"
   ]
  },
  {
   "cell_type": "code",
   "execution_count": 76,
   "metadata": {},
   "outputs": [
    {
     "data": {
      "text/plain": [
       "['/storage/gs/rat-emotion/videos/24fps-shortened/rat3-control3.mp4',\n",
       " '/storage/gs/rat-emotion/videos/24fps-shortened/rat7-control2.mp4',\n",
       " '/storage/gs/rat-emotion/videos/24fps-shortened/rat7-control1.mp4',\n",
       " '/storage/gs/rat-emotion/videos/24fps-shortened/rat5-lps1.mp4',\n",
       " '/storage/gs/rat-emotion/videos/24fps-shortened/rat3-control2.mp4',\n",
       " '/storage/gs/rat-emotion/videos/24fps-shortened/rat3-lps1.mp4',\n",
       " '/storage/gs/rat-emotion/videos/24fps-shortened/rat6-control4.mp4',\n",
       " '/storage/gs/rat-emotion/videos/24fps-shortened/rat4-control2.mp4',\n",
       " '/storage/gs/rat-emotion/videos/24fps-shortened/rat5-control2.mp4',\n",
       " '/storage/gs/rat-emotion/videos/24fps-shortened/rat6-control2.mp4',\n",
       " '/storage/gs/rat-emotion/videos/24fps-shortened/rat1-control1.mp4',\n",
       " '/storage/gs/rat-emotion/videos/24fps-shortened/rat8-control2.mp4',\n",
       " '/storage/gs/rat-emotion/videos/24fps-shortened/rat7-control4.mp4',\n",
       " '/storage/gs/rat-emotion/videos/24fps-shortened/rat4-lps1.mp4',\n",
       " '/storage/gs/rat-emotion/videos/24fps-shortened/rat5-lps2.mp4',\n",
       " '/storage/gs/rat-emotion/videos/24fps-shortened/rat2-control1.mp4',\n",
       " '/storage/gs/rat-emotion/videos/24fps-shortened/rat4-control1.mp4',\n",
       " '/storage/gs/rat-emotion/videos/24fps-shortened/rat5-control1.mp4',\n",
       " '/storage/gs/rat-emotion/videos/24fps-shortened/rat2-control4.mp4',\n",
       " '/storage/gs/rat-emotion/videos/24fps-shortened/rat6-control1.mp4',\n",
       " '/storage/gs/rat-emotion/videos/24fps-shortened/rat7-lps1.mp4',\n",
       " '/storage/gs/rat-emotion/videos/24fps-shortened/rat8-lps1.mp4',\n",
       " '/storage/gs/rat-emotion/videos/24fps-shortened/rat3-lps2.mp4',\n",
       " '/storage/gs/rat-emotion/videos/24fps-shortened/rat7-control3.mp4',\n",
       " '/storage/gs/rat-emotion/videos/24fps-shortened/rat6-control5.mp4',\n",
       " '/storage/gs/rat-emotion/videos/24fps-shortened/rat9-lps2.mp4',\n",
       " '/storage/gs/rat-emotion/videos/24fps-shortened/rat2-control3.mp4',\n",
       " '/storage/gs/rat-emotion/videos/24fps-shortened/rat9-lps1.mp4',\n",
       " '/storage/gs/rat-emotion/videos/24fps-shortened/rat2-lps2.mp4',\n",
       " '/storage/gs/rat-emotion/videos/24fps-shortened/rat1-control2.mp4',\n",
       " '/storage/gs/rat-emotion/videos/24fps-shortened/rat8-lps2.mp4',\n",
       " '/storage/gs/rat-emotion/videos/24fps-shortened/rat4-lps2.mp4',\n",
       " '/storage/gs/rat-emotion/videos/24fps-shortened/rat2-lps3.mp4',\n",
       " '/storage/gs/rat-emotion/videos/24fps-shortened/rat6-control3.mp4',\n",
       " '/storage/gs/rat-emotion/videos/24fps-shortened/rat8-control1.mp4',\n",
       " '/storage/gs/rat-emotion/videos/24fps-shortened/rat2-lps4.mp4',\n",
       " '/storage/gs/rat-emotion/videos/24fps-shortened/rat7-lps2.mp4',\n",
       " '/storage/gs/rat-emotion/videos/24fps-shortened/rat1-control3.mp4',\n",
       " '/storage/gs/rat-emotion/videos/24fps-shortened/rat9-control1.mp4',\n",
       " '/storage/gs/rat-emotion/videos/24fps-shortened/rat6-lps2.mp4',\n",
       " '/storage/gs/rat-emotion/videos/24fps-shortened/rat3-control1.mp4',\n",
       " '/storage/gs/rat-emotion/videos/24fps-shortened/rat2-lps1.mp4',\n",
       " '/storage/gs/rat-emotion/videos/24fps-shortened/rat3-control4.mp4',\n",
       " '/storage/gs/rat-emotion/videos/24fps-shortened/rat9-control2.mp4',\n",
       " '/storage/gs/rat-emotion/videos/24fps-shortened/rat6-lps1.mp4',\n",
       " '/storage/gs/rat-emotion/videos/24fps-shortened/rat2-control2.mp4',\n",
       " '/storage/gs/rat-emotion/videos/24fps-shortened/rat1-control4.mp4']"
      ]
     },
     "execution_count": 76,
     "metadata": {},
     "output_type": "execute_result"
    }
   ],
   "source": [
    "import glob\n",
    "video_path = '/storage/gs/rat-emotion/videos/24fps-shortened/'\n",
    "videos = glob.glob('/storage/gs/rat-emotion/videos/24fps-shortened/*.mp4')\n",
    "videos "
   ]
  },
  {
   "cell_type": "code",
   "execution_count": 11,
   "metadata": {},
   "outputs": [],
   "source": [
    "import os\n",
    "os.environ['TF_FORCE_GPU_ALLOW_GROWTH'] = 'true'"
   ]
  },
  {
   "cell_type": "code",
   "execution_count": 5,
   "metadata": {},
   "outputs": [],
   "source": [
    "tempdir = tempfile.TemporaryDirectory()\n",
    "tempdir_path = Path(tempdir.name)\n"
   ]
  },
  {
   "cell_type": "code",
   "execution_count": 12,
   "metadata": {},
   "outputs": [
    {
     "name": "stdout",
     "output_type": "stream",
     "text": [
      "Copying gs://rat-emotion/dlc/Darknet-MousePose-AndreTelfer-2020-06-09/.ipynb_checkpoints/Untitled-checkpoint.ipynb...\n",
      "Copying gs://rat-emotion/dlc/Darknet-MousePose-AndreTelfer-2020-06-09/Untitled.ipynb...\n",
      "Copying gs://rat-emotion/dlc/Darknet-MousePose-AndreTelfer-2020-06-09/config.yaml...\n",
      "Copying gs://rat-emotion/dlc/Darknet-MousePose-AndreTelfer-2020-06-09/dlc-models-bk/dlc-models/iteration-0/Darknet-MousePoseJun9-trainset95shuffle1/test/pose_cfg.yaml...\n",
      "- [4 files][ 75.0 KiB/ 75.0 KiB]                                                \n",
      "==> NOTE: You are performing a sequence of gsutil operations that may\n",
      "run significantly faster if you instead use gsutil -m cp ... Please\n",
      "see the -m section under \"gsutil help options\" for further information\n",
      "about when gsutil -m can be advantageous.\n",
      "\n",
      "Copying gs://rat-emotion/dlc/Darknet-MousePose-AndreTelfer-2020-06-09/dlc-models-bk/dlc-models/iteration-0/Darknet-MousePoseJun9-trainset95shuffle1/train/checkpoint...\n",
      "Copying gs://rat-emotion/dlc/Darknet-MousePose-AndreTelfer-2020-06-09/dlc-models-bk/dlc-models/iteration-0/Darknet-MousePoseJun9-trainset95shuffle1/train/learning_stats.csv...\n",
      "Copying gs://rat-emotion/dlc/Darknet-MousePose-AndreTelfer-2020-06-09/dlc-models-bk/dlc-models/iteration-0/Darknet-MousePoseJun9-trainset95shuffle1/train/log.txt...\n",
      "Copying gs://rat-emotion/dlc/Darknet-MousePose-AndreTelfer-2020-06-09/dlc-models-bk/dlc-models/iteration-0/Darknet-MousePoseJun9-trainset95shuffle1/train/log/events.out.tfevents.1591764753.59354b7150ba...\n",
      "Copying gs://rat-emotion/dlc/Darknet-MousePose-AndreTelfer-2020-06-09/dlc-models-bk/dlc-models/iteration-0/Darknet-MousePoseJun9-trainset95shuffle1/train/log/events.out.tfevents.1591764946.59354b7150ba...\n",
      "Copying gs://rat-emotion/dlc/Darknet-MousePose-AndreTelfer-2020-06-09/dlc-models-bk/dlc-models/iteration-0/Darknet-MousePoseJun9-trainset95shuffle1/train/log/events.out.tfevents.1591767869.59b7a780fa5f...\n",
      "Copying gs://rat-emotion/dlc/Darknet-MousePose-AndreTelfer-2020-06-09/dlc-models-bk/dlc-models/iteration-0/Darknet-MousePoseJun9-trainset95shuffle1/train/log/events.out.tfevents.1591806815.f8c5a90fe018...\n",
      "Copying gs://rat-emotion/dlc/Darknet-MousePose-AndreTelfer-2020-06-09/dlc-models-bk/dlc-models/iteration-0/Darknet-MousePoseJun9-trainset95shuffle1/train/log/events.out.tfevents.1591807491.f8c5a90fe018...\n",
      "Copying gs://rat-emotion/dlc/Darknet-MousePose-AndreTelfer-2020-06-09/dlc-models-bk/dlc-models/iteration-0/Darknet-MousePoseJun9-trainset95shuffle1/train/log/events.out.tfevents.1591807704.f8c5a90fe018...\n",
      "Copying gs://rat-emotion/dlc/Darknet-MousePose-AndreTelfer-2020-06-09/dlc-models-bk/dlc-models/iteration-0/Darknet-MousePoseJun9-trainset95shuffle1/train/log/events.out.tfevents.1591818610.3729ca9096bc...\n",
      "Copying gs://rat-emotion/dlc/Darknet-MousePose-AndreTelfer-2020-06-09/dlc-models-bk/dlc-models/iteration-0/Darknet-MousePoseJun9-trainset95shuffle1/train/log/events.out.tfevents.1591859453.efb76c4a3829...\n",
      "Copying gs://rat-emotion/dlc/Darknet-MousePose-AndreTelfer-2020-06-09/dlc-models-bk/dlc-models/iteration-0/Darknet-MousePoseJun9-trainset95shuffle1/train/log/events.out.tfevents.1591859537.efb76c4a3829...\n",
      "Copying gs://rat-emotion/dlc/Darknet-MousePose-AndreTelfer-2020-06-09/dlc-models-bk/dlc-models/iteration-0/Darknet-MousePoseJun9-trainset95shuffle1/train/log/events.out.tfevents.1591860009.efb76c4a3829...\n",
      "Copying gs://rat-emotion/dlc/Darknet-MousePose-AndreTelfer-2020-06-09/dlc-models-bk/dlc-models/iteration-0/Darknet-MousePoseJun9-trainset95shuffle1/train/pose_cfg.yaml...\n",
      "Copying gs://rat-emotion/dlc/Darknet-MousePose-AndreTelfer-2020-06-09/dlc-models-bk/dlc-models/iteration-0/Darknet-MousePoseJun9-trainset95shuffle1/train/snapshot-78000.data-00000-of-00001...\n",
      "Copying gs://rat-emotion/dlc/Darknet-MousePose-AndreTelfer-2020-06-09/dlc-models-bk/dlc-models/iteration-0/Darknet-MousePoseJun9-trainset95shuffle1/train/snapshot-78000.index...\n",
      "Copying gs://rat-emotion/dlc/Darknet-MousePose-AndreTelfer-2020-06-09/dlc-models-bk/dlc-models/iteration-0/Darknet-MousePoseJun9-trainset95shuffle1/train/snapshot-78000.meta...\n",
      "Copying gs://rat-emotion/dlc/Darknet-MousePose-AndreTelfer-2020-06-09/dlc-models-bk/dlc-models/iteration-0/Darknet-MousePoseJun9-trainset95shuffle1/train/snapshot-78500.data-00000-of-00001...\n",
      "Copying gs://rat-emotion/dlc/Darknet-MousePose-AndreTelfer-2020-06-09/dlc-models-bk/dlc-models/iteration-0/Darknet-MousePoseJun9-trainset95shuffle1/train/snapshot-78500.index...\n",
      "Copying gs://rat-emotion/dlc/Darknet-MousePose-AndreTelfer-2020-06-09/dlc-models-bk/dlc-models/iteration-0/Darknet-MousePoseJun9-trainset95shuffle1/train/snapshot-78500.meta...\n",
      "Copying gs://rat-emotion/dlc/Darknet-MousePose-AndreTelfer-2020-06-09/dlc-models-bk/dlc-models/iteration-0/Darknet-MousePoseJun9-trainset95shuffle1/train/snapshot-79000.data-00000-of-00001...\n",
      "Copying gs://rat-emotion/dlc/Darknet-MousePose-AndreTelfer-2020-06-09/dlc-models-bk/dlc-models/iteration-0/Darknet-MousePoseJun9-trainset95shuffle1/train/snapshot-79000.index...\n",
      "Copying gs://rat-emotion/dlc/Darknet-MousePose-AndreTelfer-2020-06-09/dlc-models-bk/dlc-models/iteration-0/Darknet-MousePoseJun9-trainset95shuffle1/train/snapshot-79000.meta...\n",
      "Copying gs://rat-emotion/dlc/Darknet-MousePose-AndreTelfer-2020-06-09/dlc-models-bk/dlc-models/iteration-0/Darknet-MousePoseJun9-trainset95shuffle1/train/snapshot-79500.data-00000-of-00001...\n",
      "Copying gs://rat-emotion/dlc/Darknet-MousePose-AndreTelfer-2020-06-09/dlc-models-bk/dlc-models/iteration-0/Darknet-MousePoseJun9-trainset95shuffle1/train/snapshot-79500.index...\n",
      "Copying gs://rat-emotion/dlc/Darknet-MousePose-AndreTelfer-2020-06-09/dlc-models-bk/dlc-models/iteration-0/Darknet-MousePoseJun9-trainset95shuffle1/train/snapshot-79500.meta...\n",
      "Copying gs://rat-emotion/dlc/Darknet-MousePose-AndreTelfer-2020-06-09/dlc-models-bk/dlc-models/iteration-0/Darknet-MousePoseJun9-trainset95shuffle1/train/snapshot-80000.data-00000-of-00001...\n",
      "Copying gs://rat-emotion/dlc/Darknet-MousePose-AndreTelfer-2020-06-09/dlc-models-bk/dlc-models/iteration-0/Darknet-MousePoseJun9-trainset95shuffle1/train/snapshot-80000.index...\n",
      "Copying gs://rat-emotion/dlc/Darknet-MousePose-AndreTelfer-2020-06-09/dlc-models-bk/iteration-0/Darknet-MousePoseJun9-trainset95shuffle1/test/pose_cfg.yaml...\n",
      "Copying gs://rat-emotion/dlc/Darknet-MousePose-AndreTelfer-2020-06-09/dlc-models-bk/iteration-0/Darknet-MousePoseJun9-trainset95shuffle1/train/checkpoint...\n",
      "Copying gs://rat-emotion/dlc/Darknet-MousePose-AndreTelfer-2020-06-09/dlc-models-bk/iteration-0/Darknet-MousePoseJun9-trainset95shuffle1/train/learning_stats.csv...\n",
      "Copying gs://rat-emotion/dlc/Darknet-MousePose-AndreTelfer-2020-06-09/dlc-models-bk/iteration-0/Darknet-MousePoseJun9-trainset95shuffle1/train/log.txt...\n",
      "Copying gs://rat-emotion/dlc/Darknet-MousePose-AndreTelfer-2020-06-09/dlc-models-bk/iteration-0/Darknet-MousePoseJun9-trainset95shuffle1/train/log/events.out.tfevents.1591764753.59354b7150ba...\n",
      "Copying gs://rat-emotion/dlc/Darknet-MousePose-AndreTelfer-2020-06-09/dlc-models-bk/iteration-0/Darknet-MousePoseJun9-trainset95shuffle1/train/log/events.out.tfevents.1591764946.59354b7150ba...\n",
      "Copying gs://rat-emotion/dlc/Darknet-MousePose-AndreTelfer-2020-06-09/dlc-models-bk/iteration-0/Darknet-MousePoseJun9-trainset95shuffle1/train/log/events.out.tfevents.1591767869.59b7a780fa5f...\n",
      "Copying gs://rat-emotion/dlc/Darknet-MousePose-AndreTelfer-2020-06-09/dlc-models-bk/iteration-0/Darknet-MousePoseJun9-trainset95shuffle1/train/log/events.out.tfevents.1591806815.f8c5a90fe018...\n",
      "Copying gs://rat-emotion/dlc/Darknet-MousePose-AndreTelfer-2020-06-09/dlc-models-bk/iteration-0/Darknet-MousePoseJun9-trainset95shuffle1/train/log/events.out.tfevents.1591807491.f8c5a90fe018...\n",
      "Copying gs://rat-emotion/dlc/Darknet-MousePose-AndreTelfer-2020-06-09/dlc-models-bk/iteration-0/Darknet-MousePoseJun9-trainset95shuffle1/train/log/events.out.tfevents.1591807704.f8c5a90fe018...\n",
      "Copying gs://rat-emotion/dlc/Darknet-MousePose-AndreTelfer-2020-06-09/dlc-models-bk/iteration-0/Darknet-MousePoseJun9-trainset95shuffle1/train/log/events.out.tfevents.1591818610.3729ca9096bc...\n",
      "Copying gs://rat-emotion/dlc/Darknet-MousePose-AndreTelfer-2020-06-09/dlc-models-bk/iteration-0/Darknet-MousePoseJun9-trainset95shuffle1/train/pose_cfg.yaml...\n",
      "Copying gs://rat-emotion/dlc/Darknet-MousePose-AndreTelfer-2020-06-09/dlc-models-bk/iteration-0/Darknet-MousePoseJun9-trainset95shuffle1/train/snapshot-124500.data-00000-of-00001...\n",
      "Copying gs://rat-emotion/dlc/Darknet-MousePose-AndreTelfer-2020-06-09/dlc-models-bk/iteration-0/Darknet-MousePoseJun9-trainset95shuffle1/train/snapshot-124500.index...\n",
      "Copying gs://rat-emotion/dlc/Darknet-MousePose-AndreTelfer-2020-06-09/dlc-models-bk/iteration-0/Darknet-MousePoseJun9-trainset95shuffle1/train/snapshot-124500.meta...\n",
      "Copying gs://rat-emotion/dlc/Darknet-MousePose-AndreTelfer-2020-06-09/dlc-models-bk/iteration-0/Darknet-MousePoseJun9-trainset95shuffle1/train/snapshot-125000.data-00000-of-00001...\n",
      "Copying gs://rat-emotion/dlc/Darknet-MousePose-AndreTelfer-2020-06-09/dlc-models-bk/iteration-0/Darknet-MousePoseJun9-trainset95shuffle1/train/snapshot-125000.index...\n",
      "Copying gs://rat-emotion/dlc/Darknet-MousePose-AndreTelfer-2020-06-09/dlc-models-bk/iteration-0/Darknet-MousePoseJun9-trainset95shuffle1/train/snapshot-125000.meta...\n",
      "Copying gs://rat-emotion/dlc/Darknet-MousePose-AndreTelfer-2020-06-09/dlc-models-bk/iteration-0/Darknet-MousePoseJun9-trainset95shuffle1/train/snapshot-125500.data-00000-of-00001...\n",
      "Copying gs://rat-emotion/dlc/Darknet-MousePose-AndreTelfer-2020-06-09/dlc-models-bk/iteration-0/Darknet-MousePoseJun9-trainset95shuffle1/train/snapshot-125500.index...\n",
      "Copying gs://rat-emotion/dlc/Darknet-MousePose-AndreTelfer-2020-06-09/dlc-models-bk/iteration-0/Darknet-MousePoseJun9-trainset95shuffle1/train/snapshot-125500.meta...\n",
      "Copying gs://rat-emotion/dlc/Darknet-MousePose-AndreTelfer-2020-06-09/dlc-models-bk/iteration-0/Darknet-MousePoseJun9-trainset95shuffle1/train/snapshot-126000.data-00000-of-00001...\n",
      "Copying gs://rat-emotion/dlc/Darknet-MousePose-AndreTelfer-2020-06-09/dlc-models-bk/iteration-0/Darknet-MousePoseJun9-trainset95shuffle1/train/snapshot-126000.index...\n",
      "Copying gs://rat-emotion/dlc/Darknet-MousePose-AndreTelfer-2020-06-09/dlc-models-bk/iteration-0/Darknet-MousePoseJun9-trainset95shuffle1/train/snapshot-126000.meta...\n",
      "Copying gs://rat-emotion/dlc/Darknet-MousePose-AndreTelfer-2020-06-09/dlc-models-bk/iteration-0/Darknet-MousePoseJun9-trainset95shuffle1/train/snapshot-126500.data-00000-of-00001...\n",
      "Copying gs://rat-emotion/dlc/Darknet-MousePose-AndreTelfer-2020-06-09/dlc-models-bk/iteration-0/Darknet-MousePoseJun9-trainset95shuffle1/train/snapshot-126500.index...\n",
      "Copying gs://rat-emotion/dlc/Darknet-MousePose-AndreTelfer-2020-06-09/dlc-models-bk/iteration-0/Darknet-MousePoseJun9-trainset95shuffle1/train/snapshot-126500.meta...\n",
      "Copying gs://rat-emotion/dlc/Darknet-MousePose-AndreTelfer-2020-06-09/dlc-models/iteration-0/Darknet-MousePoseJun9-trainset95shuffle1/test/pose_cfg.yaml...\n",
      "Copying gs://rat-emotion/dlc/Darknet-MousePose-AndreTelfer-2020-06-09/dlc-models/iteration-0/Darknet-MousePoseJun9-trainset95shuffle1/train/checkpoint...\n",
      "Copying gs://rat-emotion/dlc/Darknet-MousePose-AndreTelfer-2020-06-09/dlc-models/iteration-0/Darknet-MousePoseJun9-trainset95shuffle1/train/learning_stats.csv...\n",
      "Copying gs://rat-emotion/dlc/Darknet-MousePose-AndreTelfer-2020-06-09/dlc-models/iteration-0/Darknet-MousePoseJun9-trainset95shuffle1/train/log.txt...\n",
      "Copying gs://rat-emotion/dlc/Darknet-MousePose-AndreTelfer-2020-06-09/dlc-models/iteration-0/Darknet-MousePoseJun9-trainset95shuffle1/train/log/events.out.tfevents.1591764753.59354b7150ba...\n",
      "Copying gs://rat-emotion/dlc/Darknet-MousePose-AndreTelfer-2020-06-09/dlc-models/iteration-0/Darknet-MousePoseJun9-trainset95shuffle1/train/log/events.out.tfevents.1591764946.59354b7150ba...\n",
      "Copying gs://rat-emotion/dlc/Darknet-MousePose-AndreTelfer-2020-06-09/dlc-models/iteration-0/Darknet-MousePoseJun9-trainset95shuffle1/train/log/events.out.tfevents.1591767869.59b7a780fa5f...\n",
      "Copying gs://rat-emotion/dlc/Darknet-MousePose-AndreTelfer-2020-06-09/dlc-models/iteration-0/Darknet-MousePoseJun9-trainset95shuffle1/train/log/events.out.tfevents.1591806815.f8c5a90fe018...\n",
      "Copying gs://rat-emotion/dlc/Darknet-MousePose-AndreTelfer-2020-06-09/dlc-models/iteration-0/Darknet-MousePoseJun9-trainset95shuffle1/train/log/events.out.tfevents.1591807491.f8c5a90fe018...\n",
      "Copying gs://rat-emotion/dlc/Darknet-MousePose-AndreTelfer-2020-06-09/dlc-models/iteration-0/Darknet-MousePoseJun9-trainset95shuffle1/train/log/events.out.tfevents.1591807704.f8c5a90fe018...\n",
      "Copying gs://rat-emotion/dlc/Darknet-MousePose-AndreTelfer-2020-06-09/dlc-models/iteration-0/Darknet-MousePoseJun9-trainset95shuffle1/train/log/events.out.tfevents.1591818610.3729ca9096bc...\n",
      "Copying gs://rat-emotion/dlc/Darknet-MousePose-AndreTelfer-2020-06-09/dlc-models/iteration-0/Darknet-MousePoseJun9-trainset95shuffle1/train/log/events.out.tfevents.1591859453.efb76c4a3829...\n",
      "Copying gs://rat-emotion/dlc/Darknet-MousePose-AndreTelfer-2020-06-09/dlc-models/iteration-0/Darknet-MousePoseJun9-trainset95shuffle1/train/log/events.out.tfevents.1591859537.efb76c4a3829...\n",
      "Copying gs://rat-emotion/dlc/Darknet-MousePose-AndreTelfer-2020-06-09/dlc-models/iteration-0/Darknet-MousePoseJun9-trainset95shuffle1/train/log/events.out.tfevents.1591860009.efb76c4a3829...\n",
      "Copying gs://rat-emotion/dlc/Darknet-MousePose-AndreTelfer-2020-06-09/dlc-models/iteration-0/Darknet-MousePoseJun9-trainset95shuffle1/train/pose_cfg.yaml...\n",
      "Copying gs://rat-emotion/dlc/Darknet-MousePose-AndreTelfer-2020-06-09/dlc-models/iteration-0/Darknet-MousePoseJun9-trainset95shuffle1/train/snapshot-78000.data-00000-of-00001...\n",
      "Copying gs://rat-emotion/dlc/Darknet-MousePose-AndreTelfer-2020-06-09/dlc-models/iteration-0/Darknet-MousePoseJun9-trainset95shuffle1/train/snapshot-78000.index...\n",
      "Copying gs://rat-emotion/dlc/Darknet-MousePose-AndreTelfer-2020-06-09/dlc-models/iteration-0/Darknet-MousePoseJun9-trainset95shuffle1/train/snapshot-78000.meta...\n",
      "Copying gs://rat-emotion/dlc/Darknet-MousePose-AndreTelfer-2020-06-09/dlc-models/iteration-0/Darknet-MousePoseJun9-trainset95shuffle1/train/snapshot-78500.data-00000-of-00001...\n",
      "Copying gs://rat-emotion/dlc/Darknet-MousePose-AndreTelfer-2020-06-09/dlc-models/iteration-0/Darknet-MousePoseJun9-trainset95shuffle1/train/snapshot-78500.index...\n",
      "Copying gs://rat-emotion/dlc/Darknet-MousePose-AndreTelfer-2020-06-09/dlc-models/iteration-0/Darknet-MousePoseJun9-trainset95shuffle1/train/snapshot-78500.meta...\n",
      "Copying gs://rat-emotion/dlc/Darknet-MousePose-AndreTelfer-2020-06-09/dlc-models/iteration-0/Darknet-MousePoseJun9-trainset95shuffle1/train/snapshot-79000.data-00000-of-00001...\n",
      "Copying gs://rat-emotion/dlc/Darknet-MousePose-AndreTelfer-2020-06-09/dlc-models/iteration-0/Darknet-MousePoseJun9-trainset95shuffle1/train/snapshot-79000.index...\n",
      "Copying gs://rat-emotion/dlc/Darknet-MousePose-AndreTelfer-2020-06-09/dlc-models/iteration-0/Darknet-MousePoseJun9-trainset95shuffle1/train/snapshot-79000.meta...\n",
      "Copying gs://rat-emotion/dlc/Darknet-MousePose-AndreTelfer-2020-06-09/dlc-models/iteration-0/Darknet-MousePoseJun9-trainset95shuffle1/train/snapshot-79500.data-00000-of-00001...\n",
      "Copying gs://rat-emotion/dlc/Darknet-MousePose-AndreTelfer-2020-06-09/dlc-models/iteration-0/Darknet-MousePoseJun9-trainset95shuffle1/train/snapshot-79500.index...\n",
      "Copying gs://rat-emotion/dlc/Darknet-MousePose-AndreTelfer-2020-06-09/dlc-models/iteration-0/Darknet-MousePoseJun9-trainset95shuffle1/train/snapshot-79500.meta...\n",
      "Copying gs://rat-emotion/dlc/Darknet-MousePose-AndreTelfer-2020-06-09/dlc-models/iteration-0/Darknet-MousePoseJun9-trainset95shuffle1/train/snapshot-80000.data-00000-of-00001...\n",
      "Copying gs://rat-emotion/dlc/Darknet-MousePose-AndreTelfer-2020-06-09/dlc-models/iteration-0/Darknet-MousePoseJun9-trainset95shuffle1/train/snapshot-80000.index...\n",
      "Copying gs://rat-emotion/dlc/Darknet-MousePose-AndreTelfer-2020-06-09/labeled-data/2020-06-07/.ipynb_checkpoints/rat2-control1_frame03422-checkpoint.png...\n",
      "Copying gs://rat-emotion/dlc/Darknet-MousePose-AndreTelfer-2020-06-09/labeled-data/2020-06-07/.ipynb_checkpoints/rat2-control2_frame1732-checkpoint.png...\n",
      "Copying gs://rat-emotion/dlc/Darknet-MousePose-AndreTelfer-2020-06-09/labeled-data/2020-06-07/.ipynb_checkpoints/rat2-control3_frame06678-checkpoint.png...\n",
      "Copying gs://rat-emotion/dlc/Darknet-MousePose-AndreTelfer-2020-06-09/labeled-data/2020-06-07/.ipynb_checkpoints/rat2-control3_frame07588-checkpoint.png...\n",
      "Copying gs://rat-emotion/dlc/Darknet-MousePose-AndreTelfer-2020-06-09/labeled-data/2020-06-07/.ipynb_checkpoints/rat2-control4_frame1253-checkpoint.png...\n",
      "Copying gs://rat-emotion/dlc/Darknet-MousePose-AndreTelfer-2020-06-09/labeled-data/2020-06-07/.ipynb_checkpoints/rat2-control4_frame1605-checkpoint.png...\n",
      "Copying gs://rat-emotion/dlc/Darknet-MousePose-AndreTelfer-2020-06-09/labeled-data/2020-06-07/.ipynb_checkpoints/rat2-lps1_frame00143-checkpoint.png...\n",
      "Copying gs://rat-emotion/dlc/Darknet-MousePose-AndreTelfer-2020-06-09/labeled-data/2020-06-07/.ipynb_checkpoints/rat2-lps2_frame0124-checkpoint.png...\n",
      "Copying gs://rat-emotion/dlc/Darknet-MousePose-AndreTelfer-2020-06-09/labeled-data/2020-06-07/CollectedData_AndreTelfer.csv...\n",
      "Copying gs://rat-emotion/dlc/Darknet-MousePose-AndreTelfer-2020-06-09/labeled-data/2020-06-07/CollectedData_AndreTelfer.h5...\n",
      "Copying gs://rat-emotion/dlc/Darknet-MousePose-AndreTelfer-2020-06-09/labeled-data/2020-06-07/rat2-control1_frame03422.png...\n",
      "Copying gs://rat-emotion/dlc/Darknet-MousePose-AndreTelfer-2020-06-09/labeled-data/2020-06-07/rat2-control1_frame05480.png...\n",
      "Copying gs://rat-emotion/dlc/Darknet-MousePose-AndreTelfer-2020-06-09/labeled-data/2020-06-07/rat2-control1_frame06725.png...\n",
      "Copying gs://rat-emotion/dlc/Darknet-MousePose-AndreTelfer-2020-06-09/labeled-data/2020-06-07/rat2-control1_frame07103.png...\n",
      "Copying gs://rat-emotion/dlc/Darknet-MousePose-AndreTelfer-2020-06-09/labeled-data/2020-06-07/rat2-control1_frame12307.png...\n",
      "Copying gs://rat-emotion/dlc/Darknet-MousePose-AndreTelfer-2020-06-09/labeled-data/2020-06-07/rat2-control1_frame12586.png...\n",
      "Copying gs://rat-emotion/dlc/Darknet-MousePose-AndreTelfer-2020-06-09/labeled-data/2020-06-07/rat2-control2_frame0159.png...\n",
      "Copying gs://rat-emotion/dlc/Darknet-MousePose-AndreTelfer-2020-06-09/labeled-data/2020-06-07/rat2-control2_frame0257.png...\n",
      "Copying gs://rat-emotion/dlc/Darknet-MousePose-AndreTelfer-2020-06-09/labeled-data/2020-06-07/rat2-control2_frame1452.png...\n",
      "Copying gs://rat-emotion/dlc/Darknet-MousePose-AndreTelfer-2020-06-09/labeled-data/2020-06-07/rat2-control2_frame1511.png...\n",
      "Copying gs://rat-emotion/dlc/Darknet-MousePose-AndreTelfer-2020-06-09/labeled-data/2020-06-07/rat2-control2_frame1732.png...\n",
      "Copying gs://rat-emotion/dlc/Darknet-MousePose-AndreTelfer-2020-06-09/labeled-data/2020-06-07/rat2-control2_frame2283.png...\n",
      "Copying gs://rat-emotion/dlc/Darknet-MousePose-AndreTelfer-2020-06-09/labeled-data/2020-06-07/rat2-control2_frame2294.png...\n",
      "Copying gs://rat-emotion/dlc/Darknet-MousePose-AndreTelfer-2020-06-09/labeled-data/2020-06-07/rat2-control3_frame04007.png...\n",
      "Copying gs://rat-emotion/dlc/Darknet-MousePose-AndreTelfer-2020-06-09/labeled-data/2020-06-07/rat2-control3_frame05516.png...\n",
      "Copying gs://rat-emotion/dlc/Darknet-MousePose-AndreTelfer-2020-06-09/labeled-data/2020-06-07/rat2-control3_frame05672.png...\n",
      "Copying gs://rat-emotion/dlc/Darknet-MousePose-AndreTelfer-2020-06-09/labeled-data/2020-06-07/rat2-control3_frame06678.png...\n",
      "Copying gs://rat-emotion/dlc/Darknet-MousePose-AndreTelfer-2020-06-09/labeled-data/2020-06-07/rat2-control3_frame07588.png...\n",
      "Copying gs://rat-emotion/dlc/Darknet-MousePose-AndreTelfer-2020-06-09/labeled-data/2020-06-07/rat2-control3_frame12617.png...\n",
      "Copying gs://rat-emotion/dlc/Darknet-MousePose-AndreTelfer-2020-06-09/labeled-data/2020-06-07/rat2-control4_frame0564.png...\n",
      "Copying gs://rat-emotion/dlc/Darknet-MousePose-AndreTelfer-2020-06-09/labeled-data/2020-06-07/rat2-control4_frame1164.png...\n",
      "Copying gs://rat-emotion/dlc/Darknet-MousePose-AndreTelfer-2020-06-09/labeled-data/2020-06-07/rat2-control4_frame1253.png...\n",
      "Copying gs://rat-emotion/dlc/Darknet-MousePose-AndreTelfer-2020-06-09/labeled-data/2020-06-07/rat2-control4_frame1605.png...\n",
      "Copying gs://rat-emotion/dlc/Darknet-MousePose-AndreTelfer-2020-06-09/labeled-data/2020-06-07/rat2-control4_frame1990.png...\n",
      "Copying gs://rat-emotion/dlc/Darknet-MousePose-AndreTelfer-2020-06-09/labeled-data/2020-06-07/rat2-control4_frame2048.png...\n",
      "Copying gs://rat-emotion/dlc/Darknet-MousePose-AndreTelfer-2020-06-09/labeled-data/2020-06-07/rat2-control4_frame2380.png...\n",
      "Copying gs://rat-emotion/dlc/Darknet-MousePose-AndreTelfer-2020-06-09/labeled-data/2020-06-07/rat2-lps1_frame00143.png...\n",
      "Copying gs://rat-emotion/dlc/Darknet-MousePose-AndreTelfer-2020-06-09/labeled-data/2020-06-07/rat2-lps1_frame05762.png...\n",
      "Copying gs://rat-emotion/dlc/Darknet-MousePose-AndreTelfer-2020-06-09/labeled-data/2020-06-07/rat2-lps1_frame11427.png...\n",
      "Copying gs://rat-emotion/dlc/Darknet-MousePose-AndreTelfer-2020-06-09/labeled-data/2020-06-07/rat2-lps2_frame0124.png...\n",
      "Copying gs://rat-emotion/dlc/Darknet-MousePose-AndreTelfer-2020-06-09/labeled-data/2020-06-07/rat2-lps2_frame0309.png...\n",
      "Copying gs://rat-emotion/dlc/Darknet-MousePose-AndreTelfer-2020-06-09/labeled-data/2020-06-07/rat2-lps2_frame1237.png...\n",
      "Copying gs://rat-emotion/dlc/Darknet-MousePose-AndreTelfer-2020-06-09/labeled-data/2020-06-07/rat2-lps3_frame03066.png...\n",
      "Copying gs://rat-emotion/dlc/Darknet-MousePose-AndreTelfer-2020-06-09/labeled-data/2020-06-07/rat2-lps3_frame08202.png...\n",
      "Copying gs://rat-emotion/dlc/Darknet-MousePose-AndreTelfer-2020-06-09/labeled-data/2020-06-07/rat2-lps3_frame11051.png...\n",
      "Copying gs://rat-emotion/dlc/Darknet-MousePose-AndreTelfer-2020-06-09/labeled-data/2020-06-07/rat2-lps4_frame0556.png...\n",
      "Copying gs://rat-emotion/dlc/Darknet-MousePose-AndreTelfer-2020-06-09/labeled-data/2020-06-07/rat2-lps4_frame1377.png...\n",
      "Copying gs://rat-emotion/dlc/Darknet-MousePose-AndreTelfer-2020-06-09/labeled-data/2020-06-07/rat2-lps4_frame1982.png...\n",
      "Copying gs://rat-emotion/dlc/Darknet-MousePose-AndreTelfer-2020-06-09/labeled-data/2020-06-07/rat3-control1_frame00906.png...\n",
      "Copying gs://rat-emotion/dlc/Darknet-MousePose-AndreTelfer-2020-06-09/labeled-data/2020-06-07/rat3-control1_frame01263.png...\n",
      "Copying gs://rat-emotion/dlc/Darknet-MousePose-AndreTelfer-2020-06-09/labeled-data/2020-06-07/rat3-control1_frame04931.png...\n",
      "Copying gs://rat-emotion/dlc/Darknet-MousePose-AndreTelfer-2020-06-09/labeled-data/2020-06-07/rat3-control1_frame06758.png...\n",
      "Copying gs://rat-emotion/dlc/Darknet-MousePose-AndreTelfer-2020-06-09/labeled-data/2020-06-07/rat3-control1_frame08265.png...\n",
      "Copying gs://rat-emotion/dlc/Darknet-MousePose-AndreTelfer-2020-06-09/labeled-data/2020-06-07/rat3-control1_frame08755.png...\n",
      "Copying gs://rat-emotion/dlc/Darknet-MousePose-AndreTelfer-2020-06-09/labeled-data/2020-06-07/rat3-control2_frame0114.png...\n",
      "Copying gs://rat-emotion/dlc/Darknet-MousePose-AndreTelfer-2020-06-09/labeled-data/2020-06-07/rat3-control2_frame1861.png...\n",
      "Copying gs://rat-emotion/dlc/Darknet-MousePose-AndreTelfer-2020-06-09/labeled-data/2020-06-07/rat3-control2_frame1889.png...\n",
      "Copying gs://rat-emotion/dlc/Darknet-MousePose-AndreTelfer-2020-06-09/labeled-data/2020-06-07/rat3-control2_frame2685.png...\n",
      "Copying gs://rat-emotion/dlc/Darknet-MousePose-AndreTelfer-2020-06-09/labeled-data/2020-06-07/rat3-control2_frame3144.png...\n",
      "Copying gs://rat-emotion/dlc/Darknet-MousePose-AndreTelfer-2020-06-09/labeled-data/2020-06-07/rat3-control2_frame3183.png...\n",
      "Copying gs://rat-emotion/dlc/Darknet-MousePose-AndreTelfer-2020-06-09/labeled-data/2020-06-07/rat3-control2_frame3662.png...\n",
      "Copying gs://rat-emotion/dlc/Darknet-MousePose-AndreTelfer-2020-06-09/labeled-data/2020-06-07/rat3-control3_frame00713.png...\n",
      "Copying gs://rat-emotion/dlc/Darknet-MousePose-AndreTelfer-2020-06-09/labeled-data/2020-06-07/rat3-control3_frame00931.png...\n",
      "Copying gs://rat-emotion/dlc/Darknet-MousePose-AndreTelfer-2020-06-09/labeled-data/2020-06-07/rat3-control3_frame04157.png...\n",
      "Copying gs://rat-emotion/dlc/Darknet-MousePose-AndreTelfer-2020-06-09/labeled-data/2020-06-07/rat3-control3_frame06305.png...\n",
      "Copying gs://rat-emotion/dlc/Darknet-MousePose-AndreTelfer-2020-06-09/labeled-data/2020-06-07/rat3-control3_frame07600.png...\n",
      "Copying gs://rat-emotion/dlc/Darknet-MousePose-AndreTelfer-2020-06-09/labeled-data/2020-06-07/rat3-control3_frame09573.png...\n",
      "Copying gs://rat-emotion/dlc/Darknet-MousePose-AndreTelfer-2020-06-09/labeled-data/2020-06-07/rat3-control3_frame11009.png...\n",
      "Copying gs://rat-emotion/dlc/Darknet-MousePose-AndreTelfer-2020-06-09/labeled-data/2020-06-07/rat3-control4_frame0154.png...\n",
      "Copying gs://rat-emotion/dlc/Darknet-MousePose-AndreTelfer-2020-06-09/labeled-data/2020-06-07/rat3-control4_frame0300.png...\n",
      "Copying gs://rat-emotion/dlc/Darknet-MousePose-AndreTelfer-2020-06-09/labeled-data/2020-06-07/rat3-control4_frame0446.png...\n",
      "Copying gs://rat-emotion/dlc/Darknet-MousePose-AndreTelfer-2020-06-09/labeled-data/2020-06-07/rat3-control4_frame0588.png...\n",
      "Copying gs://rat-emotion/dlc/Darknet-MousePose-AndreTelfer-2020-06-09/labeled-data/2020-06-07/rat3-control4_frame1084.png...\n",
      "Copying gs://rat-emotion/dlc/Darknet-MousePose-AndreTelfer-2020-06-09/labeled-data/2020-06-07/rat3-control4_frame1238.png...\n",
      "Copying gs://rat-emotion/dlc/Darknet-MousePose-AndreTelfer-2020-06-09/labeled-data/2020-06-07/rat3-control4_frame1290.png...\n",
      "Copying gs://rat-emotion/dlc/Darknet-MousePose-AndreTelfer-2020-06-09/labeled-data/2020-06-07/rat3-lps1_frame00792.png...\n",
      "Copying gs://rat-emotion/dlc/Darknet-MousePose-AndreTelfer-2020-06-09/labeled-data/2020-06-07/rat3-lps1_frame11717.png...\n",
      "Copying gs://rat-emotion/dlc/Darknet-MousePose-AndreTelfer-2020-06-09/labeled-data/2020-06-07/rat3-lps1_frame11964.png...\n",
      "Copying gs://rat-emotion/dlc/Darknet-MousePose-AndreTelfer-2020-06-09/labeled-data/2020-06-07/rat3-lps2_frame1069.png...\n",
      "Copying gs://rat-emotion/dlc/Darknet-MousePose-AndreTelfer-2020-06-09/labeled-data/2020-06-07/rat3-lps2_frame1447.png...\n",
      "Copying gs://rat-emotion/dlc/Darknet-MousePose-AndreTelfer-2020-06-09/labeled-data/2020-06-07/rat3-lps2_frame3016.png...\n",
      "Copying gs://rat-emotion/dlc/Darknet-MousePose-AndreTelfer-2020-06-09/labeled-data/2020-06-07/rat4-control1_frame03389.png...\n",
      "Copying gs://rat-emotion/dlc/Darknet-MousePose-AndreTelfer-2020-06-09/labeled-data/2020-06-07/rat4-control1_frame05671.png...\n",
      "Copying gs://rat-emotion/dlc/Darknet-MousePose-AndreTelfer-2020-06-09/labeled-data/2020-06-07/rat4-control1_frame07649.png...\n",
      "Copying gs://rat-emotion/dlc/Darknet-MousePose-AndreTelfer-2020-06-09/labeled-data/2020-06-07/rat4-control1_frame07895.png...\n",
      "Copying gs://rat-emotion/dlc/Darknet-MousePose-AndreTelfer-2020-06-09/labeled-data/2020-06-07/rat4-control1_frame09020.png...\n",
      "Copying gs://rat-emotion/dlc/Darknet-MousePose-AndreTelfer-2020-06-09/labeled-data/2020-06-07/rat4-control1_frame09388.png...\n",
      "Copying gs://rat-emotion/dlc/Darknet-MousePose-AndreTelfer-2020-06-09/labeled-data/2020-06-07/rat4-control2_frame0388.png...\n",
      "Copying gs://rat-emotion/dlc/Darknet-MousePose-AndreTelfer-2020-06-09/labeled-data/2020-06-07/rat4-control2_frame0392.png...\n",
      "Copying gs://rat-emotion/dlc/Darknet-MousePose-AndreTelfer-2020-06-09/labeled-data/2020-06-07/rat4-control2_frame0470.png...\n",
      "Copying gs://rat-emotion/dlc/Darknet-MousePose-AndreTelfer-2020-06-09/labeled-data/2020-06-07/rat4-control2_frame0669.png...\n",
      "Copying gs://rat-emotion/dlc/Darknet-MousePose-AndreTelfer-2020-06-09/labeled-data/2020-06-07/rat4-control2_frame0989.png...\n",
      "Copying gs://rat-emotion/dlc/Darknet-MousePose-AndreTelfer-2020-06-09/labeled-data/2020-06-07/rat4-control2_frame1527.png...\n",
      "Copying gs://rat-emotion/dlc/Darknet-MousePose-AndreTelfer-2020-06-09/labeled-data/2020-06-07/rat4-control2_frame1604.png...\n",
      "Copying gs://rat-emotion/dlc/Darknet-MousePose-AndreTelfer-2020-06-09/labeled-data/2020-06-07/rat4-lps1_frame02967.png...\n",
      "Copying gs://rat-emotion/dlc/Darknet-MousePose-AndreTelfer-2020-06-09/labeled-data/2020-06-07/rat4-lps1_frame08562.png...\n",
      "Copying gs://rat-emotion/dlc/Darknet-MousePose-AndreTelfer-2020-06-09/labeled-data/2020-06-07/rat4-lps1_frame12643.png...\n",
      "Copying gs://rat-emotion/dlc/Darknet-MousePose-AndreTelfer-2020-06-09/labeled-data/2020-06-07/rat4-lps2_frame0138.png...\n",
      "Copying gs://rat-emotion/dlc/Darknet-MousePose-AndreTelfer-2020-06-09/labeled-data/2020-06-07/rat4-lps2_frame0811.png...\n",
      "Copying gs://rat-emotion/dlc/Darknet-MousePose-AndreTelfer-2020-06-09/labeled-data/2020-06-07/rat4-lps2_frame1113.png...\n",
      "Copying gs://rat-emotion/dlc/Darknet-MousePose-AndreTelfer-2020-06-09/labeled-data/2020-06-07/rat5-control1_frame00268.png...\n",
      "Copying gs://rat-emotion/dlc/Darknet-MousePose-AndreTelfer-2020-06-09/labeled-data/2020-06-07/rat5-control1_frame01903.png...\n",
      "Copying gs://rat-emotion/dlc/Darknet-MousePose-AndreTelfer-2020-06-09/labeled-data/2020-06-07/rat5-control1_frame06498.png...\n",
      "Copying gs://rat-emotion/dlc/Darknet-MousePose-AndreTelfer-2020-06-09/labeled-data/2020-06-07/rat5-control1_frame08434.png...\n",
      "Copying gs://rat-emotion/dlc/Darknet-MousePose-AndreTelfer-2020-06-09/labeled-data/2020-06-07/rat5-control1_frame09345.png...\n",
      "Copying gs://rat-emotion/dlc/Darknet-MousePose-AndreTelfer-2020-06-09/labeled-data/2020-06-07/rat5-control1_frame12286.png...\n",
      "Copying gs://rat-emotion/dlc/Darknet-MousePose-AndreTelfer-2020-06-09/labeled-data/2020-06-07/rat5-control2_frame0480.png...\n",
      "Copying gs://rat-emotion/dlc/Darknet-MousePose-AndreTelfer-2020-06-09/labeled-data/2020-06-07/rat5-control2_frame0807.png...\n",
      "Copying gs://rat-emotion/dlc/Darknet-MousePose-AndreTelfer-2020-06-09/labeled-data/2020-06-07/rat5-control2_frame0870.png...\n",
      "Copying gs://rat-emotion/dlc/Darknet-MousePose-AndreTelfer-2020-06-09/labeled-data/2020-06-07/rat5-control2_frame0924.png...\n",
      "Copying gs://rat-emotion/dlc/Darknet-MousePose-AndreTelfer-2020-06-09/labeled-data/2020-06-07/rat5-control2_frame0942.png...\n",
      "Copying gs://rat-emotion/dlc/Darknet-MousePose-AndreTelfer-2020-06-09/labeled-data/2020-06-07/rat5-control2_frame1374.png...\n",
      "Copying gs://rat-emotion/dlc/Darknet-MousePose-AndreTelfer-2020-06-09/labeled-data/2020-06-07/rat5-lps1_frame03207.png...\n",
      "Copying gs://rat-emotion/dlc/Darknet-MousePose-AndreTelfer-2020-06-09/labeled-data/2020-06-07/rat5-lps1_frame05576.png...\n",
      "Copying gs://rat-emotion/dlc/Darknet-MousePose-AndreTelfer-2020-06-09/labeled-data/2020-06-07/rat5-lps1_frame06012.png...\n",
      "Copying gs://rat-emotion/dlc/Darknet-MousePose-AndreTelfer-2020-06-09/labeled-data/2020-06-07/rat5-lps2_frame0421.png...\n",
      "Copying gs://rat-emotion/dlc/Darknet-MousePose-AndreTelfer-2020-06-09/labeled-data/2020-06-07/rat5-lps2_frame1787.png...\n",
      "Copying gs://rat-emotion/dlc/Darknet-MousePose-AndreTelfer-2020-06-09/labeled-data/2020-06-07/rat5-lps2_frame1788.png...\n",
      "Copying gs://rat-emotion/dlc/Darknet-MousePose-AndreTelfer-2020-06-09/labeled-data/2020-06-07/rat6-control1_frame01585.png...\n",
      "Copying gs://rat-emotion/dlc/Darknet-MousePose-AndreTelfer-2020-06-09/labeled-data/2020-06-07/rat6-control1_frame03009.png...\n",
      "Copying gs://rat-emotion/dlc/Darknet-MousePose-AndreTelfer-2020-06-09/labeled-data/2020-06-07/rat6-control1_frame03374.png...\n",
      "Copying gs://rat-emotion/dlc/Darknet-MousePose-AndreTelfer-2020-06-09/labeled-data/2020-06-07/rat6-control1_frame05488.png...\n",
      "Copying gs://rat-emotion/dlc/Darknet-MousePose-AndreTelfer-2020-06-09/labeled-data/2020-06-07/rat6-control1_frame06647.png...\n",
      "Copying gs://rat-emotion/dlc/Darknet-MousePose-AndreTelfer-2020-06-09/labeled-data/2020-06-07/rat6-control1_frame10318.png...\n",
      "Copying gs://rat-emotion/dlc/Darknet-MousePose-AndreTelfer-2020-06-09/labeled-data/2020-06-07/rat6-control1_frame11602.png...\n",
      "Copying gs://rat-emotion/dlc/Darknet-MousePose-AndreTelfer-2020-06-09/labeled-data/2020-06-07/rat6-control2_frame0109.png...\n",
      "Copying gs://rat-emotion/dlc/Darknet-MousePose-AndreTelfer-2020-06-09/labeled-data/2020-06-07/rat6-control2_frame0497.png...\n",
      "Copying gs://rat-emotion/dlc/Darknet-MousePose-AndreTelfer-2020-06-09/labeled-data/2020-06-07/rat6-control2_frame0512.png...\n",
      "Copying gs://rat-emotion/dlc/Darknet-MousePose-AndreTelfer-2020-06-09/labeled-data/2020-06-07/rat6-control2_frame0728.png...\n",
      "Copying gs://rat-emotion/dlc/Darknet-MousePose-AndreTelfer-2020-06-09/labeled-data/2020-06-07/rat6-control2_frame0844.png...\n",
      "Copying gs://rat-emotion/dlc/Darknet-MousePose-AndreTelfer-2020-06-09/labeled-data/2020-06-07/rat6-control2_frame1204.png...\n",
      "Copying gs://rat-emotion/dlc/Darknet-MousePose-AndreTelfer-2020-06-09/labeled-data/2020-06-07/rat6-control2_frame2489.png...\n",
      "Copying gs://rat-emotion/dlc/Darknet-MousePose-AndreTelfer-2020-06-09/labeled-data/2020-06-07/rat6-control3_frame03642.png...\n",
      "Copying gs://rat-emotion/dlc/Darknet-MousePose-AndreTelfer-2020-06-09/labeled-data/2020-06-07/rat6-control3_frame04211.png...\n",
      "Copying gs://rat-emotion/dlc/Darknet-MousePose-AndreTelfer-2020-06-09/labeled-data/2020-06-07/rat6-control3_frame06545.png...\n",
      "Copying gs://rat-emotion/dlc/Darknet-MousePose-AndreTelfer-2020-06-09/labeled-data/2020-06-07/rat6-control3_frame07830.png...\n",
      "Copying gs://rat-emotion/dlc/Darknet-MousePose-AndreTelfer-2020-06-09/labeled-data/2020-06-07/rat6-control3_frame08453.png...\n",
      "Copying gs://rat-emotion/dlc/Darknet-MousePose-AndreTelfer-2020-06-09/labeled-data/2020-06-07/rat6-control3_frame10633.png...\n",
      "Copying gs://rat-emotion/dlc/Darknet-MousePose-AndreTelfer-2020-06-09/labeled-data/2020-06-07/rat6-control4_frame01943.png...\n",
      "Copying gs://rat-emotion/dlc/Darknet-MousePose-AndreTelfer-2020-06-09/labeled-data/2020-06-07/rat6-control4_frame05069.png...\n",
      "Copying gs://rat-emotion/dlc/Darknet-MousePose-AndreTelfer-2020-06-09/labeled-data/2020-06-07/rat6-control4_frame06039.png...\n",
      "Copying gs://rat-emotion/dlc/Darknet-MousePose-AndreTelfer-2020-06-09/labeled-data/2020-06-07/rat6-control4_frame06685.png...\n",
      "Copying gs://rat-emotion/dlc/Darknet-MousePose-AndreTelfer-2020-06-09/labeled-data/2020-06-07/rat6-control4_frame08007.png...\n",
      "Copying gs://rat-emotion/dlc/Darknet-MousePose-AndreTelfer-2020-06-09/labeled-data/2020-06-07/rat6-control4_frame08242.png...\n",
      "Copying gs://rat-emotion/dlc/Darknet-MousePose-AndreTelfer-2020-06-09/labeled-data/2020-06-07/rat6-control4_frame10732.png...\n",
      "Copying gs://rat-emotion/dlc/Darknet-MousePose-AndreTelfer-2020-06-09/labeled-data/2020-06-07/rat6-control5_frame0002.png...\n",
      "Copying gs://rat-emotion/dlc/Darknet-MousePose-AndreTelfer-2020-06-09/labeled-data/2020-06-07/rat6-control5_frame0055.png...\n",
      "Copying gs://rat-emotion/dlc/Darknet-MousePose-AndreTelfer-2020-06-09/labeled-data/2020-06-07/rat6-control5_frame0544.png...\n",
      "Copying gs://rat-emotion/dlc/Darknet-MousePose-AndreTelfer-2020-06-09/labeled-data/2020-06-07/rat6-control5_frame0624.png...\n",
      "Copying gs://rat-emotion/dlc/Darknet-MousePose-AndreTelfer-2020-06-09/labeled-data/2020-06-07/rat6-control5_frame0671.png...\n",
      "Copying gs://rat-emotion/dlc/Darknet-MousePose-AndreTelfer-2020-06-09/labeled-data/2020-06-07/rat6-control5_frame0925.png...\n",
      "Copying gs://rat-emotion/dlc/Darknet-MousePose-AndreTelfer-2020-06-09/labeled-data/2020-06-07/rat6-control5_frame1258.png...\n",
      "Copying gs://rat-emotion/dlc/Darknet-MousePose-AndreTelfer-2020-06-09/labeled-data/2020-06-07/rat6-lps1_frame01211.png...\n",
      "Copying gs://rat-emotion/dlc/Darknet-MousePose-AndreTelfer-2020-06-09/labeled-data/2020-06-07/rat6-lps1_frame01434.png...\n",
      "Copying gs://rat-emotion/dlc/Darknet-MousePose-AndreTelfer-2020-06-09/labeled-data/2020-06-07/rat6-lps1_frame11768.png...\n",
      "Copying gs://rat-emotion/dlc/Darknet-MousePose-AndreTelfer-2020-06-09/labeled-data/2020-06-07/rat6-lps2_frame0328.png...\n",
      "Copying gs://rat-emotion/dlc/Darknet-MousePose-AndreTelfer-2020-06-09/labeled-data/2020-06-07/rat6-lps2_frame0393.png...\n",
      "Copying gs://rat-emotion/dlc/Darknet-MousePose-AndreTelfer-2020-06-09/labeled-data/2020-06-07/rat6-lps2_frame1154.png...\n",
      "Copying gs://rat-emotion/dlc/Darknet-MousePose-AndreTelfer-2020-06-09/labeled-data/2020-06-26/CollectedData_AndreTelfer.csv...\n",
      "Copying gs://rat-emotion/dlc/Darknet-MousePose-AndreTelfer-2020-06-09/labeled-data/2020-06-26/CollectedData_AndreTelfer.h5...\n",
      "Copying gs://rat-emotion/dlc/Darknet-MousePose-AndreTelfer-2020-06-09/labeled-data/2020-06-26/frame114.png...\n",
      "Copying gs://rat-emotion/dlc/Darknet-MousePose-AndreTelfer-2020-06-09/labeled-data/2020-06-26/frame1237.png...\n",
      "Copying gs://rat-emotion/dlc/Darknet-MousePose-AndreTelfer-2020-06-09/labeled-data/2020-06-26/frame1239.png...\n",
      "Copying gs://rat-emotion/dlc/Darknet-MousePose-AndreTelfer-2020-06-09/labeled-data/2020-06-26/frame1246.png...\n",
      "Copying gs://rat-emotion/dlc/Darknet-MousePose-AndreTelfer-2020-06-09/labeled-data/2020-06-26/frame1248.png...\n",
      "Copying gs://rat-emotion/dlc/Darknet-MousePose-AndreTelfer-2020-06-09/labeled-data/2020-06-26/frame1249.png...\n",
      "Copying gs://rat-emotion/dlc/Darknet-MousePose-AndreTelfer-2020-06-09/labeled-data/2020-06-26/frame1251.png...\n",
      "Copying gs://rat-emotion/dlc/Darknet-MousePose-AndreTelfer-2020-06-09/labeled-data/2020-06-26/frame1290.png...\n",
      "Copying gs://rat-emotion/dlc/Darknet-MousePose-AndreTelfer-2020-06-09/labeled-data/2020-06-26/frame1325.png...\n",
      "Copying gs://rat-emotion/dlc/Darknet-MousePose-AndreTelfer-2020-06-09/labeled-data/2020-06-26/frame1383.png...\n",
      "Copying gs://rat-emotion/dlc/Darknet-MousePose-AndreTelfer-2020-06-09/labeled-data/2020-06-26/frame1384.png...\n",
      "Copying gs://rat-emotion/dlc/Darknet-MousePose-AndreTelfer-2020-06-09/labeled-data/2020-06-26/frame1536.png...\n",
      "Copying gs://rat-emotion/dlc/Darknet-MousePose-AndreTelfer-2020-06-09/labeled-data/2020-06-26/frame1747.png...\n",
      "Copying gs://rat-emotion/dlc/Darknet-MousePose-AndreTelfer-2020-06-09/labeled-data/2020-06-26/frame1826.png...\n",
      "Copying gs://rat-emotion/dlc/Darknet-MousePose-AndreTelfer-2020-06-09/labeled-data/2020-06-26/frame1827.png...\n",
      "Copying gs://rat-emotion/dlc/Darknet-MousePose-AndreTelfer-2020-06-09/labeled-data/2020-06-26/frame1832.png...\n",
      "Copying gs://rat-emotion/dlc/Darknet-MousePose-AndreTelfer-2020-06-09/labeled-data/2020-06-26/frame1881.png...\n",
      "Copying gs://rat-emotion/dlc/Darknet-MousePose-AndreTelfer-2020-06-09/labeled-data/2020-06-26/frame1930.png...\n",
      "Copying gs://rat-emotion/dlc/Darknet-MousePose-AndreTelfer-2020-06-09/labeled-data/2020-06-26/frame2094.png...\n",
      "Copying gs://rat-emotion/dlc/Darknet-MousePose-AndreTelfer-2020-06-09/labeled-data/2020-06-26/frame2224.png...\n",
      "Copying gs://rat-emotion/dlc/Darknet-MousePose-AndreTelfer-2020-06-09/labeled-data/2020-06-26/frame2340.png...\n",
      "Copying gs://rat-emotion/dlc/Darknet-MousePose-AndreTelfer-2020-06-09/labeled-data/2020-06-26/frame2350.png...\n",
      "Copying gs://rat-emotion/dlc/Darknet-MousePose-AndreTelfer-2020-06-09/labeled-data/2020-06-26/frame2352.png...\n",
      "Copying gs://rat-emotion/dlc/Darknet-MousePose-AndreTelfer-2020-06-09/labeled-data/2020-06-26/frame2492.png...\n",
      "Copying gs://rat-emotion/dlc/Darknet-MousePose-AndreTelfer-2020-06-09/labeled-data/2020-06-26/frame2517.png...\n",
      "Copying gs://rat-emotion/dlc/Darknet-MousePose-AndreTelfer-2020-06-09/labeled-data/2020-06-26/frame55.png...\n",
      "Copying gs://rat-emotion/dlc/Darknet-MousePose-AndreTelfer-2020-06-09/labeled-data/2020-06-26/frame98.png...\n",
      "Copying gs://rat-emotion/dlc/Darknet-MousePose-AndreTelfer-2020-06-09/training-datasets/iteration-0/UnaugmentedDataSet_Darknet-MousePoseJun9/CollectedData_AndreTelfer.csv...\n",
      "Copying gs://rat-emotion/dlc/Darknet-MousePose-AndreTelfer-2020-06-09/training-datasets/iteration-0/UnaugmentedDataSet_Darknet-MousePoseJun9/CollectedData_AndreTelfer.h5...\n",
      "Copying gs://rat-emotion/dlc/Darknet-MousePose-AndreTelfer-2020-06-09/training-datasets/iteration-0/UnaugmentedDataSet_Darknet-MousePoseJun9/CollectedData_AndreTelferwindows.csv...\n",
      "Copying gs://rat-emotion/dlc/Darknet-MousePose-AndreTelfer-2020-06-09/training-datasets/iteration-0/UnaugmentedDataSet_Darknet-MousePoseJun9/CollectedData_AndreTelferwindows.h5...\n",
      "Copying gs://rat-emotion/dlc/Darknet-MousePose-AndreTelfer-2020-06-09/training-datasets/iteration-0/UnaugmentedDataSet_Darknet-MousePoseJun9/Darknet-MousePose_AndreTelfer95shuffle1.mat...\n",
      "Copying gs://rat-emotion/dlc/Darknet-MousePose-AndreTelfer-2020-06-09/training-datasets/iteration-0/UnaugmentedDataSet_Darknet-MousePoseJun9/Documentation_data-Darknet-MousePose_95shuffle1.pickle...\n",
      "Copying gs://rat-emotion/dlc/Darknet-MousePose-AndreTelfer-2020-06-09/training-datasets/iteration-1/UnaugmentedDataSet_Darknet-MousePoseJun9/CollectedData_AndreTelfer.csv...\n",
      "Copying gs://rat-emotion/dlc/Darknet-MousePose-AndreTelfer-2020-06-09/training-datasets/iteration-1/UnaugmentedDataSet_Darknet-MousePoseJun9/CollectedData_AndreTelfer.h5...\n",
      "Copying gs://rat-emotion/dlc/Darknet-MousePose-AndreTelfer-2020-06-09/training-datasets/iteration-1/UnaugmentedDataSet_Darknet-MousePoseJun9/CollectedData_AndreTelferwindows.csv...\n",
      "Copying gs://rat-emotion/dlc/Darknet-MousePose-AndreTelfer-2020-06-09/training-datasets/iteration-1/UnaugmentedDataSet_Darknet-MousePoseJun9/CollectedData_AndreTelferwindows.h5...\n",
      "Copying gs://rat-emotion/dlc/Darknet-MousePose-AndreTelfer-2020-06-09/training-datasets/iteration-1/UnaugmentedDataSet_Darknet-MousePoseJun9/Darknet-MousePose_AndreTelfer95shuffle1.mat...\n",
      "Copying gs://rat-emotion/dlc/Darknet-MousePose-AndreTelfer-2020-06-09/training-datasets/iteration-1/UnaugmentedDataSet_Darknet-MousePoseJun9/Documentation_data-Darknet-MousePose_95shuffle1.pickle...\n",
      "| [287 files][  1.6 GiB/  1.6 GiB]    6.3 MiB/s                                 \n",
      "==> NOTE: You are performing a sequence of gsutil operations that may\n",
      "run significantly faster if you instead use gsutil -m cp ... Please\n",
      "see the -m section under \"gsutil help options\" for further information\n",
      "about when gsutil -m can be advantageous.\n",
      "\n",
      "\n",
      "Operation completed over 287 objects/1.6 GiB.                                    \n"
     ]
    }
   ],
   "source": [
    "\n",
    "! gsutil cp -r {gs_project_path} {tempdir_path}\n",
    "dest_path = str(tempdir_path / 'analyzed_videos')\n",
    "os.makedirs(dest_path)\n",
    "\n",
    "config_path = str(tempdir_path / 'Darknet-MousePose-AndreTelfer-2020-06-09/config.yaml')"
   ]
  },
  {
   "cell_type": "code",
   "execution_count": 13,
   "metadata": {},
   "outputs": [],
   "source": [
    "# edit the config path  \n",
    "with open(config_path, 'r') as fp:\n",
    "    cfg = yaml.load(fp)\n",
    "\n",
    "cfg['project_path'] = str(tempdir_path / project)\n",
    "with open(config_path, 'w') as fp:\n",
    "    yaml.dump(cfg, fp)"
   ]
  },
  {
   "cell_type": "code",
   "execution_count": 7,
   "metadata": {},
   "outputs": [
    {
     "name": "stdout",
     "output_type": "stream",
     "text": [
      "Requirement already up-to-date: tensorflow-gpu==1.14 in /root/miniconda/envs/DLC-GPU/lib/python3.7/site-packages (1.14.0)\n",
      "Requirement already satisfied, skipping upgrade: keras-preprocessing>=1.0.5 in /root/miniconda/envs/DLC-GPU/lib/python3.7/site-packages (from tensorflow-gpu==1.14) (1.1.0)\n",
      "Requirement already satisfied, skipping upgrade: wrapt>=1.11.1 in /root/miniconda/envs/DLC-GPU/lib/python3.7/site-packages (from tensorflow-gpu==1.14) (1.12.1)\n",
      "Requirement already satisfied, skipping upgrade: grpcio>=1.8.6 in /root/miniconda/envs/DLC-GPU/lib/python3.7/site-packages (from tensorflow-gpu==1.14) (1.27.2)\n",
      "Requirement already satisfied, skipping upgrade: keras-applications>=1.0.6 in /root/miniconda/envs/DLC-GPU/lib/python3.7/site-packages (from tensorflow-gpu==1.14) (1.0.8)\n",
      "Requirement already satisfied, skipping upgrade: tensorboard<1.15.0,>=1.14.0 in /root/miniconda/envs/DLC-GPU/lib/python3.7/site-packages (from tensorflow-gpu==1.14) (1.14.0)\n",
      "Requirement already satisfied, skipping upgrade: gast>=0.2.0 in /root/miniconda/envs/DLC-GPU/lib/python3.7/site-packages (from tensorflow-gpu==1.14) (0.3.3)\n",
      "Requirement already satisfied, skipping upgrade: protobuf>=3.6.1 in /root/miniconda/envs/DLC-GPU/lib/python3.7/site-packages (from tensorflow-gpu==1.14) (3.12.3)\n",
      "Requirement already satisfied, skipping upgrade: google-pasta>=0.1.6 in /root/miniconda/envs/DLC-GPU/lib/python3.7/site-packages (from tensorflow-gpu==1.14) (0.2.0)\n",
      "Requirement already satisfied, skipping upgrade: six>=1.10.0 in /root/miniconda/envs/DLC-GPU/lib/python3.7/site-packages (from tensorflow-gpu==1.14) (1.15.0)\n",
      "Requirement already satisfied, skipping upgrade: termcolor>=1.1.0 in /root/miniconda/envs/DLC-GPU/lib/python3.7/site-packages (from tensorflow-gpu==1.14) (1.1.0)\n",
      "Requirement already satisfied, skipping upgrade: wheel>=0.26 in /root/miniconda/envs/DLC-GPU/lib/python3.7/site-packages (from tensorflow-gpu==1.14) (0.34.2)\n",
      "Requirement already satisfied, skipping upgrade: numpy<2.0,>=1.14.5 in /root/miniconda/envs/DLC-GPU/lib/python3.7/site-packages (from tensorflow-gpu==1.14) (1.16.4)\n",
      "Requirement already satisfied, skipping upgrade: astor>=0.6.0 in /root/miniconda/envs/DLC-GPU/lib/python3.7/site-packages (from tensorflow-gpu==1.14) (0.8.0)\n",
      "Requirement already satisfied, skipping upgrade: tensorflow-estimator<1.15.0rc0,>=1.14.0rc0 in /root/miniconda/envs/DLC-GPU/lib/python3.7/site-packages (from tensorflow-gpu==1.14) (1.14.0)\n",
      "Requirement already satisfied, skipping upgrade: absl-py>=0.7.0 in /root/miniconda/envs/DLC-GPU/lib/python3.7/site-packages (from tensorflow-gpu==1.14) (0.9.0)\n",
      "Requirement already satisfied, skipping upgrade: h5py in /root/miniconda/envs/DLC-GPU/lib/python3.7/site-packages (from keras-applications>=1.0.6->tensorflow-gpu==1.14) (2.10.0)\n",
      "Requirement already satisfied, skipping upgrade: werkzeug>=0.11.15 in /root/miniconda/envs/DLC-GPU/lib/python3.7/site-packages (from tensorboard<1.15.0,>=1.14.0->tensorflow-gpu==1.14) (1.0.1)\n",
      "Requirement already satisfied, skipping upgrade: markdown>=2.6.8 in /root/miniconda/envs/DLC-GPU/lib/python3.7/site-packages (from tensorboard<1.15.0,>=1.14.0->tensorflow-gpu==1.14) (3.1.1)\n",
      "Requirement already satisfied, skipping upgrade: setuptools>=41.0.0 in /root/miniconda/envs/DLC-GPU/lib/python3.7/site-packages (from tensorboard<1.15.0,>=1.14.0->tensorflow-gpu==1.14) (47.3.1.post20200622)\n",
      "\n"
     ]
    }
   ],
   "source": [
    "! conda run -n DLC-GPU pip install --upgrade tensorflow-gpu==1.14"
   ]
  },
  {
   "cell_type": "code",
   "execution_count": 10,
   "metadata": {},
   "outputs": [
    {
     "name": "stdout",
     "output_type": "stream",
     "text": [
      "nvcc: NVIDIA (R) Cuda compiler driver\n",
      "Copyright (c) 2005-2018 NVIDIA Corporation\n",
      "Built on Sat_Aug_25_21:08:01_CDT_2018\n",
      "Cuda compilation tools, release 10.0, V10.0.130\n"
     ]
    }
   ],
   "source": [
    "! nvcc --version"
   ]
  },
  {
   "cell_type": "code",
   "execution_count": 7,
   "metadata": {},
   "outputs": [],
   "source": [
    "tf.keras.backend.clear_session()"
   ]
  },
  {
   "cell_type": "code",
   "execution_count": 16,
   "metadata": {},
   "outputs": [
    {
     "name": "stdout",
     "output_type": "stream",
     "text": [
      "Using snapshot-80000 for model /tmp/tmpyo6uscdq/Darknet-MousePose-AndreTelfer-2020-06-09/dlc-models/iteration-0/Darknet-MousePoseJun9-trainset95shuffle1\n",
      "Initializing ResNet\n",
      "INFO:tensorflow:Restoring parameters from /tmp/tmpyo6uscdq/Darknet-MousePose-AndreTelfer-2020-06-09/dlc-models/iteration-0/Darknet-MousePoseJun9-trainset95shuffle1/train/snapshot-80000\n"
     ]
    },
    {
     "name": "stderr",
     "output_type": "stream",
     "text": [
      "INFO:tensorflow:Restoring parameters from /tmp/tmpyo6uscdq/Darknet-MousePose-AndreTelfer-2020-06-09/dlc-models/iteration-0/Darknet-MousePoseJun9-trainset95shuffle1/train/snapshot-80000\n",
      "  0%|          | 0/12771 [00:00<?, ?it/s]"
     ]
    },
    {
     "name": "stdout",
     "output_type": "stream",
     "text": [
      "Starting to analyze %  /storage/gs/rat-emotion/videos/24fps-shortened/rat3-control3.mp4\n",
      "Loading  /storage/gs/rat-emotion/videos/24fps-shortened/rat3-control3.mp4\n",
      "Duration of video [s]:  532.29 , recorded with  23.99 fps!\n",
      "Overall # of frames:  12771  found with (before cropping) frame dimensions:  1280 720\n",
      "Starting to extract posture\n"
     ]
    },
    {
     "name": "stderr",
     "output_type": "stream",
     "text": [
      "12827it [13:51, 15.28it/s]                           "
     ]
    },
    {
     "name": "stdout",
     "output_type": "stream",
     "text": [
      "Detected frames:  12771\n"
     ]
    },
    {
     "name": "stderr",
     "output_type": "stream",
     "text": [
      "12827it [13:56, 15.34it/s]\n",
      "  0%|          | 0/3370 [00:00<?, ?it/s]"
     ]
    },
    {
     "name": "stdout",
     "output_type": "stream",
     "text": [
      "Saving results in /storage/gs/rat-emotion/videos/24fps-shortened...\n",
      "Starting to analyze %  /storage/gs/rat-emotion/videos/24fps-shortened/rat7-control2.mp4\n",
      "Loading  /storage/gs/rat-emotion/videos/24fps-shortened/rat7-control2.mp4\n",
      "Duration of video [s]:  140.58 , recorded with  23.97 fps!\n",
      "Overall # of frames:  3370  found with (before cropping) frame dimensions:  1280 720\n",
      "Starting to extract posture\n"
     ]
    },
    {
     "name": "stderr",
     "output_type": "stream",
     "text": [
      "3399it [03:39, 15.48it/s]                          "
     ]
    },
    {
     "name": "stdout",
     "output_type": "stream",
     "text": [
      "Detected frames:  3370\n"
     ]
    },
    {
     "name": "stderr",
     "output_type": "stream",
     "text": [
      "3399it [03:40, 15.42it/s]\n",
      "  0%|          | 0/12759 [00:00<?, ?it/s]"
     ]
    },
    {
     "name": "stdout",
     "output_type": "stream",
     "text": [
      "Saving results in /storage/gs/rat-emotion/videos/24fps-shortened...\n",
      "Starting to analyze %  /storage/gs/rat-emotion/videos/24fps-shortened/rat7-control1.mp4\n",
      "Loading  /storage/gs/rat-emotion/videos/24fps-shortened/rat7-control1.mp4\n",
      "Duration of video [s]:  531.79 , recorded with  23.99 fps!\n",
      "Overall # of frames:  12759  found with (before cropping) frame dimensions:  1280 720\n",
      "Starting to extract posture\n"
     ]
    },
    {
     "name": "stderr",
     "output_type": "stream",
     "text": [
      "12827it [13:48, 15.30it/s]                           "
     ]
    },
    {
     "name": "stdout",
     "output_type": "stream",
     "text": [
      "Detected frames:  12759\n"
     ]
    },
    {
     "name": "stderr",
     "output_type": "stream",
     "text": [
      "12827it [13:52, 15.41it/s]\n",
      "  0%|          | 0/10539 [00:00<?, ?it/s]"
     ]
    },
    {
     "name": "stdout",
     "output_type": "stream",
     "text": [
      "Saving results in /storage/gs/rat-emotion/videos/24fps-shortened...\n",
      "Starting to analyze %  /storage/gs/rat-emotion/videos/24fps-shortened/rat5-lps1.mp4\n",
      "Loading  /storage/gs/rat-emotion/videos/24fps-shortened/rat5-lps1.mp4\n",
      "Duration of video [s]:  439.29 , recorded with  23.99 fps!\n",
      "Overall # of frames:  10539  found with (before cropping) frame dimensions:  1280 720\n",
      "Starting to extract posture\n"
     ]
    },
    {
     "name": "stderr",
     "output_type": "stream",
     "text": [
      "10605it [11:21, 15.58it/s]                           "
     ]
    },
    {
     "name": "stdout",
     "output_type": "stream",
     "text": [
      "Detected frames:  10539\n"
     ]
    },
    {
     "name": "stderr",
     "output_type": "stream",
     "text": [
      "10605it [11:24, 15.49it/s]\n",
      "  0%|          | 0/4085 [00:00<?, ?it/s]"
     ]
    },
    {
     "name": "stdout",
     "output_type": "stream",
     "text": [
      "Saving results in /storage/gs/rat-emotion/videos/24fps-shortened...\n",
      "Starting to analyze %  /storage/gs/rat-emotion/videos/24fps-shortened/rat3-control2.mp4\n",
      "Loading  /storage/gs/rat-emotion/videos/24fps-shortened/rat3-control2.mp4\n",
      "Duration of video [s]:  170.38 , recorded with  23.98 fps!\n",
      "Overall # of frames:  4085  found with (before cropping) frame dimensions:  1280 720\n",
      "Starting to extract posture\n"
     ]
    },
    {
     "name": "stderr",
     "output_type": "stream",
     "text": [
      "4120it [04:27, 14.96it/s]                          "
     ]
    },
    {
     "name": "stdout",
     "output_type": "stream",
     "text": [
      "Detected frames:  4085\n"
     ]
    },
    {
     "name": "stderr",
     "output_type": "stream",
     "text": [
      "4120it [04:28, 15.37it/s]\n",
      "  0%|          | 0/12771 [00:00<?, ?it/s]"
     ]
    },
    {
     "name": "stdout",
     "output_type": "stream",
     "text": [
      "Saving results in /storage/gs/rat-emotion/videos/24fps-shortened...\n",
      "Starting to analyze %  /storage/gs/rat-emotion/videos/24fps-shortened/rat3-lps1.mp4\n",
      "Loading  /storage/gs/rat-emotion/videos/24fps-shortened/rat3-lps1.mp4\n",
      "Duration of video [s]:  532.29 , recorded with  23.99 fps!\n",
      "Overall # of frames:  12771  found with (before cropping) frame dimensions:  1280 720\n",
      "Starting to extract posture\n"
     ]
    },
    {
     "name": "stderr",
     "output_type": "stream",
     "text": [
      "12827it [13:40, 15.97it/s]                           "
     ]
    },
    {
     "name": "stdout",
     "output_type": "stream",
     "text": [
      "Detected frames:  12771\n"
     ]
    },
    {
     "name": "stderr",
     "output_type": "stream",
     "text": [
      "12827it [13:45, 15.55it/s]\n",
      "  0%|          | 0/12759 [00:00<?, ?it/s]"
     ]
    },
    {
     "name": "stdout",
     "output_type": "stream",
     "text": [
      "Saving results in /storage/gs/rat-emotion/videos/24fps-shortened...\n",
      "Starting to analyze %  /storage/gs/rat-emotion/videos/24fps-shortened/rat6-control4.mp4\n",
      "Loading  /storage/gs/rat-emotion/videos/24fps-shortened/rat6-control4.mp4\n",
      "Duration of video [s]:  531.79 , recorded with  23.99 fps!\n",
      "Overall # of frames:  12759  found with (before cropping) frame dimensions:  1280 720\n",
      "Starting to extract posture\n"
     ]
    },
    {
     "name": "stderr",
     "output_type": "stream",
     "text": [
      "12827it [13:51, 15.32it/s]                           "
     ]
    },
    {
     "name": "stdout",
     "output_type": "stream",
     "text": [
      "Detected frames:  12759\n"
     ]
    },
    {
     "name": "stderr",
     "output_type": "stream",
     "text": [
      "12827it [13:55, 15.34it/s]\n",
      "  0%|          | 0/2214 [00:00<?, ?it/s]"
     ]
    },
    {
     "name": "stdout",
     "output_type": "stream",
     "text": [
      "Saving results in /storage/gs/rat-emotion/videos/24fps-shortened...\n",
      "Starting to analyze %  /storage/gs/rat-emotion/videos/24fps-shortened/rat4-control2.mp4\n",
      "Loading  /storage/gs/rat-emotion/videos/24fps-shortened/rat4-control2.mp4\n",
      "Duration of video [s]:  92.42 , recorded with  23.96 fps!\n",
      "Overall # of frames:  2214  found with (before cropping) frame dimensions:  1280 720\n",
      "Starting to extract posture\n"
     ]
    },
    {
     "name": "stderr",
     "output_type": "stream",
     "text": [
      "2222it [02:22, 14.64it/s]                          "
     ]
    },
    {
     "name": "stdout",
     "output_type": "stream",
     "text": [
      "Detected frames:  2214\n"
     ]
    },
    {
     "name": "stderr",
     "output_type": "stream",
     "text": [
      "2222it [02:23, 15.48it/s]\n",
      "  0%|          | 0/1775 [00:00<?, ?it/s]"
     ]
    },
    {
     "name": "stdout",
     "output_type": "stream",
     "text": [
      "Saving results in /storage/gs/rat-emotion/videos/24fps-shortened...\n",
      "Starting to analyze %  /storage/gs/rat-emotion/videos/24fps-shortened/rat5-control2.mp4\n",
      "Loading  /storage/gs/rat-emotion/videos/24fps-shortened/rat5-control2.mp4\n",
      "Duration of video [s]:  74.12 , recorded with  23.95 fps!\n",
      "Overall # of frames:  1775  found with (before cropping) frame dimensions:  1280 720\n",
      "Starting to extract posture\n"
     ]
    },
    {
     "name": "stderr",
     "output_type": "stream",
     "text": [
      "1785it [01:56, 13.51it/s]                          "
     ]
    },
    {
     "name": "stdout",
     "output_type": "stream",
     "text": [
      "Detected frames:  1775\n"
     ]
    },
    {
     "name": "stderr",
     "output_type": "stream",
     "text": [
      "1785it [01:56, 15.28it/s]\n",
      "  0%|          | 0/3151 [00:00<?, ?it/s]"
     ]
    },
    {
     "name": "stdout",
     "output_type": "stream",
     "text": [
      "Saving results in /storage/gs/rat-emotion/videos/24fps-shortened...\n",
      "Starting to analyze %  /storage/gs/rat-emotion/videos/24fps-shortened/rat6-control2.mp4\n",
      "Loading  /storage/gs/rat-emotion/videos/24fps-shortened/rat6-control2.mp4\n",
      "Duration of video [s]:  131.46 , recorded with  23.97 fps!\n",
      "Overall # of frames:  3151  found with (before cropping) frame dimensions:  1280 720\n",
      "Starting to extract posture\n"
     ]
    },
    {
     "name": "stderr",
     "output_type": "stream",
     "text": [
      "3162it [03:24, 14.71it/s]                          "
     ]
    },
    {
     "name": "stdout",
     "output_type": "stream",
     "text": [
      "Detected frames:  3151\n"
     ]
    },
    {
     "name": "stderr",
     "output_type": "stream",
     "text": [
      "3162it [03:25, 15.36it/s]\n",
      "  0%|          | 0/2626 [00:00<?, ?it/s]"
     ]
    },
    {
     "name": "stdout",
     "output_type": "stream",
     "text": [
      "Saving results in /storage/gs/rat-emotion/videos/24fps-shortened...\n",
      "Starting to analyze %  /storage/gs/rat-emotion/videos/24fps-shortened/rat1-control1.mp4\n",
      "Video already analyzed! /tmp/tmpyo6uscdq/analyzed_videos/rat1-control1DLC_resnet50_Darknet-MousePoseJun9shuffle1_80000.h5\n",
      "Starting to analyze %  /storage/gs/rat-emotion/videos/24fps-shortened/rat8-control2.mp4\n",
      "Loading  /storage/gs/rat-emotion/videos/24fps-shortened/rat8-control2.mp4\n",
      "Duration of video [s]:  109.58 , recorded with  23.96 fps!\n",
      "Overall # of frames:  2626  found with (before cropping) frame dimensions:  1280 720\n",
      "Starting to extract posture\n"
     ]
    },
    {
     "name": "stderr",
     "output_type": "stream",
     "text": [
      "2652it [02:52, 15.02it/s]                          "
     ]
    },
    {
     "name": "stdout",
     "output_type": "stream",
     "text": [
      "Detected frames:  2626\n"
     ]
    },
    {
     "name": "stderr",
     "output_type": "stream",
     "text": [
      "2652it [02:53, 15.30it/s]\n",
      "  0%|          | 0/2234 [00:00<?, ?it/s]"
     ]
    },
    {
     "name": "stdout",
     "output_type": "stream",
     "text": [
      "Saving results in /storage/gs/rat-emotion/videos/24fps-shortened...\n",
      "Starting to analyze %  /storage/gs/rat-emotion/videos/24fps-shortened/rat7-control4.mp4\n",
      "Loading  /storage/gs/rat-emotion/videos/24fps-shortened/rat7-control4.mp4\n",
      "Duration of video [s]:  93.25 , recorded with  23.96 fps!\n",
      "Overall # of frames:  2234  found with (before cropping) frame dimensions:  1280 720\n",
      "Starting to extract posture\n"
     ]
    },
    {
     "name": "stderr",
     "output_type": "stream",
     "text": [
      "2244it [02:25, 15.87it/s]                          "
     ]
    },
    {
     "name": "stdout",
     "output_type": "stream",
     "text": [
      "Detected frames:  2234\n"
     ]
    },
    {
     "name": "stderr",
     "output_type": "stream",
     "text": [
      "2244it [02:27, 15.24it/s]\n",
      "  0%|          | 0/12759 [00:00<?, ?it/s]"
     ]
    },
    {
     "name": "stdout",
     "output_type": "stream",
     "text": [
      "Saving results in /storage/gs/rat-emotion/videos/24fps-shortened...\n",
      "Starting to analyze %  /storage/gs/rat-emotion/videos/24fps-shortened/rat4-lps1.mp4\n",
      "Loading  /storage/gs/rat-emotion/videos/24fps-shortened/rat4-lps1.mp4\n",
      "Duration of video [s]:  531.79 , recorded with  23.99 fps!\n",
      "Overall # of frames:  12759  found with (before cropping) frame dimensions:  1280 720\n",
      "Starting to extract posture\n"
     ]
    },
    {
     "name": "stderr",
     "output_type": "stream",
     "text": [
      "12827it [13:48, 15.28it/s]                           "
     ]
    },
    {
     "name": "stdout",
     "output_type": "stream",
     "text": [
      "Detected frames:  12759\n"
     ]
    },
    {
     "name": "stderr",
     "output_type": "stream",
     "text": [
      "12827it [13:52, 15.41it/s]\n",
      "  0%|          | 0/1857 [00:00<?, ?it/s]"
     ]
    },
    {
     "name": "stdout",
     "output_type": "stream",
     "text": [
      "Saving results in /storage/gs/rat-emotion/videos/24fps-shortened...\n",
      "Starting to analyze %  /storage/gs/rat-emotion/videos/24fps-shortened/rat5-lps2.mp4\n",
      "Loading  /storage/gs/rat-emotion/videos/24fps-shortened/rat5-lps2.mp4\n",
      "Duration of video [s]:  77.54 , recorded with  23.95 fps!\n",
      "Overall # of frames:  1857  found with (before cropping) frame dimensions:  1280 720\n",
      "Starting to extract posture\n"
     ]
    },
    {
     "name": "stderr",
     "output_type": "stream",
     "text": [
      "1872it [02:00, 15.50it/s]                          "
     ]
    },
    {
     "name": "stdout",
     "output_type": "stream",
     "text": [
      "Detected frames:  1857\n"
     ]
    },
    {
     "name": "stderr",
     "output_type": "stream",
     "text": [
      "1872it [02:01, 15.38it/s]\n",
      "  0%|          | 0/12759 [00:00<?, ?it/s]"
     ]
    },
    {
     "name": "stdout",
     "output_type": "stream",
     "text": [
      "Saving results in /storage/gs/rat-emotion/videos/24fps-shortened...\n",
      "Starting to analyze %  /storage/gs/rat-emotion/videos/24fps-shortened/rat2-control1.mp4\n",
      "Loading  /storage/gs/rat-emotion/videos/24fps-shortened/rat2-control1.mp4\n",
      "Duration of video [s]:  531.79 , recorded with  23.99 fps!\n",
      "Overall # of frames:  12759  found with (before cropping) frame dimensions:  1280 720\n",
      "Starting to extract posture\n"
     ]
    },
    {
     "name": "stderr",
     "output_type": "stream",
     "text": [
      "12827it [13:49, 15.17it/s]                           "
     ]
    },
    {
     "name": "stdout",
     "output_type": "stream",
     "text": [
      "Detected frames:  12759\n"
     ]
    },
    {
     "name": "stderr",
     "output_type": "stream",
     "text": [
      "12827it [13:54, 15.38it/s]\n",
      "  0%|          | 0/12771 [00:00<?, ?it/s]"
     ]
    },
    {
     "name": "stdout",
     "output_type": "stream",
     "text": [
      "Saving results in /storage/gs/rat-emotion/videos/24fps-shortened...\n",
      "Starting to analyze %  /storage/gs/rat-emotion/videos/24fps-shortened/rat4-control1.mp4\n",
      "Loading  /storage/gs/rat-emotion/videos/24fps-shortened/rat4-control1.mp4\n",
      "Duration of video [s]:  532.29 , recorded with  23.99 fps!\n",
      "Overall # of frames:  12771  found with (before cropping) frame dimensions:  1280 720\n",
      "Starting to extract posture\n"
     ]
    },
    {
     "name": "stderr",
     "output_type": "stream",
     "text": [
      "12827it [13:52, 15.44it/s]                           "
     ]
    },
    {
     "name": "stdout",
     "output_type": "stream",
     "text": [
      "Detected frames:  12771\n"
     ]
    },
    {
     "name": "stderr",
     "output_type": "stream",
     "text": [
      "12827it [13:57, 15.31it/s]\n",
      "  0%|          | 0/12771 [00:00<?, ?it/s]"
     ]
    },
    {
     "name": "stdout",
     "output_type": "stream",
     "text": [
      "Saving results in /storage/gs/rat-emotion/videos/24fps-shortened...\n",
      "Starting to analyze %  /storage/gs/rat-emotion/videos/24fps-shortened/rat5-control1.mp4\n",
      "Loading  /storage/gs/rat-emotion/videos/24fps-shortened/rat5-control1.mp4\n",
      "Duration of video [s]:  532.29 , recorded with  23.99 fps!\n",
      "Overall # of frames:  12771  found with (before cropping) frame dimensions:  1280 720\n",
      "Starting to extract posture\n"
     ]
    },
    {
     "name": "stderr",
     "output_type": "stream",
     "text": [
      "12827it [13:51, 15.36it/s]                           "
     ]
    },
    {
     "name": "stdout",
     "output_type": "stream",
     "text": [
      "Detected frames:  12771\n"
     ]
    },
    {
     "name": "stderr",
     "output_type": "stream",
     "text": [
      "12827it [13:56, 15.33it/s]\n",
      "  0%|          | 0/2638 [00:00<?, ?it/s]"
     ]
    },
    {
     "name": "stdout",
     "output_type": "stream",
     "text": [
      "Saving results in /storage/gs/rat-emotion/videos/24fps-shortened...\n",
      "Starting to analyze %  /storage/gs/rat-emotion/videos/24fps-shortened/rat2-control4.mp4\n",
      "Loading  /storage/gs/rat-emotion/videos/24fps-shortened/rat2-control4.mp4\n",
      "Duration of video [s]:  110.08 , recorded with  23.96 fps!\n",
      "Overall # of frames:  2638  found with (before cropping) frame dimensions:  1280 720\n",
      "Starting to extract posture\n"
     ]
    },
    {
     "name": "stderr",
     "output_type": "stream",
     "text": [
      "2652it [02:52, 14.89it/s]                          "
     ]
    },
    {
     "name": "stdout",
     "output_type": "stream",
     "text": [
      "Detected frames:  2638\n"
     ]
    },
    {
     "name": "stderr",
     "output_type": "stream",
     "text": [
      "2652it [02:53, 15.32it/s]\n",
      "  0%|          | 0/12759 [00:00<?, ?it/s]"
     ]
    },
    {
     "name": "stdout",
     "output_type": "stream",
     "text": [
      "Saving results in /storage/gs/rat-emotion/videos/24fps-shortened...\n",
      "Starting to analyze %  /storage/gs/rat-emotion/videos/24fps-shortened/rat6-control1.mp4\n",
      "Loading  /storage/gs/rat-emotion/videos/24fps-shortened/rat6-control1.mp4\n",
      "Duration of video [s]:  531.79 , recorded with  23.99 fps!\n",
      "Overall # of frames:  12759  found with (before cropping) frame dimensions:  1280 720\n",
      "Starting to extract posture\n"
     ]
    },
    {
     "name": "stderr",
     "output_type": "stream",
     "text": [
      "12827it [13:47, 15.36it/s]                           "
     ]
    },
    {
     "name": "stdout",
     "output_type": "stream",
     "text": [
      "Detected frames:  12759\n"
     ]
    },
    {
     "name": "stderr",
     "output_type": "stream",
     "text": [
      "12827it [13:51, 15.43it/s]\n",
      "  0%|          | 0/10684 [00:00<?, ?it/s]"
     ]
    },
    {
     "name": "stdout",
     "output_type": "stream",
     "text": [
      "Saving results in /storage/gs/rat-emotion/videos/24fps-shortened...\n",
      "Starting to analyze %  /storage/gs/rat-emotion/videos/24fps-shortened/rat7-lps1.mp4\n",
      "Loading  /storage/gs/rat-emotion/videos/24fps-shortened/rat7-lps1.mp4\n",
      "Duration of video [s]:  445.33 , recorded with  23.99 fps!\n",
      "Overall # of frames:  10684  found with (before cropping) frame dimensions:  1280 720\n",
      "Starting to extract posture\n"
     ]
    },
    {
     "name": "stderr",
     "output_type": "stream",
     "text": [
      "10706it [11:27, 15.47it/s]                           "
     ]
    },
    {
     "name": "stdout",
     "output_type": "stream",
     "text": [
      "Detected frames:  10684\n"
     ]
    },
    {
     "name": "stderr",
     "output_type": "stream",
     "text": [
      "10706it [11:32, 15.46it/s]\n",
      "  0%|          | 0/12771 [00:00<?, ?it/s]"
     ]
    },
    {
     "name": "stdout",
     "output_type": "stream",
     "text": [
      "Saving results in /storage/gs/rat-emotion/videos/24fps-shortened...\n",
      "Starting to analyze %  /storage/gs/rat-emotion/videos/24fps-shortened/rat8-lps1.mp4\n",
      "Loading  /storage/gs/rat-emotion/videos/24fps-shortened/rat8-lps1.mp4\n",
      "Duration of video [s]:  532.29 , recorded with  23.99 fps!\n",
      "Overall # of frames:  12771  found with (before cropping) frame dimensions:  1280 720\n",
      "Starting to extract posture\n"
     ]
    },
    {
     "name": "stderr",
     "output_type": "stream",
     "text": [
      "12827it [13:37, 15.79it/s]                           "
     ]
    },
    {
     "name": "stdout",
     "output_type": "stream",
     "text": [
      "Detected frames:  12771\n"
     ]
    },
    {
     "name": "stderr",
     "output_type": "stream",
     "text": [
      "12827it [13:42, 15.59it/s]\n",
      "  0%|          | 0/3035 [00:00<?, ?it/s]"
     ]
    },
    {
     "name": "stdout",
     "output_type": "stream",
     "text": [
      "Saving results in /storage/gs/rat-emotion/videos/24fps-shortened...\n",
      "Starting to analyze %  /storage/gs/rat-emotion/videos/24fps-shortened/rat3-lps2.mp4\n",
      "Loading  /storage/gs/rat-emotion/videos/24fps-shortened/rat3-lps2.mp4\n",
      "Duration of video [s]:  126.62 , recorded with  23.97 fps!\n",
      "Overall # of frames:  3035  found with (before cropping) frame dimensions:  1280 720\n",
      "Starting to extract posture\n"
     ]
    },
    {
     "name": "stderr",
     "output_type": "stream",
     "text": [
      "3060it [03:13, 15.94it/s]                          "
     ]
    },
    {
     "name": "stdout",
     "output_type": "stream",
     "text": [
      "Detected frames:  3035\n"
     ]
    },
    {
     "name": "stderr",
     "output_type": "stream",
     "text": [
      "3060it [03:14, 15.70it/s]\n",
      "  0%|          | 0/12771 [00:00<?, ?it/s]"
     ]
    },
    {
     "name": "stdout",
     "output_type": "stream",
     "text": [
      "Saving results in /storage/gs/rat-emotion/videos/24fps-shortened...\n",
      "Starting to analyze %  /storage/gs/rat-emotion/videos/24fps-shortened/rat7-control3.mp4\n",
      "Loading  /storage/gs/rat-emotion/videos/24fps-shortened/rat7-control3.mp4\n",
      "Duration of video [s]:  532.29 , recorded with  23.99 fps!\n",
      "Overall # of frames:  12771  found with (before cropping) frame dimensions:  1280 720\n",
      "Starting to extract posture\n"
     ]
    },
    {
     "name": "stderr",
     "output_type": "stream",
     "text": [
      "12827it [13:49, 15.27it/s]                           "
     ]
    },
    {
     "name": "stdout",
     "output_type": "stream",
     "text": [
      "Detected frames:  12771\n"
     ]
    },
    {
     "name": "stderr",
     "output_type": "stream",
     "text": [
      "12827it [13:54, 15.37it/s]\n",
      "  0%|          | 0/1491 [00:00<?, ?it/s]"
     ]
    },
    {
     "name": "stdout",
     "output_type": "stream",
     "text": [
      "Saving results in /storage/gs/rat-emotion/videos/24fps-shortened...\n",
      "Starting to analyze %  /storage/gs/rat-emotion/videos/24fps-shortened/rat6-control5.mp4\n",
      "Loading  /storage/gs/rat-emotion/videos/24fps-shortened/rat6-control5.mp4\n",
      "Duration of video [s]:  62.29 , recorded with  23.94 fps!\n",
      "Overall # of frames:  1491  found with (before cropping) frame dimensions:  1280 720\n",
      "Starting to extract posture\n"
     ]
    },
    {
     "name": "stderr",
     "output_type": "stream",
     "text": [
      "1498it [01:37, 15.14it/s]                          "
     ]
    },
    {
     "name": "stdout",
     "output_type": "stream",
     "text": [
      "Detected frames:  1491\n"
     ]
    },
    {
     "name": "stderr",
     "output_type": "stream",
     "text": [
      "1498it [01:38, 15.28it/s]\n",
      "  0%|          | 0/2305 [00:00<?, ?it/s]"
     ]
    },
    {
     "name": "stdout",
     "output_type": "stream",
     "text": [
      "Saving results in /storage/gs/rat-emotion/videos/24fps-shortened...\n",
      "Starting to analyze %  /storage/gs/rat-emotion/videos/24fps-shortened/rat9-lps2.mp4\n",
      "Loading  /storage/gs/rat-emotion/videos/24fps-shortened/rat9-lps2.mp4\n",
      "Duration of video [s]:  96.21 , recorded with  23.96 fps!\n",
      "Overall # of frames:  2305  found with (before cropping) frame dimensions:  1280 720\n",
      "Starting to extract posture\n"
     ]
    },
    {
     "name": "stderr",
     "output_type": "stream",
     "text": [
      "2323it [02:28, 15.12it/s]                          "
     ]
    },
    {
     "name": "stdout",
     "output_type": "stream",
     "text": [
      "Detected frames:  2305\n"
     ]
    },
    {
     "name": "stderr",
     "output_type": "stream",
     "text": [
      "2323it [02:29, 15.57it/s]\n",
      "  0%|          | 0/12759 [00:00<?, ?it/s]"
     ]
    },
    {
     "name": "stdout",
     "output_type": "stream",
     "text": [
      "Saving results in /storage/gs/rat-emotion/videos/24fps-shortened...\n",
      "Starting to analyze %  /storage/gs/rat-emotion/videos/24fps-shortened/rat2-control3.mp4\n",
      "Loading  /storage/gs/rat-emotion/videos/24fps-shortened/rat2-control3.mp4\n",
      "Duration of video [s]:  531.79 , recorded with  23.99 fps!\n",
      "Overall # of frames:  12759  found with (before cropping) frame dimensions:  1280 720\n",
      "Starting to extract posture\n"
     ]
    },
    {
     "name": "stderr",
     "output_type": "stream",
     "text": [
      "12827it [13:49, 15.20it/s]                           "
     ]
    },
    {
     "name": "stdout",
     "output_type": "stream",
     "text": [
      "Detected frames:  12759\n"
     ]
    },
    {
     "name": "stderr",
     "output_type": "stream",
     "text": [
      "12827it [13:53, 15.40it/s]\n",
      "  0%|          | 0/12759 [00:00<?, ?it/s]"
     ]
    },
    {
     "name": "stdout",
     "output_type": "stream",
     "text": [
      "Saving results in /storage/gs/rat-emotion/videos/24fps-shortened...\n",
      "Starting to analyze %  /storage/gs/rat-emotion/videos/24fps-shortened/rat9-lps1.mp4\n",
      "Loading  /storage/gs/rat-emotion/videos/24fps-shortened/rat9-lps1.mp4\n",
      "Duration of video [s]:  531.79 , recorded with  23.99 fps!\n",
      "Overall # of frames:  12759  found with (before cropping) frame dimensions:  1280 720\n",
      "Starting to extract posture\n"
     ]
    },
    {
     "name": "stderr",
     "output_type": "stream",
     "text": [
      "12827it [13:42, 15.39it/s]                           "
     ]
    },
    {
     "name": "stdout",
     "output_type": "stream",
     "text": [
      "Detected frames:  12759\n"
     ]
    },
    {
     "name": "stderr",
     "output_type": "stream",
     "text": [
      "12827it [13:46, 15.51it/s]\n",
      "  0%|          | 0/1829 [00:00<?, ?it/s]"
     ]
    },
    {
     "name": "stdout",
     "output_type": "stream",
     "text": [
      "Saving results in /storage/gs/rat-emotion/videos/24fps-shortened...\n",
      "Starting to analyze %  /storage/gs/rat-emotion/videos/24fps-shortened/rat2-lps2.mp4\n",
      "Loading  /storage/gs/rat-emotion/videos/24fps-shortened/rat2-lps2.mp4\n",
      "Duration of video [s]:  76.38 , recorded with  23.95 fps!\n",
      "Overall # of frames:  1829  found with (before cropping) frame dimensions:  1280 720\n",
      "Starting to extract posture\n"
     ]
    },
    {
     "name": "stderr",
     "output_type": "stream",
     "text": [
      "1836it [01:56, 15.11it/s]                          "
     ]
    },
    {
     "name": "stdout",
     "output_type": "stream",
     "text": [
      "Detected frames:  1829\n"
     ]
    },
    {
     "name": "stderr",
     "output_type": "stream",
     "text": [
      "1836it [01:57, 15.66it/s]\n",
      "  0%|          | 0/5210 [00:00<?, ?it/s]"
     ]
    },
    {
     "name": "stdout",
     "output_type": "stream",
     "text": [
      "Saving results in /storage/gs/rat-emotion/videos/24fps-shortened...\n",
      "Starting to analyze %  /storage/gs/rat-emotion/videos/24fps-shortened/rat1-control2.mp4\n",
      "Video already analyzed! /tmp/tmpyo6uscdq/analyzed_videos/rat1-control2DLC_resnet50_Darknet-MousePoseJun9shuffle1_80000.h5\n",
      "Starting to analyze %  /storage/gs/rat-emotion/videos/24fps-shortened/rat8-lps2.mp4\n",
      "Loading  /storage/gs/rat-emotion/videos/24fps-shortened/rat8-lps2.mp4\n",
      "Duration of video [s]:  217.25 , recorded with  23.98 fps!\n",
      "Overall # of frames:  5210  found with (before cropping) frame dimensions:  1280 720\n",
      "Starting to extract posture\n"
     ]
    },
    {
     "name": "stderr",
     "output_type": "stream",
     "text": [
      "5252it [05:34, 15.31it/s]                          "
     ]
    },
    {
     "name": "stdout",
     "output_type": "stream",
     "text": [
      "Detected frames:  5210\n"
     ]
    },
    {
     "name": "stderr",
     "output_type": "stream",
     "text": [
      "5252it [05:35, 15.65it/s]\n",
      "  0%|          | 0/1214 [00:00<?, ?it/s]"
     ]
    },
    {
     "name": "stdout",
     "output_type": "stream",
     "text": [
      "Saving results in /storage/gs/rat-emotion/videos/24fps-shortened...\n",
      "Starting to analyze %  /storage/gs/rat-emotion/videos/24fps-shortened/rat4-lps2.mp4\n",
      "Loading  /storage/gs/rat-emotion/videos/24fps-shortened/rat4-lps2.mp4\n",
      "Duration of video [s]:  50.75 , recorded with  23.92 fps!\n",
      "Overall # of frames:  1214  found with (before cropping) frame dimensions:  1280 720\n",
      "Starting to extract posture\n"
     ]
    },
    {
     "name": "stderr",
     "output_type": "stream",
     "text": [
      "1224it [01:19, 16.31it/s]                          "
     ]
    },
    {
     "name": "stdout",
     "output_type": "stream",
     "text": [
      "Detected frames:  1214\n"
     ]
    },
    {
     "name": "stderr",
     "output_type": "stream",
     "text": [
      "1224it [01:19, 15.37it/s]\n",
      "  0%|          | 0/12759 [00:00<?, ?it/s]"
     ]
    },
    {
     "name": "stdout",
     "output_type": "stream",
     "text": [
      "Saving results in /storage/gs/rat-emotion/videos/24fps-shortened...\n",
      "Starting to analyze %  /storage/gs/rat-emotion/videos/24fps-shortened/rat2-lps3.mp4\n",
      "Loading  /storage/gs/rat-emotion/videos/24fps-shortened/rat2-lps3.mp4\n",
      "Duration of video [s]:  531.79 , recorded with  23.99 fps!\n",
      "Overall # of frames:  12759  found with (before cropping) frame dimensions:  1280 720\n",
      "Starting to extract posture\n"
     ]
    },
    {
     "name": "stderr",
     "output_type": "stream",
     "text": [
      "12827it [13:35, 15.56it/s]                           "
     ]
    },
    {
     "name": "stdout",
     "output_type": "stream",
     "text": [
      "Detected frames:  12759\n"
     ]
    },
    {
     "name": "stderr",
     "output_type": "stream",
     "text": [
      "12827it [13:39, 15.65it/s]\n",
      "  0%|          | 0/12496 [00:00<?, ?it/s]"
     ]
    },
    {
     "name": "stdout",
     "output_type": "stream",
     "text": [
      "Saving results in /storage/gs/rat-emotion/videos/24fps-shortened...\n",
      "Starting to analyze %  /storage/gs/rat-emotion/videos/24fps-shortened/rat6-control3.mp4\n",
      "Loading  /storage/gs/rat-emotion/videos/24fps-shortened/rat6-control3.mp4\n",
      "Duration of video [s]:  520.83 , recorded with  23.99 fps!\n",
      "Overall # of frames:  12496  found with (before cropping) frame dimensions:  1280 720\n",
      "Starting to extract posture\n"
     ]
    },
    {
     "name": "stderr",
     "output_type": "stream",
     "text": [
      "12524it [13:37, 15.32it/s]                           \n",
      "  0%|          | 0/12771 [00:00<?, ?it/s]"
     ]
    },
    {
     "name": "stdout",
     "output_type": "stream",
     "text": [
      "Detected frames:  12496\n",
      "Saving results in /storage/gs/rat-emotion/videos/24fps-shortened...\n",
      "Starting to analyze %  /storage/gs/rat-emotion/videos/24fps-shortened/rat8-control1.mp4\n",
      "Loading  /storage/gs/rat-emotion/videos/24fps-shortened/rat8-control1.mp4\n",
      "Duration of video [s]:  532.29 , recorded with  23.99 fps!\n",
      "Overall # of frames:  12771  found with (before cropping) frame dimensions:  1280 720\n",
      "Starting to extract posture\n"
     ]
    },
    {
     "name": "stderr",
     "output_type": "stream",
     "text": [
      "12827it [13:48, 15.33it/s]                           "
     ]
    },
    {
     "name": "stdout",
     "output_type": "stream",
     "text": [
      "Detected frames:  12771\n"
     ]
    },
    {
     "name": "stderr",
     "output_type": "stream",
     "text": [
      "12827it [13:53, 15.39it/s]\n",
      "  0%|          | 0/2210 [00:00<?, ?it/s]"
     ]
    },
    {
     "name": "stdout",
     "output_type": "stream",
     "text": [
      "Saving results in /storage/gs/rat-emotion/videos/24fps-shortened...\n",
      "Starting to analyze %  /storage/gs/rat-emotion/videos/24fps-shortened/rat2-lps4.mp4\n",
      "Loading  /storage/gs/rat-emotion/videos/24fps-shortened/rat2-lps4.mp4\n",
      "Duration of video [s]:  92.25 , recorded with  23.96 fps!\n",
      "Overall # of frames:  2210  found with (before cropping) frame dimensions:  1280 720\n",
      "Starting to extract posture\n"
     ]
    },
    {
     "name": "stderr",
     "output_type": "stream",
     "text": [
      "2222it [02:21, 14.32it/s]                          "
     ]
    },
    {
     "name": "stdout",
     "output_type": "stream",
     "text": [
      "Detected frames:  2210\n"
     ]
    },
    {
     "name": "stderr",
     "output_type": "stream",
     "text": [
      "2222it [02:22, 15.54it/s]\n",
      "  0%|          | 0/6906 [00:00<?, ?it/s]"
     ]
    },
    {
     "name": "stdout",
     "output_type": "stream",
     "text": [
      "Saving results in /storage/gs/rat-emotion/videos/24fps-shortened...\n",
      "Starting to analyze %  /storage/gs/rat-emotion/videos/24fps-shortened/rat7-lps2.mp4\n",
      "Loading  /storage/gs/rat-emotion/videos/24fps-shortened/rat7-lps2.mp4\n",
      "Duration of video [s]:  287.92 , recorded with  23.99 fps!\n",
      "Overall # of frames:  6906  found with (before cropping) frame dimensions:  1280 720\n",
      "Starting to extract posture\n"
     ]
    },
    {
     "name": "stderr",
     "output_type": "stream",
     "text": [
      "6969it [07:26, 15.22it/s]                          "
     ]
    },
    {
     "name": "stdout",
     "output_type": "stream",
     "text": [
      "Detected frames:  6906\n"
     ]
    },
    {
     "name": "stderr",
     "output_type": "stream",
     "text": [
      "6969it [07:27, 15.58it/s]\n",
      "  0%|          | 0/12759 [00:00<?, ?it/s]"
     ]
    },
    {
     "name": "stdout",
     "output_type": "stream",
     "text": [
      "Saving results in /storage/gs/rat-emotion/videos/24fps-shortened...\n",
      "Starting to analyze %  /storage/gs/rat-emotion/videos/24fps-shortened/rat1-control3.mp4\n",
      "Video already analyzed! /tmp/tmpyo6uscdq/analyzed_videos/rat1-control3DLC_resnet50_Darknet-MousePoseJun9shuffle1_80000.h5\n",
      "Starting to analyze %  /storage/gs/rat-emotion/videos/24fps-shortened/rat9-control1.mp4\n",
      "Loading  /storage/gs/rat-emotion/videos/24fps-shortened/rat9-control1.mp4\n",
      "Duration of video [s]:  531.79 , recorded with  23.99 fps!\n",
      "Overall # of frames:  12759  found with (before cropping) frame dimensions:  1280 720\n",
      "Starting to extract posture\n"
     ]
    },
    {
     "name": "stderr",
     "output_type": "stream",
     "text": [
      "12827it [13:50, 15.45it/s]                           "
     ]
    },
    {
     "name": "stdout",
     "output_type": "stream",
     "text": [
      "Detected frames:  12759\n"
     ]
    },
    {
     "name": "stderr",
     "output_type": "stream",
     "text": [
      "12827it [13:54, 15.36it/s]\n",
      "  0%|          | 0/1870 [00:00<?, ?it/s]"
     ]
    },
    {
     "name": "stdout",
     "output_type": "stream",
     "text": [
      "Saving results in /storage/gs/rat-emotion/videos/24fps-shortened...\n",
      "Starting to analyze %  /storage/gs/rat-emotion/videos/24fps-shortened/rat6-lps2.mp4\n",
      "Loading  /storage/gs/rat-emotion/videos/24fps-shortened/rat6-lps2.mp4\n",
      "Duration of video [s]:  78.08 , recorded with  23.95 fps!\n",
      "Overall # of frames:  1870  found with (before cropping) frame dimensions:  1280 720\n",
      "Starting to extract posture\n"
     ]
    },
    {
     "name": "stderr",
     "output_type": "stream",
     "text": [
      "1872it [01:59, 15.81it/s]                          "
     ]
    },
    {
     "name": "stdout",
     "output_type": "stream",
     "text": [
      "Detected frames:  1870\n"
     ]
    },
    {
     "name": "stderr",
     "output_type": "stream",
     "text": [
      "1872it [02:00, 15.48it/s]\n",
      "  0%|          | 0/12759 [00:00<?, ?it/s]"
     ]
    },
    {
     "name": "stdout",
     "output_type": "stream",
     "text": [
      "Saving results in /storage/gs/rat-emotion/videos/24fps-shortened...\n",
      "Starting to analyze %  /storage/gs/rat-emotion/videos/24fps-shortened/rat3-control1.mp4\n",
      "Loading  /storage/gs/rat-emotion/videos/24fps-shortened/rat3-control1.mp4\n",
      "Duration of video [s]:  531.79 , recorded with  23.99 fps!\n",
      "Overall # of frames:  12759  found with (before cropping) frame dimensions:  1280 720\n",
      "Starting to extract posture\n"
     ]
    },
    {
     "name": "stderr",
     "output_type": "stream",
     "text": [
      "12827it [13:49, 15.30it/s]                           "
     ]
    },
    {
     "name": "stdout",
     "output_type": "stream",
     "text": [
      "Detected frames:  12759\n"
     ]
    },
    {
     "name": "stderr",
     "output_type": "stream",
     "text": [
      "12827it [13:53, 15.39it/s]\n",
      "  0%|          | 0/12759 [00:00<?, ?it/s]"
     ]
    },
    {
     "name": "stdout",
     "output_type": "stream",
     "text": [
      "Saving results in /storage/gs/rat-emotion/videos/24fps-shortened...\n",
      "Starting to analyze %  /storage/gs/rat-emotion/videos/24fps-shortened/rat2-lps1.mp4\n",
      "Loading  /storage/gs/rat-emotion/videos/24fps-shortened/rat2-lps1.mp4\n",
      "Duration of video [s]:  531.79 , recorded with  23.99 fps!\n",
      "Overall # of frames:  12759  found with (before cropping) frame dimensions:  1280 720\n",
      "Starting to extract posture\n"
     ]
    },
    {
     "name": "stderr",
     "output_type": "stream",
     "text": [
      "12827it [13:30, 15.63it/s]                           "
     ]
    },
    {
     "name": "stdout",
     "output_type": "stream",
     "text": [
      "Detected frames:  12759\n"
     ]
    },
    {
     "name": "stderr",
     "output_type": "stream",
     "text": [
      "12827it [13:34, 15.75it/s]\n",
      "  0%|          | 0/1608 [00:00<?, ?it/s]"
     ]
    },
    {
     "name": "stdout",
     "output_type": "stream",
     "text": [
      "Saving results in /storage/gs/rat-emotion/videos/24fps-shortened...\n",
      "Starting to analyze %  /storage/gs/rat-emotion/videos/24fps-shortened/rat3-control4.mp4\n",
      "Loading  /storage/gs/rat-emotion/videos/24fps-shortened/rat3-control4.mp4\n",
      "Duration of video [s]:  67.17 , recorded with  23.94 fps!\n",
      "Overall # of frames:  1608  found with (before cropping) frame dimensions:  1280 720\n",
      "Starting to extract posture\n"
     ]
    },
    {
     "name": "stderr",
     "output_type": "stream",
     "text": [
      "1616it [01:45, 15.32it/s]                          \n",
      "  0%|          | 0/2680 [00:00<?, ?it/s]"
     ]
    },
    {
     "name": "stdout",
     "output_type": "stream",
     "text": [
      "Detected frames:  1608\n",
      "Saving results in /storage/gs/rat-emotion/videos/24fps-shortened...\n",
      "Starting to analyze %  /storage/gs/rat-emotion/videos/24fps-shortened/rat9-control2.mp4\n",
      "Loading  /storage/gs/rat-emotion/videos/24fps-shortened/rat9-control2.mp4\n",
      "Duration of video [s]:  111.83 , recorded with  23.96 fps!\n",
      "Overall # of frames:  2680  found with (before cropping) frame dimensions:  1280 720\n",
      "Starting to extract posture\n"
     ]
    },
    {
     "name": "stderr",
     "output_type": "stream",
     "text": [
      "2704it [02:55, 15.40it/s]                          \n",
      "  0%|          | 0/12771 [00:00<?, ?it/s]"
     ]
    },
    {
     "name": "stdout",
     "output_type": "stream",
     "text": [
      "Detected frames:  2680\n",
      "Saving results in /storage/gs/rat-emotion/videos/24fps-shortened...\n",
      "Starting to analyze %  /storage/gs/rat-emotion/videos/24fps-shortened/rat6-lps1.mp4\n",
      "Loading  /storage/gs/rat-emotion/videos/24fps-shortened/rat6-lps1.mp4\n",
      "Duration of video [s]:  532.29 , recorded with  23.99 fps!\n",
      "Overall # of frames:  12771  found with (before cropping) frame dimensions:  1280 720\n",
      "Starting to extract posture\n"
     ]
    },
    {
     "name": "stderr",
     "output_type": "stream",
     "text": [
      "12827it [13:41, 15.59it/s]                           "
     ]
    },
    {
     "name": "stdout",
     "output_type": "stream",
     "text": [
      "Detected frames:  12771\n"
     ]
    },
    {
     "name": "stderr",
     "output_type": "stream",
     "text": [
      "12827it [13:46, 15.52it/s]\n",
      "  0%|          | 0/2342 [00:00<?, ?it/s]"
     ]
    },
    {
     "name": "stdout",
     "output_type": "stream",
     "text": [
      "Saving results in /storage/gs/rat-emotion/videos/24fps-shortened...\n",
      "Starting to analyze %  /storage/gs/rat-emotion/videos/24fps-shortened/rat2-control2.mp4\n",
      "Loading  /storage/gs/rat-emotion/videos/24fps-shortened/rat2-control2.mp4\n",
      "Duration of video [s]:  97.75 , recorded with  23.96 fps!\n",
      "Overall # of frames:  2342  found with (before cropping) frame dimensions:  1280 720\n",
      "Starting to extract posture\n"
     ]
    },
    {
     "name": "stderr",
     "output_type": "stream",
     "text": [
      "2346it [02:31, 14.87it/s]                          "
     ]
    },
    {
     "name": "stdout",
     "output_type": "stream",
     "text": [
      "Detected frames:  2342\n"
     ]
    },
    {
     "name": "stderr",
     "output_type": "stream",
     "text": [
      "2346it [02:32, 15.34it/s]"
     ]
    },
    {
     "name": "stdout",
     "output_type": "stream",
     "text": [
      "Saving results in /storage/gs/rat-emotion/videos/24fps-shortened...\n",
      "Starting to analyze %  /storage/gs/rat-emotion/videos/24fps-shortened/rat1-control4.mp4\n",
      "Video already analyzed! /tmp/tmpyo6uscdq/analyzed_videos/rat1-control4DLC_resnet50_Darknet-MousePoseJun9shuffle1_80000.h5\n",
      "The videos are analyzed. Now your research can truly start! \n",
      " You can create labeled videos with 'create_labeled_video'.\n",
      "If the tracking is not satisfactory for some videos, consider expanding the training set. You can use the function 'extract_outlier_frames' to extract any outlier frames!\n"
     ]
    },
    {
     "name": "stderr",
     "output_type": "stream",
     "text": [
      "\n"
     ]
    },
    {
     "data": {
      "text/plain": [
       "'DLC_resnet50_Darknet-MousePoseJun9shuffle1_80000'"
      ]
     },
     "execution_count": 16,
     "metadata": {},
     "output_type": "execute_result"
    }
   ],
   "source": [
    "deeplabcut.analyze_videos(config_path, videos, destfolder=dest_path)"
   ]
  },
  {
   "cell_type": "markdown",
   "metadata": {},
   "source": [
    "# Upload Analyzed Videos to GCloud"
   ]
  },
  {
   "cell_type": "code",
   "execution_count": 32,
   "metadata": {},
   "outputs": [
    {
     "name": "stdout",
     "output_type": "stream",
     "text": [
      "gs://rat-emotion/dlc/Darknet-MousePose-AndreTelfer-2020-06-09/\n",
      "gs://rat-emotion/dlc/frames-to-label/\n"
     ]
    }
   ],
   "source": [
    "! gsutil ls gs://rat-emotion/dlc"
   ]
  },
  {
   "cell_type": "code",
   "execution_count": 33,
   "metadata": {},
   "outputs": [
    {
     "name": "stdout",
     "output_type": "stream",
     "text": [
      "Copying file:///tmp/tmpyo6uscdq/analyzed_videos/rat5-control2DLC_resnet50_Darknet-MousePoseJun9shuffle1_80000includingmetadata.pickle [Content-Type=application/octet-stream]...\n",
      "Copying file:///tmp/tmpyo6uscdq/analyzed_videos/rat7-control4DLC_resnet50_Darknet-MousePoseJun9shuffle1_80000includingmetadata.pickle [Content-Type=application/octet-stream]...\n",
      "Copying file:///tmp/tmpyo6uscdq/analyzed_videos/rat5-control2DLC_resnet50_Darknet-MousePoseJun9shuffle1_80000.h5 [Content-Type=application/octet-stream]...\n",
      "Copying file:///tmp/tmpyo6uscdq/analyzed_videos/rat3-lps1DLC_resnet50_Darknet-MousePoseJun9shuffle1_80000.h5 [Content-Type=application/octet-stream]...\n",
      "- [4 files][  5.6 MiB/  5.6 MiB]                                                \n",
      "==> NOTE: You are performing a sequence of gsutil operations that may\n",
      "run significantly faster if you instead use gsutil -m cp ... Please\n",
      "see the -m section under \"gsutil help options\" for further information\n",
      "about when gsutil -m can be advantageous.\n",
      "\n",
      "Copying file:///tmp/tmpyo6uscdq/analyzed_videos/rat6-control1DLC_resnet50_Darknet-MousePoseJun9shuffle1_80000includingmetadata.pickle [Content-Type=application/octet-stream]...\n",
      "Copying file:///tmp/tmpyo6uscdq/analyzed_videos/rat8-control1DLC_resnet50_Darknet-MousePoseJun9shuffle1_80000includingmetadata.pickle [Content-Type=application/octet-stream]...\n",
      "Copying file:///tmp/tmpyo6uscdq/analyzed_videos/rat7-control2DLC_resnet50_Darknet-MousePoseJun9shuffle1_80000includingmetadata.pickle [Content-Type=application/octet-stream]...\n",
      "Copying file:///tmp/tmpyo6uscdq/analyzed_videos/rat7-lps2DLC_resnet50_Darknet-MousePoseJun9shuffle1_80000includingmetadata.pickle [Content-Type=application/octet-stream]...\n",
      "Copying file:///tmp/tmpyo6uscdq/analyzed_videos/rat1-control3DLC_resnet50_Darknet-MousePoseJun9shuffle1_80000.h5 [Content-Type=application/octet-stream]...\n",
      "Copying file:///tmp/tmpyo6uscdq/analyzed_videos/rat2-lps4DLC_resnet50_Darknet-MousePoseJun9shuffle1_80000includingmetadata.pickle [Content-Type=application/octet-stream]...\n",
      "Copying file:///tmp/tmpyo6uscdq/analyzed_videos/rat7-lps1DLC_resnet50_Darknet-MousePoseJun9shuffle1_80000.h5 [Content-Type=application/octet-stream]...\n",
      "Copying file:///tmp/tmpyo6uscdq/analyzed_videos/rat6-control3DLC_resnet50_Darknet-MousePoseJun9shuffle1_80000.h5 [Content-Type=application/octet-stream]...\n",
      "Copying file:///tmp/tmpyo6uscdq/analyzed_videos/rat9-control2DLC_resnet50_Darknet-MousePoseJun9shuffle1_80000.h5 [Content-Type=application/octet-stream]...\n",
      "Copying file:///tmp/tmpyo6uscdq/analyzed_videos/rat8-control2DLC_resnet50_Darknet-MousePoseJun9shuffle1_80000includingmetadata.pickle [Content-Type=application/octet-stream]...\n",
      "Copying file:///tmp/tmpyo6uscdq/analyzed_videos/rat8-lps1DLC_resnet50_Darknet-MousePoseJun9shuffle1_80000.h5 [Content-Type=application/octet-stream]...\n",
      "Copying file:///tmp/tmpyo6uscdq/analyzed_videos/rat7-lps1DLC_resnet50_Darknet-MousePoseJun9shuffle1_80000includingmetadata.pickle [Content-Type=application/octet-stream]...\n",
      "Copying file:///tmp/tmpyo6uscdq/analyzed_videos/rat5-lps2DLC_resnet50_Darknet-MousePoseJun9shuffle1_80000includingmetadata.pickle [Content-Type=application/octet-stream]...\n",
      "Copying file:///tmp/tmpyo6uscdq/analyzed_videos/rat6-control4DLC_resnet50_Darknet-MousePoseJun9shuffle1_80000.h5 [Content-Type=application/octet-stream]...\n",
      "Copying file:///tmp/tmpyo6uscdq/analyzed_videos/rat9-lps2DLC_resnet50_Darknet-MousePoseJun9shuffle1_80000.h5 [Content-Type=application/octet-stream]...\n",
      "Copying file:///tmp/tmpyo6uscdq/analyzed_videos/rat1-control4DLC_resnet50_Darknet-MousePoseJun9shuffle1_80000includingmetadata.pickle [Content-Type=application/octet-stream]...\n",
      "Copying file:///tmp/tmpyo6uscdq/analyzed_videos/rat2-control2DLC_resnet50_Darknet-MousePoseJun9shuffle1_80000includingmetadata.pickle [Content-Type=application/octet-stream]...\n",
      "Copying file:///tmp/tmpyo6uscdq/analyzed_videos/rat6-lps2DLC_resnet50_Darknet-MousePoseJun9shuffle1_80000.h5 [Content-Type=application/octet-stream]...\n",
      "Copying file:///tmp/tmpyo6uscdq/analyzed_videos/rat7-control3DLC_resnet50_Darknet-MousePoseJun9shuffle1_80000.h5 [Content-Type=application/octet-stream]...\n",
      "Copying file:///tmp/tmpyo6uscdq/analyzed_videos/rat2-control3DLC_resnet50_Darknet-MousePoseJun9shuffle1_80000includingmetadata.pickle [Content-Type=application/octet-stream]...\n",
      "Copying file:///tmp/tmpyo6uscdq/analyzed_videos/rat8-lps2DLC_resnet50_Darknet-MousePoseJun9shuffle1_80000includingmetadata.pickle [Content-Type=application/octet-stream]...\n",
      "Copying file:///tmp/tmpyo6uscdq/analyzed_videos/rat2-control4DLC_resnet50_Darknet-MousePoseJun9shuffle1_80000includingmetadata.pickle [Content-Type=application/octet-stream]...\n",
      "Copying file:///tmp/tmpyo6uscdq/analyzed_videos/rat3-control1DLC_resnet50_Darknet-MousePoseJun9shuffle1_80000.h5 [Content-Type=application/octet-stream]...\n",
      "Copying file:///tmp/tmpyo6uscdq/analyzed_videos/rat3-control2DLC_resnet50_Darknet-MousePoseJun9shuffle1_80000.h5 [Content-Type=application/octet-stream]...\n",
      "Copying file:///tmp/tmpyo6uscdq/analyzed_videos/rat1-control3DLC_resnet50_Darknet-MousePoseJun9shuffle1_80000includingmetadata.pickle [Content-Type=application/octet-stream]...\n",
      "Copying file:///tmp/tmpyo6uscdq/analyzed_videos/rat1-control1DLC_resnet50_Darknet-MousePoseJun9shuffle1_80000includingmetadata.pickle [Content-Type=application/octet-stream]...\n",
      "Copying file:///tmp/tmpyo6uscdq/analyzed_videos/rat6-control1DLC_resnet50_Darknet-MousePoseJun9shuffle1_80000.h5 [Content-Type=application/octet-stream]...\n",
      "Copying file:///tmp/tmpyo6uscdq/analyzed_videos/rat2-control3DLC_resnet50_Darknet-MousePoseJun9shuffle1_80000.h5 [Content-Type=application/octet-stream]...\n",
      "Copying file:///tmp/tmpyo6uscdq/analyzed_videos/rat4-lps1DLC_resnet50_Darknet-MousePoseJun9shuffle1_80000includingmetadata.pickle [Content-Type=application/octet-stream]...\n",
      "Copying file:///tmp/tmpyo6uscdq/analyzed_videos/rat3-lps2DLC_resnet50_Darknet-MousePoseJun9shuffle1_80000includingmetadata.pickle [Content-Type=application/octet-stream]...\n",
      "Copying file:///tmp/tmpyo6uscdq/analyzed_videos/rat8-lps2DLC_resnet50_Darknet-MousePoseJun9shuffle1_80000.h5 [Content-Type=application/octet-stream]...\n",
      "Copying file:///tmp/tmpyo6uscdq/analyzed_videos/rat2-control2DLC_resnet50_Darknet-MousePoseJun9shuffle1_80000.h5 [Content-Type=application/octet-stream]...\n",
      "Copying file:///tmp/tmpyo6uscdq/analyzed_videos/rat8-control2DLC_resnet50_Darknet-MousePoseJun9shuffle1_80000.h5 [Content-Type=application/octet-stream]...\n",
      "Copying file:///tmp/tmpyo6uscdq/analyzed_videos/rat7-control4DLC_resnet50_Darknet-MousePoseJun9shuffle1_80000.h5 [Content-Type=application/octet-stream]...\n",
      "Copying file:///tmp/tmpyo6uscdq/analyzed_videos/rat6-control2DLC_resnet50_Darknet-MousePoseJun9shuffle1_80000.h5 [Content-Type=application/octet-stream]...\n",
      "Copying file:///tmp/tmpyo6uscdq/analyzed_videos/rat1-control2DLC_resnet50_Darknet-MousePoseJun9shuffle1_80000.h5 [Content-Type=application/octet-stream]...\n",
      "Copying file:///tmp/tmpyo6uscdq/analyzed_videos/rat4-lps2DLC_resnet50_Darknet-MousePoseJun9shuffle1_80000.h5 [Content-Type=application/octet-stream]...\n",
      "Copying file:///tmp/tmpyo6uscdq/analyzed_videos/rat3-control2DLC_resnet50_Darknet-MousePoseJun9shuffle1_80000includingmetadata.pickle [Content-Type=application/octet-stream]...\n",
      "Copying file:///tmp/tmpyo6uscdq/analyzed_videos/rat8-lps1DLC_resnet50_Darknet-MousePoseJun9shuffle1_80000includingmetadata.pickle [Content-Type=application/octet-stream]...\n",
      "Copying file:///tmp/tmpyo6uscdq/analyzed_videos/rat3-control4DLC_resnet50_Darknet-MousePoseJun9shuffle1_80000includingmetadata.pickle [Content-Type=application/octet-stream]...\n",
      "Copying file:///tmp/tmpyo6uscdq/analyzed_videos/rat3-control3DLC_resnet50_Darknet-MousePoseJun9shuffle1_80000includingmetadata.pickle [Content-Type=application/octet-stream]...\n",
      "Copying file:///tmp/tmpyo6uscdq/analyzed_videos/rat6-control5DLC_resnet50_Darknet-MousePoseJun9shuffle1_80000.h5 [Content-Type=application/octet-stream]...\n",
      "Copying file:///tmp/tmpyo6uscdq/analyzed_videos/rat6-control5DLC_resnet50_Darknet-MousePoseJun9shuffle1_80000includingmetadata.pickle [Content-Type=application/octet-stream]...\n",
      "Copying file:///tmp/tmpyo6uscdq/analyzed_videos/rat5-lps1DLC_resnet50_Darknet-MousePoseJun9shuffle1_80000includingmetadata.pickle [Content-Type=application/octet-stream]...\n",
      "Copying file:///tmp/tmpyo6uscdq/analyzed_videos/rat2-lps3DLC_resnet50_Darknet-MousePoseJun9shuffle1_80000.h5 [Content-Type=application/octet-stream]...\n",
      "Copying file:///tmp/tmpyo6uscdq/analyzed_videos/rat6-lps1DLC_resnet50_Darknet-MousePoseJun9shuffle1_80000includingmetadata.pickle [Content-Type=application/octet-stream]...\n",
      "Copying file:///tmp/tmpyo6uscdq/analyzed_videos/rat3-lps2DLC_resnet50_Darknet-MousePoseJun9shuffle1_80000.h5 [Content-Type=application/octet-stream]...\n",
      "Copying file:///tmp/tmpyo6uscdq/analyzed_videos/rat6-control2DLC_resnet50_Darknet-MousePoseJun9shuffle1_80000includingmetadata.pickle [Content-Type=application/octet-stream]...\n",
      "Copying file:///tmp/tmpyo6uscdq/analyzed_videos/rat7-control3DLC_resnet50_Darknet-MousePoseJun9shuffle1_80000includingmetadata.pickle [Content-Type=application/octet-stream]...\n",
      "Copying file:///tmp/tmpyo6uscdq/analyzed_videos/rat6-lps1DLC_resnet50_Darknet-MousePoseJun9shuffle1_80000.h5 [Content-Type=application/octet-stream]...\n",
      "Copying file:///tmp/tmpyo6uscdq/analyzed_videos/rat4-control2DLC_resnet50_Darknet-MousePoseJun9shuffle1_80000.h5 [Content-Type=application/octet-stream]...\n",
      "Copying file:///tmp/tmpyo6uscdq/analyzed_videos/rat9-control1DLC_resnet50_Darknet-MousePoseJun9shuffle1_80000includingmetadata.pickle [Content-Type=application/octet-stream]...\n",
      "Copying file:///tmp/tmpyo6uscdq/analyzed_videos/rat3-lps1DLC_resnet50_Darknet-MousePoseJun9shuffle1_80000includingmetadata.pickle [Content-Type=application/octet-stream]...\n",
      "Copying file:///tmp/tmpyo6uscdq/analyzed_videos/rat7-control2DLC_resnet50_Darknet-MousePoseJun9shuffle1_80000.h5 [Content-Type=application/octet-stream]...\n",
      "Copying file:///tmp/tmpyo6uscdq/analyzed_videos/rat2-control1DLC_resnet50_Darknet-MousePoseJun9shuffle1_80000.h5 [Content-Type=application/octet-stream]...\n",
      "Copying file:///tmp/tmpyo6uscdq/analyzed_videos/rat3-control3DLC_resnet50_Darknet-MousePoseJun9shuffle1_80000.h5 [Content-Type=application/octet-stream]...\n",
      "Copying file:///tmp/tmpyo6uscdq/analyzed_videos/rat8-control1DLC_resnet50_Darknet-MousePoseJun9shuffle1_80000.h5 [Content-Type=application/octet-stream]...\n",
      "Copying file:///tmp/tmpyo6uscdq/analyzed_videos/rat2-lps1DLC_resnet50_Darknet-MousePoseJun9shuffle1_80000.h5 [Content-Type=application/octet-stream]...\n",
      "Copying file:///tmp/tmpyo6uscdq/analyzed_videos/rat7-control1DLC_resnet50_Darknet-MousePoseJun9shuffle1_80000includingmetadata.pickle [Content-Type=application/octet-stream]...\n",
      "Copying file:///tmp/tmpyo6uscdq/analyzed_videos/rat6-lps2DLC_resnet50_Darknet-MousePoseJun9shuffle1_80000includingmetadata.pickle [Content-Type=application/octet-stream]...\n",
      "Copying file:///tmp/tmpyo6uscdq/analyzed_videos/rat6-control4DLC_resnet50_Darknet-MousePoseJun9shuffle1_80000includingmetadata.pickle [Content-Type=application/octet-stream]...\n",
      "Copying file:///tmp/tmpyo6uscdq/analyzed_videos/rat9-lps1DLC_resnet50_Darknet-MousePoseJun9shuffle1_80000.h5 [Content-Type=application/octet-stream]...\n",
      "Copying file:///tmp/tmpyo6uscdq/analyzed_videos/rat2-lps2DLC_resnet50_Darknet-MousePoseJun9shuffle1_80000.h5 [Content-Type=application/octet-stream]...\n",
      "Copying file:///tmp/tmpyo6uscdq/analyzed_videos/rat9-lps1DLC_resnet50_Darknet-MousePoseJun9shuffle1_80000includingmetadata.pickle [Content-Type=application/octet-stream]...\n",
      "Copying file:///tmp/tmpyo6uscdq/analyzed_videos/rat5-control1DLC_resnet50_Darknet-MousePoseJun9shuffle1_80000includingmetadata.pickle [Content-Type=application/octet-stream]...\n",
      "Copying file:///tmp/tmpyo6uscdq/analyzed_videos/rat7-lps2DLC_resnet50_Darknet-MousePoseJun9shuffle1_80000.h5 [Content-Type=application/octet-stream]...\n",
      "Copying file:///tmp/tmpyo6uscdq/analyzed_videos/rat5-control1DLC_resnet50_Darknet-MousePoseJun9shuffle1_80000.h5 [Content-Type=application/octet-stream]...\n",
      "Copying file:///tmp/tmpyo6uscdq/analyzed_videos/rat1-control2DLC_resnet50_Darknet-MousePoseJun9shuffle1_80000includingmetadata.pickle [Content-Type=application/octet-stream]...\n",
      "Copying file:///tmp/tmpyo6uscdq/analyzed_videos/rat9-control1DLC_resnet50_Darknet-MousePoseJun9shuffle1_80000.h5 [Content-Type=application/octet-stream]...\n",
      "Copying file:///tmp/tmpyo6uscdq/analyzed_videos/rat1-control1DLC_resnet50_Darknet-MousePoseJun9shuffle1_80000.h5 [Content-Type=application/octet-stream]...\n",
      "Copying file:///tmp/tmpyo6uscdq/analyzed_videos/rat2-control4DLC_resnet50_Darknet-MousePoseJun9shuffle1_80000.h5 [Content-Type=application/octet-stream]...\n",
      "Copying file:///tmp/tmpyo6uscdq/analyzed_videos/rat3-control1DLC_resnet50_Darknet-MousePoseJun9shuffle1_80000includingmetadata.pickle [Content-Type=application/octet-stream]...\n",
      "Copying file:///tmp/tmpyo6uscdq/analyzed_videos/rat3-control4DLC_resnet50_Darknet-MousePoseJun9shuffle1_80000.h5 [Content-Type=application/octet-stream]...\n",
      "Copying file:///tmp/tmpyo6uscdq/analyzed_videos/rat4-control2DLC_resnet50_Darknet-MousePoseJun9shuffle1_80000includingmetadata.pickle [Content-Type=application/octet-stream]...\n",
      "Copying file:///tmp/tmpyo6uscdq/analyzed_videos/rat2-lps1DLC_resnet50_Darknet-MousePoseJun9shuffle1_80000includingmetadata.pickle [Content-Type=application/octet-stream]...\n",
      "Copying file:///tmp/tmpyo6uscdq/analyzed_videos/rat2-lps4DLC_resnet50_Darknet-MousePoseJun9shuffle1_80000.h5 [Content-Type=application/octet-stream]...\n",
      "Copying file:///tmp/tmpyo6uscdq/analyzed_videos/rat4-lps2DLC_resnet50_Darknet-MousePoseJun9shuffle1_80000includingmetadata.pickle [Content-Type=application/octet-stream]...\n",
      "Copying file:///tmp/tmpyo6uscdq/analyzed_videos/rat5-lps1DLC_resnet50_Darknet-MousePoseJun9shuffle1_80000.h5 [Content-Type=application/octet-stream]...\n",
      "Copying file:///tmp/tmpyo6uscdq/analyzed_videos/rat5-lps2DLC_resnet50_Darknet-MousePoseJun9shuffle1_80000.h5 [Content-Type=application/octet-stream]...\n",
      "Copying file:///tmp/tmpyo6uscdq/analyzed_videos/rat4-lps1DLC_resnet50_Darknet-MousePoseJun9shuffle1_80000.h5 [Content-Type=application/octet-stream]...\n",
      "Copying file:///tmp/tmpyo6uscdq/analyzed_videos/rat9-lps2DLC_resnet50_Darknet-MousePoseJun9shuffle1_80000includingmetadata.pickle [Content-Type=application/octet-stream]...\n",
      "Copying file:///tmp/tmpyo6uscdq/analyzed_videos/rat4-control1DLC_resnet50_Darknet-MousePoseJun9shuffle1_80000includingmetadata.pickle [Content-Type=application/octet-stream]...\n",
      "Copying file:///tmp/tmpyo6uscdq/analyzed_videos/rat2-lps3DLC_resnet50_Darknet-MousePoseJun9shuffle1_80000includingmetadata.pickle [Content-Type=application/octet-stream]...\n",
      "Copying file:///tmp/tmpyo6uscdq/analyzed_videos/rat4-control1DLC_resnet50_Darknet-MousePoseJun9shuffle1_80000.h5 [Content-Type=application/octet-stream]...\n",
      "Copying file:///tmp/tmpyo6uscdq/analyzed_videos/rat6-control3DLC_resnet50_Darknet-MousePoseJun9shuffle1_80000includingmetadata.pickle [Content-Type=application/octet-stream]...\n",
      "Copying file:///tmp/tmpyo6uscdq/analyzed_videos/rat1-control4DLC_resnet50_Darknet-MousePoseJun9shuffle1_80000.h5 [Content-Type=application/octet-stream]...\n",
      "Copying file:///tmp/tmpyo6uscdq/analyzed_videos/rat9-control2DLC_resnet50_Darknet-MousePoseJun9shuffle1_80000includingmetadata.pickle [Content-Type=application/octet-stream]...\n",
      "Copying file:///tmp/tmpyo6uscdq/analyzed_videos/rat7-control1DLC_resnet50_Darknet-MousePoseJun9shuffle1_80000.h5 [Content-Type=application/octet-stream]...\n",
      "Copying file:///tmp/tmpyo6uscdq/analyzed_videos/rat2-lps2DLC_resnet50_Darknet-MousePoseJun9shuffle1_80000includingmetadata.pickle [Content-Type=application/octet-stream]...\n",
      "Copying file:///tmp/tmpyo6uscdq/analyzed_videos/rat2-control1DLC_resnet50_Darknet-MousePoseJun9shuffle1_80000includingmetadata.pickle [Content-Type=application/octet-stream]...\n",
      "/ [94 files][138.6 MiB/138.6 MiB]    5.0 MiB/s                                  \n",
      "==> NOTE: You are performing a sequence of gsutil operations that may\n",
      "run significantly faster if you instead use gsutil -m cp ... Please\n",
      "see the -m section under \"gsutil help options\" for further information\n",
      "about when gsutil -m can be advantageous.\n",
      "\n",
      "\n",
      "Operation completed over 94 objects/138.6 MiB.                                   \n"
     ]
    }
   ],
   "source": [
    "! gsutil cp -r {dest_path} gs://rat-emotion/dlc/analyzed-videos/DLC_resnet50_Darknet-MousePoseJun9shuffle1_80000"
   ]
  },
  {
   "cell_type": "code",
   "execution_count": 4,
   "metadata": {},
   "outputs": [
    {
     "name": "stdout",
     "output_type": "stream",
     "text": [
      "Copying gs://rat-emotion/dlc/analyzed-videos/DLC_resnet50_Darknet-MousePoseJun9shuffle1_80000/rat1-control1DLC_resnet50_Darknet-MousePoseJun9shuffle1_80000.h5...\n",
      "Copying gs://rat-emotion/dlc/analyzed-videos/DLC_resnet50_Darknet-MousePoseJun9shuffle1_80000/rat1-control1DLC_resnet50_Darknet-MousePoseJun9shuffle1_80000includingmetadata.pickle...\n",
      "Copying gs://rat-emotion/dlc/analyzed-videos/DLC_resnet50_Darknet-MousePoseJun9shuffle1_80000/rat1-control2DLC_resnet50_Darknet-MousePoseJun9shuffle1_80000.h5...\n",
      "Copying gs://rat-emotion/dlc/analyzed-videos/DLC_resnet50_Darknet-MousePoseJun9shuffle1_80000/rat1-control2DLC_resnet50_Darknet-MousePoseJun9shuffle1_80000includingmetadata.pickle...\n",
      "- [4 files][  5.9 MiB/  5.9 MiB]                                                \n",
      "==> NOTE: You are performing a sequence of gsutil operations that may\n",
      "run significantly faster if you instead use gsutil -m cp ... Please\n",
      "see the -m section under \"gsutil help options\" for further information\n",
      "about when gsutil -m can be advantageous.\n",
      "\n",
      "Copying gs://rat-emotion/dlc/analyzed-videos/DLC_resnet50_Darknet-MousePoseJun9shuffle1_80000/rat1-control3DLC_resnet50_Darknet-MousePoseJun9shuffle1_80000.h5...\n",
      "Copying gs://rat-emotion/dlc/analyzed-videos/DLC_resnet50_Darknet-MousePoseJun9shuffle1_80000/rat1-control3DLC_resnet50_Darknet-MousePoseJun9shuffle1_80000includingmetadata.pickle...\n",
      "Copying gs://rat-emotion/dlc/analyzed-videos/DLC_resnet50_Darknet-MousePoseJun9shuffle1_80000/rat1-control4DLC_resnet50_Darknet-MousePoseJun9shuffle1_80000.h5...\n",
      "Copying gs://rat-emotion/dlc/analyzed-videos/DLC_resnet50_Darknet-MousePoseJun9shuffle1_80000/rat1-control4DLC_resnet50_Darknet-MousePoseJun9shuffle1_80000includingmetadata.pickle...\n",
      "Copying gs://rat-emotion/dlc/analyzed-videos/DLC_resnet50_Darknet-MousePoseJun9shuffle1_80000/rat2-control1DLC_resnet50_Darknet-MousePoseJun9shuffle1_80000.h5...\n",
      "Copying gs://rat-emotion/dlc/analyzed-videos/DLC_resnet50_Darknet-MousePoseJun9shuffle1_80000/rat2-control1DLC_resnet50_Darknet-MousePoseJun9shuffle1_80000includingmetadata.pickle...\n",
      "Copying gs://rat-emotion/dlc/analyzed-videos/DLC_resnet50_Darknet-MousePoseJun9shuffle1_80000/rat2-control2DLC_resnet50_Darknet-MousePoseJun9shuffle1_80000.h5...\n",
      "Copying gs://rat-emotion/dlc/analyzed-videos/DLC_resnet50_Darknet-MousePoseJun9shuffle1_80000/rat2-control2DLC_resnet50_Darknet-MousePoseJun9shuffle1_80000includingmetadata.pickle...\n",
      "Copying gs://rat-emotion/dlc/analyzed-videos/DLC_resnet50_Darknet-MousePoseJun9shuffle1_80000/rat2-control3DLC_resnet50_Darknet-MousePoseJun9shuffle1_80000.h5...\n",
      "Copying gs://rat-emotion/dlc/analyzed-videos/DLC_resnet50_Darknet-MousePoseJun9shuffle1_80000/rat2-control3DLC_resnet50_Darknet-MousePoseJun9shuffle1_80000includingmetadata.pickle...\n",
      "Copying gs://rat-emotion/dlc/analyzed-videos/DLC_resnet50_Darknet-MousePoseJun9shuffle1_80000/rat2-control4DLC_resnet50_Darknet-MousePoseJun9shuffle1_80000.h5...\n",
      "Copying gs://rat-emotion/dlc/analyzed-videos/DLC_resnet50_Darknet-MousePoseJun9shuffle1_80000/rat2-control4DLC_resnet50_Darknet-MousePoseJun9shuffle1_80000includingmetadata.pickle...\n",
      "Copying gs://rat-emotion/dlc/analyzed-videos/DLC_resnet50_Darknet-MousePoseJun9shuffle1_80000/rat2-lps1DLC_resnet50_Darknet-MousePoseJun9shuffle1_80000.h5...\n",
      "Copying gs://rat-emotion/dlc/analyzed-videos/DLC_resnet50_Darknet-MousePoseJun9shuffle1_80000/rat2-lps1DLC_resnet50_Darknet-MousePoseJun9shuffle1_80000includingmetadata.pickle...\n",
      "Copying gs://rat-emotion/dlc/analyzed-videos/DLC_resnet50_Darknet-MousePoseJun9shuffle1_80000/rat2-lps2DLC_resnet50_Darknet-MousePoseJun9shuffle1_80000.h5...\n",
      "Copying gs://rat-emotion/dlc/analyzed-videos/DLC_resnet50_Darknet-MousePoseJun9shuffle1_80000/rat2-lps2DLC_resnet50_Darknet-MousePoseJun9shuffle1_80000includingmetadata.pickle...\n",
      "Copying gs://rat-emotion/dlc/analyzed-videos/DLC_resnet50_Darknet-MousePoseJun9shuffle1_80000/rat2-lps3DLC_resnet50_Darknet-MousePoseJun9shuffle1_80000.h5...\n",
      "Copying gs://rat-emotion/dlc/analyzed-videos/DLC_resnet50_Darknet-MousePoseJun9shuffle1_80000/rat2-lps3DLC_resnet50_Darknet-MousePoseJun9shuffle1_80000includingmetadata.pickle...\n",
      "Copying gs://rat-emotion/dlc/analyzed-videos/DLC_resnet50_Darknet-MousePoseJun9shuffle1_80000/rat2-lps4DLC_resnet50_Darknet-MousePoseJun9shuffle1_80000.h5...\n",
      "Copying gs://rat-emotion/dlc/analyzed-videos/DLC_resnet50_Darknet-MousePoseJun9shuffle1_80000/rat2-lps4DLC_resnet50_Darknet-MousePoseJun9shuffle1_80000includingmetadata.pickle...\n",
      "Copying gs://rat-emotion/dlc/analyzed-videos/DLC_resnet50_Darknet-MousePoseJun9shuffle1_80000/rat3-control1DLC_resnet50_Darknet-MousePoseJun9shuffle1_80000.h5...\n",
      "Copying gs://rat-emotion/dlc/analyzed-videos/DLC_resnet50_Darknet-MousePoseJun9shuffle1_80000/rat3-control1DLC_resnet50_Darknet-MousePoseJun9shuffle1_80000includingmetadata.pickle...\n",
      "Copying gs://rat-emotion/dlc/analyzed-videos/DLC_resnet50_Darknet-MousePoseJun9shuffle1_80000/rat3-control2DLC_resnet50_Darknet-MousePoseJun9shuffle1_80000.h5...\n",
      "Copying gs://rat-emotion/dlc/analyzed-videos/DLC_resnet50_Darknet-MousePoseJun9shuffle1_80000/rat3-control2DLC_resnet50_Darknet-MousePoseJun9shuffle1_80000includingmetadata.pickle...\n",
      "Copying gs://rat-emotion/dlc/analyzed-videos/DLC_resnet50_Darknet-MousePoseJun9shuffle1_80000/rat3-control3DLC_resnet50_Darknet-MousePoseJun9shuffle1_80000.h5...\n",
      "Copying gs://rat-emotion/dlc/analyzed-videos/DLC_resnet50_Darknet-MousePoseJun9shuffle1_80000/rat3-control3DLC_resnet50_Darknet-MousePoseJun9shuffle1_80000includingmetadata.pickle...\n",
      "Copying gs://rat-emotion/dlc/analyzed-videos/DLC_resnet50_Darknet-MousePoseJun9shuffle1_80000/rat3-control4DLC_resnet50_Darknet-MousePoseJun9shuffle1_80000.h5...\n",
      "Copying gs://rat-emotion/dlc/analyzed-videos/DLC_resnet50_Darknet-MousePoseJun9shuffle1_80000/rat3-control4DLC_resnet50_Darknet-MousePoseJun9shuffle1_80000includingmetadata.pickle...\n",
      "Copying gs://rat-emotion/dlc/analyzed-videos/DLC_resnet50_Darknet-MousePoseJun9shuffle1_80000/rat3-lps1DLC_resnet50_Darknet-MousePoseJun9shuffle1_80000.h5...\n",
      "Copying gs://rat-emotion/dlc/analyzed-videos/DLC_resnet50_Darknet-MousePoseJun9shuffle1_80000/rat3-lps1DLC_resnet50_Darknet-MousePoseJun9shuffle1_80000includingmetadata.pickle...\n",
      "Copying gs://rat-emotion/dlc/analyzed-videos/DLC_resnet50_Darknet-MousePoseJun9shuffle1_80000/rat3-lps2DLC_resnet50_Darknet-MousePoseJun9shuffle1_80000.h5...\n",
      "Copying gs://rat-emotion/dlc/analyzed-videos/DLC_resnet50_Darknet-MousePoseJun9shuffle1_80000/rat3-lps2DLC_resnet50_Darknet-MousePoseJun9shuffle1_80000includingmetadata.pickle...\n",
      "Copying gs://rat-emotion/dlc/analyzed-videos/DLC_resnet50_Darknet-MousePoseJun9shuffle1_80000/rat4-control1DLC_resnet50_Darknet-MousePoseJun9shuffle1_80000.h5...\n",
      "Copying gs://rat-emotion/dlc/analyzed-videos/DLC_resnet50_Darknet-MousePoseJun9shuffle1_80000/rat4-control1DLC_resnet50_Darknet-MousePoseJun9shuffle1_80000includingmetadata.pickle...\n",
      "Copying gs://rat-emotion/dlc/analyzed-videos/DLC_resnet50_Darknet-MousePoseJun9shuffle1_80000/rat4-control2DLC_resnet50_Darknet-MousePoseJun9shuffle1_80000.h5...\n",
      "Copying gs://rat-emotion/dlc/analyzed-videos/DLC_resnet50_Darknet-MousePoseJun9shuffle1_80000/rat4-control2DLC_resnet50_Darknet-MousePoseJun9shuffle1_80000includingmetadata.pickle...\n",
      "Copying gs://rat-emotion/dlc/analyzed-videos/DLC_resnet50_Darknet-MousePoseJun9shuffle1_80000/rat4-lps1DLC_resnet50_Darknet-MousePoseJun9shuffle1_80000.h5...\n",
      "Copying gs://rat-emotion/dlc/analyzed-videos/DLC_resnet50_Darknet-MousePoseJun9shuffle1_80000/rat4-lps1DLC_resnet50_Darknet-MousePoseJun9shuffle1_80000includingmetadata.pickle...\n",
      "Copying gs://rat-emotion/dlc/analyzed-videos/DLC_resnet50_Darknet-MousePoseJun9shuffle1_80000/rat4-lps2DLC_resnet50_Darknet-MousePoseJun9shuffle1_80000.h5...\n",
      "Copying gs://rat-emotion/dlc/analyzed-videos/DLC_resnet50_Darknet-MousePoseJun9shuffle1_80000/rat4-lps2DLC_resnet50_Darknet-MousePoseJun9shuffle1_80000includingmetadata.pickle...\n",
      "Copying gs://rat-emotion/dlc/analyzed-videos/DLC_resnet50_Darknet-MousePoseJun9shuffle1_80000/rat5-control1DLC_resnet50_Darknet-MousePoseJun9shuffle1_80000.h5...\n",
      "Copying gs://rat-emotion/dlc/analyzed-videos/DLC_resnet50_Darknet-MousePoseJun9shuffle1_80000/rat5-control1DLC_resnet50_Darknet-MousePoseJun9shuffle1_80000includingmetadata.pickle...\n",
      "Copying gs://rat-emotion/dlc/analyzed-videos/DLC_resnet50_Darknet-MousePoseJun9shuffle1_80000/rat5-control2DLC_resnet50_Darknet-MousePoseJun9shuffle1_80000.h5...\n",
      "Copying gs://rat-emotion/dlc/analyzed-videos/DLC_resnet50_Darknet-MousePoseJun9shuffle1_80000/rat5-control2DLC_resnet50_Darknet-MousePoseJun9shuffle1_80000includingmetadata.pickle...\n",
      "Copying gs://rat-emotion/dlc/analyzed-videos/DLC_resnet50_Darknet-MousePoseJun9shuffle1_80000/rat5-lps1DLC_resnet50_Darknet-MousePoseJun9shuffle1_80000.h5...\n",
      "Copying gs://rat-emotion/dlc/analyzed-videos/DLC_resnet50_Darknet-MousePoseJun9shuffle1_80000/rat5-lps1DLC_resnet50_Darknet-MousePoseJun9shuffle1_80000includingmetadata.pickle...\n",
      "Copying gs://rat-emotion/dlc/analyzed-videos/DLC_resnet50_Darknet-MousePoseJun9shuffle1_80000/rat5-lps2DLC_resnet50_Darknet-MousePoseJun9shuffle1_80000.h5...\n",
      "Copying gs://rat-emotion/dlc/analyzed-videos/DLC_resnet50_Darknet-MousePoseJun9shuffle1_80000/rat5-lps2DLC_resnet50_Darknet-MousePoseJun9shuffle1_80000includingmetadata.pickle...\n",
      "Copying gs://rat-emotion/dlc/analyzed-videos/DLC_resnet50_Darknet-MousePoseJun9shuffle1_80000/rat6-control1DLC_resnet50_Darknet-MousePoseJun9shuffle1_80000.h5...\n",
      "Copying gs://rat-emotion/dlc/analyzed-videos/DLC_resnet50_Darknet-MousePoseJun9shuffle1_80000/rat6-control1DLC_resnet50_Darknet-MousePoseJun9shuffle1_80000includingmetadata.pickle...\n",
      "Copying gs://rat-emotion/dlc/analyzed-videos/DLC_resnet50_Darknet-MousePoseJun9shuffle1_80000/rat6-control2DLC_resnet50_Darknet-MousePoseJun9shuffle1_80000.h5...\n",
      "Copying gs://rat-emotion/dlc/analyzed-videos/DLC_resnet50_Darknet-MousePoseJun9shuffle1_80000/rat6-control2DLC_resnet50_Darknet-MousePoseJun9shuffle1_80000includingmetadata.pickle...\n",
      "Copying gs://rat-emotion/dlc/analyzed-videos/DLC_resnet50_Darknet-MousePoseJun9shuffle1_80000/rat6-control3DLC_resnet50_Darknet-MousePoseJun9shuffle1_80000.h5...\n",
      "Copying gs://rat-emotion/dlc/analyzed-videos/DLC_resnet50_Darknet-MousePoseJun9shuffle1_80000/rat6-control3DLC_resnet50_Darknet-MousePoseJun9shuffle1_80000includingmetadata.pickle...\n",
      "Copying gs://rat-emotion/dlc/analyzed-videos/DLC_resnet50_Darknet-MousePoseJun9shuffle1_80000/rat6-control4DLC_resnet50_Darknet-MousePoseJun9shuffle1_80000.h5...\n",
      "Copying gs://rat-emotion/dlc/analyzed-videos/DLC_resnet50_Darknet-MousePoseJun9shuffle1_80000/rat6-control4DLC_resnet50_Darknet-MousePoseJun9shuffle1_80000includingmetadata.pickle...\n",
      "Copying gs://rat-emotion/dlc/analyzed-videos/DLC_resnet50_Darknet-MousePoseJun9shuffle1_80000/rat6-control5DLC_resnet50_Darknet-MousePoseJun9shuffle1_80000.h5...\n",
      "Copying gs://rat-emotion/dlc/analyzed-videos/DLC_resnet50_Darknet-MousePoseJun9shuffle1_80000/rat6-control5DLC_resnet50_Darknet-MousePoseJun9shuffle1_80000includingmetadata.pickle...\n",
      "Copying gs://rat-emotion/dlc/analyzed-videos/DLC_resnet50_Darknet-MousePoseJun9shuffle1_80000/rat6-lps1DLC_resnet50_Darknet-MousePoseJun9shuffle1_80000.h5...\n",
      "Copying gs://rat-emotion/dlc/analyzed-videos/DLC_resnet50_Darknet-MousePoseJun9shuffle1_80000/rat6-lps1DLC_resnet50_Darknet-MousePoseJun9shuffle1_80000includingmetadata.pickle...\n",
      "Copying gs://rat-emotion/dlc/analyzed-videos/DLC_resnet50_Darknet-MousePoseJun9shuffle1_80000/rat6-lps2DLC_resnet50_Darknet-MousePoseJun9shuffle1_80000.h5...\n",
      "Copying gs://rat-emotion/dlc/analyzed-videos/DLC_resnet50_Darknet-MousePoseJun9shuffle1_80000/rat6-lps2DLC_resnet50_Darknet-MousePoseJun9shuffle1_80000includingmetadata.pickle...\n",
      "Copying gs://rat-emotion/dlc/analyzed-videos/DLC_resnet50_Darknet-MousePoseJun9shuffle1_80000/rat7-control1DLC_resnet50_Darknet-MousePoseJun9shuffle1_80000.h5...\n",
      "Copying gs://rat-emotion/dlc/analyzed-videos/DLC_resnet50_Darknet-MousePoseJun9shuffle1_80000/rat7-control1DLC_resnet50_Darknet-MousePoseJun9shuffle1_80000includingmetadata.pickle...\n",
      "Copying gs://rat-emotion/dlc/analyzed-videos/DLC_resnet50_Darknet-MousePoseJun9shuffle1_80000/rat7-control2DLC_resnet50_Darknet-MousePoseJun9shuffle1_80000.h5...\n",
      "Copying gs://rat-emotion/dlc/analyzed-videos/DLC_resnet50_Darknet-MousePoseJun9shuffle1_80000/rat7-control2DLC_resnet50_Darknet-MousePoseJun9shuffle1_80000includingmetadata.pickle...\n",
      "Copying gs://rat-emotion/dlc/analyzed-videos/DLC_resnet50_Darknet-MousePoseJun9shuffle1_80000/rat7-control3DLC_resnet50_Darknet-MousePoseJun9shuffle1_80000.h5...\n",
      "Copying gs://rat-emotion/dlc/analyzed-videos/DLC_resnet50_Darknet-MousePoseJun9shuffle1_80000/rat7-control3DLC_resnet50_Darknet-MousePoseJun9shuffle1_80000includingmetadata.pickle...\n",
      "Copying gs://rat-emotion/dlc/analyzed-videos/DLC_resnet50_Darknet-MousePoseJun9shuffle1_80000/rat7-control4DLC_resnet50_Darknet-MousePoseJun9shuffle1_80000.h5...\n",
      "Copying gs://rat-emotion/dlc/analyzed-videos/DLC_resnet50_Darknet-MousePoseJun9shuffle1_80000/rat7-control4DLC_resnet50_Darknet-MousePoseJun9shuffle1_80000includingmetadata.pickle...\n",
      "Copying gs://rat-emotion/dlc/analyzed-videos/DLC_resnet50_Darknet-MousePoseJun9shuffle1_80000/rat7-lps1DLC_resnet50_Darknet-MousePoseJun9shuffle1_80000.h5...\n",
      "Copying gs://rat-emotion/dlc/analyzed-videos/DLC_resnet50_Darknet-MousePoseJun9shuffle1_80000/rat7-lps1DLC_resnet50_Darknet-MousePoseJun9shuffle1_80000includingmetadata.pickle...\n",
      "Copying gs://rat-emotion/dlc/analyzed-videos/DLC_resnet50_Darknet-MousePoseJun9shuffle1_80000/rat7-lps2DLC_resnet50_Darknet-MousePoseJun9shuffle1_80000.h5...\n",
      "Copying gs://rat-emotion/dlc/analyzed-videos/DLC_resnet50_Darknet-MousePoseJun9shuffle1_80000/rat7-lps2DLC_resnet50_Darknet-MousePoseJun9shuffle1_80000includingmetadata.pickle...\n",
      "Copying gs://rat-emotion/dlc/analyzed-videos/DLC_resnet50_Darknet-MousePoseJun9shuffle1_80000/rat8-control1DLC_resnet50_Darknet-MousePoseJun9shuffle1_80000.h5...\n",
      "Copying gs://rat-emotion/dlc/analyzed-videos/DLC_resnet50_Darknet-MousePoseJun9shuffle1_80000/rat8-control1DLC_resnet50_Darknet-MousePoseJun9shuffle1_80000includingmetadata.pickle...\n",
      "Copying gs://rat-emotion/dlc/analyzed-videos/DLC_resnet50_Darknet-MousePoseJun9shuffle1_80000/rat8-control2DLC_resnet50_Darknet-MousePoseJun9shuffle1_80000.h5...\n",
      "Copying gs://rat-emotion/dlc/analyzed-videos/DLC_resnet50_Darknet-MousePoseJun9shuffle1_80000/rat8-control2DLC_resnet50_Darknet-MousePoseJun9shuffle1_80000includingmetadata.pickle...\n",
      "Copying gs://rat-emotion/dlc/analyzed-videos/DLC_resnet50_Darknet-MousePoseJun9shuffle1_80000/rat8-lps1DLC_resnet50_Darknet-MousePoseJun9shuffle1_80000.h5...\n",
      "Copying gs://rat-emotion/dlc/analyzed-videos/DLC_resnet50_Darknet-MousePoseJun9shuffle1_80000/rat8-lps1DLC_resnet50_Darknet-MousePoseJun9shuffle1_80000includingmetadata.pickle...\n",
      "Copying gs://rat-emotion/dlc/analyzed-videos/DLC_resnet50_Darknet-MousePoseJun9shuffle1_80000/rat8-lps2DLC_resnet50_Darknet-MousePoseJun9shuffle1_80000.h5...\n",
      "Copying gs://rat-emotion/dlc/analyzed-videos/DLC_resnet50_Darknet-MousePoseJun9shuffle1_80000/rat8-lps2DLC_resnet50_Darknet-MousePoseJun9shuffle1_80000includingmetadata.pickle...\n",
      "Copying gs://rat-emotion/dlc/analyzed-videos/DLC_resnet50_Darknet-MousePoseJun9shuffle1_80000/rat9-control1DLC_resnet50_Darknet-MousePoseJun9shuffle1_80000.h5...\n",
      "Copying gs://rat-emotion/dlc/analyzed-videos/DLC_resnet50_Darknet-MousePoseJun9shuffle1_80000/rat9-control1DLC_resnet50_Darknet-MousePoseJun9shuffle1_80000includingmetadata.pickle...\n",
      "Copying gs://rat-emotion/dlc/analyzed-videos/DLC_resnet50_Darknet-MousePoseJun9shuffle1_80000/rat9-control2DLC_resnet50_Darknet-MousePoseJun9shuffle1_80000.h5...\n",
      "Copying gs://rat-emotion/dlc/analyzed-videos/DLC_resnet50_Darknet-MousePoseJun9shuffle1_80000/rat9-control2DLC_resnet50_Darknet-MousePoseJun9shuffle1_80000includingmetadata.pickle...\n",
      "Copying gs://rat-emotion/dlc/analyzed-videos/DLC_resnet50_Darknet-MousePoseJun9shuffle1_80000/rat9-lps1DLC_resnet50_Darknet-MousePoseJun9shuffle1_80000.h5...\n",
      "Copying gs://rat-emotion/dlc/analyzed-videos/DLC_resnet50_Darknet-MousePoseJun9shuffle1_80000/rat9-lps1DLC_resnet50_Darknet-MousePoseJun9shuffle1_80000includingmetadata.pickle...\n",
      "Copying gs://rat-emotion/dlc/analyzed-videos/DLC_resnet50_Darknet-MousePoseJun9shuffle1_80000/rat9-lps2DLC_resnet50_Darknet-MousePoseJun9shuffle1_80000.h5...\n",
      "Copying gs://rat-emotion/dlc/analyzed-videos/DLC_resnet50_Darknet-MousePoseJun9shuffle1_80000/rat9-lps2DLC_resnet50_Darknet-MousePoseJun9shuffle1_80000includingmetadata.pickle...\n",
      "- [94 files][138.6 MiB/138.6 MiB]    8.5 MiB/s                                  \n",
      "==> NOTE: You are performing a sequence of gsutil operations that may\n",
      "run significantly faster if you instead use gsutil -m cp ... Please\n",
      "see the -m section under \"gsutil help options\" for further information\n",
      "about when gsutil -m can be advantageous.\n",
      "\n",
      "\n",
      "Operation completed over 94 objects/138.6 MiB.                                   \n"
     ]
    }
   ],
   "source": [
    "! mkdir /storage/gs/rat-emotion/dlc/analyzed-videos\n",
    "! gsutil cp -r gs://rat-emotion/dlc/analyzed-videos/DLC_resnet50_Darknet-MousePoseJun9shuffle1_80000 /storage/gs/rat-emotion/dlc/analyzed-videos"
   ]
  },
  {
   "cell_type": "markdown",
   "metadata": {},
   "source": [
    "# Load an analysis"
   ]
  },
  {
   "cell_type": "code",
   "execution_count": 29,
   "metadata": {},
   "outputs": [
    {
     "name": "stdout",
     "output_type": "stream",
     "text": [
      "/tmp/tmpyo6uscdq/analyzed_videos/rat5-control2DLC_resnet50_Darknet-MousePoseJun9shuffle1_80000.h5\n",
      "/tmp/tmpyo6uscdq/analyzed_videos/rat3-lps1DLC_resnet50_Darknet-MousePoseJun9shuffle1_80000.h5\n",
      "/tmp/tmpyo6uscdq/analyzed_videos/rat1-control3DLC_resnet50_Darknet-MousePoseJun9shuffle1_80000.h5\n",
      "/tmp/tmpyo6uscdq/analyzed_videos/rat7-lps1DLC_resnet50_Darknet-MousePoseJun9shuffle1_80000.h5\n",
      "/tmp/tmpyo6uscdq/analyzed_videos/rat6-control3DLC_resnet50_Darknet-MousePoseJun9shuffle1_80000.h5\n",
      "/tmp/tmpyo6uscdq/analyzed_videos/rat9-control2DLC_resnet50_Darknet-MousePoseJun9shuffle1_80000.h5\n",
      "/tmp/tmpyo6uscdq/analyzed_videos/rat8-lps1DLC_resnet50_Darknet-MousePoseJun9shuffle1_80000.h5\n",
      "/tmp/tmpyo6uscdq/analyzed_videos/rat6-control4DLC_resnet50_Darknet-MousePoseJun9shuffle1_80000.h5\n",
      "/tmp/tmpyo6uscdq/analyzed_videos/rat9-lps2DLC_resnet50_Darknet-MousePoseJun9shuffle1_80000.h5\n",
      "/tmp/tmpyo6uscdq/analyzed_videos/rat6-lps2DLC_resnet50_Darknet-MousePoseJun9shuffle1_80000.h5\n",
      "/tmp/tmpyo6uscdq/analyzed_videos/rat7-control3DLC_resnet50_Darknet-MousePoseJun9shuffle1_80000.h5\n",
      "/tmp/tmpyo6uscdq/analyzed_videos/rat3-control1DLC_resnet50_Darknet-MousePoseJun9shuffle1_80000.h5\n",
      "/tmp/tmpyo6uscdq/analyzed_videos/rat3-control2DLC_resnet50_Darknet-MousePoseJun9shuffle1_80000.h5\n",
      "/tmp/tmpyo6uscdq/analyzed_videos/rat6-control1DLC_resnet50_Darknet-MousePoseJun9shuffle1_80000.h5\n",
      "/tmp/tmpyo6uscdq/analyzed_videos/rat2-control3DLC_resnet50_Darknet-MousePoseJun9shuffle1_80000.h5\n",
      "/tmp/tmpyo6uscdq/analyzed_videos/rat8-lps2DLC_resnet50_Darknet-MousePoseJun9shuffle1_80000.h5\n",
      "/tmp/tmpyo6uscdq/analyzed_videos/rat2-control2DLC_resnet50_Darknet-MousePoseJun9shuffle1_80000.h5\n",
      "/tmp/tmpyo6uscdq/analyzed_videos/rat8-control2DLC_resnet50_Darknet-MousePoseJun9shuffle1_80000.h5\n",
      "/tmp/tmpyo6uscdq/analyzed_videos/rat7-control4DLC_resnet50_Darknet-MousePoseJun9shuffle1_80000.h5\n",
      "/tmp/tmpyo6uscdq/analyzed_videos/rat6-control2DLC_resnet50_Darknet-MousePoseJun9shuffle1_80000.h5\n",
      "/tmp/tmpyo6uscdq/analyzed_videos/rat1-control2DLC_resnet50_Darknet-MousePoseJun9shuffle1_80000.h5\n",
      "/tmp/tmpyo6uscdq/analyzed_videos/rat4-lps2DLC_resnet50_Darknet-MousePoseJun9shuffle1_80000.h5\n",
      "/tmp/tmpyo6uscdq/analyzed_videos/rat6-control5DLC_resnet50_Darknet-MousePoseJun9shuffle1_80000.h5\n",
      "/tmp/tmpyo6uscdq/analyzed_videos/rat2-lps3DLC_resnet50_Darknet-MousePoseJun9shuffle1_80000.h5\n",
      "/tmp/tmpyo6uscdq/analyzed_videos/rat3-lps2DLC_resnet50_Darknet-MousePoseJun9shuffle1_80000.h5\n",
      "/tmp/tmpyo6uscdq/analyzed_videos/rat6-lps1DLC_resnet50_Darknet-MousePoseJun9shuffle1_80000.h5\n",
      "/tmp/tmpyo6uscdq/analyzed_videos/rat4-control2DLC_resnet50_Darknet-MousePoseJun9shuffle1_80000.h5\n",
      "/tmp/tmpyo6uscdq/analyzed_videos/rat7-control2DLC_resnet50_Darknet-MousePoseJun9shuffle1_80000.h5\n",
      "/tmp/tmpyo6uscdq/analyzed_videos/rat2-control1DLC_resnet50_Darknet-MousePoseJun9shuffle1_80000.h5\n",
      "/tmp/tmpyo6uscdq/analyzed_videos/rat3-control3DLC_resnet50_Darknet-MousePoseJun9shuffle1_80000.h5\n",
      "/tmp/tmpyo6uscdq/analyzed_videos/rat8-control1DLC_resnet50_Darknet-MousePoseJun9shuffle1_80000.h5\n",
      "/tmp/tmpyo6uscdq/analyzed_videos/rat2-lps1DLC_resnet50_Darknet-MousePoseJun9shuffle1_80000.h5\n",
      "/tmp/tmpyo6uscdq/analyzed_videos/rat9-lps1DLC_resnet50_Darknet-MousePoseJun9shuffle1_80000.h5\n",
      "/tmp/tmpyo6uscdq/analyzed_videos/rat2-lps2DLC_resnet50_Darknet-MousePoseJun9shuffle1_80000.h5\n",
      "/tmp/tmpyo6uscdq/analyzed_videos/rat7-lps2DLC_resnet50_Darknet-MousePoseJun9shuffle1_80000.h5\n",
      "/tmp/tmpyo6uscdq/analyzed_videos/rat5-control1DLC_resnet50_Darknet-MousePoseJun9shuffle1_80000.h5\n",
      "/tmp/tmpyo6uscdq/analyzed_videos/rat9-control1DLC_resnet50_Darknet-MousePoseJun9shuffle1_80000.h5\n",
      "/tmp/tmpyo6uscdq/analyzed_videos/rat1-control1DLC_resnet50_Darknet-MousePoseJun9shuffle1_80000.h5\n",
      "/tmp/tmpyo6uscdq/analyzed_videos/rat2-control4DLC_resnet50_Darknet-MousePoseJun9shuffle1_80000.h5\n",
      "/tmp/tmpyo6uscdq/analyzed_videos/rat3-control4DLC_resnet50_Darknet-MousePoseJun9shuffle1_80000.h5\n",
      "/tmp/tmpyo6uscdq/analyzed_videos/rat2-lps4DLC_resnet50_Darknet-MousePoseJun9shuffle1_80000.h5\n",
      "/tmp/tmpyo6uscdq/analyzed_videos/rat5-lps1DLC_resnet50_Darknet-MousePoseJun9shuffle1_80000.h5\n",
      "/tmp/tmpyo6uscdq/analyzed_videos/rat5-lps2DLC_resnet50_Darknet-MousePoseJun9shuffle1_80000.h5\n",
      "/tmp/tmpyo6uscdq/analyzed_videos/rat4-lps1DLC_resnet50_Darknet-MousePoseJun9shuffle1_80000.h5\n",
      "/tmp/tmpyo6uscdq/analyzed_videos/rat4-control1DLC_resnet50_Darknet-MousePoseJun9shuffle1_80000.h5\n",
      "/tmp/tmpyo6uscdq/analyzed_videos/rat1-control4DLC_resnet50_Darknet-MousePoseJun9shuffle1_80000.h5\n",
      "/tmp/tmpyo6uscdq/analyzed_videos/rat7-control1DLC_resnet50_Darknet-MousePoseJun9shuffle1_80000.h5\n"
     ]
    },
    {
     "data": {
      "text/html": [
       "<div>\n",
       "<style scoped>\n",
       "    .dataframe tbody tr th:only-of-type {\n",
       "        vertical-align: middle;\n",
       "    }\n",
       "\n",
       "    .dataframe tbody tr th {\n",
       "        vertical-align: top;\n",
       "    }\n",
       "\n",
       "    .dataframe thead tr th {\n",
       "        text-align: left;\n",
       "    }\n",
       "</style>\n",
       "<table border=\"1\" class=\"dataframe\">\n",
       "  <thead>\n",
       "    <tr>\n",
       "      <th>scorer</th>\n",
       "      <th colspan=\"21\" halign=\"left\">DLC_resnet50_Darknet-MousePoseJun9shuffle1_80000</th>\n",
       "    </tr>\n",
       "    <tr>\n",
       "      <th>bodyparts</th>\n",
       "      <th colspan=\"3\" halign=\"left\">nose</th>\n",
       "      <th colspan=\"3\" halign=\"left\">left-ear</th>\n",
       "      <th colspan=\"3\" halign=\"left\">right-ear</th>\n",
       "      <th>left-eye-top</th>\n",
       "      <th>...</th>\n",
       "      <th>left-rear-paw</th>\n",
       "      <th colspan=\"3\" halign=\"left\">right-rear-paw</th>\n",
       "      <th colspan=\"3\" halign=\"left\">left-front-paw</th>\n",
       "      <th colspan=\"3\" halign=\"left\">right-front-paw</th>\n",
       "    </tr>\n",
       "    <tr>\n",
       "      <th>coords</th>\n",
       "      <th>x</th>\n",
       "      <th>y</th>\n",
       "      <th>likelihood</th>\n",
       "      <th>x</th>\n",
       "      <th>y</th>\n",
       "      <th>likelihood</th>\n",
       "      <th>x</th>\n",
       "      <th>y</th>\n",
       "      <th>likelihood</th>\n",
       "      <th>x</th>\n",
       "      <th>...</th>\n",
       "      <th>likelihood</th>\n",
       "      <th>x</th>\n",
       "      <th>y</th>\n",
       "      <th>likelihood</th>\n",
       "      <th>x</th>\n",
       "      <th>y</th>\n",
       "      <th>likelihood</th>\n",
       "      <th>x</th>\n",
       "      <th>y</th>\n",
       "      <th>likelihood</th>\n",
       "    </tr>\n",
       "  </thead>\n",
       "  <tbody>\n",
       "    <tr>\n",
       "      <th>0</th>\n",
       "      <td>1193.180176</td>\n",
       "      <td>665.390259</td>\n",
       "      <td>0.045545</td>\n",
       "      <td>562.686462</td>\n",
       "      <td>481.207581</td>\n",
       "      <td>0.061008</td>\n",
       "      <td>1004.237732</td>\n",
       "      <td>5.782929</td>\n",
       "      <td>0.022022</td>\n",
       "      <td>1004.796204</td>\n",
       "      <td>...</td>\n",
       "      <td>0.008191</td>\n",
       "      <td>1004.475037</td>\n",
       "      <td>2.178329</td>\n",
       "      <td>0.008766</td>\n",
       "      <td>489.337616</td>\n",
       "      <td>674.776733</td>\n",
       "      <td>0.012415</td>\n",
       "      <td>491.975647</td>\n",
       "      <td>674.919312</td>\n",
       "      <td>0.023110</td>\n",
       "    </tr>\n",
       "    <tr>\n",
       "      <th>1</th>\n",
       "      <td>1191.632935</td>\n",
       "      <td>664.854675</td>\n",
       "      <td>0.054055</td>\n",
       "      <td>562.414001</td>\n",
       "      <td>481.497742</td>\n",
       "      <td>0.074252</td>\n",
       "      <td>431.192352</td>\n",
       "      <td>524.485168</td>\n",
       "      <td>0.022126</td>\n",
       "      <td>430.750305</td>\n",
       "      <td>...</td>\n",
       "      <td>0.010136</td>\n",
       "      <td>427.902008</td>\n",
       "      <td>527.925842</td>\n",
       "      <td>0.007494</td>\n",
       "      <td>429.675354</td>\n",
       "      <td>527.145874</td>\n",
       "      <td>0.011866</td>\n",
       "      <td>430.689819</td>\n",
       "      <td>528.154663</td>\n",
       "      <td>0.015743</td>\n",
       "    </tr>\n",
       "    <tr>\n",
       "      <th>2</th>\n",
       "      <td>1191.484863</td>\n",
       "      <td>664.619629</td>\n",
       "      <td>0.020945</td>\n",
       "      <td>562.690308</td>\n",
       "      <td>482.490356</td>\n",
       "      <td>0.200855</td>\n",
       "      <td>559.859192</td>\n",
       "      <td>480.480621</td>\n",
       "      <td>0.041851</td>\n",
       "      <td>1004.773865</td>\n",
       "      <td>...</td>\n",
       "      <td>0.013813</td>\n",
       "      <td>1004.114502</td>\n",
       "      <td>2.263344</td>\n",
       "      <td>0.015487</td>\n",
       "      <td>1004.192200</td>\n",
       "      <td>4.801674</td>\n",
       "      <td>0.013918</td>\n",
       "      <td>1004.356384</td>\n",
       "      <td>5.076391</td>\n",
       "      <td>0.014230</td>\n",
       "    </tr>\n",
       "    <tr>\n",
       "      <th>3</th>\n",
       "      <td>1192.916382</td>\n",
       "      <td>663.757080</td>\n",
       "      <td>0.096873</td>\n",
       "      <td>563.135620</td>\n",
       "      <td>482.192535</td>\n",
       "      <td>0.173336</td>\n",
       "      <td>383.478271</td>\n",
       "      <td>414.133057</td>\n",
       "      <td>0.044322</td>\n",
       "      <td>1004.538696</td>\n",
       "      <td>...</td>\n",
       "      <td>0.003794</td>\n",
       "      <td>1003.812622</td>\n",
       "      <td>2.571500</td>\n",
       "      <td>0.004220</td>\n",
       "      <td>1194.307129</td>\n",
       "      <td>666.284729</td>\n",
       "      <td>0.006512</td>\n",
       "      <td>1193.051270</td>\n",
       "      <td>665.353577</td>\n",
       "      <td>0.011881</td>\n",
       "    </tr>\n",
       "    <tr>\n",
       "      <th>4</th>\n",
       "      <td>385.206116</td>\n",
       "      <td>413.975555</td>\n",
       "      <td>0.053753</td>\n",
       "      <td>562.931641</td>\n",
       "      <td>481.951599</td>\n",
       "      <td>0.137026</td>\n",
       "      <td>383.159149</td>\n",
       "      <td>414.289581</td>\n",
       "      <td>0.187387</td>\n",
       "      <td>955.596619</td>\n",
       "      <td>...</td>\n",
       "      <td>0.003178</td>\n",
       "      <td>1003.540527</td>\n",
       "      <td>2.215342</td>\n",
       "      <td>0.003569</td>\n",
       "      <td>384.481201</td>\n",
       "      <td>416.409119</td>\n",
       "      <td>0.014387</td>\n",
       "      <td>388.730560</td>\n",
       "      <td>417.364929</td>\n",
       "      <td>0.019524</td>\n",
       "    </tr>\n",
       "    <tr>\n",
       "      <th>...</th>\n",
       "      <td>...</td>\n",
       "      <td>...</td>\n",
       "      <td>...</td>\n",
       "      <td>...</td>\n",
       "      <td>...</td>\n",
       "      <td>...</td>\n",
       "      <td>...</td>\n",
       "      <td>...</td>\n",
       "      <td>...</td>\n",
       "      <td>...</td>\n",
       "      <td>...</td>\n",
       "      <td>...</td>\n",
       "      <td>...</td>\n",
       "      <td>...</td>\n",
       "      <td>...</td>\n",
       "      <td>...</td>\n",
       "      <td>...</td>\n",
       "      <td>...</td>\n",
       "      <td>...</td>\n",
       "      <td>...</td>\n",
       "      <td>...</td>\n",
       "    </tr>\n",
       "    <tr>\n",
       "      <th>1770</th>\n",
       "      <td>1004.006836</td>\n",
       "      <td>4.012718</td>\n",
       "      <td>0.005650</td>\n",
       "      <td>711.982971</td>\n",
       "      <td>453.701569</td>\n",
       "      <td>0.258267</td>\n",
       "      <td>711.173157</td>\n",
       "      <td>452.301270</td>\n",
       "      <td>0.465492</td>\n",
       "      <td>1005.502014</td>\n",
       "      <td>...</td>\n",
       "      <td>0.005428</td>\n",
       "      <td>1003.926453</td>\n",
       "      <td>1.152470</td>\n",
       "      <td>0.005846</td>\n",
       "      <td>1005.021118</td>\n",
       "      <td>1.792464</td>\n",
       "      <td>0.005169</td>\n",
       "      <td>1003.730530</td>\n",
       "      <td>3.010534</td>\n",
       "      <td>0.007146</td>\n",
       "    </tr>\n",
       "    <tr>\n",
       "      <th>1771</th>\n",
       "      <td>429.127838</td>\n",
       "      <td>527.893616</td>\n",
       "      <td>0.003151</td>\n",
       "      <td>712.138794</td>\n",
       "      <td>453.474731</td>\n",
       "      <td>0.251448</td>\n",
       "      <td>711.296143</td>\n",
       "      <td>451.895721</td>\n",
       "      <td>0.452581</td>\n",
       "      <td>942.039124</td>\n",
       "      <td>...</td>\n",
       "      <td>0.001084</td>\n",
       "      <td>1085.207520</td>\n",
       "      <td>-0.390183</td>\n",
       "      <td>0.001072</td>\n",
       "      <td>708.585938</td>\n",
       "      <td>455.790375</td>\n",
       "      <td>0.001738</td>\n",
       "      <td>711.890869</td>\n",
       "      <td>457.670959</td>\n",
       "      <td>0.002629</td>\n",
       "    </tr>\n",
       "    <tr>\n",
       "      <th>1772</th>\n",
       "      <td>1181.414429</td>\n",
       "      <td>707.435120</td>\n",
       "      <td>0.004753</td>\n",
       "      <td>712.114563</td>\n",
       "      <td>453.669556</td>\n",
       "      <td>0.293199</td>\n",
       "      <td>711.536377</td>\n",
       "      <td>452.171906</td>\n",
       "      <td>0.472076</td>\n",
       "      <td>709.882507</td>\n",
       "      <td>...</td>\n",
       "      <td>0.000827</td>\n",
       "      <td>1084.524414</td>\n",
       "      <td>-1.141989</td>\n",
       "      <td>0.000858</td>\n",
       "      <td>1180.309326</td>\n",
       "      <td>709.677002</td>\n",
       "      <td>0.002025</td>\n",
       "      <td>711.914978</td>\n",
       "      <td>457.820038</td>\n",
       "      <td>0.003117</td>\n",
       "    </tr>\n",
       "    <tr>\n",
       "      <th>1773</th>\n",
       "      <td>1183.386353</td>\n",
       "      <td>707.246338</td>\n",
       "      <td>0.012432</td>\n",
       "      <td>712.245911</td>\n",
       "      <td>453.915466</td>\n",
       "      <td>0.311209</td>\n",
       "      <td>711.856140</td>\n",
       "      <td>452.437012</td>\n",
       "      <td>0.444695</td>\n",
       "      <td>1099.265625</td>\n",
       "      <td>...</td>\n",
       "      <td>0.001677</td>\n",
       "      <td>1090.895874</td>\n",
       "      <td>1.261491</td>\n",
       "      <td>0.001807</td>\n",
       "      <td>1182.316772</td>\n",
       "      <td>709.301880</td>\n",
       "      <td>0.005048</td>\n",
       "      <td>1183.895874</td>\n",
       "      <td>710.151489</td>\n",
       "      <td>0.004049</td>\n",
       "    </tr>\n",
       "    <tr>\n",
       "      <th>1774</th>\n",
       "      <td>1183.333252</td>\n",
       "      <td>711.538696</td>\n",
       "      <td>0.007522</td>\n",
       "      <td>712.948853</td>\n",
       "      <td>454.110718</td>\n",
       "      <td>0.345224</td>\n",
       "      <td>712.433777</td>\n",
       "      <td>452.650604</td>\n",
       "      <td>0.471446</td>\n",
       "      <td>1005.920898</td>\n",
       "      <td>...</td>\n",
       "      <td>0.001546</td>\n",
       "      <td>1004.597229</td>\n",
       "      <td>-0.288070</td>\n",
       "      <td>0.001576</td>\n",
       "      <td>1182.937500</td>\n",
       "      <td>713.428101</td>\n",
       "      <td>0.002532</td>\n",
       "      <td>712.991699</td>\n",
       "      <td>458.208557</td>\n",
       "      <td>0.003428</td>\n",
       "    </tr>\n",
       "  </tbody>\n",
       "</table>\n",
       "<p>1775 rows × 48 columns</p>\n",
       "</div>"
      ],
      "text/plain": [
       "scorer    DLC_resnet50_Darknet-MousePoseJun9shuffle1_80000              \\\n",
       "bodyparts                                             nose               \n",
       "coords                                                   x           y   \n",
       "0                                              1193.180176  665.390259   \n",
       "1                                              1191.632935  664.854675   \n",
       "2                                              1191.484863  664.619629   \n",
       "3                                              1192.916382  663.757080   \n",
       "4                                               385.206116  413.975555   \n",
       "...                                                    ...         ...   \n",
       "1770                                           1004.006836    4.012718   \n",
       "1771                                            429.127838  527.893616   \n",
       "1772                                           1181.414429  707.435120   \n",
       "1773                                           1183.386353  707.246338   \n",
       "1774                                           1183.333252  711.538696   \n",
       "\n",
       "scorer                                                                \\\n",
       "bodyparts               left-ear                           right-ear   \n",
       "coords    likelihood           x           y likelihood            x   \n",
       "0           0.045545  562.686462  481.207581   0.061008  1004.237732   \n",
       "1           0.054055  562.414001  481.497742   0.074252   431.192352   \n",
       "2           0.020945  562.690308  482.490356   0.200855   559.859192   \n",
       "3           0.096873  563.135620  482.192535   0.173336   383.478271   \n",
       "4           0.053753  562.931641  481.951599   0.137026   383.159149   \n",
       "...              ...         ...         ...        ...          ...   \n",
       "1770        0.005650  711.982971  453.701569   0.258267   711.173157   \n",
       "1771        0.003151  712.138794  453.474731   0.251448   711.296143   \n",
       "1772        0.004753  712.114563  453.669556   0.293199   711.536377   \n",
       "1773        0.012432  712.245911  453.915466   0.311209   711.856140   \n",
       "1774        0.007522  712.948853  454.110718   0.345224   712.433777   \n",
       "\n",
       "scorer                                         ...                \\\n",
       "bodyparts                        left-eye-top  ... left-rear-paw   \n",
       "coords              y likelihood            x  ...    likelihood   \n",
       "0            5.782929   0.022022  1004.796204  ...      0.008191   \n",
       "1          524.485168   0.022126   430.750305  ...      0.010136   \n",
       "2          480.480621   0.041851  1004.773865  ...      0.013813   \n",
       "3          414.133057   0.044322  1004.538696  ...      0.003794   \n",
       "4          414.289581   0.187387   955.596619  ...      0.003178   \n",
       "...               ...        ...          ...  ...           ...   \n",
       "1770       452.301270   0.465492  1005.502014  ...      0.005428   \n",
       "1771       451.895721   0.452581   942.039124  ...      0.001084   \n",
       "1772       452.171906   0.472076   709.882507  ...      0.000827   \n",
       "1773       452.437012   0.444695  1099.265625  ...      0.001677   \n",
       "1774       452.650604   0.471446  1005.920898  ...      0.001546   \n",
       "\n",
       "scorer                                                                      \\\n",
       "bodyparts right-rear-paw                        left-front-paw               \n",
       "coords                 x           y likelihood              x           y   \n",
       "0            1004.475037    2.178329   0.008766     489.337616  674.776733   \n",
       "1             427.902008  527.925842   0.007494     429.675354  527.145874   \n",
       "2            1004.114502    2.263344   0.015487    1004.192200    4.801674   \n",
       "3            1003.812622    2.571500   0.004220    1194.307129  666.284729   \n",
       "4            1003.540527    2.215342   0.003569     384.481201  416.409119   \n",
       "...                  ...         ...        ...            ...         ...   \n",
       "1770         1003.926453    1.152470   0.005846    1005.021118    1.792464   \n",
       "1771         1085.207520   -0.390183   0.001072     708.585938  455.790375   \n",
       "1772         1084.524414   -1.141989   0.000858    1180.309326  709.677002   \n",
       "1773         1090.895874    1.261491   0.001807    1182.316772  709.301880   \n",
       "1774         1004.597229   -0.288070   0.001576    1182.937500  713.428101   \n",
       "\n",
       "scorer                                                       \n",
       "bodyparts            right-front-paw                         \n",
       "coords    likelihood               x           y likelihood  \n",
       "0           0.012415      491.975647  674.919312   0.023110  \n",
       "1           0.011866      430.689819  528.154663   0.015743  \n",
       "2           0.013918     1004.356384    5.076391   0.014230  \n",
       "3           0.006512     1193.051270  665.353577   0.011881  \n",
       "4           0.014387      388.730560  417.364929   0.019524  \n",
       "...              ...             ...         ...        ...  \n",
       "1770        0.005169     1003.730530    3.010534   0.007146  \n",
       "1771        0.001738      711.890869  457.670959   0.002629  \n",
       "1772        0.002025      711.914978  457.820038   0.003117  \n",
       "1773        0.005048     1183.895874  710.151489   0.004049  \n",
       "1774        0.002532      712.991699  458.208557   0.003428  \n",
       "\n",
       "[1775 rows x 48 columns]"
      ]
     },
     "execution_count": 29,
     "metadata": {},
     "output_type": "execute_result"
    }
   ],
   "source": [
    "# get all h5 files\n",
    "analyzed_videos = glob.glob(str(Path(dest_path) / '*.h5'))\n",
    "print(*analyzed_videos, sep='\\n')\n",
    "pd.read_hdf(analyzed_videos[0])"
   ]
  },
  {
   "cell_type": "markdown",
   "metadata": {},
   "source": [
    "# Extract Frames from Several Analyzed Videos"
   ]
  },
  {
   "cell_type": "code",
   "execution_count": 7,
   "metadata": {},
   "outputs": [
    {
     "name": "stdout",
     "output_type": "stream",
     "text": [
      "rat4-lps2\n",
      "\tframe 1110\n",
      "\tframe 470\n",
      "\tframe 1151\n",
      "\tframe 1185\n",
      "\tframe 1130\n",
      "\tframe 624\n",
      "\tframe 867\n",
      "\tframe 447\n",
      "\tframe 847\n",
      "\tframe 372\n",
      "rat3-control2\n",
      "\tframe 2038\n",
      "\tframe 1894\n",
      "\tframe 3333\n",
      "\tframe 999\n",
      "\tframe 3247\n",
      "\tframe 3349\n",
      "\tframe 1802\n",
      "\tframe 3567\n",
      "\tframe 2136\n",
      "\tframe 2033\n",
      "rat3-lps2\n",
      "\tframe 472\n",
      "\tframe 790\n",
      "\tframe 2415\n",
      "\tframe 1330\n",
      "\tframe 2573\n",
      "\tframe 530\n",
      "\tframe 702\n",
      "\tframe 181\n",
      "\tframe 1671\n",
      "\tframe 2318\n",
      "rat4-control1\n",
      "\tframe 1983\n",
      "\tframe 4223\n",
      "\tframe 367\n",
      "\tframe 4827\n",
      "\tframe 2925\n",
      "\tframe 5113\n",
      "\tframe 957\n",
      "\tframe 396\n",
      "\tframe 10452\n",
      "\tframe 3140\n",
      "rat3-control4\n",
      "\tframe 1169\n",
      "\tframe 621\n",
      "\tframe 633\n",
      "\tframe 1362\n",
      "\tframe 1188\n",
      "\tframe 642\n",
      "\tframe 1001\n",
      "\tframe 151\n",
      "\tframe 730\n",
      "\tframe 612\n",
      "rat1-control2\n",
      "\tframe 1806\n",
      "\tframe 112\n",
      "\tframe 585\n",
      "\tframe 2566\n",
      "\tframe 644\n",
      "\tframe 2039\n",
      "\tframe 528\n",
      "\tframe 817\n",
      "\tframe 1214\n",
      "\tframe 523\n",
      "rat2-lps1\n",
      "\tframe 12276\n",
      "\tframe 12685\n",
      "\tframe 6316\n",
      "\tframe 12603\n",
      "\tframe 11508\n",
      "\tframe 10316\n",
      "\tframe 937\n",
      "\tframe 3987\n",
      "\tframe 11433\n",
      "\tframe 2563\n",
      "rat2-control2\n",
      "\tframe 231\n",
      "\tframe 258\n",
      "\tframe 2318\n",
      "\tframe 273\n",
      "\tframe 1146\n",
      "\tframe 689\n",
      "\tframe 1388\n",
      "\tframe 2148\n",
      "\tframe 1864\n",
      "\tframe 692\n",
      "rat2-control4\n",
      "\tframe 1843\n",
      "\tframe 530\n",
      "\tframe 567\n",
      "\tframe 1205\n",
      "\tframe 918\n",
      "\tframe 825\n",
      "\tframe 890\n",
      "\tframe 854\n",
      "\tframe 1179\n",
      "\tframe 1216\n",
      "rat3-lps1\n",
      "\tframe 175\n",
      "\tframe 12572\n",
      "\tframe 2244\n",
      "\tframe 9621\n",
      "\tframe 11206\n",
      "\tframe 8592\n",
      "\tframe 11818\n",
      "\tframe 9011\n",
      "\tframe 4449\n",
      "\tframe 11303\n",
      "rat2-lps3\n",
      "\tframe 1537\n",
      "\tframe 1511\n",
      "\tframe 1019\n",
      "\tframe 875\n",
      "\tframe 710\n",
      "\tframe 1440\n",
      "\tframe 661\n",
      "\tframe 1152\n",
      "\tframe 1264\n",
      "\tframe 3025\n",
      "rat2-lps2\n",
      "\tframe 787\n",
      "\tframe 715\n",
      "\tframe 779\n",
      "\tframe 413\n",
      "\tframe 403\n",
      "\tframe 706\n",
      "\tframe 1309\n",
      "\tframe 850\n",
      "\tframe 648\n",
      "\tframe 30\n",
      "rat1-control1\n",
      "\tframe 10167\n",
      "\tframe 1394\n",
      "\tframe 11081\n",
      "\tframe 8474\n",
      "\tframe 10583\n",
      "\tframe 6850\n",
      "\tframe 10152\n",
      "\tframe 9971\n",
      "\tframe 2385\n",
      "\tframe 3329\n",
      "rat1-control4\n",
      "\tframe 892\n",
      "\tframe 883\n",
      "\tframe 1186\n",
      "\tframe 1748\n",
      "\tframe 1743\n",
      "\tframe 573\n",
      "\tframe 1763\n",
      "\tframe 1368\n",
      "\tframe 1577\n",
      "\tframe 1740\n",
      "rat2-control3\n",
      "\tframe 8759\n",
      "\tframe 9042\n",
      "\tframe 8344\n",
      "\tframe 11791\n",
      "\tframe 8815\n",
      "\tframe 361\n",
      "\tframe 12211\n",
      "\tframe 5359\n",
      "\tframe 5345\n",
      "\tframe 12081\n",
      "rat2-lps4\n",
      "\tframe 3\n",
      "\tframe 3\n",
      "\tframe 3\n",
      "\tframe 3\n",
      "\tframe 3\n",
      "\tframe 3\n",
      "\tframe 4\n",
      "\tframe 4\n",
      "\tframe 2\n",
      "\tframe 2\n",
      "rat1-control3\n",
      "\tframe 1569\n",
      "\tframe 4431\n",
      "\tframe 6200\n",
      "\tframe 1081\n",
      "\tframe 7476\n",
      "\tframe 11083\n",
      "\tframe 4302\n",
      "\tframe 762\n",
      "\tframe 939\n",
      "\tframe 11064\n",
      "rat4-control2\n",
      "\tframe 1530\n",
      "\tframe 1547\n",
      "\tframe 1366\n",
      "\tframe 2118\n",
      "\tframe 2166\n",
      "\tframe 2120\n",
      "\tframe 2159\n",
      "\tframe 2135\n",
      "\tframe 2209\n",
      "\tframe 2035\n",
      "rat3-control1\n",
      "\tframe 11452\n",
      "\tframe 8518\n",
      "\tframe 816\n",
      "\tframe 11313\n",
      "\tframe 8312\n",
      "\tframe 10155\n",
      "\tframe 5699\n",
      "\tframe 472\n",
      "\tframe 12448\n",
      "\tframe 6793\n",
      "rat2-control1\n",
      "\tframe 3941\n",
      "\tframe 8371\n",
      "\tframe 4562\n",
      "\tframe 2195\n",
      "\tframe 6056\n",
      "\tframe 11279\n",
      "\tframe 3947\n",
      "\tframe 1520\n",
      "\tframe 12373\n",
      "\tframe 2954\n",
      "rat3-control3\n",
      "\tframe 5609\n",
      "\tframe 6328\n",
      "\tframe 5615\n",
      "\tframe 9821\n",
      "\tframe 10383\n",
      "\tframe 5818\n",
      "\tframe 7779\n",
      "\tframe 6886\n",
      "\tframe 6403\n",
      "\tframe 2785\n",
      "rat4-lps1\n",
      "\tframe 11164\n",
      "\tframe 11363\n",
      "\tframe 9878\n",
      "\tframe 10667\n",
      "\tframe 11636\n",
      "\tframe 10565\n",
      "\tframe 11194\n",
      "\tframe 8423\n",
      "\tframe 10674\n",
      "\tframe 11379\n"
     ]
    }
   ],
   "source": [
    "%matplotlib inline\n",
    "\n",
    "import cv2\n",
    "import numpy as np\n",
    "import re\n",
    "import matplotlib.pyplot as plt\n",
    "import glob \n",
    "\n",
    "unlabeled_image_dir = tempdir_path / 'unlabeled-images_rat1-4_high-confidence' \n",
    "analyzed_videos = glob.glob(str(Path('/storage/gs/rat-emotion/dlc/analyzed-videos/DLC_resnet50_Darknet-MousePoseJun9shuffle1_80000') / 'rat[1-4]*.h5'))\n",
    "\n",
    "def get_overall_confidence(df, pcutoff=0.5, n_frames=3):\n",
    "    idx_slice = pd.IndexSlice\n",
    "    df = df.copy()\n",
    "    df = df.loc[:, idx_slice[:,:,'likelihood']]\n",
    "    df = df[df > pcutoff]\n",
    "    df = df.sum(axis=1).rolling(n_frames).mean()\n",
    "    return df.fillna(0)\n",
    "\n",
    "for analyzed_video in analyzed_videos:\n",
    "    df = pd.read_hdf(analyzed_video)\n",
    "    \n",
    "    # Get the original video name\n",
    "    exp = re.compile('.*/(?P<video_name>rat\\d+\\-.*?\\d+)(?P<model>.*)\\..*')\n",
    "    match = exp.match(analyzed_video)\n",
    "    assert match\n",
    "    print(match.groupdict()['video_name'])\n",
    "    \n",
    "    # Select some frames using a weighted probability- weights determined by confident dlc features\n",
    "    pcutoff = 0.6\n",
    "    continue_flag = False\n",
    "    while True:\n",
    "        p = get_overall_confidence(df, pcutoff=pcutoff)\n",
    "        p = p.fillna(0)\n",
    "        p = p / p.sum()\n",
    "        \n",
    "        # if there are no values\n",
    "        if p.fillna(0).sum() == 0:\n",
    "            pcutoff -= 0.1\n",
    "        else:\n",
    "            break\n",
    "            \n",
    "        if pcutoff < 0.3:\n",
    "            continue_flag = True\n",
    "            break\n",
    "            \n",
    "    if continue_flag:\n",
    "        continue\n",
    "        \n",
    "    indices = np.random.choice(np.arange(0, p.shape[0]), p=p, size=10)    \n",
    "    video = Path('/storage/gs/rat-emotion/videos/24fps-shortened') / (match.groupdict()['video_name'] + '.mp4')\n",
    "    assert os.path.exists(video)\n",
    "    cap = cv2.VideoCapture(str(video))\n",
    "\n",
    "    # Save the frames\n",
    "    for idx in indices:\n",
    "        print(f'\\tframe {idx}')\n",
    "        cap.set(cv2.CAP_PROP_POS_FRAMES, idx)\n",
    "        ret, img = cap.read()\n",
    "        img = cv2.cvtColor(img, cv2.COLOR_BGR2RGB)\n",
    "        \n",
    "        save_folder = unlabeled_image_dir / match.groupdict()['video_name']\n",
    "        if not os.path.exists(save_folder):\n",
    "            os.makedirs(save_folder)\n",
    "        plt.imsave(str(unlabeled_image_dir / match.groupdict()['video_name'] / f\"frame{idx}.png\"), img)\n",
    "        \n",
    "    cap.release()"
   ]
  },
  {
   "cell_type": "markdown",
   "metadata": {},
   "source": [
    "# Show unlabeled image folders"
   ]
  },
  {
   "cell_type": "code",
   "execution_count": 12,
   "metadata": {},
   "outputs": [
    {
     "name": "stdout",
     "output_type": "stream",
     "text": [
      "gs://rat-emotion/dlc/frames-to-label/2020-06-26/\n"
     ]
    }
   ],
   "source": [
    "! gsutil ls gs://rat-emotion/dlc/frames-to-label"
   ]
  },
  {
   "cell_type": "markdown",
   "metadata": {},
   "source": [
    "# Upload frames"
   ]
  },
  {
   "cell_type": "code",
   "execution_count": 13,
   "metadata": {},
   "outputs": [
    {
     "name": "stdout",
     "output_type": "stream",
     "text": [
      "Copying file:///tmp/tmpmxdvetwd/unlabeled-images_rat1-4_high-confidence/rat1-control3/frame6200.png [Content-Type=image/png]...\n",
      "Copying file:///tmp/tmpmxdvetwd/unlabeled-images_rat1-4_high-confidence/rat1-control3/frame939.png [Content-Type=image/png]...\n",
      "Copying file:///tmp/tmpmxdvetwd/unlabeled-images_rat1-4_high-confidence/rat1-control3/frame1081.png [Content-Type=image/png]...\n",
      "Copying file:///tmp/tmpmxdvetwd/unlabeled-images_rat1-4_high-confidence/rat1-control3/frame1569.png [Content-Type=image/png]...\n",
      "- [4 files][  2.8 MiB/  2.8 MiB]                                                \n",
      "==> NOTE: You are performing a sequence of gsutil operations that may\n",
      "run significantly faster if you instead use gsutil -m cp ... Please\n",
      "see the -m section under \"gsutil help options\" for further information\n",
      "about when gsutil -m can be advantageous.\n",
      "\n",
      "Copying file:///tmp/tmpmxdvetwd/unlabeled-images_rat1-4_high-confidence/rat1-control3/frame762.png [Content-Type=image/png]...\n",
      "Copying file:///tmp/tmpmxdvetwd/unlabeled-images_rat1-4_high-confidence/rat1-control3/frame11064.png [Content-Type=image/png]...\n",
      "Copying file:///tmp/tmpmxdvetwd/unlabeled-images_rat1-4_high-confidence/rat1-control3/frame4302.png [Content-Type=image/png]...\n",
      "Copying file:///tmp/tmpmxdvetwd/unlabeled-images_rat1-4_high-confidence/rat1-control3/frame4431.png [Content-Type=image/png]...\n",
      "Copying file:///tmp/tmpmxdvetwd/unlabeled-images_rat1-4_high-confidence/rat1-control3/frame7476.png [Content-Type=image/png]...\n",
      "Copying file:///tmp/tmpmxdvetwd/unlabeled-images_rat1-4_high-confidence/rat1-control3/frame11083.png [Content-Type=image/png]...\n",
      "Copying file:///tmp/tmpmxdvetwd/unlabeled-images_rat1-4_high-confidence/rat1-control2/frame2566.png [Content-Type=image/png]...\n",
      "Copying file:///tmp/tmpmxdvetwd/unlabeled-images_rat1-4_high-confidence/rat1-control2/frame1806.png [Content-Type=image/png]...\n",
      "Copying file:///tmp/tmpmxdvetwd/unlabeled-images_rat1-4_high-confidence/rat1-control2/frame585.png [Content-Type=image/png]...\n",
      "Copying file:///tmp/tmpmxdvetwd/unlabeled-images_rat1-4_high-confidence/rat1-control2/frame523.png [Content-Type=image/png]...\n",
      "Copying file:///tmp/tmpmxdvetwd/unlabeled-images_rat1-4_high-confidence/rat1-control2/frame2039.png [Content-Type=image/png]...\n",
      "Copying file:///tmp/tmpmxdvetwd/unlabeled-images_rat1-4_high-confidence/rat1-control2/frame112.png [Content-Type=image/png]...\n",
      "Copying file:///tmp/tmpmxdvetwd/unlabeled-images_rat1-4_high-confidence/rat1-control2/frame644.png [Content-Type=image/png]...\n",
      "Copying file:///tmp/tmpmxdvetwd/unlabeled-images_rat1-4_high-confidence/rat1-control2/frame817.png [Content-Type=image/png]...\n",
      "Copying file:///tmp/tmpmxdvetwd/unlabeled-images_rat1-4_high-confidence/rat1-control2/frame1214.png [Content-Type=image/png]...\n",
      "Copying file:///tmp/tmpmxdvetwd/unlabeled-images_rat1-4_high-confidence/rat1-control2/frame528.png [Content-Type=image/png]...\n",
      "Copying file:///tmp/tmpmxdvetwd/unlabeled-images_rat1-4_high-confidence/rat1-control4/frame1186.png [Content-Type=image/png]...\n",
      "Copying file:///tmp/tmpmxdvetwd/unlabeled-images_rat1-4_high-confidence/rat1-control4/frame1763.png [Content-Type=image/png]...\n",
      "Copying file:///tmp/tmpmxdvetwd/unlabeled-images_rat1-4_high-confidence/rat1-control4/frame1743.png [Content-Type=image/png]...\n",
      "Copying file:///tmp/tmpmxdvetwd/unlabeled-images_rat1-4_high-confidence/rat1-control4/frame573.png [Content-Type=image/png]...\n",
      "Copying file:///tmp/tmpmxdvetwd/unlabeled-images_rat1-4_high-confidence/rat1-control4/frame883.png [Content-Type=image/png]...\n",
      "Copying file:///tmp/tmpmxdvetwd/unlabeled-images_rat1-4_high-confidence/rat1-control4/frame1740.png [Content-Type=image/png]...\n",
      "Copying file:///tmp/tmpmxdvetwd/unlabeled-images_rat1-4_high-confidence/rat1-control4/frame1577.png [Content-Type=image/png]...\n",
      "Copying file:///tmp/tmpmxdvetwd/unlabeled-images_rat1-4_high-confidence/rat1-control4/frame892.png [Content-Type=image/png]...\n",
      "Copying file:///tmp/tmpmxdvetwd/unlabeled-images_rat1-4_high-confidence/rat1-control4/frame1368.png [Content-Type=image/png]...\n",
      "Copying file:///tmp/tmpmxdvetwd/unlabeled-images_rat1-4_high-confidence/rat1-control4/frame1748.png [Content-Type=image/png]...\n",
      "Copying file:///tmp/tmpmxdvetwd/unlabeled-images_rat1-4_high-confidence/rat2-lps3/frame710.png [Content-Type=image/png]...\n",
      "Copying file:///tmp/tmpmxdvetwd/unlabeled-images_rat1-4_high-confidence/rat2-lps3/frame661.png [Content-Type=image/png]...\n",
      "Copying file:///tmp/tmpmxdvetwd/unlabeled-images_rat1-4_high-confidence/rat2-lps3/frame1019.png [Content-Type=image/png]...\n",
      "Copying file:///tmp/tmpmxdvetwd/unlabeled-images_rat1-4_high-confidence/rat2-lps3/frame1537.png [Content-Type=image/png]...\n",
      "Copying file:///tmp/tmpmxdvetwd/unlabeled-images_rat1-4_high-confidence/rat2-lps3/frame3025.png [Content-Type=image/png]...\n",
      "Copying file:///tmp/tmpmxdvetwd/unlabeled-images_rat1-4_high-confidence/rat2-lps3/frame1440.png [Content-Type=image/png]...\n",
      "Copying file:///tmp/tmpmxdvetwd/unlabeled-images_rat1-4_high-confidence/rat2-lps3/frame1152.png [Content-Type=image/png]...\n",
      "Copying file:///tmp/tmpmxdvetwd/unlabeled-images_rat1-4_high-confidence/rat2-lps3/frame1511.png [Content-Type=image/png]...\n",
      "Copying file:///tmp/tmpmxdvetwd/unlabeled-images_rat1-4_high-confidence/rat2-lps3/frame875.png [Content-Type=image/png]...\n",
      "Copying file:///tmp/tmpmxdvetwd/unlabeled-images_rat1-4_high-confidence/rat2-lps3/frame1264.png [Content-Type=image/png]...\n",
      "Copying file:///tmp/tmpmxdvetwd/unlabeled-images_rat1-4_high-confidence/rat4-lps1/frame11379.png [Content-Type=image/png]...\n",
      "Copying file:///tmp/tmpmxdvetwd/unlabeled-images_rat1-4_high-confidence/rat4-lps1/frame11194.png [Content-Type=image/png]...\n",
      "Copying file:///tmp/tmpmxdvetwd/unlabeled-images_rat1-4_high-confidence/rat4-lps1/frame11164.png [Content-Type=image/png]...\n",
      "Copying file:///tmp/tmpmxdvetwd/unlabeled-images_rat1-4_high-confidence/rat4-lps1/frame10565.png [Content-Type=image/png]...\n",
      "Copying file:///tmp/tmpmxdvetwd/unlabeled-images_rat1-4_high-confidence/rat4-lps1/frame8423.png [Content-Type=image/png]...\n",
      "Copying file:///tmp/tmpmxdvetwd/unlabeled-images_rat1-4_high-confidence/rat4-lps1/frame10667.png [Content-Type=image/png]...\n",
      "Copying file:///tmp/tmpmxdvetwd/unlabeled-images_rat1-4_high-confidence/rat4-lps1/frame11636.png [Content-Type=image/png]...\n",
      "Copying file:///tmp/tmpmxdvetwd/unlabeled-images_rat1-4_high-confidence/rat4-lps1/frame11363.png [Content-Type=image/png]...\n",
      "Copying file:///tmp/tmpmxdvetwd/unlabeled-images_rat1-4_high-confidence/rat4-lps1/frame10674.png [Content-Type=image/png]...\n",
      "Copying file:///tmp/tmpmxdvetwd/unlabeled-images_rat1-4_high-confidence/rat4-lps1/frame9878.png [Content-Type=image/png]...\n",
      "Copying file:///tmp/tmpmxdvetwd/unlabeled-images_rat1-4_high-confidence/rat2-control4/frame890.png [Content-Type=image/png]...\n",
      "Copying file:///tmp/tmpmxdvetwd/unlabeled-images_rat1-4_high-confidence/rat2-control4/frame567.png [Content-Type=image/png]...\n",
      "Copying file:///tmp/tmpmxdvetwd/unlabeled-images_rat1-4_high-confidence/rat2-control4/frame1205.png [Content-Type=image/png]...\n",
      "Copying file:///tmp/tmpmxdvetwd/unlabeled-images_rat1-4_high-confidence/rat2-control4/frame1843.png [Content-Type=image/png]...\n",
      "Copying file:///tmp/tmpmxdvetwd/unlabeled-images_rat1-4_high-confidence/rat2-control4/frame825.png [Content-Type=image/png]...\n",
      "Copying file:///tmp/tmpmxdvetwd/unlabeled-images_rat1-4_high-confidence/rat2-control4/frame854.png [Content-Type=image/png]...\n",
      "Copying file:///tmp/tmpmxdvetwd/unlabeled-images_rat1-4_high-confidence/rat2-control4/frame918.png [Content-Type=image/png]...\n",
      "Copying file:///tmp/tmpmxdvetwd/unlabeled-images_rat1-4_high-confidence/rat2-control4/frame1216.png [Content-Type=image/png]...\n",
      "Copying file:///tmp/tmpmxdvetwd/unlabeled-images_rat1-4_high-confidence/rat2-control4/frame530.png [Content-Type=image/png]...\n",
      "Copying file:///tmp/tmpmxdvetwd/unlabeled-images_rat1-4_high-confidence/rat2-control4/frame1179.png [Content-Type=image/png]...\n",
      "Copying file:///tmp/tmpmxdvetwd/unlabeled-images_rat1-4_high-confidence/rat2-control1/frame3941.png [Content-Type=image/png]...\n",
      "Copying file:///tmp/tmpmxdvetwd/unlabeled-images_rat1-4_high-confidence/rat2-control1/frame3947.png [Content-Type=image/png]...\n",
      "Copying file:///tmp/tmpmxdvetwd/unlabeled-images_rat1-4_high-confidence/rat2-control1/frame8371.png [Content-Type=image/png]...\n",
      "Copying file:///tmp/tmpmxdvetwd/unlabeled-images_rat1-4_high-confidence/rat2-control1/frame2195.png [Content-Type=image/png]...\n",
      "Copying file:///tmp/tmpmxdvetwd/unlabeled-images_rat1-4_high-confidence/rat2-control1/frame4562.png [Content-Type=image/png]...\n",
      "Copying file:///tmp/tmpmxdvetwd/unlabeled-images_rat1-4_high-confidence/rat2-control1/frame2954.png [Content-Type=image/png]...\n",
      "Copying file:///tmp/tmpmxdvetwd/unlabeled-images_rat1-4_high-confidence/rat2-control1/frame12373.png [Content-Type=image/png]...\n",
      "Copying file:///tmp/tmpmxdvetwd/unlabeled-images_rat1-4_high-confidence/rat2-control1/frame6056.png [Content-Type=image/png]...\n",
      "Copying file:///tmp/tmpmxdvetwd/unlabeled-images_rat1-4_high-confidence/rat2-control1/frame11279.png [Content-Type=image/png]...\n",
      "Copying file:///tmp/tmpmxdvetwd/unlabeled-images_rat1-4_high-confidence/rat2-control1/frame1520.png [Content-Type=image/png]...\n",
      "Copying file:///tmp/tmpmxdvetwd/unlabeled-images_rat1-4_high-confidence/rat4-control1/frame1983.png [Content-Type=image/png]...\n",
      "Copying file:///tmp/tmpmxdvetwd/unlabeled-images_rat1-4_high-confidence/rat4-control1/frame4223.png [Content-Type=image/png]...\n",
      "Copying file:///tmp/tmpmxdvetwd/unlabeled-images_rat1-4_high-confidence/rat4-control1/frame4827.png [Content-Type=image/png]...\n",
      "Copying file:///tmp/tmpmxdvetwd/unlabeled-images_rat1-4_high-confidence/rat4-control1/frame5113.png [Content-Type=image/png]...\n",
      "Copying file:///tmp/tmpmxdvetwd/unlabeled-images_rat1-4_high-confidence/rat4-control1/frame957.png [Content-Type=image/png]...\n",
      "Copying file:///tmp/tmpmxdvetwd/unlabeled-images_rat1-4_high-confidence/rat4-control1/frame367.png [Content-Type=image/png]...\n",
      "Copying file:///tmp/tmpmxdvetwd/unlabeled-images_rat1-4_high-confidence/rat4-control1/frame3140.png [Content-Type=image/png]...\n",
      "Copying file:///tmp/tmpmxdvetwd/unlabeled-images_rat1-4_high-confidence/rat4-control1/frame396.png [Content-Type=image/png]...\n",
      "Copying file:///tmp/tmpmxdvetwd/unlabeled-images_rat1-4_high-confidence/rat4-control1/frame2925.png [Content-Type=image/png]...\n",
      "Copying file:///tmp/tmpmxdvetwd/unlabeled-images_rat1-4_high-confidence/rat4-control1/frame10452.png [Content-Type=image/png]...\n",
      "Copying file:///tmp/tmpmxdvetwd/unlabeled-images_rat1-4_high-confidence/rat4-control2/frame2120.png [Content-Type=image/png]...\n",
      "Copying file:///tmp/tmpmxdvetwd/unlabeled-images_rat1-4_high-confidence/rat4-control2/frame2159.png [Content-Type=image/png]...\n",
      "Copying file:///tmp/tmpmxdvetwd/unlabeled-images_rat1-4_high-confidence/rat4-control2/frame2135.png [Content-Type=image/png]...\n",
      "Copying file:///tmp/tmpmxdvetwd/unlabeled-images_rat1-4_high-confidence/rat4-control2/frame2166.png [Content-Type=image/png]...\n",
      "Copying file:///tmp/tmpmxdvetwd/unlabeled-images_rat1-4_high-confidence/rat4-control2/frame2035.png [Content-Type=image/png]...\n",
      "Copying file:///tmp/tmpmxdvetwd/unlabeled-images_rat1-4_high-confidence/rat4-control2/frame1366.png [Content-Type=image/png]...\n",
      "Copying file:///tmp/tmpmxdvetwd/unlabeled-images_rat1-4_high-confidence/rat4-control2/frame2209.png [Content-Type=image/png]...\n",
      "Copying file:///tmp/tmpmxdvetwd/unlabeled-images_rat1-4_high-confidence/rat4-control2/frame1530.png [Content-Type=image/png]...\n",
      "Copying file:///tmp/tmpmxdvetwd/unlabeled-images_rat1-4_high-confidence/rat4-control2/frame1547.png [Content-Type=image/png]...\n",
      "Copying file:///tmp/tmpmxdvetwd/unlabeled-images_rat1-4_high-confidence/rat4-control2/frame2118.png [Content-Type=image/png]...\n",
      "Copying file:///tmp/tmpmxdvetwd/unlabeled-images_rat1-4_high-confidence/rat3-lps1/frame8592.png [Content-Type=image/png]...\n",
      "Copying file:///tmp/tmpmxdvetwd/unlabeled-images_rat1-4_high-confidence/rat3-lps1/frame4449.png [Content-Type=image/png]...\n",
      "Copying file:///tmp/tmpmxdvetwd/unlabeled-images_rat1-4_high-confidence/rat3-lps1/frame11303.png [Content-Type=image/png]...\n",
      "Copying file:///tmp/tmpmxdvetwd/unlabeled-images_rat1-4_high-confidence/rat3-lps1/frame11818.png [Content-Type=image/png]...\n",
      "Copying file:///tmp/tmpmxdvetwd/unlabeled-images_rat1-4_high-confidence/rat3-lps1/frame12572.png [Content-Type=image/png]...\n",
      "Copying file:///tmp/tmpmxdvetwd/unlabeled-images_rat1-4_high-confidence/rat3-lps1/frame2244.png [Content-Type=image/png]...\n",
      "Copying file:///tmp/tmpmxdvetwd/unlabeled-images_rat1-4_high-confidence/rat3-lps1/frame11206.png [Content-Type=image/png]...\n",
      "Copying file:///tmp/tmpmxdvetwd/unlabeled-images_rat1-4_high-confidence/rat3-lps1/frame9011.png [Content-Type=image/png]...\n",
      "Copying file:///tmp/tmpmxdvetwd/unlabeled-images_rat1-4_high-confidence/rat3-lps1/frame175.png [Content-Type=image/png]...\n",
      "Copying file:///tmp/tmpmxdvetwd/unlabeled-images_rat1-4_high-confidence/rat3-lps1/frame9621.png [Content-Type=image/png]...\n",
      "Copying file:///tmp/tmpmxdvetwd/unlabeled-images_rat1-4_high-confidence/rat3-control3/frame6328.png [Content-Type=image/png]...\n",
      "Copying file:///tmp/tmpmxdvetwd/unlabeled-images_rat1-4_high-confidence/rat3-control3/frame2785.png [Content-Type=image/png]...\n",
      "Copying file:///tmp/tmpmxdvetwd/unlabeled-images_rat1-4_high-confidence/rat3-control3/frame7779.png [Content-Type=image/png]...\n",
      "Copying file:///tmp/tmpmxdvetwd/unlabeled-images_rat1-4_high-confidence/rat3-control3/frame10383.png [Content-Type=image/png]...\n",
      "Copying file:///tmp/tmpmxdvetwd/unlabeled-images_rat1-4_high-confidence/rat3-control3/frame5818.png [Content-Type=image/png]...\n",
      "Copying file:///tmp/tmpmxdvetwd/unlabeled-images_rat1-4_high-confidence/rat3-control3/frame5615.png [Content-Type=image/png]...\n",
      "Copying file:///tmp/tmpmxdvetwd/unlabeled-images_rat1-4_high-confidence/rat3-control3/frame5609.png [Content-Type=image/png]...\n",
      "Copying file:///tmp/tmpmxdvetwd/unlabeled-images_rat1-4_high-confidence/rat3-control3/frame9821.png [Content-Type=image/png]...\n",
      "Copying file:///tmp/tmpmxdvetwd/unlabeled-images_rat1-4_high-confidence/rat3-control3/frame6886.png [Content-Type=image/png]...\n",
      "Copying file:///tmp/tmpmxdvetwd/unlabeled-images_rat1-4_high-confidence/rat3-control3/frame6403.png [Content-Type=image/png]...\n",
      "Copying file:///tmp/tmpmxdvetwd/unlabeled-images_rat1-4_high-confidence/rat1-control1/frame11081.png [Content-Type=image/png]...\n",
      "Copying file:///tmp/tmpmxdvetwd/unlabeled-images_rat1-4_high-confidence/rat1-control1/frame6850.png [Content-Type=image/png]...\n",
      "Copying file:///tmp/tmpmxdvetwd/unlabeled-images_rat1-4_high-confidence/rat1-control1/frame10152.png [Content-Type=image/png]...\n",
      "Copying file:///tmp/tmpmxdvetwd/unlabeled-images_rat1-4_high-confidence/rat1-control1/frame2385.png [Content-Type=image/png]...\n",
      "Copying file:///tmp/tmpmxdvetwd/unlabeled-images_rat1-4_high-confidence/rat1-control1/frame10583.png [Content-Type=image/png]...\n",
      "Copying file:///tmp/tmpmxdvetwd/unlabeled-images_rat1-4_high-confidence/rat1-control1/frame3329.png [Content-Type=image/png]...\n",
      "Copying file:///tmp/tmpmxdvetwd/unlabeled-images_rat1-4_high-confidence/rat1-control1/frame9971.png [Content-Type=image/png]...\n",
      "Copying file:///tmp/tmpmxdvetwd/unlabeled-images_rat1-4_high-confidence/rat1-control1/frame8474.png [Content-Type=image/png]...\n",
      "Copying file:///tmp/tmpmxdvetwd/unlabeled-images_rat1-4_high-confidence/rat1-control1/frame10167.png [Content-Type=image/png]...\n",
      "Copying file:///tmp/tmpmxdvetwd/unlabeled-images_rat1-4_high-confidence/rat1-control1/frame1394.png [Content-Type=image/png]...\n",
      "Copying file:///tmp/tmpmxdvetwd/unlabeled-images_rat1-4_high-confidence/rat2-lps2/frame413.png [Content-Type=image/png]...\n",
      "Copying file:///tmp/tmpmxdvetwd/unlabeled-images_rat1-4_high-confidence/rat2-lps2/frame403.png [Content-Type=image/png]...\n",
      "Copying file:///tmp/tmpmxdvetwd/unlabeled-images_rat1-4_high-confidence/rat2-lps2/frame779.png [Content-Type=image/png]...\n",
      "Copying file:///tmp/tmpmxdvetwd/unlabeled-images_rat1-4_high-confidence/rat2-lps2/frame715.png [Content-Type=image/png]...\n",
      "Copying file:///tmp/tmpmxdvetwd/unlabeled-images_rat1-4_high-confidence/rat2-lps2/frame787.png [Content-Type=image/png]...\n",
      "Copying file:///tmp/tmpmxdvetwd/unlabeled-images_rat1-4_high-confidence/rat2-lps2/frame648.png [Content-Type=image/png]...\n",
      "Copying file:///tmp/tmpmxdvetwd/unlabeled-images_rat1-4_high-confidence/rat2-lps2/frame850.png [Content-Type=image/png]...\n",
      "Copying file:///tmp/tmpmxdvetwd/unlabeled-images_rat1-4_high-confidence/rat2-lps2/frame706.png [Content-Type=image/png]...\n",
      "Copying file:///tmp/tmpmxdvetwd/unlabeled-images_rat1-4_high-confidence/rat2-lps2/frame30.png [Content-Type=image/png]...\n",
      "Copying file:///tmp/tmpmxdvetwd/unlabeled-images_rat1-4_high-confidence/rat2-lps2/frame1309.png [Content-Type=image/png]...\n",
      "Copying file:///tmp/tmpmxdvetwd/unlabeled-images_rat1-4_high-confidence/rat2-control2/frame258.png [Content-Type=image/png]...\n",
      "Copying file:///tmp/tmpmxdvetwd/unlabeled-images_rat1-4_high-confidence/rat2-control2/frame231.png [Content-Type=image/png]...\n",
      "Copying file:///tmp/tmpmxdvetwd/unlabeled-images_rat1-4_high-confidence/rat2-control2/frame689.png [Content-Type=image/png]...\n",
      "Copying file:///tmp/tmpmxdvetwd/unlabeled-images_rat1-4_high-confidence/rat2-control2/frame273.png [Content-Type=image/png]...\n",
      "Copying file:///tmp/tmpmxdvetwd/unlabeled-images_rat1-4_high-confidence/rat2-control2/frame2318.png [Content-Type=image/png]...\n",
      "Copying file:///tmp/tmpmxdvetwd/unlabeled-images_rat1-4_high-confidence/rat2-control2/frame1864.png [Content-Type=image/png]...\n",
      "Copying file:///tmp/tmpmxdvetwd/unlabeled-images_rat1-4_high-confidence/rat2-control2/frame692.png [Content-Type=image/png]...\n",
      "Copying file:///tmp/tmpmxdvetwd/unlabeled-images_rat1-4_high-confidence/rat2-control2/frame1388.png [Content-Type=image/png]...\n",
      "Copying file:///tmp/tmpmxdvetwd/unlabeled-images_rat1-4_high-confidence/rat2-control2/frame2148.png [Content-Type=image/png]...\n",
      "Copying file:///tmp/tmpmxdvetwd/unlabeled-images_rat1-4_high-confidence/rat2-control2/frame1146.png [Content-Type=image/png]...\n",
      "Copying file:///tmp/tmpmxdvetwd/unlabeled-images_rat1-4_high-confidence/rat2-lps4/frame2.png [Content-Type=image/png]...\n",
      "Copying file:///tmp/tmpmxdvetwd/unlabeled-images_rat1-4_high-confidence/rat2-lps4/frame4.png [Content-Type=image/png]...\n",
      "Copying file:///tmp/tmpmxdvetwd/unlabeled-images_rat1-4_high-confidence/rat2-lps4/frame3.png [Content-Type=image/png]...\n",
      "Copying file:///tmp/tmpmxdvetwd/unlabeled-images_rat1-4_high-confidence/rat4-lps2/frame447.png [Content-Type=image/png]...\n",
      "Copying file:///tmp/tmpmxdvetwd/unlabeled-images_rat1-4_high-confidence/rat4-lps2/frame1151.png [Content-Type=image/png]...\n",
      "Copying file:///tmp/tmpmxdvetwd/unlabeled-images_rat1-4_high-confidence/rat4-lps2/frame1130.png [Content-Type=image/png]...\n",
      "Copying file:///tmp/tmpmxdvetwd/unlabeled-images_rat1-4_high-confidence/rat4-lps2/frame372.png [Content-Type=image/png]...\n",
      "Copying file:///tmp/tmpmxdvetwd/unlabeled-images_rat1-4_high-confidence/rat4-lps2/frame867.png [Content-Type=image/png]...\n",
      "Copying file:///tmp/tmpmxdvetwd/unlabeled-images_rat1-4_high-confidence/rat4-lps2/frame1110.png [Content-Type=image/png]...\n",
      "Copying file:///tmp/tmpmxdvetwd/unlabeled-images_rat1-4_high-confidence/rat4-lps2/frame470.png [Content-Type=image/png]...\n",
      "Copying file:///tmp/tmpmxdvetwd/unlabeled-images_rat1-4_high-confidence/rat4-lps2/frame624.png [Content-Type=image/png]...\n",
      "Copying file:///tmp/tmpmxdvetwd/unlabeled-images_rat1-4_high-confidence/rat4-lps2/frame1185.png [Content-Type=image/png]...\n",
      "Copying file:///tmp/tmpmxdvetwd/unlabeled-images_rat1-4_high-confidence/rat4-lps2/frame847.png [Content-Type=image/png]...\n",
      "Copying file:///tmp/tmpmxdvetwd/unlabeled-images_rat1-4_high-confidence/rat3-control1/frame5699.png [Content-Type=image/png]...\n",
      "Copying file:///tmp/tmpmxdvetwd/unlabeled-images_rat1-4_high-confidence/rat3-control1/frame8518.png [Content-Type=image/png]...\n",
      "Copying file:///tmp/tmpmxdvetwd/unlabeled-images_rat1-4_high-confidence/rat3-control1/frame472.png [Content-Type=image/png]...\n",
      "Copying file:///tmp/tmpmxdvetwd/unlabeled-images_rat1-4_high-confidence/rat3-control1/frame10155.png [Content-Type=image/png]...\n",
      "Copying file:///tmp/tmpmxdvetwd/unlabeled-images_rat1-4_high-confidence/rat3-control1/frame11452.png [Content-Type=image/png]...\n",
      "Copying file:///tmp/tmpmxdvetwd/unlabeled-images_rat1-4_high-confidence/rat3-control1/frame11313.png [Content-Type=image/png]...\n",
      "Copying file:///tmp/tmpmxdvetwd/unlabeled-images_rat1-4_high-confidence/rat3-control1/frame816.png [Content-Type=image/png]...\n",
      "Copying file:///tmp/tmpmxdvetwd/unlabeled-images_rat1-4_high-confidence/rat3-control1/frame8312.png [Content-Type=image/png]...\n",
      "Copying file:///tmp/tmpmxdvetwd/unlabeled-images_rat1-4_high-confidence/rat3-control1/frame12448.png [Content-Type=image/png]...\n",
      "Copying file:///tmp/tmpmxdvetwd/unlabeled-images_rat1-4_high-confidence/rat3-control1/frame6793.png [Content-Type=image/png]...\n",
      "Copying file:///tmp/tmpmxdvetwd/unlabeled-images_rat1-4_high-confidence/rat3-lps2/frame2415.png [Content-Type=image/png]...\n",
      "Copying file:///tmp/tmpmxdvetwd/unlabeled-images_rat1-4_high-confidence/rat3-lps2/frame1330.png [Content-Type=image/png]...\n",
      "Copying file:///tmp/tmpmxdvetwd/unlabeled-images_rat1-4_high-confidence/rat3-lps2/frame702.png [Content-Type=image/png]...\n",
      "Copying file:///tmp/tmpmxdvetwd/unlabeled-images_rat1-4_high-confidence/rat3-lps2/frame472.png [Content-Type=image/png]...\n",
      "Copying file:///tmp/tmpmxdvetwd/unlabeled-images_rat1-4_high-confidence/rat3-lps2/frame2573.png [Content-Type=image/png]...\n",
      "Copying file:///tmp/tmpmxdvetwd/unlabeled-images_rat1-4_high-confidence/rat3-lps2/frame790.png [Content-Type=image/png]...\n",
      "Copying file:///tmp/tmpmxdvetwd/unlabeled-images_rat1-4_high-confidence/rat3-lps2/frame2318.png [Content-Type=image/png]...\n",
      "Copying file:///tmp/tmpmxdvetwd/unlabeled-images_rat1-4_high-confidence/rat3-lps2/frame1671.png [Content-Type=image/png]...\n",
      "Copying file:///tmp/tmpmxdvetwd/unlabeled-images_rat1-4_high-confidence/rat3-lps2/frame530.png [Content-Type=image/png]...\n",
      "Copying file:///tmp/tmpmxdvetwd/unlabeled-images_rat1-4_high-confidence/rat3-lps2/frame181.png [Content-Type=image/png]...\n",
      "Copying file:///tmp/tmpmxdvetwd/unlabeled-images_rat1-4_high-confidence/rat3-control4/frame1001.png [Content-Type=image/png]...\n",
      "Copying file:///tmp/tmpmxdvetwd/unlabeled-images_rat1-4_high-confidence/rat3-control4/frame642.png [Content-Type=image/png]...\n",
      "Copying file:///tmp/tmpmxdvetwd/unlabeled-images_rat1-4_high-confidence/rat3-control4/frame151.png [Content-Type=image/png]...\n",
      "Copying file:///tmp/tmpmxdvetwd/unlabeled-images_rat1-4_high-confidence/rat3-control4/frame1169.png [Content-Type=image/png]...\n",
      "Copying file:///tmp/tmpmxdvetwd/unlabeled-images_rat1-4_high-confidence/rat3-control4/frame612.png [Content-Type=image/png]...\n",
      "Copying file:///tmp/tmpmxdvetwd/unlabeled-images_rat1-4_high-confidence/rat3-control4/frame633.png [Content-Type=image/png]...\n",
      "Copying file:///tmp/tmpmxdvetwd/unlabeled-images_rat1-4_high-confidence/rat3-control4/frame1362.png [Content-Type=image/png]...\n",
      "Copying file:///tmp/tmpmxdvetwd/unlabeled-images_rat1-4_high-confidence/rat3-control4/frame621.png [Content-Type=image/png]...\n",
      "Copying file:///tmp/tmpmxdvetwd/unlabeled-images_rat1-4_high-confidence/rat3-control4/frame730.png [Content-Type=image/png]...\n",
      "Copying file:///tmp/tmpmxdvetwd/unlabeled-images_rat1-4_high-confidence/rat3-control4/frame1188.png [Content-Type=image/png]...\n",
      "Copying file:///tmp/tmpmxdvetwd/unlabeled-images_rat1-4_high-confidence/rat2-control3/frame8759.png [Content-Type=image/png]...\n",
      "Copying file:///tmp/tmpmxdvetwd/unlabeled-images_rat1-4_high-confidence/rat2-control3/frame9042.png [Content-Type=image/png]...\n",
      "Copying file:///tmp/tmpmxdvetwd/unlabeled-images_rat1-4_high-confidence/rat2-control3/frame12211.png [Content-Type=image/png]...\n",
      "Copying file:///tmp/tmpmxdvetwd/unlabeled-images_rat1-4_high-confidence/rat2-control3/frame361.png [Content-Type=image/png]...\n",
      "Copying file:///tmp/tmpmxdvetwd/unlabeled-images_rat1-4_high-confidence/rat2-control3/frame8815.png [Content-Type=image/png]...\n",
      "Copying file:///tmp/tmpmxdvetwd/unlabeled-images_rat1-4_high-confidence/rat2-control3/frame5345.png [Content-Type=image/png]...\n",
      "Copying file:///tmp/tmpmxdvetwd/unlabeled-images_rat1-4_high-confidence/rat2-control3/frame11791.png [Content-Type=image/png]...\n",
      "Copying file:///tmp/tmpmxdvetwd/unlabeled-images_rat1-4_high-confidence/rat2-control3/frame12081.png [Content-Type=image/png]...\n",
      "Copying file:///tmp/tmpmxdvetwd/unlabeled-images_rat1-4_high-confidence/rat2-control3/frame5359.png [Content-Type=image/png]...\n",
      "Copying file:///tmp/tmpmxdvetwd/unlabeled-images_rat1-4_high-confidence/rat2-control3/frame8344.png [Content-Type=image/png]...\n",
      "Copying file:///tmp/tmpmxdvetwd/unlabeled-images_rat1-4_high-confidence/rat3-control2/frame3349.png [Content-Type=image/png]...\n",
      "Copying file:///tmp/tmpmxdvetwd/unlabeled-images_rat1-4_high-confidence/rat3-control2/frame999.png [Content-Type=image/png]...\n",
      "Copying file:///tmp/tmpmxdvetwd/unlabeled-images_rat1-4_high-confidence/rat3-control2/frame2038.png [Content-Type=image/png]...\n",
      "Copying file:///tmp/tmpmxdvetwd/unlabeled-images_rat1-4_high-confidence/rat3-control2/frame3333.png [Content-Type=image/png]...\n",
      "Copying file:///tmp/tmpmxdvetwd/unlabeled-images_rat1-4_high-confidence/rat3-control2/frame2136.png [Content-Type=image/png]...\n",
      "Copying file:///tmp/tmpmxdvetwd/unlabeled-images_rat1-4_high-confidence/rat3-control2/frame1894.png [Content-Type=image/png]...\n",
      "Copying file:///tmp/tmpmxdvetwd/unlabeled-images_rat1-4_high-confidence/rat3-control2/frame2033.png [Content-Type=image/png]...\n",
      "Copying file:///tmp/tmpmxdvetwd/unlabeled-images_rat1-4_high-confidence/rat3-control2/frame1802.png [Content-Type=image/png]...\n",
      "Copying file:///tmp/tmpmxdvetwd/unlabeled-images_rat1-4_high-confidence/rat3-control2/frame3247.png [Content-Type=image/png]...\n",
      "Copying file:///tmp/tmpmxdvetwd/unlabeled-images_rat1-4_high-confidence/rat3-control2/frame3567.png [Content-Type=image/png]...\n",
      "Copying file:///tmp/tmpmxdvetwd/unlabeled-images_rat1-4_high-confidence/rat2-lps1/frame11508.png [Content-Type=image/png]...\n",
      "Copying file:///tmp/tmpmxdvetwd/unlabeled-images_rat1-4_high-confidence/rat2-lps1/frame6316.png [Content-Type=image/png]...\n",
      "Copying file:///tmp/tmpmxdvetwd/unlabeled-images_rat1-4_high-confidence/rat2-lps1/frame937.png [Content-Type=image/png]...\n",
      "Copying file:///tmp/tmpmxdvetwd/unlabeled-images_rat1-4_high-confidence/rat2-lps1/frame12685.png [Content-Type=image/png]...\n",
      "Copying file:///tmp/tmpmxdvetwd/unlabeled-images_rat1-4_high-confidence/rat2-lps1/frame2563.png [Content-Type=image/png]...\n",
      "Copying file:///tmp/tmpmxdvetwd/unlabeled-images_rat1-4_high-confidence/rat2-lps1/frame12603.png [Content-Type=image/png]...\n",
      "Copying file:///tmp/tmpmxdvetwd/unlabeled-images_rat1-4_high-confidence/rat2-lps1/frame12276.png [Content-Type=image/png]...\n",
      "Copying file:///tmp/tmpmxdvetwd/unlabeled-images_rat1-4_high-confidence/rat2-lps1/frame10316.png [Content-Type=image/png]...\n",
      "Copying file:///tmp/tmpmxdvetwd/unlabeled-images_rat1-4_high-confidence/rat2-lps1/frame11433.png [Content-Type=image/png]...\n",
      "Copying file:///tmp/tmpmxdvetwd/unlabeled-images_rat1-4_high-confidence/rat2-lps1/frame3987.png [Content-Type=image/png]...\n",
      "| [213 files][148.6 MiB/148.6 MiB]    2.9 MiB/s                                 \n",
      "==> NOTE: You are performing a sequence of gsutil operations that may\n",
      "run significantly faster if you instead use gsutil -m cp ... Please\n",
      "see the -m section under \"gsutil help options\" for further information\n",
      "about when gsutil -m can be advantageous.\n",
      "\n",
      "\n",
      "Operation completed over 213 objects/148.6 MiB.                                  \n"
     ]
    }
   ],
   "source": [
    "! gsutil cp -r {tempdir_path / 'unlabeled-images_rat1-4_high-confidence'} gs://rat-emotion/dlc/frames-to-label/2020-07-21"
   ]
  },
  {
   "cell_type": "code",
   "execution_count": 143,
   "metadata": {},
   "outputs": [
    {
     "name": "stdout",
     "output_type": "stream",
     "text": [
      "frame1177.png\n"
     ]
    }
   ],
   "source": [
    "! ls {tempdir_path / 'unlabeled-images_rat1-4_high-confidence' / 'rat4-lps2'}"
   ]
  },
  {
   "cell_type": "code",
   "execution_count": 136,
   "metadata": {},
   "outputs": [],
   "source": [
    "! rm -rf {tempdir_path / 'unlabeled-images_rat1-4_high-confidence'}"
   ]
  }
 ],
 "metadata": {
  "kernelspec": {
   "display_name": "DLC-GPU",
   "language": "python",
   "name": "dlc-gpu"
  },
  "language_info": {
   "codemirror_mode": {
    "name": "ipython",
    "version": 3
   },
   "file_extension": ".py",
   "mimetype": "text/x-python",
   "name": "python",
   "nbconvert_exporter": "python",
   "pygments_lexer": "ipython3",
   "version": "3.7.7"
  }
 },
 "nbformat": 4,
 "nbformat_minor": 4
}
