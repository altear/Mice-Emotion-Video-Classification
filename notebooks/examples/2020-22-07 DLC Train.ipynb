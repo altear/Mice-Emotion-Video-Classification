{
 "cells": [
  {
   "cell_type": "code",
   "execution_count": 1,
   "metadata": {},
   "outputs": [
    {
     "name": "stdout",
     "output_type": "stream",
     "text": [
      "DLC loaded in light mode; you cannot use any GUI (labeling, relabeling and standalone GUI)\n"
     ]
    }
   ],
   "source": [
    "import deeplabcut\n",
    "import os\n",
    "\n",
    "os.environ['TF_FORCE_GPU_ALLOW_GROWTH'] = 'true'"
   ]
  },
  {
   "cell_type": "markdown",
   "metadata": {},
   "source": [
    "# Download DLC Project"
   ]
  },
  {
   "cell_type": "code",
   "execution_count": 5,
   "metadata": {},
   "outputs": [
    {
     "name": "stdout",
     "output_type": "stream",
     "text": [
      "\u001b[0m\u001b[01;34mDarknet-MousePose-AndreTelfer-2020-06-09\u001b[0m/  local-setup.ipynb\n",
      "\u001b[01;34mMousePose-AndreTelfer-2020-05-21\u001b[0m/\n"
     ]
    }
   ],
   "source": [
    "ls /storage/repos/Mouse-Emotion-Video-Classification/pose-estimation/"
   ]
  },
  {
   "cell_type": "code",
   "execution_count": 2,
   "metadata": {},
   "outputs": [
    {
     "name": "stdout",
     "output_type": "stream",
     "text": [
      "gs://rat-emotion/dlc/projects/config.yaml\n",
      "gs://rat-emotion/dlc/projects/MousePose-AndreTelfer-2020-07-21/\n",
      "gs://rat-emotion/dlc/projects/labeled-data/\n"
     ]
    }
   ],
   "source": [
    "! gsutil ls gs://rat-emotion/dlc/projects"
   ]
  },
  {
   "cell_type": "code",
   "execution_count": 6,
   "metadata": {},
   "outputs": [
    {
     "name": "stdout",
     "output_type": "stream",
     "text": [
      "Copying gs://rat-emotion/dlc/projects/MousePose-AndreTelfer-2020-07-21/config.yaml...\n",
      "Copying gs://rat-emotion/dlc/projects/MousePose-AndreTelfer-2020-07-21/dlc-models/iteration-0/MousePoseJul21-trainset95shuffle1/test/pose_cfg.yaml...\n",
      "Copying gs://rat-emotion/dlc/projects/MousePose-AndreTelfer-2020-07-21/dlc-models/iteration-0/MousePoseJul21-trainset95shuffle1/train/checkpoint...\n",
      "Copying gs://rat-emotion/dlc/projects/MousePose-AndreTelfer-2020-07-21/dlc-models/iteration-0/MousePoseJul21-trainset95shuffle1/train/learning_stats.csv...\n",
      "- [4 files][  5.7 KiB/  5.7 KiB]                                                \n",
      "==> NOTE: You are performing a sequence of gsutil operations that may\n",
      "run significantly faster if you instead use gsutil -m cp ... Please\n",
      "see the -m section under \"gsutil help options\" for further information\n",
      "about when gsutil -m can be advantageous.\n",
      "\n",
      "Copying gs://rat-emotion/dlc/projects/MousePose-AndreTelfer-2020-07-21/dlc-models/iteration-0/MousePoseJul21-trainset95shuffle1/train/log.txt...\n",
      "Copying gs://rat-emotion/dlc/projects/MousePose-AndreTelfer-2020-07-21/dlc-models/iteration-0/MousePoseJul21-trainset95shuffle1/train/log/events.out.tfevents.1595397574.22f4702df335...\n",
      "Copying gs://rat-emotion/dlc/projects/MousePose-AndreTelfer-2020-07-21/dlc-models/iteration-0/MousePoseJul21-trainset95shuffle1/train/pose_cfg.yaml...\n",
      "Copying gs://rat-emotion/dlc/projects/MousePose-AndreTelfer-2020-07-21/dlc-models/iteration-0/MousePoseJul21-trainset95shuffle1/train/snapshot-100000.data-00000-of-00001...\n",
      "Copying gs://rat-emotion/dlc/projects/MousePose-AndreTelfer-2020-07-21/dlc-models/iteration-0/MousePoseJul21-trainset95shuffle1/train/snapshot-100000.index...\n",
      "Copying gs://rat-emotion/dlc/projects/MousePose-AndreTelfer-2020-07-21/dlc-models/iteration-0/MousePoseJul21-trainset95shuffle1/train/snapshot-100000.meta...\n",
      "Copying gs://rat-emotion/dlc/projects/MousePose-AndreTelfer-2020-07-21/dlc-models/iteration-0/MousePoseJul21-trainset95shuffle1/train/snapshot-150000.data-00000-of-00001...\n",
      "Copying gs://rat-emotion/dlc/projects/MousePose-AndreTelfer-2020-07-21/dlc-models/iteration-0/MousePoseJul21-trainset95shuffle1/train/snapshot-150000.index...\n",
      "Copying gs://rat-emotion/dlc/projects/MousePose-AndreTelfer-2020-07-21/dlc-models/iteration-0/MousePoseJul21-trainset95shuffle1/train/snapshot-150000.meta...\n",
      "Copying gs://rat-emotion/dlc/projects/MousePose-AndreTelfer-2020-07-21/dlc-models/iteration-0/MousePoseJul21-trainset95shuffle1/train/snapshot-50000.data-00000-of-00001...\n",
      "Copying gs://rat-emotion/dlc/projects/MousePose-AndreTelfer-2020-07-21/dlc-models/iteration-0/MousePoseJul21-trainset95shuffle1/train/snapshot-50000.index...\n",
      "Copying gs://rat-emotion/dlc/projects/MousePose-AndreTelfer-2020-07-21/dlc-models/iteration-0/MousePoseJul21-trainset95shuffle1/train/snapshot-50000.meta...\n",
      "Copying gs://rat-emotion/dlc/projects/MousePose-AndreTelfer-2020-07-21/labeled-data/rat1-control1/CollectedData_AndreTelfer.csv...\n",
      "Copying gs://rat-emotion/dlc/projects/MousePose-AndreTelfer-2020-07-21/labeled-data/rat1-control1/CollectedData_AndreTelfer.h5...\n",
      "Copying gs://rat-emotion/dlc/projects/MousePose-AndreTelfer-2020-07-21/labeled-data/rat1-control1/frame10152.png...\n",
      "Copying gs://rat-emotion/dlc/projects/MousePose-AndreTelfer-2020-07-21/labeled-data/rat1-control1/frame10167.png...\n",
      "Copying gs://rat-emotion/dlc/projects/MousePose-AndreTelfer-2020-07-21/labeled-data/rat1-control1/frame10583.png...\n",
      "Copying gs://rat-emotion/dlc/projects/MousePose-AndreTelfer-2020-07-21/labeled-data/rat1-control1/frame11081.png...\n",
      "Copying gs://rat-emotion/dlc/projects/MousePose-AndreTelfer-2020-07-21/labeled-data/rat1-control1/frame1394.png...\n",
      "Copying gs://rat-emotion/dlc/projects/MousePose-AndreTelfer-2020-07-21/labeled-data/rat1-control1/frame2385.png...\n",
      "Copying gs://rat-emotion/dlc/projects/MousePose-AndreTelfer-2020-07-21/labeled-data/rat1-control1/frame3329.png...\n",
      "Copying gs://rat-emotion/dlc/projects/MousePose-AndreTelfer-2020-07-21/labeled-data/rat1-control1/frame6850.png...\n",
      "Copying gs://rat-emotion/dlc/projects/MousePose-AndreTelfer-2020-07-21/labeled-data/rat1-control1/frame8474.png...\n",
      "Copying gs://rat-emotion/dlc/projects/MousePose-AndreTelfer-2020-07-21/labeled-data/rat1-control1/frame9971.png...\n",
      "Copying gs://rat-emotion/dlc/projects/MousePose-AndreTelfer-2020-07-21/labeled-data/rat1-control2/CollectedData_AndreTelfer.csv...\n",
      "Copying gs://rat-emotion/dlc/projects/MousePose-AndreTelfer-2020-07-21/labeled-data/rat1-control2/CollectedData_AndreTelfer.h5...\n",
      "Copying gs://rat-emotion/dlc/projects/MousePose-AndreTelfer-2020-07-21/labeled-data/rat1-control2/frame112.png...\n",
      "Copying gs://rat-emotion/dlc/projects/MousePose-AndreTelfer-2020-07-21/labeled-data/rat1-control2/frame1214.png...\n",
      "Copying gs://rat-emotion/dlc/projects/MousePose-AndreTelfer-2020-07-21/labeled-data/rat1-control2/frame1806.png...\n",
      "Copying gs://rat-emotion/dlc/projects/MousePose-AndreTelfer-2020-07-21/labeled-data/rat1-control2/frame2039.png...\n",
      "Copying gs://rat-emotion/dlc/projects/MousePose-AndreTelfer-2020-07-21/labeled-data/rat1-control2/frame2566.png...\n",
      "Copying gs://rat-emotion/dlc/projects/MousePose-AndreTelfer-2020-07-21/labeled-data/rat1-control2/frame523.png...\n",
      "Copying gs://rat-emotion/dlc/projects/MousePose-AndreTelfer-2020-07-21/labeled-data/rat1-control2/frame528.png...\n",
      "Copying gs://rat-emotion/dlc/projects/MousePose-AndreTelfer-2020-07-21/labeled-data/rat1-control2/frame585.png...\n",
      "Copying gs://rat-emotion/dlc/projects/MousePose-AndreTelfer-2020-07-21/labeled-data/rat1-control2/frame644.png...\n",
      "Copying gs://rat-emotion/dlc/projects/MousePose-AndreTelfer-2020-07-21/labeled-data/rat1-control2/frame817.png...\n",
      "Copying gs://rat-emotion/dlc/projects/MousePose-AndreTelfer-2020-07-21/labeled-data/rat1-control3/CollectedData_AndreTelfer.csv...\n",
      "Copying gs://rat-emotion/dlc/projects/MousePose-AndreTelfer-2020-07-21/labeled-data/rat1-control3/CollectedData_AndreTelfer.h5...\n",
      "Copying gs://rat-emotion/dlc/projects/MousePose-AndreTelfer-2020-07-21/labeled-data/rat1-control3/frame1081.png...\n",
      "Copying gs://rat-emotion/dlc/projects/MousePose-AndreTelfer-2020-07-21/labeled-data/rat1-control3/frame11064.png...\n",
      "Copying gs://rat-emotion/dlc/projects/MousePose-AndreTelfer-2020-07-21/labeled-data/rat1-control3/frame11083.png...\n",
      "Copying gs://rat-emotion/dlc/projects/MousePose-AndreTelfer-2020-07-21/labeled-data/rat1-control3/frame1569.png...\n",
      "Copying gs://rat-emotion/dlc/projects/MousePose-AndreTelfer-2020-07-21/labeled-data/rat1-control3/frame4302.png...\n",
      "Copying gs://rat-emotion/dlc/projects/MousePose-AndreTelfer-2020-07-21/labeled-data/rat1-control3/frame4431.png...\n",
      "Copying gs://rat-emotion/dlc/projects/MousePose-AndreTelfer-2020-07-21/labeled-data/rat1-control3/frame6200.png...\n",
      "Copying gs://rat-emotion/dlc/projects/MousePose-AndreTelfer-2020-07-21/labeled-data/rat1-control3/frame7476.png...\n",
      "Copying gs://rat-emotion/dlc/projects/MousePose-AndreTelfer-2020-07-21/labeled-data/rat1-control3/frame762.png...\n",
      "Copying gs://rat-emotion/dlc/projects/MousePose-AndreTelfer-2020-07-21/labeled-data/rat1-control3/frame939.png...\n",
      "Copying gs://rat-emotion/dlc/projects/MousePose-AndreTelfer-2020-07-21/labeled-data/rat1-control4/CollectedData_AndreTelfer.csv...\n",
      "Copying gs://rat-emotion/dlc/projects/MousePose-AndreTelfer-2020-07-21/labeled-data/rat1-control4/CollectedData_AndreTelfer.h5...\n",
      "Copying gs://rat-emotion/dlc/projects/MousePose-AndreTelfer-2020-07-21/labeled-data/rat1-control4/frame1186.png...\n",
      "Copying gs://rat-emotion/dlc/projects/MousePose-AndreTelfer-2020-07-21/labeled-data/rat1-control4/frame1368.png...\n",
      "Copying gs://rat-emotion/dlc/projects/MousePose-AndreTelfer-2020-07-21/labeled-data/rat1-control4/frame1577.png...\n",
      "Copying gs://rat-emotion/dlc/projects/MousePose-AndreTelfer-2020-07-21/labeled-data/rat1-control4/frame1740.png...\n",
      "Copying gs://rat-emotion/dlc/projects/MousePose-AndreTelfer-2020-07-21/labeled-data/rat1-control4/frame1743.png...\n",
      "Copying gs://rat-emotion/dlc/projects/MousePose-AndreTelfer-2020-07-21/labeled-data/rat1-control4/frame1748.png...\n",
      "Copying gs://rat-emotion/dlc/projects/MousePose-AndreTelfer-2020-07-21/labeled-data/rat1-control4/frame1763.png...\n",
      "Copying gs://rat-emotion/dlc/projects/MousePose-AndreTelfer-2020-07-21/labeled-data/rat1-control4/frame573.png...\n",
      "Copying gs://rat-emotion/dlc/projects/MousePose-AndreTelfer-2020-07-21/labeled-data/rat1-control4/frame883.png...\n",
      "Copying gs://rat-emotion/dlc/projects/MousePose-AndreTelfer-2020-07-21/labeled-data/rat1-control4/frame892.png...\n",
      "Copying gs://rat-emotion/dlc/projects/MousePose-AndreTelfer-2020-07-21/labeled-data/rat2-control1/CollectedData_AndreTelfer.csv...\n",
      "Copying gs://rat-emotion/dlc/projects/MousePose-AndreTelfer-2020-07-21/labeled-data/rat2-control1/CollectedData_AndreTelfer.h5...\n",
      "Copying gs://rat-emotion/dlc/projects/MousePose-AndreTelfer-2020-07-21/labeled-data/rat2-control1/frame11279.png...\n",
      "Copying gs://rat-emotion/dlc/projects/MousePose-AndreTelfer-2020-07-21/labeled-data/rat2-control1/frame12373.png...\n",
      "Copying gs://rat-emotion/dlc/projects/MousePose-AndreTelfer-2020-07-21/labeled-data/rat2-control1/frame1520.png...\n",
      "Copying gs://rat-emotion/dlc/projects/MousePose-AndreTelfer-2020-07-21/labeled-data/rat2-control1/frame2195.png...\n",
      "Copying gs://rat-emotion/dlc/projects/MousePose-AndreTelfer-2020-07-21/labeled-data/rat2-control1/frame2954.png...\n",
      "Copying gs://rat-emotion/dlc/projects/MousePose-AndreTelfer-2020-07-21/labeled-data/rat2-control1/frame3941.png...\n",
      "Copying gs://rat-emotion/dlc/projects/MousePose-AndreTelfer-2020-07-21/labeled-data/rat2-control1/frame3947.png...\n",
      "Copying gs://rat-emotion/dlc/projects/MousePose-AndreTelfer-2020-07-21/labeled-data/rat2-control1/frame4562.png...\n",
      "Copying gs://rat-emotion/dlc/projects/MousePose-AndreTelfer-2020-07-21/labeled-data/rat2-control1/frame6056.png...\n",
      "Copying gs://rat-emotion/dlc/projects/MousePose-AndreTelfer-2020-07-21/labeled-data/rat2-control1/frame8371.png...\n",
      "Copying gs://rat-emotion/dlc/projects/MousePose-AndreTelfer-2020-07-21/labeled-data/rat2-control2/CollectedData_AndreTelfer.csv...\n",
      "Copying gs://rat-emotion/dlc/projects/MousePose-AndreTelfer-2020-07-21/labeled-data/rat2-control2/CollectedData_AndreTelfer.h5...\n",
      "Copying gs://rat-emotion/dlc/projects/MousePose-AndreTelfer-2020-07-21/labeled-data/rat2-control2/frame1146.png...\n",
      "Copying gs://rat-emotion/dlc/projects/MousePose-AndreTelfer-2020-07-21/labeled-data/rat2-control2/frame1388.png...\n",
      "Copying gs://rat-emotion/dlc/projects/MousePose-AndreTelfer-2020-07-21/labeled-data/rat2-control2/frame1864.png...\n",
      "Copying gs://rat-emotion/dlc/projects/MousePose-AndreTelfer-2020-07-21/labeled-data/rat2-control2/frame2148.png...\n",
      "Copying gs://rat-emotion/dlc/projects/MousePose-AndreTelfer-2020-07-21/labeled-data/rat2-control2/frame231.png...\n",
      "Copying gs://rat-emotion/dlc/projects/MousePose-AndreTelfer-2020-07-21/labeled-data/rat2-control2/frame2318.png...\n",
      "Copying gs://rat-emotion/dlc/projects/MousePose-AndreTelfer-2020-07-21/labeled-data/rat2-control2/frame258.png...\n",
      "Copying gs://rat-emotion/dlc/projects/MousePose-AndreTelfer-2020-07-21/labeled-data/rat2-control2/frame273.png...\n",
      "Copying gs://rat-emotion/dlc/projects/MousePose-AndreTelfer-2020-07-21/labeled-data/rat2-control2/frame689.png...\n",
      "Copying gs://rat-emotion/dlc/projects/MousePose-AndreTelfer-2020-07-21/labeled-data/rat2-control2/frame692.png...\n",
      "Copying gs://rat-emotion/dlc/projects/MousePose-AndreTelfer-2020-07-21/labeled-data/rat2-control3/CollectedData_AndreTelfer.csv...\n",
      "Copying gs://rat-emotion/dlc/projects/MousePose-AndreTelfer-2020-07-21/labeled-data/rat2-control3/CollectedData_AndreTelfer.h5...\n",
      "Copying gs://rat-emotion/dlc/projects/MousePose-AndreTelfer-2020-07-21/labeled-data/rat2-control3/frame11791.png...\n",
      "Copying gs://rat-emotion/dlc/projects/MousePose-AndreTelfer-2020-07-21/labeled-data/rat2-control3/frame12081.png...\n",
      "Copying gs://rat-emotion/dlc/projects/MousePose-AndreTelfer-2020-07-21/labeled-data/rat2-control3/frame12211.png...\n",
      "Copying gs://rat-emotion/dlc/projects/MousePose-AndreTelfer-2020-07-21/labeled-data/rat2-control3/frame361.png...\n",
      "Copying gs://rat-emotion/dlc/projects/MousePose-AndreTelfer-2020-07-21/labeled-data/rat2-control3/frame5345.png...\n",
      "Copying gs://rat-emotion/dlc/projects/MousePose-AndreTelfer-2020-07-21/labeled-data/rat2-control3/frame5359.png...\n",
      "Copying gs://rat-emotion/dlc/projects/MousePose-AndreTelfer-2020-07-21/labeled-data/rat2-control3/frame8344.png...\n",
      "Copying gs://rat-emotion/dlc/projects/MousePose-AndreTelfer-2020-07-21/labeled-data/rat2-control3/frame8759.png...\n",
      "Copying gs://rat-emotion/dlc/projects/MousePose-AndreTelfer-2020-07-21/labeled-data/rat2-control3/frame8815.png...\n",
      "Copying gs://rat-emotion/dlc/projects/MousePose-AndreTelfer-2020-07-21/labeled-data/rat2-control3/frame9042.png...\n",
      "Copying gs://rat-emotion/dlc/projects/MousePose-AndreTelfer-2020-07-21/labeled-data/rat2-control4/CollectedData_AndreTelfer.csv...\n",
      "Copying gs://rat-emotion/dlc/projects/MousePose-AndreTelfer-2020-07-21/labeled-data/rat2-control4/CollectedData_AndreTelfer.h5...\n",
      "Copying gs://rat-emotion/dlc/projects/MousePose-AndreTelfer-2020-07-21/labeled-data/rat2-control4/frame1179.png...\n",
      "Copying gs://rat-emotion/dlc/projects/MousePose-AndreTelfer-2020-07-21/labeled-data/rat2-control4/frame1205.png...\n",
      "Copying gs://rat-emotion/dlc/projects/MousePose-AndreTelfer-2020-07-21/labeled-data/rat2-control4/frame1216.png...\n",
      "Copying gs://rat-emotion/dlc/projects/MousePose-AndreTelfer-2020-07-21/labeled-data/rat2-control4/frame1843.png...\n",
      "Copying gs://rat-emotion/dlc/projects/MousePose-AndreTelfer-2020-07-21/labeled-data/rat2-control4/frame530.png...\n",
      "Copying gs://rat-emotion/dlc/projects/MousePose-AndreTelfer-2020-07-21/labeled-data/rat2-control4/frame567.png...\n",
      "Copying gs://rat-emotion/dlc/projects/MousePose-AndreTelfer-2020-07-21/labeled-data/rat2-control4/frame825.png...\n",
      "Copying gs://rat-emotion/dlc/projects/MousePose-AndreTelfer-2020-07-21/labeled-data/rat2-control4/frame854.png...\n",
      "Copying gs://rat-emotion/dlc/projects/MousePose-AndreTelfer-2020-07-21/labeled-data/rat2-control4/frame890.png...\n",
      "Copying gs://rat-emotion/dlc/projects/MousePose-AndreTelfer-2020-07-21/labeled-data/rat2-control4/frame918.png...\n",
      "Copying gs://rat-emotion/dlc/projects/MousePose-AndreTelfer-2020-07-21/labeled-data/rat2-lps1/CollectedData_AndreTelfer.csv...\n",
      "Copying gs://rat-emotion/dlc/projects/MousePose-AndreTelfer-2020-07-21/labeled-data/rat2-lps1/CollectedData_AndreTelfer.h5...\n",
      "Copying gs://rat-emotion/dlc/projects/MousePose-AndreTelfer-2020-07-21/labeled-data/rat2-lps1/frame10316.png...\n",
      "Copying gs://rat-emotion/dlc/projects/MousePose-AndreTelfer-2020-07-21/labeled-data/rat2-lps1/frame11433.png...\n",
      "Copying gs://rat-emotion/dlc/projects/MousePose-AndreTelfer-2020-07-21/labeled-data/rat2-lps1/frame11508.png...\n",
      "Copying gs://rat-emotion/dlc/projects/MousePose-AndreTelfer-2020-07-21/labeled-data/rat2-lps1/frame12276.png...\n",
      "Copying gs://rat-emotion/dlc/projects/MousePose-AndreTelfer-2020-07-21/labeled-data/rat2-lps1/frame12603.png...\n",
      "Copying gs://rat-emotion/dlc/projects/MousePose-AndreTelfer-2020-07-21/labeled-data/rat2-lps1/frame12685.png...\n",
      "Copying gs://rat-emotion/dlc/projects/MousePose-AndreTelfer-2020-07-21/labeled-data/rat2-lps1/frame2563.png...\n",
      "Copying gs://rat-emotion/dlc/projects/MousePose-AndreTelfer-2020-07-21/labeled-data/rat2-lps1/frame3987.png...\n",
      "Copying gs://rat-emotion/dlc/projects/MousePose-AndreTelfer-2020-07-21/labeled-data/rat2-lps1/frame6316.png...\n",
      "Copying gs://rat-emotion/dlc/projects/MousePose-AndreTelfer-2020-07-21/labeled-data/rat2-lps1/frame937.png...\n",
      "Copying gs://rat-emotion/dlc/projects/MousePose-AndreTelfer-2020-07-21/labeled-data/rat2-lps2/CollectedData_AndreTelfer.csv...\n",
      "Copying gs://rat-emotion/dlc/projects/MousePose-AndreTelfer-2020-07-21/labeled-data/rat2-lps2/CollectedData_AndreTelfer.h5...\n",
      "Copying gs://rat-emotion/dlc/projects/MousePose-AndreTelfer-2020-07-21/labeled-data/rat2-lps2/frame1309.png...\n",
      "Copying gs://rat-emotion/dlc/projects/MousePose-AndreTelfer-2020-07-21/labeled-data/rat2-lps2/frame30.png...\n",
      "Copying gs://rat-emotion/dlc/projects/MousePose-AndreTelfer-2020-07-21/labeled-data/rat2-lps2/frame403.png...\n",
      "Copying gs://rat-emotion/dlc/projects/MousePose-AndreTelfer-2020-07-21/labeled-data/rat2-lps2/frame413.png...\n",
      "Copying gs://rat-emotion/dlc/projects/MousePose-AndreTelfer-2020-07-21/labeled-data/rat2-lps2/frame648.png...\n",
      "Copying gs://rat-emotion/dlc/projects/MousePose-AndreTelfer-2020-07-21/labeled-data/rat2-lps2/frame706.png...\n",
      "Copying gs://rat-emotion/dlc/projects/MousePose-AndreTelfer-2020-07-21/labeled-data/rat2-lps2/frame715.png...\n",
      "Copying gs://rat-emotion/dlc/projects/MousePose-AndreTelfer-2020-07-21/labeled-data/rat2-lps2/frame779.png...\n",
      "Copying gs://rat-emotion/dlc/projects/MousePose-AndreTelfer-2020-07-21/labeled-data/rat2-lps2/frame787.png...\n",
      "Copying gs://rat-emotion/dlc/projects/MousePose-AndreTelfer-2020-07-21/labeled-data/rat2-lps2/frame850.png...\n",
      "Copying gs://rat-emotion/dlc/projects/MousePose-AndreTelfer-2020-07-21/labeled-data/rat2-lps3/CollectedData_AndreTelfer.csv...\n",
      "Copying gs://rat-emotion/dlc/projects/MousePose-AndreTelfer-2020-07-21/labeled-data/rat2-lps3/CollectedData_AndreTelfer.h5...\n",
      "Copying gs://rat-emotion/dlc/projects/MousePose-AndreTelfer-2020-07-21/labeled-data/rat2-lps3/frame1019.png...\n",
      "Copying gs://rat-emotion/dlc/projects/MousePose-AndreTelfer-2020-07-21/labeled-data/rat2-lps3/frame1152.png...\n",
      "Copying gs://rat-emotion/dlc/projects/MousePose-AndreTelfer-2020-07-21/labeled-data/rat2-lps3/frame1264.png...\n",
      "Copying gs://rat-emotion/dlc/projects/MousePose-AndreTelfer-2020-07-21/labeled-data/rat2-lps3/frame1440.png...\n",
      "Copying gs://rat-emotion/dlc/projects/MousePose-AndreTelfer-2020-07-21/labeled-data/rat2-lps3/frame1511.png...\n",
      "Copying gs://rat-emotion/dlc/projects/MousePose-AndreTelfer-2020-07-21/labeled-data/rat2-lps3/frame1537.png...\n",
      "Copying gs://rat-emotion/dlc/projects/MousePose-AndreTelfer-2020-07-21/labeled-data/rat2-lps3/frame3025.png...\n",
      "Copying gs://rat-emotion/dlc/projects/MousePose-AndreTelfer-2020-07-21/labeled-data/rat2-lps3/frame661.png...\n",
      "Copying gs://rat-emotion/dlc/projects/MousePose-AndreTelfer-2020-07-21/labeled-data/rat2-lps3/frame710.png...\n",
      "Copying gs://rat-emotion/dlc/projects/MousePose-AndreTelfer-2020-07-21/labeled-data/rat2-lps3/frame875.png...\n",
      "Copying gs://rat-emotion/dlc/projects/MousePose-AndreTelfer-2020-07-21/labeled-data/rat2-lps4/CollectedData_AndreTelfer.csv...\n",
      "Copying gs://rat-emotion/dlc/projects/MousePose-AndreTelfer-2020-07-21/labeled-data/rat2-lps4/CollectedData_AndreTelfer.h5...\n",
      "Copying gs://rat-emotion/dlc/projects/MousePose-AndreTelfer-2020-07-21/labeled-data/rat2-lps4/frame2.png...\n",
      "Copying gs://rat-emotion/dlc/projects/MousePose-AndreTelfer-2020-07-21/labeled-data/rat2-lps4/frame3.png...\n",
      "Copying gs://rat-emotion/dlc/projects/MousePose-AndreTelfer-2020-07-21/labeled-data/rat2-lps4/frame4.png...\n",
      "Copying gs://rat-emotion/dlc/projects/MousePose-AndreTelfer-2020-07-21/labeled-data/rat3-control1/CollectedData_AndreTelfer.csv...\n",
      "Copying gs://rat-emotion/dlc/projects/MousePose-AndreTelfer-2020-07-21/labeled-data/rat3-control1/CollectedData_AndreTelfer.h5...\n",
      "Copying gs://rat-emotion/dlc/projects/MousePose-AndreTelfer-2020-07-21/labeled-data/rat3-control1/frame10155.png...\n",
      "Copying gs://rat-emotion/dlc/projects/MousePose-AndreTelfer-2020-07-21/labeled-data/rat3-control1/frame11313.png...\n",
      "Copying gs://rat-emotion/dlc/projects/MousePose-AndreTelfer-2020-07-21/labeled-data/rat3-control1/frame11452.png...\n",
      "Copying gs://rat-emotion/dlc/projects/MousePose-AndreTelfer-2020-07-21/labeled-data/rat3-control1/frame12448.png...\n",
      "Copying gs://rat-emotion/dlc/projects/MousePose-AndreTelfer-2020-07-21/labeled-data/rat3-control1/frame472.png...\n",
      "Copying gs://rat-emotion/dlc/projects/MousePose-AndreTelfer-2020-07-21/labeled-data/rat3-control1/frame5699.png...\n",
      "Copying gs://rat-emotion/dlc/projects/MousePose-AndreTelfer-2020-07-21/labeled-data/rat3-control1/frame6793.png...\n",
      "Copying gs://rat-emotion/dlc/projects/MousePose-AndreTelfer-2020-07-21/labeled-data/rat3-control1/frame816.png...\n",
      "Copying gs://rat-emotion/dlc/projects/MousePose-AndreTelfer-2020-07-21/labeled-data/rat3-control1/frame8312.png...\n",
      "Copying gs://rat-emotion/dlc/projects/MousePose-AndreTelfer-2020-07-21/labeled-data/rat3-control1/frame8518.png...\n",
      "Copying gs://rat-emotion/dlc/projects/MousePose-AndreTelfer-2020-07-21/labeled-data/rat3-control2/CollectedData_AndreTelfer.csv...\n",
      "Copying gs://rat-emotion/dlc/projects/MousePose-AndreTelfer-2020-07-21/labeled-data/rat3-control2/CollectedData_AndreTelfer.h5...\n",
      "Copying gs://rat-emotion/dlc/projects/MousePose-AndreTelfer-2020-07-21/labeled-data/rat3-control2/frame1802.png...\n",
      "Copying gs://rat-emotion/dlc/projects/MousePose-AndreTelfer-2020-07-21/labeled-data/rat3-control2/frame1894.png...\n",
      "Copying gs://rat-emotion/dlc/projects/MousePose-AndreTelfer-2020-07-21/labeled-data/rat3-control2/frame2033.png...\n",
      "Copying gs://rat-emotion/dlc/projects/MousePose-AndreTelfer-2020-07-21/labeled-data/rat3-control2/frame2038.png...\n",
      "Copying gs://rat-emotion/dlc/projects/MousePose-AndreTelfer-2020-07-21/labeled-data/rat3-control2/frame2136.png...\n",
      "Copying gs://rat-emotion/dlc/projects/MousePose-AndreTelfer-2020-07-21/labeled-data/rat3-control2/frame3247.png...\n",
      "Copying gs://rat-emotion/dlc/projects/MousePose-AndreTelfer-2020-07-21/labeled-data/rat3-control2/frame3333.png...\n",
      "Copying gs://rat-emotion/dlc/projects/MousePose-AndreTelfer-2020-07-21/labeled-data/rat3-control2/frame3349.png...\n",
      "Copying gs://rat-emotion/dlc/projects/MousePose-AndreTelfer-2020-07-21/labeled-data/rat3-control2/frame3567.png...\n",
      "Copying gs://rat-emotion/dlc/projects/MousePose-AndreTelfer-2020-07-21/labeled-data/rat3-control2/frame999.png...\n",
      "Copying gs://rat-emotion/dlc/projects/MousePose-AndreTelfer-2020-07-21/labeled-data/rat3-control3/CollectedData_AndreTelfer.csv...\n",
      "Copying gs://rat-emotion/dlc/projects/MousePose-AndreTelfer-2020-07-21/labeled-data/rat3-control3/CollectedData_AndreTelfer.h5...\n",
      "Copying gs://rat-emotion/dlc/projects/MousePose-AndreTelfer-2020-07-21/labeled-data/rat3-control3/frame10383.png...\n",
      "Copying gs://rat-emotion/dlc/projects/MousePose-AndreTelfer-2020-07-21/labeled-data/rat3-control3/frame2785.png...\n",
      "Copying gs://rat-emotion/dlc/projects/MousePose-AndreTelfer-2020-07-21/labeled-data/rat3-control3/frame5609.png...\n",
      "Copying gs://rat-emotion/dlc/projects/MousePose-AndreTelfer-2020-07-21/labeled-data/rat3-control3/frame5615.png...\n",
      "Copying gs://rat-emotion/dlc/projects/MousePose-AndreTelfer-2020-07-21/labeled-data/rat3-control3/frame5818.png...\n",
      "Copying gs://rat-emotion/dlc/projects/MousePose-AndreTelfer-2020-07-21/labeled-data/rat3-control3/frame6328.png...\n",
      "Copying gs://rat-emotion/dlc/projects/MousePose-AndreTelfer-2020-07-21/labeled-data/rat3-control3/frame6403.png...\n",
      "Copying gs://rat-emotion/dlc/projects/MousePose-AndreTelfer-2020-07-21/labeled-data/rat3-control3/frame6886.png...\n",
      "Copying gs://rat-emotion/dlc/projects/MousePose-AndreTelfer-2020-07-21/labeled-data/rat3-control3/frame7779.png...\n",
      "Copying gs://rat-emotion/dlc/projects/MousePose-AndreTelfer-2020-07-21/labeled-data/rat3-control3/frame9821.png...\n",
      "Copying gs://rat-emotion/dlc/projects/MousePose-AndreTelfer-2020-07-21/labeled-data/rat3-control4/CollectedData_AndreTelfer.csv...\n",
      "Copying gs://rat-emotion/dlc/projects/MousePose-AndreTelfer-2020-07-21/labeled-data/rat3-control4/CollectedData_AndreTelfer.h5...\n",
      "Copying gs://rat-emotion/dlc/projects/MousePose-AndreTelfer-2020-07-21/labeled-data/rat3-control4/frame1001.png...\n",
      "Copying gs://rat-emotion/dlc/projects/MousePose-AndreTelfer-2020-07-21/labeled-data/rat3-control4/frame1169.png...\n",
      "Copying gs://rat-emotion/dlc/projects/MousePose-AndreTelfer-2020-07-21/labeled-data/rat3-control4/frame1188.png...\n",
      "Copying gs://rat-emotion/dlc/projects/MousePose-AndreTelfer-2020-07-21/labeled-data/rat3-control4/frame1362.png...\n",
      "Copying gs://rat-emotion/dlc/projects/MousePose-AndreTelfer-2020-07-21/labeled-data/rat3-control4/frame151.png...\n",
      "Copying gs://rat-emotion/dlc/projects/MousePose-AndreTelfer-2020-07-21/labeled-data/rat3-control4/frame612.png...\n",
      "Copying gs://rat-emotion/dlc/projects/MousePose-AndreTelfer-2020-07-21/labeled-data/rat3-control4/frame621.png...\n",
      "Copying gs://rat-emotion/dlc/projects/MousePose-AndreTelfer-2020-07-21/labeled-data/rat3-control4/frame633.png...\n",
      "Copying gs://rat-emotion/dlc/projects/MousePose-AndreTelfer-2020-07-21/labeled-data/rat3-control4/frame642.png...\n",
      "Copying gs://rat-emotion/dlc/projects/MousePose-AndreTelfer-2020-07-21/labeled-data/rat3-control4/frame730.png...\n",
      "Copying gs://rat-emotion/dlc/projects/MousePose-AndreTelfer-2020-07-21/labeled-data/rat3-lps1/CollectedData_AndreTelfer.csv...\n",
      "Copying gs://rat-emotion/dlc/projects/MousePose-AndreTelfer-2020-07-21/labeled-data/rat3-lps1/CollectedData_AndreTelfer.h5...\n",
      "Copying gs://rat-emotion/dlc/projects/MousePose-AndreTelfer-2020-07-21/labeled-data/rat3-lps1/frame11206.png...\n",
      "Copying gs://rat-emotion/dlc/projects/MousePose-AndreTelfer-2020-07-21/labeled-data/rat3-lps1/frame11303.png...\n",
      "Copying gs://rat-emotion/dlc/projects/MousePose-AndreTelfer-2020-07-21/labeled-data/rat3-lps1/frame11818.png...\n",
      "Copying gs://rat-emotion/dlc/projects/MousePose-AndreTelfer-2020-07-21/labeled-data/rat3-lps1/frame12572.png...\n",
      "Copying gs://rat-emotion/dlc/projects/MousePose-AndreTelfer-2020-07-21/labeled-data/rat3-lps1/frame175.png...\n",
      "Copying gs://rat-emotion/dlc/projects/MousePose-AndreTelfer-2020-07-21/labeled-data/rat3-lps1/frame2244.png...\n",
      "Copying gs://rat-emotion/dlc/projects/MousePose-AndreTelfer-2020-07-21/labeled-data/rat3-lps1/frame4449.png...\n",
      "Copying gs://rat-emotion/dlc/projects/MousePose-AndreTelfer-2020-07-21/labeled-data/rat3-lps1/frame8592.png...\n",
      "Copying gs://rat-emotion/dlc/projects/MousePose-AndreTelfer-2020-07-21/labeled-data/rat3-lps1/frame9011.png...\n",
      "Copying gs://rat-emotion/dlc/projects/MousePose-AndreTelfer-2020-07-21/labeled-data/rat3-lps1/frame9621.png...\n",
      "Copying gs://rat-emotion/dlc/projects/MousePose-AndreTelfer-2020-07-21/labeled-data/rat3-lps2/CollectedData_AndreTelfer.csv...\n",
      "Copying gs://rat-emotion/dlc/projects/MousePose-AndreTelfer-2020-07-21/labeled-data/rat3-lps2/CollectedData_AndreTelfer.h5...\n",
      "Copying gs://rat-emotion/dlc/projects/MousePose-AndreTelfer-2020-07-21/labeled-data/rat3-lps2/frame1330.png...\n",
      "Copying gs://rat-emotion/dlc/projects/MousePose-AndreTelfer-2020-07-21/labeled-data/rat3-lps2/frame1671.png...\n",
      "Copying gs://rat-emotion/dlc/projects/MousePose-AndreTelfer-2020-07-21/labeled-data/rat3-lps2/frame181.png...\n",
      "Copying gs://rat-emotion/dlc/projects/MousePose-AndreTelfer-2020-07-21/labeled-data/rat3-lps2/frame2318.png...\n",
      "Copying gs://rat-emotion/dlc/projects/MousePose-AndreTelfer-2020-07-21/labeled-data/rat3-lps2/frame2415.png...\n",
      "Copying gs://rat-emotion/dlc/projects/MousePose-AndreTelfer-2020-07-21/labeled-data/rat3-lps2/frame2573.png...\n",
      "Copying gs://rat-emotion/dlc/projects/MousePose-AndreTelfer-2020-07-21/labeled-data/rat3-lps2/frame472.png...\n",
      "Copying gs://rat-emotion/dlc/projects/MousePose-AndreTelfer-2020-07-21/labeled-data/rat3-lps2/frame530.png...\n",
      "Copying gs://rat-emotion/dlc/projects/MousePose-AndreTelfer-2020-07-21/labeled-data/rat3-lps2/frame702.png...\n",
      "Copying gs://rat-emotion/dlc/projects/MousePose-AndreTelfer-2020-07-21/labeled-data/rat3-lps2/frame790.png...\n",
      "Copying gs://rat-emotion/dlc/projects/MousePose-AndreTelfer-2020-07-21/labeled-data/rat4-control1/CollectedData_AndreTelfer.csv...\n",
      "Copying gs://rat-emotion/dlc/projects/MousePose-AndreTelfer-2020-07-21/labeled-data/rat4-control1/CollectedData_AndreTelfer.h5...\n",
      "Copying gs://rat-emotion/dlc/projects/MousePose-AndreTelfer-2020-07-21/labeled-data/rat4-control1/frame10452.png...\n",
      "Copying gs://rat-emotion/dlc/projects/MousePose-AndreTelfer-2020-07-21/labeled-data/rat4-control1/frame1983.png...\n",
      "Copying gs://rat-emotion/dlc/projects/MousePose-AndreTelfer-2020-07-21/labeled-data/rat4-control1/frame2925.png...\n",
      "Copying gs://rat-emotion/dlc/projects/MousePose-AndreTelfer-2020-07-21/labeled-data/rat4-control1/frame3140.png...\n",
      "Copying gs://rat-emotion/dlc/projects/MousePose-AndreTelfer-2020-07-21/labeled-data/rat4-control1/frame367.png...\n",
      "Copying gs://rat-emotion/dlc/projects/MousePose-AndreTelfer-2020-07-21/labeled-data/rat4-control1/frame396.png...\n",
      "Copying gs://rat-emotion/dlc/projects/MousePose-AndreTelfer-2020-07-21/labeled-data/rat4-control1/frame4223.png...\n",
      "Copying gs://rat-emotion/dlc/projects/MousePose-AndreTelfer-2020-07-21/labeled-data/rat4-control1/frame4827.png...\n",
      "Copying gs://rat-emotion/dlc/projects/MousePose-AndreTelfer-2020-07-21/labeled-data/rat4-control1/frame5113.png...\n",
      "Copying gs://rat-emotion/dlc/projects/MousePose-AndreTelfer-2020-07-21/labeled-data/rat4-control1/frame957.png...\n",
      "Copying gs://rat-emotion/dlc/projects/MousePose-AndreTelfer-2020-07-21/labeled-data/rat4-control2/CollectedData_AndreTelfer.csv...\n",
      "Copying gs://rat-emotion/dlc/projects/MousePose-AndreTelfer-2020-07-21/labeled-data/rat4-control2/CollectedData_AndreTelfer.h5...\n",
      "Copying gs://rat-emotion/dlc/projects/MousePose-AndreTelfer-2020-07-21/labeled-data/rat4-control2/frame1366.png...\n",
      "Copying gs://rat-emotion/dlc/projects/MousePose-AndreTelfer-2020-07-21/labeled-data/rat4-control2/frame1530.png...\n",
      "Copying gs://rat-emotion/dlc/projects/MousePose-AndreTelfer-2020-07-21/labeled-data/rat4-control2/frame1547.png...\n",
      "Copying gs://rat-emotion/dlc/projects/MousePose-AndreTelfer-2020-07-21/labeled-data/rat4-control2/frame2035.png...\n",
      "Copying gs://rat-emotion/dlc/projects/MousePose-AndreTelfer-2020-07-21/labeled-data/rat4-control2/frame2118.png...\n",
      "Copying gs://rat-emotion/dlc/projects/MousePose-AndreTelfer-2020-07-21/labeled-data/rat4-control2/frame2120.png...\n",
      "Copying gs://rat-emotion/dlc/projects/MousePose-AndreTelfer-2020-07-21/labeled-data/rat4-control2/frame2135.png...\n",
      "Copying gs://rat-emotion/dlc/projects/MousePose-AndreTelfer-2020-07-21/labeled-data/rat4-control2/frame2159.png...\n",
      "Copying gs://rat-emotion/dlc/projects/MousePose-AndreTelfer-2020-07-21/labeled-data/rat4-control2/frame2166.png...\n",
      "Copying gs://rat-emotion/dlc/projects/MousePose-AndreTelfer-2020-07-21/labeled-data/rat4-control2/frame2209.png...\n",
      "Copying gs://rat-emotion/dlc/projects/MousePose-AndreTelfer-2020-07-21/labeled-data/rat4-lps1/CollectedData_AndreTelfer.csv...\n",
      "Copying gs://rat-emotion/dlc/projects/MousePose-AndreTelfer-2020-07-21/labeled-data/rat4-lps1/CollectedData_AndreTelfer.h5...\n",
      "Copying gs://rat-emotion/dlc/projects/MousePose-AndreTelfer-2020-07-21/labeled-data/rat4-lps1/frame10565.png...\n",
      "Copying gs://rat-emotion/dlc/projects/MousePose-AndreTelfer-2020-07-21/labeled-data/rat4-lps1/frame10667.png...\n",
      "Copying gs://rat-emotion/dlc/projects/MousePose-AndreTelfer-2020-07-21/labeled-data/rat4-lps1/frame10674.png...\n",
      "Copying gs://rat-emotion/dlc/projects/MousePose-AndreTelfer-2020-07-21/labeled-data/rat4-lps1/frame11164.png...\n",
      "Copying gs://rat-emotion/dlc/projects/MousePose-AndreTelfer-2020-07-21/labeled-data/rat4-lps1/frame11194.png...\n",
      "Copying gs://rat-emotion/dlc/projects/MousePose-AndreTelfer-2020-07-21/labeled-data/rat4-lps1/frame11363.png...\n",
      "Copying gs://rat-emotion/dlc/projects/MousePose-AndreTelfer-2020-07-21/labeled-data/rat4-lps1/frame11379.png...\n",
      "Copying gs://rat-emotion/dlc/projects/MousePose-AndreTelfer-2020-07-21/labeled-data/rat4-lps1/frame11636.png...\n",
      "Copying gs://rat-emotion/dlc/projects/MousePose-AndreTelfer-2020-07-21/labeled-data/rat4-lps1/frame8423.png...\n",
      "Copying gs://rat-emotion/dlc/projects/MousePose-AndreTelfer-2020-07-21/labeled-data/rat4-lps1/frame9878.png...\n",
      "Copying gs://rat-emotion/dlc/projects/MousePose-AndreTelfer-2020-07-21/labeled-data/rat4-lps2/CollectedData_AndreTelfer.csv...\n",
      "Copying gs://rat-emotion/dlc/projects/MousePose-AndreTelfer-2020-07-21/labeled-data/rat4-lps2/CollectedData_AndreTelfer.h5...\n",
      "Copying gs://rat-emotion/dlc/projects/MousePose-AndreTelfer-2020-07-21/labeled-data/rat4-lps2/frame1110.png...\n",
      "Copying gs://rat-emotion/dlc/projects/MousePose-AndreTelfer-2020-07-21/labeled-data/rat4-lps2/frame1130.png...\n",
      "Copying gs://rat-emotion/dlc/projects/MousePose-AndreTelfer-2020-07-21/labeled-data/rat4-lps2/frame1151.png...\n",
      "Copying gs://rat-emotion/dlc/projects/MousePose-AndreTelfer-2020-07-21/labeled-data/rat4-lps2/frame1185.png...\n",
      "Copying gs://rat-emotion/dlc/projects/MousePose-AndreTelfer-2020-07-21/labeled-data/rat4-lps2/frame372.png...\n",
      "Copying gs://rat-emotion/dlc/projects/MousePose-AndreTelfer-2020-07-21/labeled-data/rat4-lps2/frame447.png...\n",
      "Copying gs://rat-emotion/dlc/projects/MousePose-AndreTelfer-2020-07-21/labeled-data/rat4-lps2/frame470.png...\n",
      "Copying gs://rat-emotion/dlc/projects/MousePose-AndreTelfer-2020-07-21/labeled-data/rat4-lps2/frame624.png...\n",
      "Copying gs://rat-emotion/dlc/projects/MousePose-AndreTelfer-2020-07-21/labeled-data/rat4-lps2/frame847.png...\n",
      "Copying gs://rat-emotion/dlc/projects/MousePose-AndreTelfer-2020-07-21/labeled-data/rat4-lps2/frame867.png...\n",
      "Copying gs://rat-emotion/dlc/projects/MousePose-AndreTelfer-2020-07-21/training-datasets/iteration-0/UnaugmentedDataSet_MousePoseJul21/CollectedData_AndreTelfer.csv...\n",
      "Copying gs://rat-emotion/dlc/projects/MousePose-AndreTelfer-2020-07-21/training-datasets/iteration-0/UnaugmentedDataSet_MousePoseJul21/CollectedData_AndreTelfer.h5...\n",
      "Copying gs://rat-emotion/dlc/projects/MousePose-AndreTelfer-2020-07-21/training-datasets/iteration-0/UnaugmentedDataSet_MousePoseJul21/CollectedData_AndreTelferwindows.csv...\n",
      "Copying gs://rat-emotion/dlc/projects/MousePose-AndreTelfer-2020-07-21/training-datasets/iteration-0/UnaugmentedDataSet_MousePoseJul21/CollectedData_AndreTelferwindows.h5...\n",
      "Copying gs://rat-emotion/dlc/projects/MousePose-AndreTelfer-2020-07-21/training-datasets/iteration-0/UnaugmentedDataSet_MousePoseJul21/Documentation_data-MousePose_95shuffle1.pickle...\n",
      "Copying gs://rat-emotion/dlc/projects/MousePose-AndreTelfer-2020-07-21/training-datasets/iteration-0/UnaugmentedDataSet_MousePoseJul21/MousePose_AndreTelfer95shuffle1.mat...\n",
      "| [279 files][447.3 MiB/447.3 MiB]    3.1 MiB/s                                 \n",
      "==> NOTE: You are performing a sequence of gsutil operations that may\n",
      "run significantly faster if you instead use gsutil -m cp ... Please\n",
      "see the -m section under \"gsutil help options\" for further information\n",
      "about when gsutil -m can be advantageous.\n",
      "\n",
      "\n",
      "Operation completed over 279 objects/447.3 MiB.                                  \n"
     ]
    }
   ],
   "source": [
    "! gsutil cp -r gs://rat-emotion/dlc/projects/MousePose-AndreTelfer-2020-07-21/ /storage/repos/Mouse-Emotion-Video-Classification/pose-estimation/"
   ]
  },
  {
   "cell_type": "markdown",
   "metadata": {},
   "source": [
    "# Update Project Path"
   ]
  },
  {
   "cell_type": "code",
   "execution_count": 2,
   "metadata": {},
   "outputs": [
    {
     "data": {
      "text/plain": [
       "True"
      ]
     },
     "execution_count": 2,
     "metadata": {},
     "output_type": "execute_result"
    }
   ],
   "source": [
    "from pathlib import Path\n",
    "import os\n",
    "\n",
    "project_path = Path('/storage/repos/Mouse-Emotion-Video-Classification/pose-estimation/MousePose-AndreTelfer-2020-07-21/')\n",
    "config_path = project_path / 'config.yaml'\n",
    "training_path = project_path / 'dlc-models/iteration-0/MousePoseJul21-trainset95shuffle1/train/'\n",
    "\n",
    "os.path.exists(config_path)"
   ]
  },
  {
   "cell_type": "code",
   "execution_count": 3,
   "metadata": {},
   "outputs": [],
   "source": [
    "from ruamel.yaml import YAML\n",
    "yaml = YAML()\n",
    "\n",
    "with open(config_path, 'r') as fp:\n",
    "    cfg = yaml.load(fp)\n",
    "    \n",
    "cfg['project_path'] = str(project_path)\n",
    "\n",
    "with open(config_path, 'w') as fp:\n",
    "    yaml.dump(cfg, fp)"
   ]
  },
  {
   "cell_type": "markdown",
   "metadata": {},
   "source": [
    "# Create a new Training Dataset"
   ]
  },
  {
   "cell_type": "code",
   "execution_count": 13,
   "metadata": {},
   "outputs": [
    {
     "name": "stdout",
     "output_type": "stream",
     "text": [
      "\u001b[0m\u001b[01;34miteration-0\u001b[0m/\n"
     ]
    }
   ],
   "source": [
    "ls {project_path/'training-datasets'}"
   ]
  },
  {
   "cell_type": "code",
   "execution_count": 4,
   "metadata": {},
   "outputs": [
    {
     "data": {
      "text/plain": [
       "CommentedOrderedMap([('rat2-lps3', CommentedOrderedMap([('crop', '0, 2704, 0, 1520')])), ('rat3-control2', CommentedOrderedMap([('crop', '0, 2704, 0, 1520')])), ('rat2-control4', CommentedOrderedMap([('crop', '0, 2704, 0, 1520')])), ('rat2-lps2', CommentedOrderedMap([('crop', '0, 2704, 0, 1520')])), ('rat2-control1', CommentedOrderedMap([('crop', '0, 2704, 0, 1520')])), ('rat2-lps4', CommentedOrderedMap([('crop', '0, 2704, 0, 1520')])), ('rat3-control1', CommentedOrderedMap([('crop', '0, 2704, 0, 1520')])), ('rat1-control2', CommentedOrderedMap([('crop', '0, 2704, 0, 1520')])), ('rat4-lps1', CommentedOrderedMap([('crop', '0, 2704, 0, 1520')])), ('rat1-control3', CommentedOrderedMap([('crop', '0, 2704, 0, 1520')])), ('rat2-control2', CommentedOrderedMap([('crop', '0, 2704, 0, 1520')])), ('rat1-control1', CommentedOrderedMap([('crop', '0, 2704, 0, 1520')])), ('rat4-lps2', CommentedOrderedMap([('crop', '0, 2704, 0, 1520')])), ('rat3-lps1', CommentedOrderedMap([('crop', '0, 2704, 0, 1520')])), ('rat1-control4', CommentedOrderedMap([('crop', '0, 2704, 0, 1520')])), ('rat4-control1', CommentedOrderedMap([('crop', '0, 2704, 0, 1520')])), ('rat3-lps2', CommentedOrderedMap([('crop', '0, 2704, 0, 1520')])), ('rat4-control2', CommentedOrderedMap([('crop', '0, 2704, 0, 1520')])), ('rat2-control3', CommentedOrderedMap([('crop', '0, 2704, 0, 1520')])), ('rat2-lps1', CommentedOrderedMap([('crop', '0, 2704, 0, 1520')])), ('rat3-control3', CommentedOrderedMap([('crop', '0, 2704, 0, 1520')])), ('rat3-control4', CommentedOrderedMap([('crop', '0, 2704, 0, 1520')]))])"
      ]
     },
     "execution_count": 4,
     "metadata": {},
     "output_type": "execute_result"
    }
   ],
   "source": [
    "cfg['video_sets']"
   ]
  },
  {
   "cell_type": "code",
   "execution_count": 37,
   "metadata": {},
   "outputs": [],
   "source": [
    "from ruamel.yaml.compat import ordereddict\n",
    "import glob\n",
    "\n",
    "with open(config_path, 'r') as fp:\n",
    "    cfg = yaml.load(fp)\n",
    "\n",
    "cfg['video_sets'] = ordereddict()\n",
    "crop = '0, 2704, 0, 1520'\n",
    "for video in glob.glob(str(project_path / 'labeled-data/rat*')):\n",
    "    head, tail = os.path.split(video)\n",
    "    cfg['video_sets'][tail] = ordereddict({'crop': crop})\n",
    "    \n",
    "\n",
    "with open(config_path, 'w') as fp:\n",
    "    yaml.dump(cfg, fp)"
   ]
  },
  {
   "cell_type": "code",
   "execution_count": 5,
   "metadata": {},
   "outputs": [
    {
     "name": "stdout",
     "output_type": "stream",
     "text": [
      "/storage/repos/Mouse-Emotion-Video-Classification/pose-estimation/MousePose-AndreTelfer-2020-07-21/training-datasets/iteration-0/UnaugmentedDataSet_MousePoseJul21  already exists!\n",
      "It appears that the images were labeled on a Windows system, but you are currently trying to create a training set on a Unix system. \n",
      " In this case the paths should be converted. Do you want to proceed with the conversion?\n"
     ]
    },
    {
     "name": "stdin",
     "output_type": "stream",
     "text": [
      "yes/no yes\n"
     ]
    },
    {
     "name": "stdout",
     "output_type": "stream",
     "text": [
      "Annotation data converted to unix format...\n",
      "/storage/repos/Mouse-Emotion-Video-Classification/pose-estimation/MousePose-AndreTelfer-2020-07-21/dlc-models/iteration-0/MousePoseJul21-trainset95shuffle1  already exists!\n",
      "/storage/repos/Mouse-Emotion-Video-Classification/pose-estimation/MousePose-AndreTelfer-2020-07-21/dlc-models/iteration-0/MousePoseJul21-trainset95shuffle1/train  already exists!\n",
      "/storage/repos/Mouse-Emotion-Video-Classification/pose-estimation/MousePose-AndreTelfer-2020-07-21/dlc-models/iteration-0/MousePoseJul21-trainset95shuffle1/test  already exists!\n",
      "The training dataset is successfully created. Use the function 'train_network' to start training. Happy training!\n"
     ]
    },
    {
     "data": {
      "text/plain": [
       "[(0.95,\n",
       "  1,\n",
       "  (array([142, 116,  71, 207, 121,   1, 114, 146,  23,  54, 211,   7, 206,\n",
       "          163,   4, 181,  61,  46, 144, 192,  97, 155, 149,  68, 188,  12,\n",
       "          130,  83,  52, 170, 160,  17, 154,  11, 126,  69, 137,  47, 102,\n",
       "          117, 189,  59,  86,  62, 190,  82, 178,  25,   0,  44,  56,  80,\n",
       "           40, 167,  84, 151, 138,  93,  64,   6, 115, 159,  99,  14, 182,\n",
       "          158,  53, 145, 113,  98,  38, 176,  19, 197, 125, 162,  15, 148,\n",
       "           13,  66, 123, 180, 161,  30, 177, 150, 129, 143, 133,  26, 152,\n",
       "          100,  48,  77, 103, 147, 185,  65, 112,   3, 131, 140,  21,  50,\n",
       "           58, 201,  34,  43,  39, 209, 210,  87, 157,  35, 119,  18, 132,\n",
       "          175,  72, 139,  57, 172, 110, 134, 120, 179,  31,  37,  96,  24,\n",
       "           20,  85,  36,  95,  10, 169, 203, 109, 202,  75, 205,  27, 122,\n",
       "          141, 164,  60, 156, 184,  91,  32, 191, 208, 135,  33,   8,  79,\n",
       "          212,  22, 166,  28, 105, 128, 204, 153,  88,  89, 195, 196, 108,\n",
       "          199, 127,  16, 136,  81,  76,  73, 124, 165,  51,  70, 168,   5,\n",
       "           63,  67, 200, 106, 107,  74,  29, 174, 118, 104, 183, 193, 101,\n",
       "           92, 187,  42,  55,  90, 194, 186]),\n",
       "   array([171,  94,  45,  49, 111,   2,   9,  41, 198, 173,  78])))]"
      ]
     },
     "execution_count": 5,
     "metadata": {},
     "output_type": "execute_result"
    }
   ],
   "source": [
    "import deeplabcut\n",
    "\n",
    "deeplabcut.create_training_dataset(str(config_path))"
   ]
  },
  {
   "cell_type": "code",
   "execution_count": 29,
   "metadata": {},
   "outputs": [
    {
     "name": "stdout",
     "output_type": "stream",
     "text": [
      "{\n",
      "    \"all_joints\": [\n",
      "        [\n",
      "            0\n",
      "        ],\n",
      "        [\n",
      "            1\n",
      "        ],\n",
      "        [\n",
      "            2\n",
      "        ],\n",
      "        [\n",
      "            3\n",
      "        ],\n",
      "        [\n",
      "            4\n",
      "        ],\n",
      "        [\n",
      "            5\n",
      "        ],\n",
      "        [\n",
      "            6\n",
      "        ],\n",
      "        [\n",
      "            7\n",
      "        ],\n",
      "        [\n",
      "            8\n",
      "        ]\n",
      "    ],\n",
      "    \"all_joints_names\": [\n",
      "        \"nose\",\n",
      "        \"left_ear\",\n",
      "        \"right_ear\",\n",
      "        \"left_eye\",\n",
      "        \"right_eye\",\n",
      "        \"front_left_paw\",\n",
      "        \"front_right_paw\",\n",
      "        \"back_left_paw\",\n",
      "        \"back_right_paw\"\n",
      "    ],\n",
      "    \"batch_size\": 1,\n",
      "    \"bottomheight\": 400,\n",
      "    \"crop\": true,\n",
      "    \"cropratio\": 0.4,\n",
      "    \"dataset\": \"training-datasets/iteration-0/UnaugmentedDataSet_MousePoseJul21/MousePose_AndreTelfer95shuffle1.mat\",\n",
      "    \"dataset_type\": \"default\",\n",
      "    \"display_iters\": 1000,\n",
      "    \"global_scale\": 0.8,\n",
      "    \"init_weights\": \"snapshot-150000\",\n",
      "    \"intermediate_supervision\": false,\n",
      "    \"intermediate_supervision_layer\": 12,\n",
      "    \"leftwidth\": 400,\n",
      "    \"location_refinement\": true,\n",
      "    \"locref_huber_loss\": true,\n",
      "    \"locref_loss_weight\": 0.05,\n",
      "    \"locref_stdev\": 7.2801,\n",
      "    \"max_input_size\": 1500,\n",
      "    \"metadataset\": \"training-datasets/iteration-0/UnaugmentedDataSet_MousePoseJul21/Documentation_data-MousePose_95shuffle1.pickle\",\n",
      "    \"min_input_size\": 64,\n",
      "    \"minsize\": 100,\n",
      "    \"mirror\": false,\n",
      "    \"multi_step\": [\n",
      "        [\n",
      "            0.005,\n",
      "            100000\n",
      "        ],\n",
      "        [\n",
      "            0.002,\n",
      "            500000\n",
      "        ],\n",
      "        [\n",
      "            0.001,\n",
      "            1000000\n",
      "        ]\n",
      "    ],\n",
      "    \"net_type\": \"resnet_50\",\n",
      "    \"num_joints\": 9,\n",
      "    \"pos_dist_thresh\": 17,\n",
      "    \"project_path\": \"/storage/repos/Mouse-Emotion-Video-Classification/pose-estimation/MousePose-AndreTelfer-2020-07-21\",\n",
      "    \"rightwidth\": 400,\n",
      "    \"save_iters\": 50000,\n",
      "    \"scale_jitter_lo\": 0.5,\n",
      "    \"scale_jitter_up\": 1.25,\n",
      "    \"topheight\": 400\n",
      "}\n"
     ]
    }
   ],
   "source": [
    "\n",
    "with open(training_path / 'pose_cfg.yaml', 'r') as fp:\n",
    "    dlc_cfg = yaml.load(fp)\n",
    "    \n",
    "dlc_cfg['init_weights'] = 'snapshot-150000'\n",
    "dlc_cfg['multi_step'] = [\n",
    "    [0.005, 100000],\n",
    "    [0.002, 500000],\n",
    "    [0.001, 1000000]\n",
    "]\n",
    "\n",
    "with open(training_path / 'pose_cfg.yaml', 'w') as fp:\n",
    "    yaml.dump(dlc_cfg, fp)\n",
    "    \n",
    "import json\n",
    "print(json.dumps(dlc_cfg, indent=4))"
   ]
  },
  {
   "cell_type": "code",
   "execution_count": 9,
   "metadata": {},
   "outputs": [
    {
     "name": "stdout",
     "output_type": "stream",
     "text": [
      "Sat Jul 25 04:46:12 2020       \n",
      "+-----------------------------------------------------------------------------+\n",
      "| NVIDIA-SMI 440.100      Driver Version: 440.100      CUDA Version: 10.2     |\n",
      "|-------------------------------+----------------------+----------------------+\n",
      "| GPU  Name        Persistence-M| Bus-Id        Disp.A | Volatile Uncorr. ECC |\n",
      "| Fan  Temp  Perf  Pwr:Usage/Cap|         Memory-Usage | GPU-Util  Compute M. |\n",
      "|===============================+======================+======================|\n",
      "|   0  GeForce RTX 208...  Off  | 00000000:00:06.0 Off |                  N/A |\n",
      "| 27%   29C    P8    19W / 250W |   7676MiB /  7982MiB |      0%      Default |\n",
      "+-------------------------------+----------------------+----------------------+\n",
      "                                                                               \n",
      "+-----------------------------------------------------------------------------+\n",
      "| Processes:                                                       GPU Memory |\n",
      "|  GPU       PID   Type   Process name                             Usage      |\n",
      "|=============================================================================|\n",
      "+-----------------------------------------------------------------------------+\n"
     ]
    }
   ],
   "source": [
    "! nvidia-smi"
   ]
  },
  {
   "cell_type": "code",
   "execution_count": 4,
   "metadata": {},
   "outputs": [
    {
     "name": "stdout",
     "output_type": "stream",
     "text": [
      "top - 17:55:27 up 1 day,  4:45,  0 users,  load average: 0.18, 0.33, 0.68\n",
      "Tasks:   8 total,   1 running,   7 sleeping,   0 stopped,   0 zombie\n",
      "%Cpu(s):  2.2 us,  0.5 sy,  0.0 ni, 97.2 id,  0.0 wa,  0.0 hi,  0.0 si,  0.0 st\n",
      "KiB Mem : 24682776 total, 16401768 free,   890252 used,  7390756 buff/cache\n",
      "KiB Swap:        0 total,        0 free,        0 used. 23436208 avail Mem \n",
      "\n",
      "  PID USER      PR  NI    VIRT    RES    SHR S  %CPU %MEM     TIME+ COMMAND\n",
      "    1 root      20   0   18504   3376   2928 S   0.0  0.0   0:00.37 bash\n",
      "   41 root      20   0  387508  75028  15788 S   0.0  0.3   0:57.97 jupyter-lab\n",
      "  869 root      20   0  527364  49004  13444 S   0.0  0.2   0:00.95 python\n",
      "  883 root      20   0  527364  49080  13512 S   0.0  0.2   0:00.95 python\n",
      " 1023 root      20   0  533956  49508  13560 S   0.0  0.2   0:00.92 python\n",
      " 1411 root      20   0 3406352 408280 186000 S   0.0  1.7   0:04.95 python\n",
      " 1432 root      20   0    4640    864    792 S   0.0  0.0   0:00.72 sh\n",
      " 1433 root      20   0   38804   3224   2848 R   0.0  0.0   0:00.00 top\n"
     ]
    }
   ],
   "source": [
    "! top -bn1"
   ]
  },
  {
   "cell_type": "markdown",
   "metadata": {},
   "source": [
    "# Clear GPU Use \n",
    "Only thing that seems to work"
   ]
  },
  {
   "cell_type": "code",
   "execution_count": 13,
   "metadata": {},
   "outputs": [
    {
     "name": "stdout",
     "output_type": "stream",
     "text": [
      "Requirement already satisfied: numba in /root/miniconda/envs/DLC-GPU/lib/python3.7/site-packages (0.50.1)\n",
      "Requirement already satisfied: numpy>=1.15 in /root/miniconda/envs/DLC-GPU/lib/python3.7/site-packages (from numba) (1.16.4)\n",
      "Requirement already satisfied: setuptools in /root/miniconda/envs/DLC-GPU/lib/python3.7/site-packages (from numba) (47.3.1.post20200622)\n",
      "Requirement already satisfied: llvmlite<0.34,>=0.33.0.dev0 in /root/miniconda/envs/DLC-GPU/lib/python3.7/site-packages (from numba) (0.33.0)\n",
      "\n"
     ]
    },
    {
     "name": "stderr",
     "output_type": "stream",
     "text": [
      "init\n",
      "reset context of device 0\n"
     ]
    }
   ],
   "source": [
    "! conda run -n DLC-GPU pip install numba\n",
    "\n",
    "from numba import cuda\n",
    "cuda.select_device(0)\n",
    "cuda.close()"
   ]
  },
  {
   "cell_type": "code",
   "execution_count": 66,
   "metadata": {},
   "outputs": [
    {
     "data": {
      "text/plain": [
       "1"
      ]
     },
     "execution_count": 66,
     "metadata": {},
     "output_type": "execute_result"
    }
   ],
   "source": [
    "dlc_cfg['batch_size']"
   ]
  },
  {
   "cell_type": "code",
   "execution_count": null,
   "metadata": {},
   "outputs": [
    {
     "name": "stderr",
     "output_type": "stream",
     "text": [
      "Config:\n",
      "{'all_joints': [[0], [1], [2], [3], [4], [5], [6], [7], [8]],\n",
      " 'all_joints_names': ['nose',\n",
      "                      'left_ear',\n",
      "                      'right_ear',\n",
      "                      'left_eye',\n",
      "                      'right_eye',\n",
      "                      'front_left_paw',\n",
      "                      'front_right_paw',\n",
      "                      'back_left_paw',\n",
      "                      'back_right_paw'],\n",
      " 'batch_size': 1,\n",
      " 'bottomheight': 400,\n",
      " 'crop': True,\n",
      " 'crop_pad': 0,\n",
      " 'cropratio': 0.4,\n",
      " 'dataset': 'training-datasets/iteration-0/UnaugmentedDataSet_MousePoseJul21/MousePose_AndreTelfer95shuffle1.mat',\n",
      " 'dataset_type': 'default',\n",
      " 'deterministic': False,\n",
      " 'display_iters': 1000,\n",
      " 'fg_fraction': 0.25,\n",
      " 'global_scale': 0.8,\n",
      " 'init_weights': '/root/miniconda/envs/DLC-GPU/lib/python3.7/site-packages/deeplabcut/pose_estimation_tensorflow/models/pretrained/resnet_v1_50.ckpt',\n",
      " 'intermediate_supervision': False,\n",
      " 'intermediate_supervision_layer': 12,\n",
      " 'leftwidth': 400,\n",
      " 'location_refinement': True,\n",
      " 'locref_huber_loss': True,\n",
      " 'locref_loss_weight': 0.05,\n",
      " 'locref_stdev': 7.2801,\n",
      " 'log_dir': 'log',\n",
      " 'max_input_size': 1500,\n",
      " 'mean_pixel': [123.68, 116.779, 103.939],\n",
      " 'metadataset': 'training-datasets/iteration-0/UnaugmentedDataSet_MousePoseJul21/Documentation_data-MousePose_95shuffle1.pickle',\n",
      " 'min_input_size': 64,\n",
      " 'minsize': 100,\n",
      " 'mirror': False,\n",
      " 'multi_step': [[0.005, 10000],\n",
      "                [0.02, 430000],\n",
      "                [0.002, 730000],\n",
      "                [0.001, 1030000]],\n",
      " 'net_type': 'resnet_50',\n",
      " 'num_joints': 9,\n",
      " 'optimizer': 'sgd',\n",
      " 'pos_dist_thresh': 17,\n",
      " 'project_path': '/storage/repos/Mouse-Emotion-Video-Classification/pose-estimation/MousePose-AndreTelfer-2020-07-21',\n",
      " 'regularize': False,\n",
      " 'rightwidth': 400,\n",
      " 'save_iters': 50000,\n",
      " 'scale_jitter_lo': 0.5,\n",
      " 'scale_jitter_up': 1.25,\n",
      " 'scoremap_dir': 'test',\n",
      " 'shuffle': True,\n",
      " 'snapshot_prefix': '/storage/repos/Mouse-Emotion-Video-Classification/pose-estimation/MousePose-AndreTelfer-2020-07-21/dlc-models/iteration-0/MousePoseJul21-trainset95shuffle1/train/snapshot',\n",
      " 'stride': 8.0,\n",
      " 'topheight': 400,\n",
      " 'weigh_negatives': False,\n",
      " 'weigh_only_present_joints': False,\n",
      " 'weigh_part_predictions': False,\n",
      " 'weight_decay': 0.0001}\n"
     ]
    },
    {
     "name": "stdout",
     "output_type": "stream",
     "text": [
      "Switching batchsize to 1, as default/tensorpack/deterministic loaders do not support batches >1. Use imgaug loader.\n",
      "Starting with standard pose-dataset loader.\n",
      "Initializing ResNet\n",
      "WARNING:tensorflow:From /root/miniconda/envs/DLC-GPU/lib/python3.7/site-packages/tensorflow/python/framework/op_def_library.py:263: colocate_with (from tensorflow.python.framework.ops) is deprecated and will be removed in a future version.\n",
      "Instructions for updating:\n",
      "Colocations handled automatically by placer.\n",
      "WARNING:tensorflow:From /root/miniconda/envs/DLC-GPU/lib/python3.7/site-packages/tensorflow/python/ops/losses/losses_impl.py:209: to_float (from tensorflow.python.ops.math_ops) is deprecated and will be removed in a future version.\n",
      "Instructions for updating:\n",
      "Use tf.cast instead.\n",
      "Loading ImageNet-pretrained resnet_50\n",
      "WARNING:tensorflow:From /root/miniconda/envs/DLC-GPU/lib/python3.7/site-packages/tensorflow/python/training/saver.py:1266: checkpoint_exists (from tensorflow.python.training.checkpoint_management) is deprecated and will be removed in a future version.\n",
      "Instructions for updating:\n",
      "Use standard file APIs to check for files with this prefix.\n",
      "INFO:tensorflow:Restoring parameters from /root/miniconda/envs/DLC-GPU/lib/python3.7/site-packages/deeplabcut/pose_estimation_tensorflow/models/pretrained/resnet_v1_50.ckpt\n",
      "Training parameter:\n",
      "{'stride': 8.0, 'weigh_part_predictions': False, 'weigh_negatives': False, 'fg_fraction': 0.25, 'weigh_only_present_joints': False, 'mean_pixel': [123.68, 116.779, 103.939], 'shuffle': True, 'snapshot_prefix': '/storage/repos/Mouse-Emotion-Video-Classification/pose-estimation/MousePose-AndreTelfer-2020-07-21/dlc-models/iteration-0/MousePoseJul21-trainset95shuffle1/train/snapshot', 'log_dir': 'log', 'global_scale': 0.8, 'location_refinement': True, 'locref_stdev': 7.2801, 'locref_loss_weight': 0.05, 'locref_huber_loss': True, 'optimizer': 'sgd', 'intermediate_supervision': False, 'intermediate_supervision_layer': 12, 'regularize': False, 'weight_decay': 0.0001, 'mirror': False, 'crop_pad': 0, 'scoremap_dir': 'test', 'batch_size': 1, 'dataset_type': 'default', 'deterministic': False, 'crop': True, 'cropratio': 0.4, 'minsize': 100, 'leftwidth': 400, 'rightwidth': 400, 'topheight': 400, 'bottomheight': 400, 'all_joints': [[0], [1], [2], [3], [4], [5], [6], [7], [8]], 'all_joints_names': ['nose', 'left_ear', 'right_ear', 'left_eye', 'right_eye', 'front_left_paw', 'front_right_paw', 'back_left_paw', 'back_right_paw'], 'dataset': 'training-datasets/iteration-0/UnaugmentedDataSet_MousePoseJul21/MousePose_AndreTelfer95shuffle1.mat', 'display_iters': 1000, 'init_weights': '/root/miniconda/envs/DLC-GPU/lib/python3.7/site-packages/deeplabcut/pose_estimation_tensorflow/models/pretrained/resnet_v1_50.ckpt', 'max_input_size': 1500, 'metadataset': 'training-datasets/iteration-0/UnaugmentedDataSet_MousePoseJul21/Documentation_data-MousePose_95shuffle1.pickle', 'min_input_size': 64, 'multi_step': [[0.005, 10000], [0.02, 430000], [0.002, 730000], [0.001, 1030000]], 'net_type': 'resnet_50', 'num_joints': 9, 'pos_dist_thresh': 17, 'project_path': '/storage/repos/Mouse-Emotion-Video-Classification/pose-estimation/MousePose-AndreTelfer-2020-07-21', 'save_iters': 50000, 'scale_jitter_lo': 0.5, 'scale_jitter_up': 1.25, 'output_stride': 16, 'deconvolutionstride': 2}\n",
      "Starting training....\n"
     ]
    },
    {
     "name": "stderr",
     "output_type": "stream",
     "text": [
      "iteration: 1000 loss: 0.0238 lr: 0.005\n",
      "iteration: 2000 loss: 0.0133 lr: 0.005\n",
      "iteration: 3000 loss: 0.0114 lr: 0.005\n",
      "iteration: 4000 loss: 0.0098 lr: 0.005\n",
      "iteration: 5000 loss: 0.0089 lr: 0.005\n",
      "iteration: 6000 loss: 0.0081 lr: 0.005\n",
      "iteration: 7000 loss: 0.0076 lr: 0.005\n",
      "iteration: 8000 loss: 0.0073 lr: 0.005\n",
      "iteration: 9000 loss: 0.0070 lr: 0.005\n",
      "iteration: 10000 loss: 0.0066 lr: 0.005\n",
      "iteration: 11000 loss: 0.0091 lr: 0.02\n",
      "iteration: 12000 loss: 0.0077 lr: 0.02\n",
      "iteration: 13000 loss: 0.0072 lr: 0.02\n",
      "iteration: 14000 loss: 0.0062 lr: 0.02\n",
      "iteration: 15000 loss: 0.0056 lr: 0.02\n",
      "iteration: 16000 loss: 0.0053 lr: 0.02\n",
      "iteration: 17000 loss: 0.0050 lr: 0.02\n",
      "iteration: 18000 loss: 0.0050 lr: 0.02\n",
      "iteration: 19000 loss: 0.0046 lr: 0.02\n",
      "iteration: 20000 loss: 0.0043 lr: 0.02\n",
      "iteration: 21000 loss: 0.0042 lr: 0.02\n",
      "iteration: 22000 loss: 0.0039 lr: 0.02\n",
      "iteration: 23000 loss: 0.0038 lr: 0.02\n",
      "iteration: 24000 loss: 0.0036 lr: 0.02\n",
      "iteration: 25000 loss: 0.0036 lr: 0.02\n",
      "iteration: 26000 loss: 0.0035 lr: 0.02\n",
      "iteration: 27000 loss: 0.0034 lr: 0.02\n",
      "iteration: 28000 loss: 0.0032 lr: 0.02\n",
      "iteration: 29000 loss: 0.0032 lr: 0.02\n",
      "iteration: 30000 loss: 0.0031 lr: 0.02\n",
      "iteration: 31000 loss: 0.0030 lr: 0.02\n",
      "iteration: 32000 loss: 0.0029 lr: 0.02\n",
      "iteration: 33000 loss: 0.0029 lr: 0.02\n",
      "iteration: 34000 loss: 0.0029 lr: 0.02\n",
      "iteration: 35000 loss: 0.0028 lr: 0.02\n",
      "iteration: 37000 loss: 0.0027 lr: 0.02\n",
      "iteration: 38000 loss: 0.0026 lr: 0.02\n",
      "iteration: 39000 loss: 0.0026 lr: 0.02\n",
      "iteration: 40000 loss: 0.0026 lr: 0.02\n",
      "iteration: 41000 loss: 0.0025 lr: 0.02\n",
      "iteration: 42000 loss: 0.0025 lr: 0.02\n",
      "iteration: 43000 loss: 0.0025 lr: 0.02\n",
      "iteration: 44000 loss: 0.0024 lr: 0.02\n",
      "iteration: 45000 loss: 0.0024 lr: 0.02\n",
      "iteration: 47000 loss: 0.0024 lr: 0.02\n",
      "iteration: 48000 loss: 0.0023 lr: 0.02\n"
     ]
    }
   ],
   "source": [
    "deeplabcut.train_network(str(config_path))"
   ]
  },
  {
   "cell_type": "code",
   "execution_count": null,
   "metadata": {},
   "outputs": [],
   "source": [
    "ls"
   ]
  },
  {
   "cell_type": "code",
   "execution_count": 12,
   "metadata": {},
   "outputs": [
    {
     "name": "stdout",
     "output_type": "stream",
     "text": [
      "checkpoint                            snapshot-1030000.meta\n",
      "core                                  snapshot-850000.data-00000-of-00001\n",
      "learning_stats.csv                    snapshot-850000.index\n",
      "\u001b[0m\u001b[01;34mlog\u001b[0m/                                  snapshot-850000.meta\n",
      "log.txt                               snapshot-900000.data-00000-of-00001\n",
      "pose_cfg.yaml                         snapshot-900000.index\n",
      "snapshot-1000000.data-00000-of-00001  snapshot-900000.meta\n",
      "snapshot-1000000.index                snapshot-950000.data-00000-of-00001\n",
      "snapshot-1000000.meta                 snapshot-950000.index\n",
      "snapshot-1030000.data-00000-of-00001  snapshot-950000.meta\n",
      "snapshot-1030000.index\n"
     ]
    }
   ],
   "source": [
    "ls {training_path}"
   ]
  },
  {
   "cell_type": "markdown",
   "metadata": {},
   "source": [
    "# Analyze Videos"
   ]
  },
  {
   "cell_type": "code",
   "execution_count": 21,
   "metadata": {},
   "outputs": [
    {
     "data": {
      "text/plain": [
       "['/storage/gs/rat-emotion/videos/24fps-shortened/rat3-control3.mp4',\n",
       " '/storage/gs/rat-emotion/videos/24fps-shortened/rat7-control2.mp4',\n",
       " '/storage/gs/rat-emotion/videos/24fps-shortened/rat7-control1.mp4',\n",
       " '/storage/gs/rat-emotion/videos/24fps-shortened/rat5-lps1.mp4',\n",
       " '/storage/gs/rat-emotion/videos/24fps-shortened/rat3-control2.mp4',\n",
       " '/storage/gs/rat-emotion/videos/24fps-shortened/rat3-lps1.mp4',\n",
       " '/storage/gs/rat-emotion/videos/24fps-shortened/rat6-control4.mp4',\n",
       " '/storage/gs/rat-emotion/videos/24fps-shortened/rat4-control2.mp4',\n",
       " '/storage/gs/rat-emotion/videos/24fps-shortened/rat5-control2.mp4',\n",
       " '/storage/gs/rat-emotion/videos/24fps-shortened/rat6-control2.mp4',\n",
       " '/storage/gs/rat-emotion/videos/24fps-shortened/rat1-control1.mp4',\n",
       " '/storage/gs/rat-emotion/videos/24fps-shortened/rat8-control2.mp4',\n",
       " '/storage/gs/rat-emotion/videos/24fps-shortened/rat7-control4.mp4',\n",
       " '/storage/gs/rat-emotion/videos/24fps-shortened/rat4-lps1.mp4',\n",
       " '/storage/gs/rat-emotion/videos/24fps-shortened/rat5-lps2.mp4',\n",
       " '/storage/gs/rat-emotion/videos/24fps-shortened/rat2-control1.mp4',\n",
       " '/storage/gs/rat-emotion/videos/24fps-shortened/rat4-control1.mp4',\n",
       " '/storage/gs/rat-emotion/videos/24fps-shortened/rat5-control1.mp4',\n",
       " '/storage/gs/rat-emotion/videos/24fps-shortened/rat2-control4.mp4',\n",
       " '/storage/gs/rat-emotion/videos/24fps-shortened/rat6-control1.mp4',\n",
       " '/storage/gs/rat-emotion/videos/24fps-shortened/rat7-lps1.mp4',\n",
       " '/storage/gs/rat-emotion/videos/24fps-shortened/rat8-lps1.mp4',\n",
       " '/storage/gs/rat-emotion/videos/24fps-shortened/rat3-lps2.mp4',\n",
       " '/storage/gs/rat-emotion/videos/24fps-shortened/rat7-control3.mp4',\n",
       " '/storage/gs/rat-emotion/videos/24fps-shortened/rat6-control5.mp4',\n",
       " '/storage/gs/rat-emotion/videos/24fps-shortened/rat9-lps2.mp4',\n",
       " '/storage/gs/rat-emotion/videos/24fps-shortened/rat2-control3.mp4',\n",
       " '/storage/gs/rat-emotion/videos/24fps-shortened/rat9-lps1.mp4',\n",
       " '/storage/gs/rat-emotion/videos/24fps-shortened/rat2-lps2.mp4',\n",
       " '/storage/gs/rat-emotion/videos/24fps-shortened/rat1-control2.mp4',\n",
       " '/storage/gs/rat-emotion/videos/24fps-shortened/rat8-lps2.mp4',\n",
       " '/storage/gs/rat-emotion/videos/24fps-shortened/rat4-lps2.mp4',\n",
       " '/storage/gs/rat-emotion/videos/24fps-shortened/rat2-lps3.mp4',\n",
       " '/storage/gs/rat-emotion/videos/24fps-shortened/rat6-control3.mp4',\n",
       " '/storage/gs/rat-emotion/videos/24fps-shortened/rat8-control1.mp4',\n",
       " '/storage/gs/rat-emotion/videos/24fps-shortened/rat2-lps4.mp4',\n",
       " '/storage/gs/rat-emotion/videos/24fps-shortened/rat7-lps2.mp4',\n",
       " '/storage/gs/rat-emotion/videos/24fps-shortened/rat1-control3.mp4',\n",
       " '/storage/gs/rat-emotion/videos/24fps-shortened/rat9-control1.mp4',\n",
       " '/storage/gs/rat-emotion/videos/24fps-shortened/rat6-lps2.mp4',\n",
       " '/storage/gs/rat-emotion/videos/24fps-shortened/rat3-control1.mp4',\n",
       " '/storage/gs/rat-emotion/videos/24fps-shortened/rat2-lps1.mp4',\n",
       " '/storage/gs/rat-emotion/videos/24fps-shortened/rat3-control4.mp4',\n",
       " '/storage/gs/rat-emotion/videos/24fps-shortened/rat9-control2.mp4',\n",
       " '/storage/gs/rat-emotion/videos/24fps-shortened/rat6-lps1.mp4',\n",
       " '/storage/gs/rat-emotion/videos/24fps-shortened/rat2-control2.mp4',\n",
       " '/storage/gs/rat-emotion/videos/24fps-shortened/rat1-control4.mp4']"
      ]
     },
     "execution_count": 21,
     "metadata": {},
     "output_type": "execute_result"
    }
   ],
   "source": [
    "import glob\n",
    "\n",
    "videos = glob.glob('/storage/gs/rat-emotion/videos/24fps-shortened/*.mp4')\n",
    "videos"
   ]
  },
  {
   "cell_type": "code",
   "execution_count": 26,
   "metadata": {},
   "outputs": [
    {
     "name": "stdout",
     "output_type": "stream",
     "text": [
      "CommandException: One or more URLs matched no objects.\n"
     ]
    }
   ],
   "source": [
    "! gsutil ls gs://rat-emotion/report/dlc-demo_2020-07-25"
   ]
  },
  {
   "cell_type": "code",
   "execution_count": null,
   "metadata": {},
   "outputs": [
    {
     "name": "stdout",
     "output_type": "stream",
     "text": [
      "Using snapshot-1030000 for model /storage/repos/Mouse-Emotion-Video-Classification/pose-estimation/MousePose-AndreTelfer-2020-07-21/dlc-models/iteration-0/MousePoseJul21-trainset95shuffle1\n",
      "Initializing ResNet\n",
      "INFO:tensorflow:Restoring parameters from /storage/repos/Mouse-Emotion-Video-Classification/pose-estimation/MousePose-AndreTelfer-2020-07-21/dlc-models/iteration-0/MousePoseJul21-trainset95shuffle1/train/snapshot-1030000\n"
     ]
    },
    {
     "name": "stderr",
     "output_type": "stream",
     "text": [
      "INFO:tensorflow:Restoring parameters from /storage/repos/Mouse-Emotion-Video-Classification/pose-estimation/MousePose-AndreTelfer-2020-07-21/dlc-models/iteration-0/MousePoseJul21-trainset95shuffle1/train/snapshot-1030000\n",
      "  0%|          | 0/12759 [00:00<?, ?it/s]"
     ]
    },
    {
     "name": "stdout",
     "output_type": "stream",
     "text": [
      "Starting to analyze %  /tmp/tmp2jm8ry2q/videos/rat9-control1.mp4\n",
      "Loading  /tmp/tmp2jm8ry2q/videos/rat9-control1.mp4\n",
      "Duration of video [s]:  531.79 , recorded with  23.99 fps!\n",
      "Overall # of frames:  12759  found with (before cropping) frame dimensions:  1280 720\n",
      "Starting to extract posture\n"
     ]
    },
    {
     "name": "stderr",
     "output_type": "stream",
     "text": [
      "12827it [12:16, 17.27it/s]                           "
     ]
    },
    {
     "name": "stdout",
     "output_type": "stream",
     "text": [
      "Detected frames:  12759\n"
     ]
    },
    {
     "name": "stderr",
     "output_type": "stream",
     "text": [
      "12827it [12:20, 17.32it/s]\n",
      "  0%|          | 0/12759 [00:00<?, ?it/s]"
     ]
    },
    {
     "name": "stdout",
     "output_type": "stream",
     "text": [
      "Saving results in /tmp/tmp2jm8ry2q/videos...\n",
      "Starting to analyze %  /tmp/tmp2jm8ry2q/videos/rat6-control4.mp4\n",
      "Loading  /tmp/tmp2jm8ry2q/videos/rat6-control4.mp4\n",
      "Duration of video [s]:  531.79 , recorded with  23.99 fps!\n",
      "Overall # of frames:  12759  found with (before cropping) frame dimensions:  1280 720\n",
      "Starting to extract posture\n"
     ]
    },
    {
     "name": "stderr",
     "output_type": "stream",
     "text": [
      "12827it [12:15, 17.15it/s]                           "
     ]
    },
    {
     "name": "stdout",
     "output_type": "stream",
     "text": [
      "Detected frames:  12759\n"
     ]
    },
    {
     "name": "stderr",
     "output_type": "stream",
     "text": [
      "12827it [12:18, 17.36it/s]\n",
      "  0%|          | 0/4085 [00:00<?, ?it/s]"
     ]
    },
    {
     "name": "stdout",
     "output_type": "stream",
     "text": [
      "Saving results in /tmp/tmp2jm8ry2q/videos...\n",
      "Starting to analyze %  /tmp/tmp2jm8ry2q/videos/rat3-control2.mp4\n",
      "Loading  /tmp/tmp2jm8ry2q/videos/rat3-control2.mp4\n",
      "Duration of video [s]:  170.38 , recorded with  23.98 fps!\n",
      "Overall # of frames:  4085  found with (before cropping) frame dimensions:  1280 720\n",
      "Starting to extract posture\n"
     ]
    },
    {
     "name": "stderr",
     "output_type": "stream",
     "text": [
      "4120it [03:56, 17.06it/s]                          "
     ]
    },
    {
     "name": "stdout",
     "output_type": "stream",
     "text": [
      "Detected frames:  4085\n"
     ]
    },
    {
     "name": "stderr",
     "output_type": "stream",
     "text": [
      "4120it [03:56, 17.42it/s]\n",
      "  0%|          | 0/12759 [00:00<?, ?it/s]"
     ]
    },
    {
     "name": "stdout",
     "output_type": "stream",
     "text": [
      "Saving results in /tmp/tmp2jm8ry2q/videos...\n",
      "Starting to analyze %  /tmp/tmp2jm8ry2q/videos/rat9-lps1.mp4\n",
      "Loading  /tmp/tmp2jm8ry2q/videos/rat9-lps1.mp4\n",
      "Duration of video [s]:  531.79 , recorded with  23.99 fps!\n",
      "Overall # of frames:  12759  found with (before cropping) frame dimensions:  1280 720\n",
      "Starting to extract posture\n"
     ]
    },
    {
     "name": "stderr",
     "output_type": "stream",
     "text": [
      "12827it [12:06, 17.79it/s]                           "
     ]
    },
    {
     "name": "stdout",
     "output_type": "stream",
     "text": [
      "Detected frames:  12759\n"
     ]
    },
    {
     "name": "stderr",
     "output_type": "stream",
     "text": [
      "12827it [12:10, 17.57it/s]\n",
      "  0%|          | 0/12771 [00:00<?, ?it/s]"
     ]
    },
    {
     "name": "stdout",
     "output_type": "stream",
     "text": [
      "Saving results in /tmp/tmp2jm8ry2q/videos...\n",
      "Starting to analyze %  /tmp/tmp2jm8ry2q/videos/rat8-lps1.mp4\n",
      "Loading  /tmp/tmp2jm8ry2q/videos/rat8-lps1.mp4\n",
      "Duration of video [s]:  532.29 , recorded with  23.99 fps!\n",
      "Overall # of frames:  12771  found with (before cropping) frame dimensions:  1280 720\n",
      "Starting to extract posture\n"
     ]
    },
    {
     "name": "stderr",
     "output_type": "stream",
     "text": [
      "12827it [12:06, 17.71it/s]                           "
     ]
    },
    {
     "name": "stdout",
     "output_type": "stream",
     "text": [
      "Detected frames:  12771\n"
     ]
    },
    {
     "name": "stderr",
     "output_type": "stream",
     "text": [
      "12827it [12:10, 17.56it/s]\n",
      "  0%|          | 0/12496 [00:00<?, ?it/s]"
     ]
    },
    {
     "name": "stdout",
     "output_type": "stream",
     "text": [
      "Saving results in /tmp/tmp2jm8ry2q/videos...\n",
      "Starting to analyze %  /tmp/tmp2jm8ry2q/videos/rat6-control3.mp4\n",
      "Loading  /tmp/tmp2jm8ry2q/videos/rat6-control3.mp4\n",
      "Duration of video [s]:  520.83 , recorded with  23.99 fps!\n",
      "Overall # of frames:  12496  found with (before cropping) frame dimensions:  1280 720\n",
      "Starting to extract posture\n"
     ]
    },
    {
     "name": "stderr",
     "output_type": "stream",
     "text": [
      "12524it [12:01, 17.36it/s]                           \n",
      "  0%|          | 0/1608 [00:00<?, ?it/s]"
     ]
    },
    {
     "name": "stdout",
     "output_type": "stream",
     "text": [
      "Detected frames:  12496\n",
      "Saving results in /tmp/tmp2jm8ry2q/videos...\n",
      "Starting to analyze %  /tmp/tmp2jm8ry2q/videos/rat3-control4.mp4\n",
      "Loading  /tmp/tmp2jm8ry2q/videos/rat3-control4.mp4\n",
      "Duration of video [s]:  67.17 , recorded with  23.94 fps!\n",
      "Overall # of frames:  1608  found with (before cropping) frame dimensions:  1280 720\n",
      "Starting to extract posture\n"
     ]
    },
    {
     "name": "stderr",
     "output_type": "stream",
     "text": [
      "1616it [01:33, 17.37it/s]                          \n",
      "  0%|          | 0/2680 [00:00<?, ?it/s]"
     ]
    },
    {
     "name": "stdout",
     "output_type": "stream",
     "text": [
      "Detected frames:  1608\n",
      "Saving results in /tmp/tmp2jm8ry2q/videos...\n",
      "Starting to analyze %  /tmp/tmp2jm8ry2q/videos/rat9-control2.mp4\n",
      "Loading  /tmp/tmp2jm8ry2q/videos/rat9-control2.mp4\n",
      "Duration of video [s]:  111.83 , recorded with  23.96 fps!\n",
      "Overall # of frames:  2680  found with (before cropping) frame dimensions:  1280 720\n",
      "Starting to extract posture\n"
     ]
    },
    {
     "name": "stderr",
     "output_type": "stream",
     "text": [
      "2704it [02:34, 17.45it/s]                          \n",
      "  0%|          | 0/2032 [00:00<?, ?it/s]"
     ]
    },
    {
     "name": "stdout",
     "output_type": "stream",
     "text": [
      "Detected frames:  2680\n",
      "Saving results in /tmp/tmp2jm8ry2q/videos...\n",
      "Starting to analyze %  /tmp/tmp2jm8ry2q/videos/rat1-control4.mp4\n",
      "Loading  /tmp/tmp2jm8ry2q/videos/rat1-control4.mp4\n",
      "Duration of video [s]:  84.83 , recorded with  23.95 fps!\n",
      "Overall # of frames:  2032  found with (before cropping) frame dimensions:  1280 720\n",
      "Starting to extract posture\n"
     ]
    },
    {
     "name": "stderr",
     "output_type": "stream",
     "text": [
      "2040it [01:58, 17.26it/s]                          \n",
      "  0%|          | 0/2342 [00:00<?, ?it/s]"
     ]
    },
    {
     "name": "stdout",
     "output_type": "stream",
     "text": [
      "Detected frames:  2032\n",
      "Saving results in /tmp/tmp2jm8ry2q/videos...\n",
      "Starting to analyze %  /tmp/tmp2jm8ry2q/videos/rat2-control2.mp4\n",
      "Loading  /tmp/tmp2jm8ry2q/videos/rat2-control2.mp4\n",
      "Duration of video [s]:  97.75 , recorded with  23.96 fps!\n",
      "Overall # of frames:  2342  found with (before cropping) frame dimensions:  1280 720\n",
      "Starting to extract posture\n"
     ]
    },
    {
     "name": "stderr",
     "output_type": "stream",
     "text": [
      "2346it [02:13, 17.30it/s]                          "
     ]
    },
    {
     "name": "stdout",
     "output_type": "stream",
     "text": [
      "Detected frames:  2342\n"
     ]
    },
    {
     "name": "stderr",
     "output_type": "stream",
     "text": [
      "2346it [02:15, 17.37it/s]\n",
      "  0%|          | 0/5210 [00:00<?, ?it/s]"
     ]
    },
    {
     "name": "stdout",
     "output_type": "stream",
     "text": [
      "Saving results in /tmp/tmp2jm8ry2q/videos...\n",
      "Starting to analyze %  /tmp/tmp2jm8ry2q/videos/rat8-lps2.mp4\n",
      "Loading  /tmp/tmp2jm8ry2q/videos/rat8-lps2.mp4\n",
      "Duration of video [s]:  217.25 , recorded with  23.98 fps!\n",
      "Overall # of frames:  5210  found with (before cropping) frame dimensions:  1280 720\n",
      "Starting to extract posture\n"
     ]
    },
    {
     "name": "stderr",
     "output_type": "stream",
     "text": [
      "5252it [04:53, 17.45it/s]                          "
     ]
    },
    {
     "name": "stdout",
     "output_type": "stream",
     "text": [
      "Detected frames:  5210\n"
     ]
    },
    {
     "name": "stderr",
     "output_type": "stream",
     "text": [
      "5252it [04:54, 17.81it/s]\n",
      "  0%|          | 0/12759 [00:00<?, ?it/s]"
     ]
    },
    {
     "name": "stdout",
     "output_type": "stream",
     "text": [
      "Saving results in /tmp/tmp2jm8ry2q/videos...\n",
      "Starting to analyze %  /tmp/tmp2jm8ry2q/videos/rat1-control3.mp4\n",
      "Loading  /tmp/tmp2jm8ry2q/videos/rat1-control3.mp4\n",
      "Duration of video [s]:  531.79 , recorded with  23.99 fps!\n",
      "Overall # of frames:  12759  found with (before cropping) frame dimensions:  1280 720\n",
      "Starting to extract posture\n"
     ]
    },
    {
     "name": "stderr",
     "output_type": "stream",
     "text": [
      "12827it [12:15, 17.37it/s]                           "
     ]
    },
    {
     "name": "stdout",
     "output_type": "stream",
     "text": [
      "Detected frames:  12759\n"
     ]
    },
    {
     "name": "stderr",
     "output_type": "stream",
     "text": [
      "12827it [12:18, 17.36it/s]\n",
      "  0%|          | 0/12759 [00:00<?, ?it/s]"
     ]
    },
    {
     "name": "stdout",
     "output_type": "stream",
     "text": [
      "Saving results in /tmp/tmp2jm8ry2q/videos...\n",
      "Starting to analyze %  /tmp/tmp2jm8ry2q/videos/rat2-control3.mp4\n",
      "Loading  /tmp/tmp2jm8ry2q/videos/rat2-control3.mp4\n",
      "Duration of video [s]:  531.79 , recorded with  23.99 fps!\n",
      "Overall # of frames:  12759  found with (before cropping) frame dimensions:  1280 720\n",
      "Starting to extract posture\n"
     ]
    },
    {
     "name": "stderr",
     "output_type": "stream",
     "text": [
      "12827it [12:11, 17.29it/s]                           "
     ]
    },
    {
     "name": "stdout",
     "output_type": "stream",
     "text": [
      "Detected frames:  12759\n"
     ]
    },
    {
     "name": "stderr",
     "output_type": "stream",
     "text": [
      "12827it [12:15, 17.44it/s]\n",
      "  0%|          | 0/12771 [00:00<?, ?it/s]"
     ]
    },
    {
     "name": "stdout",
     "output_type": "stream",
     "text": [
      "Saving results in /tmp/tmp2jm8ry2q/videos...\n",
      "Starting to analyze %  /tmp/tmp2jm8ry2q/videos/rat7-control3.mp4\n",
      "Loading  /tmp/tmp2jm8ry2q/videos/rat7-control3.mp4\n",
      "Duration of video [s]:  532.29 , recorded with  23.99 fps!\n",
      "Overall # of frames:  12771  found with (before cropping) frame dimensions:  1280 720\n",
      "Starting to extract posture\n"
     ]
    },
    {
     "name": "stderr",
     "output_type": "stream",
     "text": [
      "12827it [12:14, 17.30it/s]                           "
     ]
    },
    {
     "name": "stdout",
     "output_type": "stream",
     "text": [
      "Detected frames:  12771\n"
     ]
    },
    {
     "name": "stderr",
     "output_type": "stream",
     "text": [
      "12827it [12:19, 17.34it/s]\n",
      "  0%|          | 0/12759 [00:00<?, ?it/s]"
     ]
    },
    {
     "name": "stdout",
     "output_type": "stream",
     "text": [
      "Saving results in /tmp/tmp2jm8ry2q/videos...\n",
      "Starting to analyze %  /tmp/tmp2jm8ry2q/videos/rat2-lps3.mp4\n",
      "Loading  /tmp/tmp2jm8ry2q/videos/rat2-lps3.mp4\n",
      "Duration of video [s]:  531.79 , recorded with  23.99 fps!\n",
      "Overall # of frames:  12759  found with (before cropping) frame dimensions:  1280 720\n",
      "Starting to extract posture\n"
     ]
    },
    {
     "name": "stderr",
     "output_type": "stream",
     "text": [
      "12827it [12:00, 17.58it/s]                           "
     ]
    },
    {
     "name": "stdout",
     "output_type": "stream",
     "text": [
      "Detected frames:  12759\n"
     ]
    },
    {
     "name": "stderr",
     "output_type": "stream",
     "text": [
      "12827it [12:03, 17.72it/s]\n",
      "  0%|          | 0/2210 [00:00<?, ?it/s]"
     ]
    },
    {
     "name": "stdout",
     "output_type": "stream",
     "text": [
      "Saving results in /tmp/tmp2jm8ry2q/videos...\n",
      "Starting to analyze %  /tmp/tmp2jm8ry2q/videos/rat2-lps4.mp4\n",
      "Loading  /tmp/tmp2jm8ry2q/videos/rat2-lps4.mp4\n",
      "Duration of video [s]:  92.25 , recorded with  23.96 fps!\n",
      "Overall # of frames:  2210  found with (before cropping) frame dimensions:  1280 720\n",
      "Starting to extract posture\n"
     ]
    },
    {
     "name": "stderr",
     "output_type": "stream",
     "text": [
      "2222it [02:05, 16.57it/s]                          "
     ]
    },
    {
     "name": "stdout",
     "output_type": "stream",
     "text": [
      "Detected frames:  2210\n"
     ]
    },
    {
     "name": "stderr",
     "output_type": "stream",
     "text": [
      "2222it [02:06, 17.61it/s]\n",
      "  0%|          | 0/1870 [00:00<?, ?it/s]"
     ]
    },
    {
     "name": "stdout",
     "output_type": "stream",
     "text": [
      "Saving results in /tmp/tmp2jm8ry2q/videos...\n",
      "Starting to analyze %  /tmp/tmp2jm8ry2q/videos/rat6-lps2.mp4\n",
      "Loading  /tmp/tmp2jm8ry2q/videos/rat6-lps2.mp4\n",
      "Duration of video [s]:  78.08 , recorded with  23.95 fps!\n",
      "Overall # of frames:  1870  found with (before cropping) frame dimensions:  1280 720\n",
      "Starting to extract posture\n"
     ]
    },
    {
     "name": "stderr",
     "output_type": "stream",
     "text": [
      "1872it [01:44, 18.01it/s]                          "
     ]
    },
    {
     "name": "stdout",
     "output_type": "stream",
     "text": [
      "Detected frames:  1870\n"
     ]
    },
    {
     "name": "stderr",
     "output_type": "stream",
     "text": [
      "1872it [01:45, 17.72it/s]\n",
      "  0%|          | 0/3035 [00:00<?, ?it/s]"
     ]
    },
    {
     "name": "stdout",
     "output_type": "stream",
     "text": [
      "Saving results in /tmp/tmp2jm8ry2q/videos...\n",
      "Starting to analyze %  /tmp/tmp2jm8ry2q/videos/rat3-lps2.mp4\n",
      "Loading  /tmp/tmp2jm8ry2q/videos/rat3-lps2.mp4\n",
      "Duration of video [s]:  126.62 , recorded with  23.97 fps!\n",
      "Overall # of frames:  3035  found with (before cropping) frame dimensions:  1280 720\n",
      "Starting to extract posture\n"
     ]
    },
    {
     "name": "stderr",
     "output_type": "stream",
     "text": [
      "3060it [02:50, 18.21it/s]                          "
     ]
    },
    {
     "name": "stdout",
     "output_type": "stream",
     "text": [
      "Detected frames:  3035\n"
     ]
    },
    {
     "name": "stderr",
     "output_type": "stream",
     "text": [
      "3060it [02:51, 17.82it/s]\n",
      "  0%|          | 0/10539 [00:00<?, ?it/s]"
     ]
    },
    {
     "name": "stdout",
     "output_type": "stream",
     "text": [
      "Saving results in /tmp/tmp2jm8ry2q/videos...\n",
      "Starting to analyze %  /tmp/tmp2jm8ry2q/videos/rat5-lps1.mp4\n",
      "Loading  /tmp/tmp2jm8ry2q/videos/rat5-lps1.mp4\n",
      "Duration of video [s]:  439.29 , recorded with  23.99 fps!\n",
      "Overall # of frames:  10539  found with (before cropping) frame dimensions:  1280 720\n",
      "Starting to extract posture\n"
     ]
    },
    {
     "name": "stderr",
     "output_type": "stream",
     "text": [
      "10605it [10:02, 17.59it/s]                           "
     ]
    },
    {
     "name": "stdout",
     "output_type": "stream",
     "text": [
      "Detected frames:  10539\n"
     ]
    },
    {
     "name": "stderr",
     "output_type": "stream",
     "text": [
      "10605it [10:04, 17.53it/s]\n",
      "  0%|          | 0/6906 [00:00<?, ?it/s]"
     ]
    },
    {
     "name": "stdout",
     "output_type": "stream",
     "text": [
      "Saving results in /tmp/tmp2jm8ry2q/videos...\n",
      "Starting to analyze %  /tmp/tmp2jm8ry2q/videos/rat7-lps2.mp4\n",
      "Loading  /tmp/tmp2jm8ry2q/videos/rat7-lps2.mp4\n",
      "Duration of video [s]:  287.92 , recorded with  23.99 fps!\n",
      "Overall # of frames:  6906  found with (before cropping) frame dimensions:  1280 720\n",
      "Starting to extract posture\n"
     ]
    },
    {
     "name": "stderr",
     "output_type": "stream",
     "text": [
      "6969it [06:33, 17.47it/s]                          "
     ]
    },
    {
     "name": "stdout",
     "output_type": "stream",
     "text": [
      "Detected frames:  6906\n"
     ]
    },
    {
     "name": "stderr",
     "output_type": "stream",
     "text": [
      "6969it [06:34, 17.67it/s]\n",
      "  0%|          | 0/1857 [00:00<?, ?it/s]"
     ]
    },
    {
     "name": "stdout",
     "output_type": "stream",
     "text": [
      "Saving results in /tmp/tmp2jm8ry2q/videos...\n",
      "Starting to analyze %  /tmp/tmp2jm8ry2q/videos/rat5-lps2.mp4\n",
      "Loading  /tmp/tmp2jm8ry2q/videos/rat5-lps2.mp4\n",
      "Duration of video [s]:  77.54 , recorded with  23.95 fps!\n",
      "Overall # of frames:  1857  found with (before cropping) frame dimensions:  1280 720\n",
      "Starting to extract posture\n"
     ]
    },
    {
     "name": "stderr",
     "output_type": "stream",
     "text": [
      "1872it [01:46, 17.90it/s]                          "
     ]
    },
    {
     "name": "stdout",
     "output_type": "stream",
     "text": [
      "Detected frames:  1857\n"
     ]
    },
    {
     "name": "stderr",
     "output_type": "stream",
     "text": [
      "1872it [01:46, 17.50it/s]\n",
      "  0%|          | 0/2305 [00:00<?, ?it/s]"
     ]
    },
    {
     "name": "stdout",
     "output_type": "stream",
     "text": [
      "Saving results in /tmp/tmp2jm8ry2q/videos...\n",
      "Starting to analyze %  /tmp/tmp2jm8ry2q/videos/rat9-lps2.mp4\n",
      "Loading  /tmp/tmp2jm8ry2q/videos/rat9-lps2.mp4\n",
      "Duration of video [s]:  96.21 , recorded with  23.96 fps!\n",
      "Overall # of frames:  2305  found with (before cropping) frame dimensions:  1280 720\n",
      "Starting to extract posture\n"
     ]
    },
    {
     "name": "stderr",
     "output_type": "stream",
     "text": [
      "2323it [02:11, 16.94it/s]                          "
     ]
    },
    {
     "name": "stdout",
     "output_type": "stream",
     "text": [
      "Detected frames:  2305\n"
     ]
    },
    {
     "name": "stderr",
     "output_type": "stream",
     "text": [
      "2323it [02:12, 17.59it/s]\n",
      "  0%|          | 0/12771 [00:00<?, ?it/s]"
     ]
    },
    {
     "name": "stdout",
     "output_type": "stream",
     "text": [
      "Saving results in /tmp/tmp2jm8ry2q/videos...\n",
      "Starting to analyze %  /tmp/tmp2jm8ry2q/videos/rat6-lps1.mp4\n",
      "Loading  /tmp/tmp2jm8ry2q/videos/rat6-lps1.mp4\n",
      "Duration of video [s]:  532.29 , recorded with  23.99 fps!\n",
      "Overall # of frames:  12771  found with (before cropping) frame dimensions:  1280 720\n",
      "Starting to extract posture\n"
     ]
    },
    {
     "name": "stderr",
     "output_type": "stream",
     "text": [
      "12827it [12:02, 17.45it/s]                           "
     ]
    },
    {
     "name": "stdout",
     "output_type": "stream",
     "text": [
      "Detected frames:  12771\n"
     ]
    },
    {
     "name": "stderr",
     "output_type": "stream",
     "text": [
      "12827it [12:06, 17.65it/s]\n",
      "  0%|          | 0/12771 [00:00<?, ?it/s]"
     ]
    },
    {
     "name": "stdout",
     "output_type": "stream",
     "text": [
      "Saving results in /tmp/tmp2jm8ry2q/videos...\n",
      "Starting to analyze %  /tmp/tmp2jm8ry2q/videos/rat4-control1.mp4\n",
      "Loading  /tmp/tmp2jm8ry2q/videos/rat4-control1.mp4\n",
      "Duration of video [s]:  532.29 , recorded with  23.99 fps!\n",
      "Overall # of frames:  12771  found with (before cropping) frame dimensions:  1280 720\n",
      "Starting to extract posture\n"
     ]
    },
    {
     "name": "stderr",
     "output_type": "stream",
     "text": [
      "12827it [12:10, 17.23it/s]                           "
     ]
    },
    {
     "name": "stdout",
     "output_type": "stream",
     "text": [
      "Detected frames:  12771\n"
     ]
    },
    {
     "name": "stderr",
     "output_type": "stream",
     "text": [
      "12827it [12:15, 17.44it/s]\n",
      "  0%|          | 0/2214 [00:00<?, ?it/s]"
     ]
    },
    {
     "name": "stdout",
     "output_type": "stream",
     "text": [
      "Saving results in /tmp/tmp2jm8ry2q/videos...\n",
      "Starting to analyze %  /tmp/tmp2jm8ry2q/videos/rat4-control2.mp4\n",
      "Loading  /tmp/tmp2jm8ry2q/videos/rat4-control2.mp4\n",
      "Duration of video [s]:  92.42 , recorded with  23.96 fps!\n",
      "Overall # of frames:  2214  found with (before cropping) frame dimensions:  1280 720\n",
      "Starting to extract posture\n"
     ]
    },
    {
     "name": "stderr",
     "output_type": "stream",
     "text": [
      "2222it [02:04, 16.98it/s]                          "
     ]
    },
    {
     "name": "stdout",
     "output_type": "stream",
     "text": [
      "Detected frames:  2214\n"
     ]
    },
    {
     "name": "stderr",
     "output_type": "stream",
     "text": [
      "2222it [02:05, 17.67it/s]\n",
      "  0%|          | 0/12759 [00:00<?, ?it/s]"
     ]
    },
    {
     "name": "stdout",
     "output_type": "stream",
     "text": [
      "Saving results in /tmp/tmp2jm8ry2q/videos...\n",
      "Starting to analyze %  /tmp/tmp2jm8ry2q/videos/rat7-control1.mp4\n",
      "Loading  /tmp/tmp2jm8ry2q/videos/rat7-control1.mp4\n",
      "Duration of video [s]:  531.79 , recorded with  23.99 fps!\n",
      "Overall # of frames:  12759  found with (before cropping) frame dimensions:  1280 720\n",
      "Starting to extract posture\n"
     ]
    },
    {
     "name": "stderr",
     "output_type": "stream",
     "text": [
      "12827it [12:13, 17.28it/s]                           "
     ]
    },
    {
     "name": "stdout",
     "output_type": "stream",
     "text": [
      "Detected frames:  12759\n"
     ]
    },
    {
     "name": "stderr",
     "output_type": "stream",
     "text": [
      "12827it [12:17, 17.40it/s]\n",
      "  0%|          | 0/1491 [00:00<?, ?it/s]"
     ]
    },
    {
     "name": "stdout",
     "output_type": "stream",
     "text": [
      "Saving results in /tmp/tmp2jm8ry2q/videos...\n",
      "Starting to analyze %  /tmp/tmp2jm8ry2q/videos/rat6-control5.mp4\n",
      "Loading  /tmp/tmp2jm8ry2q/videos/rat6-control5.mp4\n",
      "Duration of video [s]:  62.29 , recorded with  23.94 fps!\n",
      "Overall # of frames:  1491  found with (before cropping) frame dimensions:  1280 720\n",
      "Starting to extract posture\n"
     ]
    },
    {
     "name": "stderr",
     "output_type": "stream",
     "text": [
      "1498it [01:25, 16.84it/s]                          "
     ]
    },
    {
     "name": "stdout",
     "output_type": "stream",
     "text": [
      "Detected frames:  1491\n"
     ]
    },
    {
     "name": "stderr",
     "output_type": "stream",
     "text": [
      "1498it [01:26, 17.31it/s]\n",
      "  0%|          | 0/2626 [00:00<?, ?it/s]"
     ]
    },
    {
     "name": "stdout",
     "output_type": "stream",
     "text": [
      "Saving results in /tmp/tmp2jm8ry2q/videos...\n",
      "Starting to analyze %  /tmp/tmp2jm8ry2q/videos/rat8-control2.mp4\n",
      "Loading  /tmp/tmp2jm8ry2q/videos/rat8-control2.mp4\n",
      "Duration of video [s]:  109.58 , recorded with  23.96 fps!\n",
      "Overall # of frames:  2626  found with (before cropping) frame dimensions:  1280 720\n",
      "Starting to extract posture\n"
     ]
    },
    {
     "name": "stderr",
     "output_type": "stream",
     "text": [
      "2652it [02:32, 17.17it/s]                          "
     ]
    },
    {
     "name": "stdout",
     "output_type": "stream",
     "text": [
      "Detected frames:  2626\n"
     ]
    },
    {
     "name": "stderr",
     "output_type": "stream",
     "text": [
      "2652it [02:33, 17.32it/s]\n",
      "  0%|          | 0/2234 [00:00<?, ?it/s]"
     ]
    },
    {
     "name": "stdout",
     "output_type": "stream",
     "text": [
      "Saving results in /tmp/tmp2jm8ry2q/videos...\n",
      "Starting to analyze %  /tmp/tmp2jm8ry2q/videos/rat7-control4.mp4\n",
      "Loading  /tmp/tmp2jm8ry2q/videos/rat7-control4.mp4\n",
      "Duration of video [s]:  93.25 , recorded with  23.96 fps!\n",
      "Overall # of frames:  2234  found with (before cropping) frame dimensions:  1280 720\n",
      "Starting to extract posture\n"
     ]
    },
    {
     "name": "stderr",
     "output_type": "stream",
     "text": [
      "2244it [02:08, 18.17it/s]                          "
     ]
    },
    {
     "name": "stdout",
     "output_type": "stream",
     "text": [
      "Detected frames:  2234\n"
     ]
    },
    {
     "name": "stderr",
     "output_type": "stream",
     "text": [
      "2244it [02:09, 17.31it/s]\n",
      "  0%|          | 0/12759 [00:00<?, ?it/s]"
     ]
    },
    {
     "name": "stdout",
     "output_type": "stream",
     "text": [
      "Saving results in /tmp/tmp2jm8ry2q/videos...\n",
      "Starting to analyze %  /tmp/tmp2jm8ry2q/videos/rat2-lps1.mp4\n",
      "Loading  /tmp/tmp2jm8ry2q/videos/rat2-lps1.mp4\n",
      "Duration of video [s]:  531.79 , recorded with  23.99 fps!\n",
      "Overall # of frames:  12759  found with (before cropping) frame dimensions:  1280 720\n",
      "Starting to extract posture\n"
     ]
    },
    {
     "name": "stderr",
     "output_type": "stream",
     "text": [
      "12827it [11:57, 17.81it/s]                           "
     ]
    },
    {
     "name": "stdout",
     "output_type": "stream",
     "text": [
      "Detected frames:  12759\n"
     ]
    },
    {
     "name": "stderr",
     "output_type": "stream",
     "text": [
      "12827it [12:00, 17.80it/s]\n"
     ]
    },
    {
     "name": "stdout",
     "output_type": "stream",
     "text": [
      "Saving results in /tmp/tmp2jm8ry2q/videos...\n"
     ]
    },
    {
     "name": "stderr",
     "output_type": "stream",
     "text": [
      "  0%|          | 0/12771 [00:00<?, ?it/s]"
     ]
    },
    {
     "name": "stdout",
     "output_type": "stream",
     "text": [
      "Starting to analyze %  /tmp/tmp2jm8ry2q/videos/rat5-control1.mp4\n",
      "Loading  /tmp/tmp2jm8ry2q/videos/rat5-control1.mp4\n",
      "Duration of video [s]:  532.29 , recorded with  23.99 fps!\n",
      "Overall # of frames:  12771  found with (before cropping) frame dimensions:  1280 720\n",
      "Starting to extract posture\n"
     ]
    },
    {
     "name": "stderr",
     "output_type": "stream",
     "text": [
      "12827it [12:09, 17.71it/s]                           "
     ]
    },
    {
     "name": "stdout",
     "output_type": "stream",
     "text": [
      "Detected frames:  12771\n"
     ]
    },
    {
     "name": "stderr",
     "output_type": "stream",
     "text": [
      "12827it [12:14, 17.47it/s]\n",
      "  0%|          | 0/12759 [00:00<?, ?it/s]"
     ]
    },
    {
     "name": "stdout",
     "output_type": "stream",
     "text": [
      "Saving results in /tmp/tmp2jm8ry2q/videos...\n",
      "Starting to analyze %  /tmp/tmp2jm8ry2q/videos/rat3-control1.mp4\n",
      "Loading  /tmp/tmp2jm8ry2q/videos/rat3-control1.mp4\n",
      "Duration of video [s]:  531.79 , recorded with  23.99 fps!\n",
      "Overall # of frames:  12759  found with (before cropping) frame dimensions:  1280 720\n",
      "Starting to extract posture\n"
     ]
    },
    {
     "name": "stderr",
     "output_type": "stream",
     "text": [
      "12827it [12:09, 17.40it/s]                           "
     ]
    },
    {
     "name": "stdout",
     "output_type": "stream",
     "text": [
      "Detected frames:  12759\n"
     ]
    },
    {
     "name": "stderr",
     "output_type": "stream",
     "text": [
      "12827it [12:13, 17.48it/s]\n",
      "  0%|          | 0/12759 [00:00<?, ?it/s]"
     ]
    },
    {
     "name": "stdout",
     "output_type": "stream",
     "text": [
      "Saving results in /tmp/tmp2jm8ry2q/videos...\n",
      "Starting to analyze %  /tmp/tmp2jm8ry2q/videos/rat2-control1.mp4\n",
      "Loading  /tmp/tmp2jm8ry2q/videos/rat2-control1.mp4\n",
      "Duration of video [s]:  531.79 , recorded with  23.99 fps!\n",
      "Overall # of frames:  12759  found with (before cropping) frame dimensions:  1280 720\n",
      "Starting to extract posture\n"
     ]
    },
    {
     "name": "stderr",
     "output_type": "stream",
     "text": [
      "12827it [12:12, 17.30it/s]                           "
     ]
    },
    {
     "name": "stdout",
     "output_type": "stream",
     "text": [
      "Detected frames:  12759\n"
     ]
    },
    {
     "name": "stderr",
     "output_type": "stream",
     "text": [
      "12827it [12:16, 17.41it/s]\n",
      "  0%|          | 0/12759 [00:00<?, ?it/s]"
     ]
    },
    {
     "name": "stdout",
     "output_type": "stream",
     "text": [
      "Saving results in /tmp/tmp2jm8ry2q/videos...\n",
      "Starting to analyze %  /tmp/tmp2jm8ry2q/videos/rat6-control1.mp4\n",
      "Loading  /tmp/tmp2jm8ry2q/videos/rat6-control1.mp4\n",
      "Duration of video [s]:  531.79 , recorded with  23.99 fps!\n",
      "Overall # of frames:  12759  found with (before cropping) frame dimensions:  1280 720\n",
      "Starting to extract posture\n"
     ]
    },
    {
     "name": "stderr",
     "output_type": "stream",
     "text": [
      "12827it [12:12, 17.27it/s]                           "
     ]
    },
    {
     "name": "stdout",
     "output_type": "stream",
     "text": [
      "Detected frames:  12759\n"
     ]
    },
    {
     "name": "stderr",
     "output_type": "stream",
     "text": [
      "12827it [12:16, 17.42it/s]\n",
      "  0%|          | 0/1829 [00:00<?, ?it/s]"
     ]
    },
    {
     "name": "stdout",
     "output_type": "stream",
     "text": [
      "Saving results in /tmp/tmp2jm8ry2q/videos...\n",
      "Starting to analyze %  /tmp/tmp2jm8ry2q/videos/rat2-lps2.mp4\n",
      "Loading  /tmp/tmp2jm8ry2q/videos/rat2-lps2.mp4\n",
      "Duration of video [s]:  76.38 , recorded with  23.95 fps!\n",
      "Overall # of frames:  1829  found with (before cropping) frame dimensions:  1280 720\n",
      "Starting to extract posture\n"
     ]
    },
    {
     "name": "stderr",
     "output_type": "stream",
     "text": [
      "1836it [01:42, 17.01it/s]                          "
     ]
    },
    {
     "name": "stdout",
     "output_type": "stream",
     "text": [
      "Detected frames:  1829\n"
     ]
    },
    {
     "name": "stderr",
     "output_type": "stream",
     "text": [
      "1836it [01:43, 17.71it/s]\n",
      "  0%|          | 0/3370 [00:00<?, ?it/s]"
     ]
    },
    {
     "name": "stdout",
     "output_type": "stream",
     "text": [
      "Saving results in /tmp/tmp2jm8ry2q/videos...\n",
      "Starting to analyze %  /tmp/tmp2jm8ry2q/videos/rat7-control2.mp4\n",
      "Loading  /tmp/tmp2jm8ry2q/videos/rat7-control2.mp4\n",
      "Duration of video [s]:  140.58 , recorded with  23.97 fps!\n",
      "Overall # of frames:  3370  found with (before cropping) frame dimensions:  1280 720\n",
      "Starting to extract posture\n"
     ]
    },
    {
     "name": "stderr",
     "output_type": "stream",
     "text": [
      "3399it [03:13, 17.39it/s]                          "
     ]
    },
    {
     "name": "stdout",
     "output_type": "stream",
     "text": [
      "Detected frames:  3370\n"
     ]
    },
    {
     "name": "stderr",
     "output_type": "stream",
     "text": [
      "3399it [03:14, 17.50it/s]\n",
      "  0%|          | 0/2638 [00:00<?, ?it/s]"
     ]
    },
    {
     "name": "stdout",
     "output_type": "stream",
     "text": [
      "Saving results in /tmp/tmp2jm8ry2q/videos...\n",
      "Starting to analyze %  /tmp/tmp2jm8ry2q/videos/rat2-control4.mp4\n",
      "Loading  /tmp/tmp2jm8ry2q/videos/rat2-control4.mp4\n",
      "Duration of video [s]:  110.08 , recorded with  23.96 fps!\n",
      "Overall # of frames:  2638  found with (before cropping) frame dimensions:  1280 720\n",
      "Starting to extract posture\n"
     ]
    },
    {
     "name": "stderr",
     "output_type": "stream",
     "text": [
      "2652it [02:32, 17.39it/s]                          "
     ]
    },
    {
     "name": "stdout",
     "output_type": "stream",
     "text": [
      "Detected frames:  2638\n"
     ]
    },
    {
     "name": "stderr",
     "output_type": "stream",
     "text": [
      "2652it [02:33, 17.32it/s]\n",
      "  0%|          | 0/12771 [00:00<?, ?it/s]"
     ]
    },
    {
     "name": "stdout",
     "output_type": "stream",
     "text": [
      "Saving results in /tmp/tmp2jm8ry2q/videos...\n",
      "Starting to analyze %  /tmp/tmp2jm8ry2q/videos/rat3-lps1.mp4\n",
      "Loading  /tmp/tmp2jm8ry2q/videos/rat3-lps1.mp4\n",
      "Duration of video [s]:  532.29 , recorded with  23.99 fps!\n",
      "Overall # of frames:  12771  found with (before cropping) frame dimensions:  1280 720\n",
      "Starting to extract posture\n"
     ]
    },
    {
     "name": "stderr",
     "output_type": "stream",
     "text": [
      "12827it [12:01, 17.91it/s]                           "
     ]
    },
    {
     "name": "stdout",
     "output_type": "stream",
     "text": [
      "Detected frames:  12771\n"
     ]
    },
    {
     "name": "stderr",
     "output_type": "stream",
     "text": [
      "12827it [12:05, 17.67it/s]\n",
      "  0%|          | 0/1214 [00:00<?, ?it/s]"
     ]
    },
    {
     "name": "stdout",
     "output_type": "stream",
     "text": [
      "Saving results in /tmp/tmp2jm8ry2q/videos...\n",
      "Starting to analyze %  /tmp/tmp2jm8ry2q/videos/rat4-lps2.mp4\n",
      "Loading  /tmp/tmp2jm8ry2q/videos/rat4-lps2.mp4\n",
      "Duration of video [s]:  50.75 , recorded with  23.92 fps!\n",
      "Overall # of frames:  1214  found with (before cropping) frame dimensions:  1280 720\n",
      "Starting to extract posture\n"
     ]
    },
    {
     "name": "stderr",
     "output_type": "stream",
     "text": [
      "1224it [01:09, 18.41it/s]                          "
     ]
    },
    {
     "name": "stdout",
     "output_type": "stream",
     "text": [
      "Detected frames:  1214\n"
     ]
    },
    {
     "name": "stderr",
     "output_type": "stream",
     "text": [
      "1224it [01:09, 17.52it/s]\n",
      "  0%|          | 0/12771 [00:00<?, ?it/s]"
     ]
    },
    {
     "name": "stdout",
     "output_type": "stream",
     "text": [
      "Saving results in /tmp/tmp2jm8ry2q/videos...\n",
      "Starting to analyze %  /tmp/tmp2jm8ry2q/videos/rat1-control1.mp4\n",
      "Loading  /tmp/tmp2jm8ry2q/videos/rat1-control1.mp4\n",
      "Duration of video [s]:  532.29 , recorded with  23.99 fps!\n",
      "Overall # of frames:  12771  found with (before cropping) frame dimensions:  1280 720\n",
      "Starting to extract posture\n"
     ]
    },
    {
     "name": "stderr",
     "output_type": "stream",
     "text": [
      "12827it [12:11, 17.52it/s]                           "
     ]
    },
    {
     "name": "stdout",
     "output_type": "stream",
     "text": [
      "Detected frames:  12771\n"
     ]
    },
    {
     "name": "stderr",
     "output_type": "stream",
     "text": [
      "12827it [12:15, 17.44it/s]\n",
      "  0%|          | 0/1775 [00:00<?, ?it/s]"
     ]
    },
    {
     "name": "stdout",
     "output_type": "stream",
     "text": [
      "Saving results in /tmp/tmp2jm8ry2q/videos...\n",
      "Starting to analyze %  /tmp/tmp2jm8ry2q/videos/rat5-control2.mp4\n",
      "Loading  /tmp/tmp2jm8ry2q/videos/rat5-control2.mp4\n",
      "Duration of video [s]:  74.12 , recorded with  23.95 fps!\n",
      "Overall # of frames:  1775  found with (before cropping) frame dimensions:  1280 720\n",
      "Starting to extract posture\n"
     ]
    },
    {
     "name": "stderr",
     "output_type": "stream",
     "text": [
      "1785it [01:42, 15.78it/s]                          "
     ]
    },
    {
     "name": "stdout",
     "output_type": "stream",
     "text": [
      "Detected frames:  1775\n"
     ]
    },
    {
     "name": "stderr",
     "output_type": "stream",
     "text": [
      "1785it [01:43, 17.28it/s]\n",
      "  0%|          | 0/12771 [00:00<?, ?it/s]"
     ]
    },
    {
     "name": "stdout",
     "output_type": "stream",
     "text": [
      "Saving results in /tmp/tmp2jm8ry2q/videos...\n",
      "Starting to analyze %  /tmp/tmp2jm8ry2q/videos/rat3-control3.mp4\n",
      "Loading  /tmp/tmp2jm8ry2q/videos/rat3-control3.mp4\n",
      "Duration of video [s]:  532.29 , recorded with  23.99 fps!\n",
      "Overall # of frames:  12771  found with (before cropping) frame dimensions:  1280 720\n",
      "Starting to extract posture\n"
     ]
    },
    {
     "name": "stderr",
     "output_type": "stream",
     "text": [
      "12827it [12:12, 17.22it/s]                           "
     ]
    },
    {
     "name": "stdout",
     "output_type": "stream",
     "text": [
      "Detected frames:  12771\n"
     ]
    },
    {
     "name": "stderr",
     "output_type": "stream",
     "text": [
      "12827it [12:16, 17.41it/s]\n",
      "  0%|          | 0/3151 [00:00<?, ?it/s]"
     ]
    },
    {
     "name": "stdout",
     "output_type": "stream",
     "text": [
      "Saving results in /tmp/tmp2jm8ry2q/videos...\n",
      "Starting to analyze %  /tmp/tmp2jm8ry2q/videos/rat6-control2.mp4\n",
      "Loading  /tmp/tmp2jm8ry2q/videos/rat6-control2.mp4\n",
      "Duration of video [s]:  131.46 , recorded with  23.97 fps!\n",
      "Overall # of frames:  3151  found with (before cropping) frame dimensions:  1280 720\n",
      "Starting to extract posture\n"
     ]
    },
    {
     "name": "stderr",
     "output_type": "stream",
     "text": [
      "3162it [03:01, 16.99it/s]                          "
     ]
    },
    {
     "name": "stdout",
     "output_type": "stream",
     "text": [
      "Detected frames:  3151\n"
     ]
    },
    {
     "name": "stderr",
     "output_type": "stream",
     "text": [
      "3162it [03:02, 17.33it/s]\n",
      "  0%|          | 0/10684 [00:00<?, ?it/s]"
     ]
    },
    {
     "name": "stdout",
     "output_type": "stream",
     "text": [
      "Saving results in /tmp/tmp2jm8ry2q/videos...\n",
      "Starting to analyze %  /tmp/tmp2jm8ry2q/videos/rat7-lps1.mp4\n",
      "Loading  /tmp/tmp2jm8ry2q/videos/rat7-lps1.mp4\n",
      "Duration of video [s]:  445.33 , recorded with  23.99 fps!\n",
      "Overall # of frames:  10684  found with (before cropping) frame dimensions:  1280 720\n",
      "Starting to extract posture\n"
     ]
    },
    {
     "name": "stderr",
     "output_type": "stream",
     "text": [
      "10706it [10:06, 17.17it/s]                           "
     ]
    },
    {
     "name": "stdout",
     "output_type": "stream",
     "text": [
      "Detected frames:  10684\n"
     ]
    },
    {
     "name": "stderr",
     "output_type": "stream",
     "text": [
      "10706it [10:11, 17.50it/s]\n",
      "  0%|          | 0/12771 [00:00<?, ?it/s]"
     ]
    },
    {
     "name": "stdout",
     "output_type": "stream",
     "text": [
      "Saving results in /tmp/tmp2jm8ry2q/videos...\n",
      "Starting to analyze %  /tmp/tmp2jm8ry2q/videos/rat8-control1.mp4\n",
      "Loading  /tmp/tmp2jm8ry2q/videos/rat8-control1.mp4\n",
      "Duration of video [s]:  532.29 , recorded with  23.99 fps!\n",
      "Overall # of frames:  12771  found with (before cropping) frame dimensions:  1280 720\n",
      "Starting to extract posture\n"
     ]
    },
    {
     "name": "stderr",
     "output_type": "stream",
     "text": [
      "12827it [12:07, 17.50it/s]                           "
     ]
    },
    {
     "name": "stdout",
     "output_type": "stream",
     "text": [
      "Detected frames:  12771\n"
     ]
    },
    {
     "name": "stderr",
     "output_type": "stream",
     "text": [
      "12827it [12:11, 17.52it/s]\n",
      "  0%|          | 0/12759 [00:00<?, ?it/s]"
     ]
    },
    {
     "name": "stdout",
     "output_type": "stream",
     "text": [
      "Saving results in /tmp/tmp2jm8ry2q/videos...\n",
      "Starting to analyze %  /tmp/tmp2jm8ry2q/videos/rat4-lps1.mp4\n",
      "Loading  /tmp/tmp2jm8ry2q/videos/rat4-lps1.mp4\n",
      "Duration of video [s]:  531.79 , recorded with  23.99 fps!\n",
      "Overall # of frames:  12759  found with (before cropping) frame dimensions:  1280 720\n",
      "Starting to extract posture\n"
     ]
    },
    {
     "name": "stderr",
     "output_type": "stream",
     "text": [
      " 93%|█████████▎| 11811/12759 [11:12<00:54, 17.46it/s]"
     ]
    }
   ],
   "source": [
    "import tempfile\n",
    "from pathlib import Path\n",
    "\n",
    "tempdir = tempfile.TemporaryDirectory()\n",
    "    \n",
    "tempdir_path = Path(tempdir.name)\n",
    "os.makedirs(tempdir_path / 'videos')\n",
    "for video in videos:\n",
    "    ! cp {video} {tempdir_path / 'videos/'}\n",
    "\n",
    "videos_cp = glob.glob(str(tempdir_path / 'videos/*'))\n",
    "\n",
    "analysis_dir = tempdir_path / 'analysis'\n",
    "os.makedirs(analysis_dir)\n",
    "deeplabcut.analyze_videos(str(config_path), videos_cp, destfolder=analysis_dir)\n",
    "deeplabcut.create_labeled_video(str(config_path), videos_cp, destfolder=analysis_dir)"
   ]
  },
  {
   "cell_type": "code",
   "execution_count": null,
   "metadata": {},
   "outputs": [],
   "source": [
    "ls {tempdir_path}/analysis"
   ]
  },
  {
   "cell_type": "code",
   "execution_count": null,
   "metadata": {},
   "outputs": [],
   "source": [
    "! gsutil cp -r {tempdir_path / 'analysis'} gs://rat-emotion/dlc/analyzed-videos/2020-07-25_DLC_resnet50_MousePoseJul21shuffle1_1030000"
   ]
  },
  {
   "cell_type": "code",
   "execution_count": 25,
   "metadata": {},
   "outputs": [
    {
     "name": "stdout",
     "output_type": "stream",
     "text": [
      "gs://rat-emotion/dlc/analyzed-videos/2020-07-25_DLC_resnet50_MousePoseJul21shuffle1_1030000/rat1-control1DLC_resnet50_MousePoseJul21shuffle1_1030000.h5\n",
      "gs://rat-emotion/dlc/analyzed-videos/2020-07-25_DLC_resnet50_MousePoseJul21shuffle1_1030000/rat1-control1DLC_resnet50_MousePoseJul21shuffle1_1030000_labeled.mp4\n",
      "gs://rat-emotion/dlc/analyzed-videos/2020-07-25_DLC_resnet50_MousePoseJul21shuffle1_1030000/rat1-control1DLC_resnet50_MousePoseJul21shuffle1_1030000includingmetadata.pickle\n",
      "gs://rat-emotion/dlc/analyzed-videos/2020-07-25_DLC_resnet50_MousePoseJul21shuffle1_1030000/rat1-control2DLC_resnet50_MousePoseJul21shuffle1_1030000.h5\n",
      "gs://rat-emotion/dlc/analyzed-videos/2020-07-25_DLC_resnet50_MousePoseJul21shuffle1_1030000/rat1-control2DLC_resnet50_MousePoseJul21shuffle1_1030000_labeled.mp4\n",
      "gs://rat-emotion/dlc/analyzed-videos/2020-07-25_DLC_resnet50_MousePoseJul21shuffle1_1030000/rat1-control2DLC_resnet50_MousePoseJul21shuffle1_1030000includingmetadata.pickle\n",
      "gs://rat-emotion/dlc/analyzed-videos/2020-07-25_DLC_resnet50_MousePoseJul21shuffle1_1030000/rat1-control3DLC_resnet50_MousePoseJul21shuffle1_1030000.h5\n",
      "gs://rat-emotion/dlc/analyzed-videos/2020-07-25_DLC_resnet50_MousePoseJul21shuffle1_1030000/rat1-control3DLC_resnet50_MousePoseJul21shuffle1_1030000_labeled.mp4\n",
      "gs://rat-emotion/dlc/analyzed-videos/2020-07-25_DLC_resnet50_MousePoseJul21shuffle1_1030000/rat1-control3DLC_resnet50_MousePoseJul21shuffle1_1030000includingmetadata.pickle\n",
      "gs://rat-emotion/dlc/analyzed-videos/2020-07-25_DLC_resnet50_MousePoseJul21shuffle1_1030000/rat1-control4DLC_resnet50_MousePoseJul21shuffle1_1030000.h5\n",
      "gs://rat-emotion/dlc/analyzed-videos/2020-07-25_DLC_resnet50_MousePoseJul21shuffle1_1030000/rat1-control4DLC_resnet50_MousePoseJul21shuffle1_1030000_labeled.mp4\n",
      "gs://rat-emotion/dlc/analyzed-videos/2020-07-25_DLC_resnet50_MousePoseJul21shuffle1_1030000/rat1-control4DLC_resnet50_MousePoseJul21shuffle1_1030000includingmetadata.pickle\n",
      "gs://rat-emotion/dlc/analyzed-videos/2020-07-25_DLC_resnet50_MousePoseJul21shuffle1_1030000/rat2-control1DLC_resnet50_MousePoseJul21shuffle1_1030000.h5\n",
      "gs://rat-emotion/dlc/analyzed-videos/2020-07-25_DLC_resnet50_MousePoseJul21shuffle1_1030000/rat2-control1DLC_resnet50_MousePoseJul21shuffle1_1030000_labeled.mp4\n",
      "gs://rat-emotion/dlc/analyzed-videos/2020-07-25_DLC_resnet50_MousePoseJul21shuffle1_1030000/rat2-control1DLC_resnet50_MousePoseJul21shuffle1_1030000includingmetadata.pickle\n",
      "gs://rat-emotion/dlc/analyzed-videos/2020-07-25_DLC_resnet50_MousePoseJul21shuffle1_1030000/rat2-control2DLC_resnet50_MousePoseJul21shuffle1_1030000.h5\n",
      "gs://rat-emotion/dlc/analyzed-videos/2020-07-25_DLC_resnet50_MousePoseJul21shuffle1_1030000/rat2-control2DLC_resnet50_MousePoseJul21shuffle1_1030000_labeled.mp4\n",
      "gs://rat-emotion/dlc/analyzed-videos/2020-07-25_DLC_resnet50_MousePoseJul21shuffle1_1030000/rat2-control2DLC_resnet50_MousePoseJul21shuffle1_1030000includingmetadata.pickle\n",
      "gs://rat-emotion/dlc/analyzed-videos/2020-07-25_DLC_resnet50_MousePoseJul21shuffle1_1030000/rat2-control3DLC_resnet50_MousePoseJul21shuffle1_1030000.h5\n",
      "gs://rat-emotion/dlc/analyzed-videos/2020-07-25_DLC_resnet50_MousePoseJul21shuffle1_1030000/rat2-control3DLC_resnet50_MousePoseJul21shuffle1_1030000_labeled.mp4\n",
      "gs://rat-emotion/dlc/analyzed-videos/2020-07-25_DLC_resnet50_MousePoseJul21shuffle1_1030000/rat2-control3DLC_resnet50_MousePoseJul21shuffle1_1030000includingmetadata.pickle\n",
      "gs://rat-emotion/dlc/analyzed-videos/2020-07-25_DLC_resnet50_MousePoseJul21shuffle1_1030000/rat2-control4DLC_resnet50_MousePoseJul21shuffle1_1030000.h5\n",
      "gs://rat-emotion/dlc/analyzed-videos/2020-07-25_DLC_resnet50_MousePoseJul21shuffle1_1030000/rat2-control4DLC_resnet50_MousePoseJul21shuffle1_1030000_labeled.mp4\n",
      "gs://rat-emotion/dlc/analyzed-videos/2020-07-25_DLC_resnet50_MousePoseJul21shuffle1_1030000/rat2-control4DLC_resnet50_MousePoseJul21shuffle1_1030000includingmetadata.pickle\n",
      "gs://rat-emotion/dlc/analyzed-videos/2020-07-25_DLC_resnet50_MousePoseJul21shuffle1_1030000/rat2-lps1DLC_resnet50_MousePoseJul21shuffle1_1030000.h5\n",
      "gs://rat-emotion/dlc/analyzed-videos/2020-07-25_DLC_resnet50_MousePoseJul21shuffle1_1030000/rat2-lps1DLC_resnet50_MousePoseJul21shuffle1_1030000_labeled.mp4\n",
      "gs://rat-emotion/dlc/analyzed-videos/2020-07-25_DLC_resnet50_MousePoseJul21shuffle1_1030000/rat2-lps1DLC_resnet50_MousePoseJul21shuffle1_1030000includingmetadata.pickle\n",
      "gs://rat-emotion/dlc/analyzed-videos/2020-07-25_DLC_resnet50_MousePoseJul21shuffle1_1030000/rat2-lps2DLC_resnet50_MousePoseJul21shuffle1_1030000.h5\n",
      "gs://rat-emotion/dlc/analyzed-videos/2020-07-25_DLC_resnet50_MousePoseJul21shuffle1_1030000/rat2-lps2DLC_resnet50_MousePoseJul21shuffle1_1030000_labeled.mp4\n",
      "gs://rat-emotion/dlc/analyzed-videos/2020-07-25_DLC_resnet50_MousePoseJul21shuffle1_1030000/rat2-lps2DLC_resnet50_MousePoseJul21shuffle1_1030000includingmetadata.pickle\n",
      "gs://rat-emotion/dlc/analyzed-videos/2020-07-25_DLC_resnet50_MousePoseJul21shuffle1_1030000/rat2-lps3DLC_resnet50_MousePoseJul21shuffle1_1030000.h5\n",
      "gs://rat-emotion/dlc/analyzed-videos/2020-07-25_DLC_resnet50_MousePoseJul21shuffle1_1030000/rat2-lps3DLC_resnet50_MousePoseJul21shuffle1_1030000_labeled.mp4\n",
      "gs://rat-emotion/dlc/analyzed-videos/2020-07-25_DLC_resnet50_MousePoseJul21shuffle1_1030000/rat2-lps3DLC_resnet50_MousePoseJul21shuffle1_1030000includingmetadata.pickle\n",
      "gs://rat-emotion/dlc/analyzed-videos/2020-07-25_DLC_resnet50_MousePoseJul21shuffle1_1030000/rat2-lps4DLC_resnet50_MousePoseJul21shuffle1_1030000.h5\n",
      "gs://rat-emotion/dlc/analyzed-videos/2020-07-25_DLC_resnet50_MousePoseJul21shuffle1_1030000/rat2-lps4DLC_resnet50_MousePoseJul21shuffle1_1030000_labeled.mp4\n",
      "gs://rat-emotion/dlc/analyzed-videos/2020-07-25_DLC_resnet50_MousePoseJul21shuffle1_1030000/rat2-lps4DLC_resnet50_MousePoseJul21shuffle1_1030000includingmetadata.pickle\n",
      "gs://rat-emotion/dlc/analyzed-videos/2020-07-25_DLC_resnet50_MousePoseJul21shuffle1_1030000/rat3-control1DLC_resnet50_MousePoseJul21shuffle1_1030000.h5\n",
      "gs://rat-emotion/dlc/analyzed-videos/2020-07-25_DLC_resnet50_MousePoseJul21shuffle1_1030000/rat3-control1DLC_resnet50_MousePoseJul21shuffle1_1030000_labeled.mp4\n",
      "gs://rat-emotion/dlc/analyzed-videos/2020-07-25_DLC_resnet50_MousePoseJul21shuffle1_1030000/rat3-control1DLC_resnet50_MousePoseJul21shuffle1_1030000includingmetadata.pickle\n",
      "gs://rat-emotion/dlc/analyzed-videos/2020-07-25_DLC_resnet50_MousePoseJul21shuffle1_1030000/rat3-control2DLC_resnet50_MousePoseJul21shuffle1_1030000.h5\n",
      "gs://rat-emotion/dlc/analyzed-videos/2020-07-25_DLC_resnet50_MousePoseJul21shuffle1_1030000/rat3-control2DLC_resnet50_MousePoseJul21shuffle1_1030000_labeled.mp4\n",
      "gs://rat-emotion/dlc/analyzed-videos/2020-07-25_DLC_resnet50_MousePoseJul21shuffle1_1030000/rat3-control2DLC_resnet50_MousePoseJul21shuffle1_1030000includingmetadata.pickle\n",
      "gs://rat-emotion/dlc/analyzed-videos/2020-07-25_DLC_resnet50_MousePoseJul21shuffle1_1030000/rat3-control3DLC_resnet50_MousePoseJul21shuffle1_1030000.h5\n",
      "gs://rat-emotion/dlc/analyzed-videos/2020-07-25_DLC_resnet50_MousePoseJul21shuffle1_1030000/rat3-control3DLC_resnet50_MousePoseJul21shuffle1_1030000_labeled.mp4\n",
      "gs://rat-emotion/dlc/analyzed-videos/2020-07-25_DLC_resnet50_MousePoseJul21shuffle1_1030000/rat3-control3DLC_resnet50_MousePoseJul21shuffle1_1030000includingmetadata.pickle\n",
      "gs://rat-emotion/dlc/analyzed-videos/2020-07-25_DLC_resnet50_MousePoseJul21shuffle1_1030000/rat3-control4DLC_resnet50_MousePoseJul21shuffle1_1030000.h5\n",
      "gs://rat-emotion/dlc/analyzed-videos/2020-07-25_DLC_resnet50_MousePoseJul21shuffle1_1030000/rat3-control4DLC_resnet50_MousePoseJul21shuffle1_1030000_labeled.mp4\n",
      "gs://rat-emotion/dlc/analyzed-videos/2020-07-25_DLC_resnet50_MousePoseJul21shuffle1_1030000/rat3-control4DLC_resnet50_MousePoseJul21shuffle1_1030000includingmetadata.pickle\n",
      "gs://rat-emotion/dlc/analyzed-videos/2020-07-25_DLC_resnet50_MousePoseJul21shuffle1_1030000/rat3-lps1DLC_resnet50_MousePoseJul21shuffle1_1030000.h5\n",
      "gs://rat-emotion/dlc/analyzed-videos/2020-07-25_DLC_resnet50_MousePoseJul21shuffle1_1030000/rat3-lps1DLC_resnet50_MousePoseJul21shuffle1_1030000_labeled.mp4\n",
      "gs://rat-emotion/dlc/analyzed-videos/2020-07-25_DLC_resnet50_MousePoseJul21shuffle1_1030000/rat3-lps1DLC_resnet50_MousePoseJul21shuffle1_1030000includingmetadata.pickle\n",
      "gs://rat-emotion/dlc/analyzed-videos/2020-07-25_DLC_resnet50_MousePoseJul21shuffle1_1030000/rat3-lps2DLC_resnet50_MousePoseJul21shuffle1_1030000.h5\n",
      "gs://rat-emotion/dlc/analyzed-videos/2020-07-25_DLC_resnet50_MousePoseJul21shuffle1_1030000/rat3-lps2DLC_resnet50_MousePoseJul21shuffle1_1030000_labeled.mp4\n",
      "gs://rat-emotion/dlc/analyzed-videos/2020-07-25_DLC_resnet50_MousePoseJul21shuffle1_1030000/rat3-lps2DLC_resnet50_MousePoseJul21shuffle1_1030000includingmetadata.pickle\n",
      "gs://rat-emotion/dlc/analyzed-videos/2020-07-25_DLC_resnet50_MousePoseJul21shuffle1_1030000/rat4-control1DLC_resnet50_MousePoseJul21shuffle1_1030000.h5\n",
      "gs://rat-emotion/dlc/analyzed-videos/2020-07-25_DLC_resnet50_MousePoseJul21shuffle1_1030000/rat4-control1DLC_resnet50_MousePoseJul21shuffle1_1030000_labeled.mp4\n",
      "gs://rat-emotion/dlc/analyzed-videos/2020-07-25_DLC_resnet50_MousePoseJul21shuffle1_1030000/rat4-control1DLC_resnet50_MousePoseJul21shuffle1_1030000includingmetadata.pickle\n",
      "gs://rat-emotion/dlc/analyzed-videos/2020-07-25_DLC_resnet50_MousePoseJul21shuffle1_1030000/rat4-control2DLC_resnet50_MousePoseJul21shuffle1_1030000.h5\n",
      "gs://rat-emotion/dlc/analyzed-videos/2020-07-25_DLC_resnet50_MousePoseJul21shuffle1_1030000/rat4-control2DLC_resnet50_MousePoseJul21shuffle1_1030000_labeled.mp4\n",
      "gs://rat-emotion/dlc/analyzed-videos/2020-07-25_DLC_resnet50_MousePoseJul21shuffle1_1030000/rat4-control2DLC_resnet50_MousePoseJul21shuffle1_1030000includingmetadata.pickle\n",
      "gs://rat-emotion/dlc/analyzed-videos/2020-07-25_DLC_resnet50_MousePoseJul21shuffle1_1030000/rat4-lps1DLC_resnet50_MousePoseJul21shuffle1_1030000.h5\n",
      "gs://rat-emotion/dlc/analyzed-videos/2020-07-25_DLC_resnet50_MousePoseJul21shuffle1_1030000/rat4-lps1DLC_resnet50_MousePoseJul21shuffle1_1030000_labeled.mp4\n",
      "gs://rat-emotion/dlc/analyzed-videos/2020-07-25_DLC_resnet50_MousePoseJul21shuffle1_1030000/rat4-lps1DLC_resnet50_MousePoseJul21shuffle1_1030000includingmetadata.pickle\n",
      "gs://rat-emotion/dlc/analyzed-videos/2020-07-25_DLC_resnet50_MousePoseJul21shuffle1_1030000/rat4-lps2DLC_resnet50_MousePoseJul21shuffle1_1030000.h5\n",
      "gs://rat-emotion/dlc/analyzed-videos/2020-07-25_DLC_resnet50_MousePoseJul21shuffle1_1030000/rat4-lps2DLC_resnet50_MousePoseJul21shuffle1_1030000_labeled.mp4\n",
      "gs://rat-emotion/dlc/analyzed-videos/2020-07-25_DLC_resnet50_MousePoseJul21shuffle1_1030000/rat4-lps2DLC_resnet50_MousePoseJul21shuffle1_1030000includingmetadata.pickle\n",
      "gs://rat-emotion/dlc/analyzed-videos/2020-07-25_DLC_resnet50_MousePoseJul21shuffle1_1030000/rat5-control1DLC_resnet50_MousePoseJul21shuffle1_1030000.h5\n",
      "gs://rat-emotion/dlc/analyzed-videos/2020-07-25_DLC_resnet50_MousePoseJul21shuffle1_1030000/rat5-control1DLC_resnet50_MousePoseJul21shuffle1_1030000_labeled.mp4\n",
      "gs://rat-emotion/dlc/analyzed-videos/2020-07-25_DLC_resnet50_MousePoseJul21shuffle1_1030000/rat5-control1DLC_resnet50_MousePoseJul21shuffle1_1030000includingmetadata.pickle\n",
      "gs://rat-emotion/dlc/analyzed-videos/2020-07-25_DLC_resnet50_MousePoseJul21shuffle1_1030000/rat5-control2DLC_resnet50_MousePoseJul21shuffle1_1030000.h5\n",
      "gs://rat-emotion/dlc/analyzed-videos/2020-07-25_DLC_resnet50_MousePoseJul21shuffle1_1030000/rat5-control2DLC_resnet50_MousePoseJul21shuffle1_1030000_labeled.mp4\n",
      "gs://rat-emotion/dlc/analyzed-videos/2020-07-25_DLC_resnet50_MousePoseJul21shuffle1_1030000/rat5-control2DLC_resnet50_MousePoseJul21shuffle1_1030000includingmetadata.pickle\n",
      "gs://rat-emotion/dlc/analyzed-videos/2020-07-25_DLC_resnet50_MousePoseJul21shuffle1_1030000/rat5-lps1DLC_resnet50_MousePoseJul21shuffle1_1030000.h5\n",
      "gs://rat-emotion/dlc/analyzed-videos/2020-07-25_DLC_resnet50_MousePoseJul21shuffle1_1030000/rat5-lps1DLC_resnet50_MousePoseJul21shuffle1_1030000_labeled.mp4\n",
      "gs://rat-emotion/dlc/analyzed-videos/2020-07-25_DLC_resnet50_MousePoseJul21shuffle1_1030000/rat5-lps1DLC_resnet50_MousePoseJul21shuffle1_1030000includingmetadata.pickle\n",
      "gs://rat-emotion/dlc/analyzed-videos/2020-07-25_DLC_resnet50_MousePoseJul21shuffle1_1030000/rat5-lps2DLC_resnet50_MousePoseJul21shuffle1_1030000.h5\n",
      "gs://rat-emotion/dlc/analyzed-videos/2020-07-25_DLC_resnet50_MousePoseJul21shuffle1_1030000/rat5-lps2DLC_resnet50_MousePoseJul21shuffle1_1030000_labeled.mp4\n",
      "gs://rat-emotion/dlc/analyzed-videos/2020-07-25_DLC_resnet50_MousePoseJul21shuffle1_1030000/rat5-lps2DLC_resnet50_MousePoseJul21shuffle1_1030000includingmetadata.pickle\n",
      "gs://rat-emotion/dlc/analyzed-videos/2020-07-25_DLC_resnet50_MousePoseJul21shuffle1_1030000/rat6-control1DLC_resnet50_MousePoseJul21shuffle1_1030000.h5\n",
      "gs://rat-emotion/dlc/analyzed-videos/2020-07-25_DLC_resnet50_MousePoseJul21shuffle1_1030000/rat6-control1DLC_resnet50_MousePoseJul21shuffle1_1030000_labeled.mp4\n",
      "gs://rat-emotion/dlc/analyzed-videos/2020-07-25_DLC_resnet50_MousePoseJul21shuffle1_1030000/rat6-control1DLC_resnet50_MousePoseJul21shuffle1_1030000includingmetadata.pickle\n",
      "gs://rat-emotion/dlc/analyzed-videos/2020-07-25_DLC_resnet50_MousePoseJul21shuffle1_1030000/rat6-control2DLC_resnet50_MousePoseJul21shuffle1_1030000.h5\n",
      "gs://rat-emotion/dlc/analyzed-videos/2020-07-25_DLC_resnet50_MousePoseJul21shuffle1_1030000/rat6-control2DLC_resnet50_MousePoseJul21shuffle1_1030000_labeled.mp4\n",
      "gs://rat-emotion/dlc/analyzed-videos/2020-07-25_DLC_resnet50_MousePoseJul21shuffle1_1030000/rat6-control2DLC_resnet50_MousePoseJul21shuffle1_1030000includingmetadata.pickle\n",
      "gs://rat-emotion/dlc/analyzed-videos/2020-07-25_DLC_resnet50_MousePoseJul21shuffle1_1030000/rat6-control3DLC_resnet50_MousePoseJul21shuffle1_1030000.h5\n",
      "gs://rat-emotion/dlc/analyzed-videos/2020-07-25_DLC_resnet50_MousePoseJul21shuffle1_1030000/rat6-control3DLC_resnet50_MousePoseJul21shuffle1_1030000_labeled.mp4\n",
      "gs://rat-emotion/dlc/analyzed-videos/2020-07-25_DLC_resnet50_MousePoseJul21shuffle1_1030000/rat6-control3DLC_resnet50_MousePoseJul21shuffle1_1030000includingmetadata.pickle\n",
      "gs://rat-emotion/dlc/analyzed-videos/2020-07-25_DLC_resnet50_MousePoseJul21shuffle1_1030000/rat6-control4DLC_resnet50_MousePoseJul21shuffle1_1030000.h5\n",
      "gs://rat-emotion/dlc/analyzed-videos/2020-07-25_DLC_resnet50_MousePoseJul21shuffle1_1030000/rat6-control4DLC_resnet50_MousePoseJul21shuffle1_1030000_labeled.mp4\n",
      "gs://rat-emotion/dlc/analyzed-videos/2020-07-25_DLC_resnet50_MousePoseJul21shuffle1_1030000/rat6-control4DLC_resnet50_MousePoseJul21shuffle1_1030000includingmetadata.pickle\n",
      "gs://rat-emotion/dlc/analyzed-videos/2020-07-25_DLC_resnet50_MousePoseJul21shuffle1_1030000/rat6-control5DLC_resnet50_MousePoseJul21shuffle1_1030000.h5\n",
      "gs://rat-emotion/dlc/analyzed-videos/2020-07-25_DLC_resnet50_MousePoseJul21shuffle1_1030000/rat6-control5DLC_resnet50_MousePoseJul21shuffle1_1030000_labeled.mp4\n",
      "gs://rat-emotion/dlc/analyzed-videos/2020-07-25_DLC_resnet50_MousePoseJul21shuffle1_1030000/rat6-control5DLC_resnet50_MousePoseJul21shuffle1_1030000includingmetadata.pickle\n",
      "gs://rat-emotion/dlc/analyzed-videos/2020-07-25_DLC_resnet50_MousePoseJul21shuffle1_1030000/rat6-lps1DLC_resnet50_MousePoseJul21shuffle1_1030000.h5\n",
      "gs://rat-emotion/dlc/analyzed-videos/2020-07-25_DLC_resnet50_MousePoseJul21shuffle1_1030000/rat6-lps1DLC_resnet50_MousePoseJul21shuffle1_1030000_labeled.mp4\n",
      "gs://rat-emotion/dlc/analyzed-videos/2020-07-25_DLC_resnet50_MousePoseJul21shuffle1_1030000/rat6-lps1DLC_resnet50_MousePoseJul21shuffle1_1030000includingmetadata.pickle\n",
      "gs://rat-emotion/dlc/analyzed-videos/2020-07-25_DLC_resnet50_MousePoseJul21shuffle1_1030000/rat6-lps2DLC_resnet50_MousePoseJul21shuffle1_1030000.h5\n",
      "gs://rat-emotion/dlc/analyzed-videos/2020-07-25_DLC_resnet50_MousePoseJul21shuffle1_1030000/rat6-lps2DLC_resnet50_MousePoseJul21shuffle1_1030000_labeled.mp4\n",
      "gs://rat-emotion/dlc/analyzed-videos/2020-07-25_DLC_resnet50_MousePoseJul21shuffle1_1030000/rat6-lps2DLC_resnet50_MousePoseJul21shuffle1_1030000includingmetadata.pickle\n",
      "gs://rat-emotion/dlc/analyzed-videos/2020-07-25_DLC_resnet50_MousePoseJul21shuffle1_1030000/rat7-control1DLC_resnet50_MousePoseJul21shuffle1_1030000.h5\n",
      "gs://rat-emotion/dlc/analyzed-videos/2020-07-25_DLC_resnet50_MousePoseJul21shuffle1_1030000/rat7-control1DLC_resnet50_MousePoseJul21shuffle1_1030000_labeled.mp4\n",
      "gs://rat-emotion/dlc/analyzed-videos/2020-07-25_DLC_resnet50_MousePoseJul21shuffle1_1030000/rat7-control1DLC_resnet50_MousePoseJul21shuffle1_1030000includingmetadata.pickle\n",
      "gs://rat-emotion/dlc/analyzed-videos/2020-07-25_DLC_resnet50_MousePoseJul21shuffle1_1030000/rat7-control2DLC_resnet50_MousePoseJul21shuffle1_1030000.h5\n",
      "gs://rat-emotion/dlc/analyzed-videos/2020-07-25_DLC_resnet50_MousePoseJul21shuffle1_1030000/rat7-control2DLC_resnet50_MousePoseJul21shuffle1_1030000_labeled.mp4\n",
      "gs://rat-emotion/dlc/analyzed-videos/2020-07-25_DLC_resnet50_MousePoseJul21shuffle1_1030000/rat7-control2DLC_resnet50_MousePoseJul21shuffle1_1030000includingmetadata.pickle\n",
      "gs://rat-emotion/dlc/analyzed-videos/2020-07-25_DLC_resnet50_MousePoseJul21shuffle1_1030000/rat7-control3DLC_resnet50_MousePoseJul21shuffle1_1030000.h5\n",
      "gs://rat-emotion/dlc/analyzed-videos/2020-07-25_DLC_resnet50_MousePoseJul21shuffle1_1030000/rat7-control3DLC_resnet50_MousePoseJul21shuffle1_1030000_labeled.mp4\n",
      "gs://rat-emotion/dlc/analyzed-videos/2020-07-25_DLC_resnet50_MousePoseJul21shuffle1_1030000/rat7-control3DLC_resnet50_MousePoseJul21shuffle1_1030000includingmetadata.pickle\n",
      "gs://rat-emotion/dlc/analyzed-videos/2020-07-25_DLC_resnet50_MousePoseJul21shuffle1_1030000/rat7-control4DLC_resnet50_MousePoseJul21shuffle1_1030000.h5\n",
      "gs://rat-emotion/dlc/analyzed-videos/2020-07-25_DLC_resnet50_MousePoseJul21shuffle1_1030000/rat7-control4DLC_resnet50_MousePoseJul21shuffle1_1030000_labeled.mp4\n",
      "gs://rat-emotion/dlc/analyzed-videos/2020-07-25_DLC_resnet50_MousePoseJul21shuffle1_1030000/rat7-control4DLC_resnet50_MousePoseJul21shuffle1_1030000includingmetadata.pickle\n",
      "gs://rat-emotion/dlc/analyzed-videos/2020-07-25_DLC_resnet50_MousePoseJul21shuffle1_1030000/rat7-lps1DLC_resnet50_MousePoseJul21shuffle1_1030000.h5\n",
      "gs://rat-emotion/dlc/analyzed-videos/2020-07-25_DLC_resnet50_MousePoseJul21shuffle1_1030000/rat7-lps1DLC_resnet50_MousePoseJul21shuffle1_1030000_labeled.mp4\n",
      "gs://rat-emotion/dlc/analyzed-videos/2020-07-25_DLC_resnet50_MousePoseJul21shuffle1_1030000/rat7-lps1DLC_resnet50_MousePoseJul21shuffle1_1030000includingmetadata.pickle\n",
      "gs://rat-emotion/dlc/analyzed-videos/2020-07-25_DLC_resnet50_MousePoseJul21shuffle1_1030000/rat7-lps2DLC_resnet50_MousePoseJul21shuffle1_1030000.h5\n",
      "gs://rat-emotion/dlc/analyzed-videos/2020-07-25_DLC_resnet50_MousePoseJul21shuffle1_1030000/rat7-lps2DLC_resnet50_MousePoseJul21shuffle1_1030000_labeled.mp4\n",
      "gs://rat-emotion/dlc/analyzed-videos/2020-07-25_DLC_resnet50_MousePoseJul21shuffle1_1030000/rat7-lps2DLC_resnet50_MousePoseJul21shuffle1_1030000includingmetadata.pickle\n",
      "gs://rat-emotion/dlc/analyzed-videos/2020-07-25_DLC_resnet50_MousePoseJul21shuffle1_1030000/rat8-control1DLC_resnet50_MousePoseJul21shuffle1_1030000.h5\n",
      "gs://rat-emotion/dlc/analyzed-videos/2020-07-25_DLC_resnet50_MousePoseJul21shuffle1_1030000/rat8-control1DLC_resnet50_MousePoseJul21shuffle1_1030000_labeled.mp4\n",
      "gs://rat-emotion/dlc/analyzed-videos/2020-07-25_DLC_resnet50_MousePoseJul21shuffle1_1030000/rat8-control1DLC_resnet50_MousePoseJul21shuffle1_1030000includingmetadata.pickle\n",
      "gs://rat-emotion/dlc/analyzed-videos/2020-07-25_DLC_resnet50_MousePoseJul21shuffle1_1030000/rat8-control2DLC_resnet50_MousePoseJul21shuffle1_1030000.h5\n",
      "gs://rat-emotion/dlc/analyzed-videos/2020-07-25_DLC_resnet50_MousePoseJul21shuffle1_1030000/rat8-control2DLC_resnet50_MousePoseJul21shuffle1_1030000_labeled.mp4\n",
      "gs://rat-emotion/dlc/analyzed-videos/2020-07-25_DLC_resnet50_MousePoseJul21shuffle1_1030000/rat8-control2DLC_resnet50_MousePoseJul21shuffle1_1030000includingmetadata.pickle\n",
      "gs://rat-emotion/dlc/analyzed-videos/2020-07-25_DLC_resnet50_MousePoseJul21shuffle1_1030000/rat8-lps1DLC_resnet50_MousePoseJul21shuffle1_1030000.h5\n",
      "gs://rat-emotion/dlc/analyzed-videos/2020-07-25_DLC_resnet50_MousePoseJul21shuffle1_1030000/rat8-lps1DLC_resnet50_MousePoseJul21shuffle1_1030000_labeled.mp4\n",
      "gs://rat-emotion/dlc/analyzed-videos/2020-07-25_DLC_resnet50_MousePoseJul21shuffle1_1030000/rat8-lps1DLC_resnet50_MousePoseJul21shuffle1_1030000includingmetadata.pickle\n",
      "gs://rat-emotion/dlc/analyzed-videos/2020-07-25_DLC_resnet50_MousePoseJul21shuffle1_1030000/rat8-lps2DLC_resnet50_MousePoseJul21shuffle1_1030000.h5\n",
      "gs://rat-emotion/dlc/analyzed-videos/2020-07-25_DLC_resnet50_MousePoseJul21shuffle1_1030000/rat8-lps2DLC_resnet50_MousePoseJul21shuffle1_1030000_labeled.mp4\n",
      "gs://rat-emotion/dlc/analyzed-videos/2020-07-25_DLC_resnet50_MousePoseJul21shuffle1_1030000/rat8-lps2DLC_resnet50_MousePoseJul21shuffle1_1030000includingmetadata.pickle\n",
      "gs://rat-emotion/dlc/analyzed-videos/2020-07-25_DLC_resnet50_MousePoseJul21shuffle1_1030000/rat9-control1DLC_resnet50_MousePoseJul21shuffle1_1030000.h5\n",
      "gs://rat-emotion/dlc/analyzed-videos/2020-07-25_DLC_resnet50_MousePoseJul21shuffle1_1030000/rat9-control1DLC_resnet50_MousePoseJul21shuffle1_1030000_labeled.mp4\n",
      "gs://rat-emotion/dlc/analyzed-videos/2020-07-25_DLC_resnet50_MousePoseJul21shuffle1_1030000/rat9-control1DLC_resnet50_MousePoseJul21shuffle1_1030000includingmetadata.pickle\n",
      "gs://rat-emotion/dlc/analyzed-videos/2020-07-25_DLC_resnet50_MousePoseJul21shuffle1_1030000/rat9-control2DLC_resnet50_MousePoseJul21shuffle1_1030000.h5\n",
      "gs://rat-emotion/dlc/analyzed-videos/2020-07-25_DLC_resnet50_MousePoseJul21shuffle1_1030000/rat9-control2DLC_resnet50_MousePoseJul21shuffle1_1030000_labeled.mp4\n",
      "gs://rat-emotion/dlc/analyzed-videos/2020-07-25_DLC_resnet50_MousePoseJul21shuffle1_1030000/rat9-control2DLC_resnet50_MousePoseJul21shuffle1_1030000includingmetadata.pickle\n",
      "gs://rat-emotion/dlc/analyzed-videos/2020-07-25_DLC_resnet50_MousePoseJul21shuffle1_1030000/rat9-lps1DLC_resnet50_MousePoseJul21shuffle1_1030000.h5\n",
      "gs://rat-emotion/dlc/analyzed-videos/2020-07-25_DLC_resnet50_MousePoseJul21shuffle1_1030000/rat9-lps1DLC_resnet50_MousePoseJul21shuffle1_1030000_labeled.mp4\n",
      "gs://rat-emotion/dlc/analyzed-videos/2020-07-25_DLC_resnet50_MousePoseJul21shuffle1_1030000/rat9-lps1DLC_resnet50_MousePoseJul21shuffle1_1030000includingmetadata.pickle\n",
      "gs://rat-emotion/dlc/analyzed-videos/2020-07-25_DLC_resnet50_MousePoseJul21shuffle1_1030000/rat9-lps2DLC_resnet50_MousePoseJul21shuffle1_1030000.h5\n",
      "gs://rat-emotion/dlc/analyzed-videos/2020-07-25_DLC_resnet50_MousePoseJul21shuffle1_1030000/rat9-lps2DLC_resnet50_MousePoseJul21shuffle1_1030000_labeled.mp4\n",
      "gs://rat-emotion/dlc/analyzed-videos/2020-07-25_DLC_resnet50_MousePoseJul21shuffle1_1030000/rat9-lps2DLC_resnet50_MousePoseJul21shuffle1_1030000includingmetadata.pickle\n"
     ]
    }
   ],
   "source": [
    "! gsutil ls gs://rat-emotion/dlc/analyzed-videos/2020-07-25_DLC_resnet50_MousePoseJul21shuffle1_1030000"
   ]
  },
  {
   "cell_type": "code",
   "execution_count": null,
   "metadata": {},
   "outputs": [],
   "source": []
  }
 ],
 "metadata": {
  "kernelspec": {
   "display_name": "DLC-GPU",
   "language": "python",
   "name": "dlc-gpu"
  },
  "language_info": {
   "codemirror_mode": {
    "name": "ipython",
    "version": 3
   },
   "file_extension": ".py",
   "mimetype": "text/x-python",
   "name": "python",
   "nbconvert_exporter": "python",
   "pygments_lexer": "ipython3",
   "version": "3.7.7"
  }
 },
 "nbformat": 4,
 "nbformat_minor": 4
}
