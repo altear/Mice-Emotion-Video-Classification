{
 "cells": [
  {
   "cell_type": "code",
   "execution_count": 1,
   "metadata": {},
   "outputs": [],
   "source": [
    "import os\n",
    "import re\n",
    "\n",
    "from pathlib import Path"
   ]
  },
  {
   "cell_type": "code",
   "execution_count": 3,
   "metadata": {},
   "outputs": [
    {
     "data": {
      "text/plain": [
       "['rat3-control3.mp4',\n",
       " 'rat7-control2.mp4',\n",
       " 'rat7-control1.mp4',\n",
       " 'rat5-lps1.mp4',\n",
       " 'rat3-control2.mp4',\n",
       " 'rat3-lps1.mp4',\n",
       " 'rat6-control4.mp4',\n",
       " 'rat4-control2.mp4',\n",
       " 'rat5-control2.mp4',\n",
       " 'rat6-control2.mp4',\n",
       " 'rat1-control1.mp4',\n",
       " 'rat8-control2.mp4',\n",
       " 'rat7-control4.mp4',\n",
       " 'rat4-lps1.mp4',\n",
       " 'rat5-lps2.mp4',\n",
       " 'rat2-control1.mp4',\n",
       " 'rat4-control1.mp4',\n",
       " 'rat5-control1.mp4',\n",
       " 'rat2-control4.mp4',\n",
       " 'rat6-control1.mp4',\n",
       " 'rat7-lps1.mp4',\n",
       " 'rat8-lps1.mp4',\n",
       " 'rat3-lps2.mp4',\n",
       " 'rat7-control3.mp4',\n",
       " 'rat6-control5.mp4',\n",
       " 'rat9-lps2.mp4',\n",
       " 'rat2-control3.mp4',\n",
       " 'rat9-lps1.mp4',\n",
       " 'rat2-lps2.mp4',\n",
       " 'rat1-control2.mp4',\n",
       " 'rat8-lps2.mp4',\n",
       " 'rat4-lps2.mp4',\n",
       " 'rat2-lps3.mp4',\n",
       " 'rat6-control3.mp4',\n",
       " 'rat8-control1.mp4',\n",
       " 'rat2-lps4.mp4',\n",
       " 'rat7-lps2.mp4',\n",
       " 'rat1-control3.mp4',\n",
       " 'rat9-control1.mp4',\n",
       " 'rat6-lps2.mp4',\n",
       " 'rat3-control1.mp4',\n",
       " 'rat2-lps1.mp4',\n",
       " 'rat3-control4.mp4',\n",
       " 'rat9-control2.mp4',\n",
       " 'rat6-lps1.mp4',\n",
       " 'rat2-control2.mp4',\n",
       " 'rat1-control4.mp4']"
      ]
     },
     "execution_count": 3,
     "metadata": {},
     "output_type": "execute_result"
    }
   ],
   "source": [
    "os.listdir('/storage/gs/rat-emotion/videos/24fps')"
   ]
  },
  {
   "cell_type": "code",
   "execution_count": 31,
   "metadata": {},
   "outputs": [
    {
     "name": "stdout",
     "output_type": "stream",
     "text": [
      "ffmpeg -analyzeduration 100M -probesize 100M -vsync 0 -c:v hevc_cuvid -resize 1280x720 -i /storage/gs/rat-emotion/videos/24fps/rat3-control3.mp4 -c:a copy -b:v 5M /storage/gs/rat-emotion/videos/24fps-shortened/rat3-control3.mp4\n",
      "ffmpeg -analyzeduration 100M -probesize 100M -vsync 0 -c:v hevc_cuvid -resize 1280x720 -i /storage/gs/rat-emotion/videos/24fps/rat7-control2.mp4 -c:a copy -b:v 5M /storage/gs/rat-emotion/videos/24fps-shortened/rat7-control2.mp4\n",
      "ffmpeg -analyzeduration 100M -probesize 100M -vsync 0 -c:v hevc_cuvid -resize 1280x720 -i /storage/gs/rat-emotion/videos/24fps/rat7-control1.mp4 -c:a copy -b:v 5M /storage/gs/rat-emotion/videos/24fps-shortened/rat7-control1.mp4\n",
      "ffmpeg -analyzeduration 100M -probesize 100M -vsync 0 -c:v hevc_cuvid -resize 1280x720 -i /storage/gs/rat-emotion/videos/24fps/rat5-lps1.mp4 -c:a copy -b:v 5M /storage/gs/rat-emotion/videos/24fps-shortened/rat5-lps1.mp4\n",
      "ffmpeg -analyzeduration 100M -probesize 100M -vsync 0 -c:v hevc_cuvid -resize 1280x720 -i /storage/gs/rat-emotion/videos/24fps/rat3-control2.mp4 -c:a copy -b:v 5M /storage/gs/rat-emotion/videos/24fps-shortened/rat3-control2.mp4\n",
      "ffmpeg -analyzeduration 100M -probesize 100M -vsync 0 -c:v hevc_cuvid -resize 1280x720 -i /storage/gs/rat-emotion/videos/24fps/rat3-lps1.mp4 -c:a copy -b:v 5M /storage/gs/rat-emotion/videos/24fps-shortened/rat3-lps1.mp4\n",
      "ffmpeg -analyzeduration 100M -probesize 100M -vsync 0 -c:v hevc_cuvid -resize 1280x720 -i /storage/gs/rat-emotion/videos/24fps/rat6-control4.mp4 -c:a copy -b:v 5M /storage/gs/rat-emotion/videos/24fps-shortened/rat6-control4.mp4\n",
      "ffmpeg -analyzeduration 100M -probesize 100M -vsync 0 -c:v hevc_cuvid -resize 1280x720 -i /storage/gs/rat-emotion/videos/24fps/rat4-control2.mp4 -c:a copy -b:v 5M /storage/gs/rat-emotion/videos/24fps-shortened/rat4-control2.mp4\n",
      "ffmpeg -analyzeduration 100M -probesize 100M -vsync 0 -c:v hevc_cuvid -resize 1280x720 -i /storage/gs/rat-emotion/videos/24fps/rat5-control2.mp4 -c:a copy -b:v 5M /storage/gs/rat-emotion/videos/24fps-shortened/rat5-control2.mp4\n",
      "ffmpeg -analyzeduration 100M -probesize 100M -vsync 0 -c:v hevc_cuvid -resize 1280x720 -i /storage/gs/rat-emotion/videos/24fps/rat6-control2.mp4 -c:a copy -b:v 5M /storage/gs/rat-emotion/videos/24fps-shortened/rat6-control2.mp4\n",
      "ffmpeg -analyzeduration 100M -probesize 100M -vsync 0 -c:v hevc_cuvid -resize 1280x720 -i /storage/gs/rat-emotion/videos/24fps/rat1-control1.mp4 -c:a copy -b:v 5M /storage/gs/rat-emotion/videos/24fps-shortened/rat1-control1.mp4\n",
      "ffmpeg -analyzeduration 100M -probesize 100M -vsync 0 -c:v hevc_cuvid -resize 1280x720 -i /storage/gs/rat-emotion/videos/24fps/rat8-control2.mp4 -c:a copy -b:v 5M /storage/gs/rat-emotion/videos/24fps-shortened/rat8-control2.mp4\n",
      "ffmpeg -analyzeduration 100M -probesize 100M -vsync 0 -c:v hevc_cuvid -resize 1280x720 -i /storage/gs/rat-emotion/videos/24fps/rat7-control4.mp4 -c:a copy -b:v 5M /storage/gs/rat-emotion/videos/24fps-shortened/rat7-control4.mp4\n",
      "ffmpeg -analyzeduration 100M -probesize 100M -vsync 0 -c:v hevc_cuvid -resize 1280x720 -i /storage/gs/rat-emotion/videos/24fps/rat4-lps1.mp4 -c:a copy -b:v 5M /storage/gs/rat-emotion/videos/24fps-shortened/rat4-lps1.mp4\n",
      "ffmpeg -analyzeduration 100M -probesize 100M -vsync 0 -c:v hevc_cuvid -resize 1280x720 -i /storage/gs/rat-emotion/videos/24fps/rat5-lps2.mp4 -c:a copy -b:v 5M /storage/gs/rat-emotion/videos/24fps-shortened/rat5-lps2.mp4\n",
      "ffmpeg -analyzeduration 100M -probesize 100M -vsync 0 -c:v hevc_cuvid -resize 1280x720 -i /storage/gs/rat-emotion/videos/24fps/rat2-control1.mp4 -c:a copy -b:v 5M /storage/gs/rat-emotion/videos/24fps-shortened/rat2-control1.mp4\n",
      "ffmpeg -analyzeduration 100M -probesize 100M -vsync 0 -c:v hevc_cuvid -resize 1280x720 -i /storage/gs/rat-emotion/videos/24fps/rat4-control1.mp4 -c:a copy -b:v 5M /storage/gs/rat-emotion/videos/24fps-shortened/rat4-control1.mp4\n",
      "ffmpeg -analyzeduration 100M -probesize 100M -vsync 0 -c:v hevc_cuvid -resize 1280x720 -i /storage/gs/rat-emotion/videos/24fps/rat5-control1.mp4 -c:a copy -b:v 5M /storage/gs/rat-emotion/videos/24fps-shortened/rat5-control1.mp4\n",
      "ffmpeg -analyzeduration 100M -probesize 100M -vsync 0 -c:v hevc_cuvid -resize 1280x720 -i /storage/gs/rat-emotion/videos/24fps/rat2-control4.mp4 -c:a copy -b:v 5M /storage/gs/rat-emotion/videos/24fps-shortened/rat2-control4.mp4\n",
      "ffmpeg -analyzeduration 100M -probesize 100M -vsync 0 -c:v hevc_cuvid -resize 1280x720 -i /storage/gs/rat-emotion/videos/24fps/rat6-control1.mp4 -c:a copy -b:v 5M /storage/gs/rat-emotion/videos/24fps-shortened/rat6-control1.mp4\n",
      "ffmpeg -analyzeduration 100M -probesize 100M -vsync 0 -c:v hevc_cuvid -resize 1280x720 -i /storage/gs/rat-emotion/videos/24fps/rat7-lps1.mp4 -c:a copy -b:v 5M /storage/gs/rat-emotion/videos/24fps-shortened/rat7-lps1.mp4\n",
      "ffmpeg -analyzeduration 100M -probesize 100M -vsync 0 -c:v hevc_cuvid -resize 1280x720 -i /storage/gs/rat-emotion/videos/24fps/rat8-lps1.mp4 -c:a copy -b:v 5M /storage/gs/rat-emotion/videos/24fps-shortened/rat8-lps1.mp4\n",
      "ffmpeg -analyzeduration 100M -probesize 100M -vsync 0 -c:v hevc_cuvid -resize 1280x720 -i /storage/gs/rat-emotion/videos/24fps/rat3-lps2.mp4 -c:a copy -b:v 5M /storage/gs/rat-emotion/videos/24fps-shortened/rat3-lps2.mp4\n",
      "ffmpeg -analyzeduration 100M -probesize 100M -vsync 0 -c:v hevc_cuvid -resize 1280x720 -i /storage/gs/rat-emotion/videos/24fps/rat7-control3.mp4 -c:a copy -b:v 5M /storage/gs/rat-emotion/videos/24fps-shortened/rat7-control3.mp4\n",
      "ffmpeg -analyzeduration 100M -probesize 100M -vsync 0 -c:v hevc_cuvid -resize 1280x720 -i /storage/gs/rat-emotion/videos/24fps/rat6-control5.mp4 -c:a copy -b:v 5M /storage/gs/rat-emotion/videos/24fps-shortened/rat6-control5.mp4\n",
      "ffmpeg -analyzeduration 100M -probesize 100M -vsync 0 -c:v hevc_cuvid -resize 1280x720 -i /storage/gs/rat-emotion/videos/24fps/rat9-lps2.mp4 -c:a copy -b:v 5M /storage/gs/rat-emotion/videos/24fps-shortened/rat9-lps2.mp4\n",
      "ffmpeg -analyzeduration 100M -probesize 100M -vsync 0 -c:v hevc_cuvid -resize 1280x720 -i /storage/gs/rat-emotion/videos/24fps/rat2-control3.mp4 -c:a copy -b:v 5M /storage/gs/rat-emotion/videos/24fps-shortened/rat2-control3.mp4\n",
      "ffmpeg -analyzeduration 100M -probesize 100M -vsync 0 -c:v hevc_cuvid -resize 1280x720 -i /storage/gs/rat-emotion/videos/24fps/rat9-lps1.mp4 -c:a copy -b:v 5M /storage/gs/rat-emotion/videos/24fps-shortened/rat9-lps1.mp4\n",
      "ffmpeg -analyzeduration 100M -probesize 100M -vsync 0 -c:v hevc_cuvid -resize 1280x720 -i /storage/gs/rat-emotion/videos/24fps/rat2-lps2.mp4 -c:a copy -b:v 5M /storage/gs/rat-emotion/videos/24fps-shortened/rat2-lps2.mp4\n",
      "ffmpeg -analyzeduration 100M -probesize 100M -vsync 0 -c:v hevc_cuvid -resize 1280x720 -i /storage/gs/rat-emotion/videos/24fps/rat1-control2.mp4 -c:a copy -b:v 5M /storage/gs/rat-emotion/videos/24fps-shortened/rat1-control2.mp4\n",
      "ffmpeg -analyzeduration 100M -probesize 100M -vsync 0 -c:v hevc_cuvid -resize 1280x720 -i /storage/gs/rat-emotion/videos/24fps/rat8-lps2.mp4 -c:a copy -b:v 5M /storage/gs/rat-emotion/videos/24fps-shortened/rat8-lps2.mp4\n",
      "ffmpeg -analyzeduration 100M -probesize 100M -vsync 0 -c:v hevc_cuvid -resize 1280x720 -i /storage/gs/rat-emotion/videos/24fps/rat4-lps2.mp4 -c:a copy -b:v 5M /storage/gs/rat-emotion/videos/24fps-shortened/rat4-lps2.mp4\n",
      "ffmpeg -analyzeduration 100M -probesize 100M -vsync 0 -c:v hevc_cuvid -resize 1280x720 -i /storage/gs/rat-emotion/videos/24fps/rat2-lps3.mp4 -c:a copy -b:v 5M /storage/gs/rat-emotion/videos/24fps-shortened/rat2-lps3.mp4\n",
      "ffmpeg -analyzeduration 100M -probesize 100M -vsync 0 -c:v hevc_cuvid -resize 1280x720 -i /storage/gs/rat-emotion/videos/24fps/rat6-control3.mp4 -c:a copy -b:v 5M /storage/gs/rat-emotion/videos/24fps-shortened/rat6-control3.mp4\n",
      "ffmpeg -analyzeduration 100M -probesize 100M -vsync 0 -c:v hevc_cuvid -resize 1280x720 -i /storage/gs/rat-emotion/videos/24fps/rat8-control1.mp4 -c:a copy -b:v 5M /storage/gs/rat-emotion/videos/24fps-shortened/rat8-control1.mp4\n",
      "ffmpeg -analyzeduration 100M -probesize 100M -vsync 0 -c:v hevc_cuvid -resize 1280x720 -i /storage/gs/rat-emotion/videos/24fps/rat2-lps4.mp4 -c:a copy -b:v 5M /storage/gs/rat-emotion/videos/24fps-shortened/rat2-lps4.mp4\n",
      "ffmpeg -analyzeduration 100M -probesize 100M -vsync 0 -c:v hevc_cuvid -resize 1280x720 -i /storage/gs/rat-emotion/videos/24fps/rat7-lps2.mp4 -c:a copy -b:v 5M /storage/gs/rat-emotion/videos/24fps-shortened/rat7-lps2.mp4\n",
      "ffmpeg -analyzeduration 100M -probesize 100M -vsync 0 -c:v hevc_cuvid -resize 1280x720 -i /storage/gs/rat-emotion/videos/24fps/rat1-control3.mp4 -c:a copy -b:v 5M /storage/gs/rat-emotion/videos/24fps-shortened/rat1-control3.mp4\n",
      "ffmpeg -analyzeduration 100M -probesize 100M -vsync 0 -c:v hevc_cuvid -resize 1280x720 -i /storage/gs/rat-emotion/videos/24fps/rat9-control1.mp4 -c:a copy -b:v 5M /storage/gs/rat-emotion/videos/24fps-shortened/rat9-control1.mp4\n",
      "ffmpeg -analyzeduration 100M -probesize 100M -vsync 0 -c:v hevc_cuvid -resize 1280x720 -i /storage/gs/rat-emotion/videos/24fps/rat6-lps2.mp4 -c:a copy -b:v 5M /storage/gs/rat-emotion/videos/24fps-shortened/rat6-lps2.mp4\n",
      "ffmpeg -analyzeduration 100M -probesize 100M -vsync 0 -c:v hevc_cuvid -resize 1280x720 -i /storage/gs/rat-emotion/videos/24fps/rat3-control1.mp4 -c:a copy -b:v 5M /storage/gs/rat-emotion/videos/24fps-shortened/rat3-control1.mp4\n",
      "ffmpeg -analyzeduration 100M -probesize 100M -vsync 0 -c:v hevc_cuvid -resize 1280x720 -i /storage/gs/rat-emotion/videos/24fps/rat2-lps1.mp4 -c:a copy -b:v 5M /storage/gs/rat-emotion/videos/24fps-shortened/rat2-lps1.mp4\n",
      "ffmpeg -analyzeduration 100M -probesize 100M -vsync 0 -c:v hevc_cuvid -resize 1280x720 -i /storage/gs/rat-emotion/videos/24fps/rat3-control4.mp4 -c:a copy -b:v 5M /storage/gs/rat-emotion/videos/24fps-shortened/rat3-control4.mp4\n",
      "ffmpeg -analyzeduration 100M -probesize 100M -vsync 0 -c:v hevc_cuvid -resize 1280x720 -i /storage/gs/rat-emotion/videos/24fps/rat9-control2.mp4 -c:a copy -b:v 5M /storage/gs/rat-emotion/videos/24fps-shortened/rat9-control2.mp4\n",
      "ffmpeg -analyzeduration 100M -probesize 100M -vsync 0 -c:v hevc_cuvid -resize 1280x720 -i /storage/gs/rat-emotion/videos/24fps/rat6-lps1.mp4 -c:a copy -b:v 5M /storage/gs/rat-emotion/videos/24fps-shortened/rat6-lps1.mp4\n",
      "ffmpeg -analyzeduration 100M -probesize 100M -vsync 0 -c:v hevc_cuvid -resize 1280x720 -i /storage/gs/rat-emotion/videos/24fps/rat2-control2.mp4 -c:a copy -b:v 5M /storage/gs/rat-emotion/videos/24fps-shortened/rat2-control2.mp4\n",
      "ffmpeg -analyzeduration 100M -probesize 100M -vsync 0 -c:v hevc_cuvid -resize 1280x720 -i /storage/gs/rat-emotion/videos/24fps/rat1-control4.mp4 -c:a copy -b:v 5M /storage/gs/rat-emotion/videos/24fps-shortened/rat1-control4.mp4\n"
     ]
    }
   ],
   "source": [
    "exp = re.compile('(?P<name>.*)\\.(?P<ext>.*)')\n",
    "\n",
    "cmd_formatter = \"ffmpeg -analyzeduration 100M -probesize 100M -vsync 0 -c:v hevc_cuvid -resize 1280x720 -i {input_path} -c:a copy -b:v 5M {output_path}\"\n",
    "\n",
    "input_dir = Path('/storage/gs/rat-emotion/videos/24fps')\n",
    "output_dir = Path('/storage/gs/rat-emotion/videos/24fps-shortened')\n",
    "\n",
    "for video in os.listdir(input_dir):\n",
    "    input_path = input_dir / video\n",
    "    output_path = output_dir / video\n",
    "    \n",
    "    cmd = cmd_formatter.format(input_path=input_path, output_path=output_path)\n",
    "    print(cmd)"
   ]
  },
  {
   "cell_type": "code",
   "execution_count": null,
   "metadata": {},
   "outputs": [],
   "source": []
  }
 ],
 "metadata": {
  "kernelspec": {
   "display_name": "Python 3",
   "language": "python",
   "name": "python3"
  },
  "language_info": {
   "codemirror_mode": {
    "name": "ipython",
    "version": 3
   },
   "file_extension": ".py",
   "mimetype": "text/x-python",
   "name": "python",
   "nbconvert_exporter": "python",
   "pygments_lexer": "ipython3",
   "version": "3.7.7"
  }
 },
 "nbformat": 4,
 "nbformat_minor": 4
}
