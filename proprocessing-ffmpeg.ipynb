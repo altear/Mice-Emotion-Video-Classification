{
  "nbformat": 4,
  "nbformat_minor": 0,
  "metadata": {
    "kernelspec": {
      "display_name": "DLC-CPU",
      "language": "python",
      "name": "dlc-cpu"
    },
    "language_info": {
      "codemirror_mode": {
        "name": "ipython",
        "version": 3
      },
      "file_extension": ".py",
      "mimetype": "text/x-python",
      "name": "python",
      "nbconvert_exporter": "python",
      "pygments_lexer": "ipython3",
      "version": "3.7.7"
    },
    "colab": {
      "name": "proprocessing-ffmpeg.ipynb",
      "provenance": [],
      "toc_visible": true,
      "include_colab_link": true
    }
  },
  "cells": [
    {
      "cell_type": "markdown",
      "metadata": {
        "id": "view-in-github",
        "colab_type": "text"
      },
      "source": [
        "<a href=\"https://colab.research.google.com/github/altear/Mouse-Emotion-Video-Classification/blob/master/proprocessing-ffmpeg.ipynb\" target=\"_parent\"><img src=\"https://colab.research.google.com/assets/colab-badge.svg\" alt=\"Open In Colab\"/></a>"
      ]
    },
    {
      "cell_type": "code",
      "metadata": {
        "id": "wWsWgu9FwaDW",
        "colab_type": "code",
        "colab": {
          "base_uri": "https://localhost:8080/",
          "height": 34
        },
        "outputId": "59623f0f-3114-43ef-fd4d-993c819145bc"
      },
      "source": [
        "from google.colab import drive\n",
        "drive.mount('/content/drive')"
      ],
      "execution_count": 1,
      "outputs": [
        {
          "output_type": "stream",
          "text": [
            "Drive already mounted at /content/drive; to attempt to forcibly remount, call drive.mount(\"/content/drive\", force_remount=True).\n"
          ],
          "name": "stdout"
        }
      ]
    },
    {
      "cell_type": "markdown",
      "metadata": {
        "id": "Tc9lVNBWrmrE",
        "colab_type": "text"
      },
      "source": [
        "# Lower Framerate on Google Colab\n",
        "use ffmpeg to lower framerate"
      ]
    },
    {
      "cell_type": "code",
      "metadata": {
        "id": "vBiNkdFurmrH",
        "colab_type": "code",
        "colab": {
          "base_uri": "https://localhost:8080/",
          "height": 317
        },
        "outputId": "f10aea5a-0cc8-40d1-a8bd-246f6e7b25c3"
      },
      "source": [
        "import re\n",
        "import os\n",
        "import subprocess\n",
        "import shutil\n",
        "from pathlib import Path\n",
        "\n",
        "source = Path(r\"/content/drive/My Drive/COMP4905 - Andre Telfer - Mouse Emotion Classification/videos/samples\")\n",
        "dest = Path(\"/content/drive/My Drive/COMP4905 - Andre Telfer - Mouse Emotion Classification/videos/24fps\") # Note this must be different than source folder, may not be a subdir\n",
        "framerate = 24\n",
        "\n",
        "output_format = \"{type}_rat{rat}_rec{recording}.mp4\"\n",
        "command_format = \"ffmpeg -i {input_file} -filter:v fps=fps={framerate} {output_file}\"\n",
        "input_regexp = re.compile(r'rat (?P<rat>[0-9]+) (?P<type>\\w+) (?P<recording>[0-9]+)\\.mp4')\n",
        "\n",
        "if source == dest: \n",
        "    raise Exception(\"src and dest folders are the same.\")\n",
        "\n",
        "def execute(source_folder, dest_folder):\n",
        "  if not os.path.exists(dest_folder):\n",
        "      os.makedirs(dest_folder, exist_ok=True)\n",
        "\n",
        "  for f in os.listdir(source_folder):\n",
        "      # Execute on subtrees\n",
        "      if os.path.isdir(source_folder):\n",
        "          execute(source_folder / f, dest_folder / f)\n",
        "          continue\n",
        "\n",
        "      # Parse filename\n",
        "      result = r.match(f.lower())\n",
        "      if not result: \n",
        "          print(f\"Error parsing input video filename: '{f}', skipping\")\n",
        "          continue\n",
        "          \n",
        "      input_file = source_folder / f\n",
        "      output_file = dest_folder / output_format.format(**result.groupdict())\n",
        "      command = command_format.format(input_file=input_file, framerate=framerate, output_file=output_file)\n",
        "      subprocess.Popen(command, shell=True)\n",
        "\n",
        "execute(source, dest)"
      ],
      "execution_count": 2,
      "outputs": [
        {
          "output_type": "error",
          "ename": "FileNotFoundError",
          "evalue": "ignored",
          "traceback": [
            "\u001b[0;31m---------------------------------------------------------------------------\u001b[0m",
            "\u001b[0;31mFileNotFoundError\u001b[0m                         Traceback (most recent call last)",
            "\u001b[0;32m<ipython-input-2-728040d45217>\u001b[0m in \u001b[0;36m<module>\u001b[0;34m()\u001b[0m\n\u001b[1;32m     37\u001b[0m       \u001b[0msubprocess\u001b[0m\u001b[0;34m.\u001b[0m\u001b[0mPopen\u001b[0m\u001b[0;34m(\u001b[0m\u001b[0mcommand\u001b[0m\u001b[0;34m,\u001b[0m \u001b[0mshell\u001b[0m\u001b[0;34m=\u001b[0m\u001b[0;32mTrue\u001b[0m\u001b[0;34m)\u001b[0m\u001b[0;34m\u001b[0m\u001b[0;34m\u001b[0m\u001b[0m\n\u001b[1;32m     38\u001b[0m \u001b[0;34m\u001b[0m\u001b[0m\n\u001b[0;32m---> 39\u001b[0;31m \u001b[0mexecute\u001b[0m\u001b[0;34m(\u001b[0m\u001b[0msource\u001b[0m\u001b[0;34m,\u001b[0m \u001b[0mdest\u001b[0m\u001b[0;34m)\u001b[0m\u001b[0;34m\u001b[0m\u001b[0;34m\u001b[0m\u001b[0m\n\u001b[0m",
            "\u001b[0;32m<ipython-input-2-728040d45217>\u001b[0m in \u001b[0;36mexecute\u001b[0;34m(source_folder, dest_folder)\u001b[0m\n\u001b[1;32m     20\u001b[0m       \u001b[0mos\u001b[0m\u001b[0;34m.\u001b[0m\u001b[0mmakedirs\u001b[0m\u001b[0;34m(\u001b[0m\u001b[0mdest_folder\u001b[0m\u001b[0;34m,\u001b[0m \u001b[0mexist_ok\u001b[0m\u001b[0;34m=\u001b[0m\u001b[0;32mTrue\u001b[0m\u001b[0;34m)\u001b[0m\u001b[0;34m\u001b[0m\u001b[0;34m\u001b[0m\u001b[0m\n\u001b[1;32m     21\u001b[0m \u001b[0;34m\u001b[0m\u001b[0m\n\u001b[0;32m---> 22\u001b[0;31m   \u001b[0;32mfor\u001b[0m \u001b[0mf\u001b[0m \u001b[0;32min\u001b[0m \u001b[0mos\u001b[0m\u001b[0;34m.\u001b[0m\u001b[0mlistdir\u001b[0m\u001b[0;34m(\u001b[0m\u001b[0msource_folder\u001b[0m\u001b[0;34m)\u001b[0m\u001b[0;34m:\u001b[0m\u001b[0;34m\u001b[0m\u001b[0;34m\u001b[0m\u001b[0m\n\u001b[0m\u001b[1;32m     23\u001b[0m       \u001b[0;31m# Execute on subtrees\u001b[0m\u001b[0;34m\u001b[0m\u001b[0;34m\u001b[0m\u001b[0;34m\u001b[0m\u001b[0m\n\u001b[1;32m     24\u001b[0m       \u001b[0;32mif\u001b[0m \u001b[0mos\u001b[0m\u001b[0;34m.\u001b[0m\u001b[0mpath\u001b[0m\u001b[0;34m.\u001b[0m\u001b[0misdir\u001b[0m\u001b[0;34m(\u001b[0m\u001b[0msource_folder\u001b[0m\u001b[0;34m)\u001b[0m\u001b[0;34m:\u001b[0m\u001b[0;34m\u001b[0m\u001b[0;34m\u001b[0m\u001b[0m\n",
            "\u001b[0;31mFileNotFoundError\u001b[0m: [Errno 2] No such file or directory: '/content/drive/My Drive/COMP4905 - Andre Telfer - Mouse Emotion Classification/videos/samples'"
          ]
        }
      ]
    }
  ]
}