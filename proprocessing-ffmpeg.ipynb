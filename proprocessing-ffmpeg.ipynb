{
 "cells": [
  {
   "cell_type": "markdown",
   "metadata": {},
   "source": [
    "# Lower Framerate on Google Colab"
   ]
  },
  {
   "cell_type": "code",
   "execution_count": 34,
   "metadata": {},
   "outputs": [
    {
     "name": "stdout",
     "output_type": "stream",
     "text": [
      "ffmpeg -i E:\\COMP4905\\videos\\Rat 1 Control 1.MP4 -filter:v fps=fps=24 control_rat1_rec1.mp4\n",
      "ffmpeg -i E:\\COMP4905\\videos\\Rat 2 LPS 1.MP4 -filter:v fps=fps=24 lps_rat2_rec1.mp4\n",
      "Error parsing input video filename: 'Rat1_Control1_24fps.MP4', skipping\n"
     ]
    }
   ],
   "source": [
    "import re\n",
    "import os\n",
    "import subprocess\n",
    "from pathlib import Path\n",
    "\n",
    "source_folder = Path(r\"E:\\COMP4905\\videos\")\n",
    "dest_folder = Path(\"\") # Note this must be different than source folder\n",
    "framerate = 24\n",
    "\n",
    "output_format = \"{type}_rat{rat}_rec{recording}.mp4\"\n",
    "command_format = \"ffmpeg -i {input_file} -filter:v fps=fps={framerate} {output_file}\"\n",
    "input_regexp = re.compile(r'rat (?P<rat>[0-9]+) (?P<type>\\w+) (?P<recording>[0-9]+)\\.mp4')\n",
    "\n",
    "if source_folder == dest_folder: \n",
    "    raise Exception(\"src and dest folders are the same.\")\n",
    "\n",
    "for f in os.listdir(source_folder):\n",
    "    result = r.match(f.lower())\n",
    "    if not result: \n",
    "        print(f\"Error parsing input video filename: '{f}', skipping\")\n",
    "        continue\n",
    "        \n",
    "    input_file = source_folder / f\n",
    "    output_file = dest_folder / output_format.format(**result.groupdict())\n",
    "    command = command_format.format(input_file=input_file, framerate=framerate, output_file=output_file)\n",
    "\n",
    "    subprocess.Popen(command, shell=True)"
   ]
  }
 ],
 "metadata": {
  "kernelspec": {
   "display_name": "DLC-CPU",
   "language": "python",
   "name": "dlc-cpu"
  },
  "language_info": {
   "codemirror_mode": {
    "name": "ipython",
    "version": 3
   },
   "file_extension": ".py",
   "mimetype": "text/x-python",
   "name": "python",
   "nbconvert_exporter": "python",
   "pygments_lexer": "ipython3",
   "version": "3.7.7"
  }
 },
 "nbformat": 4,
 "nbformat_minor": 2
}
