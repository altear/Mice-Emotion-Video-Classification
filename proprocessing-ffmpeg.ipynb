{
  "nbformat": 4,
  "nbformat_minor": 0,
  "metadata": {
    "kernelspec": {
      "display_name": "DLC-CPU",
      "language": "python",
      "name": "dlc-cpu"
    },
    "language_info": {
      "codemirror_mode": {
        "name": "ipython",
        "version": 3
      },
      "file_extension": ".py",
      "mimetype": "text/x-python",
      "name": "python",
      "nbconvert_exporter": "python",
      "pygments_lexer": "ipython3",
      "version": "3.7.7"
    },
    "colab": {
      "name": "proprocessing-ffmpeg.ipynb",
      "provenance": [],
      "toc_visible": true,
      "include_colab_link": true
    }
  },
  "cells": [
    {
      "cell_type": "markdown",
      "metadata": {
        "id": "view-in-github",
        "colab_type": "text"
      },
      "source": [
        "<a href=\"https://colab.research.google.com/github/altear/Mouse-Emotion-Video-Classification/blob/master/proprocessing-ffmpeg.ipynb\" target=\"_parent\"><img src=\"https://colab.research.google.com/assets/colab-badge.svg\" alt=\"Open In Colab\"/></a>"
      ]
    },
    {
      "cell_type": "code",
      "metadata": {
        "id": "wWsWgu9FwaDW",
        "colab_type": "code",
        "colab": {}
      },
      "source": [
        "from google.colab import drive\n",
        "drive.mount('/content/drive', force_remount=True)"
      ],
      "execution_count": 0,
      "outputs": []
    },
    {
      "cell_type": "markdown",
      "metadata": {
        "id": "Tc9lVNBWrmrE",
        "colab_type": "text"
      },
      "source": [
        "# Lower Framerate on Google Colab\n",
        "use ffmpeg to lower framerate"
      ]
    },
    {
      "cell_type": "code",
      "metadata": {
        "id": "vBiNkdFurmrH",
        "colab_type": "code",
        "outputId": "399065b2-cca5-489d-8b4d-bdf6b707d2c0",
        "colab": {
          "base_uri": "https://localhost:8080/",
          "height": 34
        }
      },
      "source": [
        "import re\n",
        "import os\n",
        "import subprocess\n",
        "import shutil\n",
        "from pathlib import Path\n",
        "\n",
        "source = Path(r\"/content/drive/My Drive/COMP4905 - Andre Telfer - Mouse Emotion Classification/videos/samples\")\n",
        "dest = Path(\"/content/drive/My Drive/COMP4905 - Andre Telfer - Mouse Emotion Classification/videos/24fps\") # Note this must be different than source folder, may not be a subdir\n",
        "framerate = 24\n",
        "\n",
        "output_format = \"{type}_rat{rat}_rec{recording}.mp4\"\n",
        "command_format = 'ffmpeg -i \"{input_file}\" -filter:v fps=fps={framerate} \"{output_file}\"'\n",
        "input_regexp = re.compile(r'rat (?P<rat>[0-9]+) (?P<type>\\w+) (?P<recording>[0-9]+)\\.mp4')\n",
        "\n",
        "if source == dest: \n",
        "    raise Exception(\"src and dest folders are the same.\")\n",
        "\n",
        "def execute(source_folder, dest_folder):\n",
        "  if not os.path.exists(dest_folder):\n",
        "      os.makedirs(dest_folder, exist_ok=True)\n",
        "\n",
        "  for f in os.listdir(source_folder):\n",
        "      # Execute on subtrees\n",
        "      if os.path.isdir(source_folder / f):\n",
        "          execute(source_folder / f, dest_folder / f)\n",
        "          continue\n",
        "\n",
        "      # Parse filename\n",
        "      result = input_regexp.match(f.lower())\n",
        "      if not result: \n",
        "          print(f\"Error parsing input video filename: '{f}', skipping\")\n",
        "          continue\n",
        "          \n",
        "      input_file = source_folder / f\n",
        "      output_file = dest_folder / output_format.format(**result.groupdict())\n",
        "      command = command_format.format(input_file=input_file, framerate=framerate, output_file=output_file)\n",
        "      subprocess.Popen(command, shell=True)\n",
        "      \n",
        "execute(source, dest)"
      ],
      "execution_count": 10,
      "outputs": [
        {
          "output_type": "stream",
          "text": [
            "b''\n"
          ],
          "name": "stdout"
        }
      ]
    }
  ]
}