{
 "cells": [
  {
   "cell_type": "code",
   "execution_count": 59,
   "metadata": {},
   "outputs": [],
   "source": [
    "import json\n",
    "import re\n",
    "from pathlib import Path\n",
    "from ruamel.yaml import YAML\n",
    "\n",
    "project_path = Path(r\"C:\\Users\\Owner\\Documents\\repos\\COMP4905\\pose-estimation\\MousePose-AndreTelfer-2020-05-21\")\n",
    "\n",
    "yaml = YAML()\n",
    "with open(project_path / 'config.yaml', 'r') as fp:\n",
    "    config = yaml.load(fp)"
   ]
  },
  {
   "cell_type": "markdown",
   "metadata": {},
   "source": [
    "# What Frames are Already Labelled?"
   ]
  },
  {
   "cell_type": "code",
   "execution_count": 351,
   "metadata": {},
   "outputs": [
    {
     "name": "stdout",
     "output_type": "stream",
     "text": [
      "{\n",
      "    \"Rat 2 LPS 1\": [\n",
      "        0,\n",
      "        1323,\n",
      "        17072,\n",
      "        19623,\n",
      "        24044,\n",
      "        41117,\n",
      "        51152\n",
      "    ],\n",
      "    \"Rat 4 Control 1\": [\n",
      "        0,\n",
      "        6179,\n",
      "        16331,\n",
      "        23834,\n",
      "        41489,\n",
      "        42372,\n",
      "        48110,\n",
      "        52303\n",
      "    ]\n",
      "}\n"
     ]
    }
   ],
   "source": [
    "labeled_data_folder = project_path / \"labeled-data\"\n",
    "\n",
    "r = re.compile(\"img(\\d+).png\")\n",
    "\n",
    "def get_labeled_frames():\n",
    "    labeled_frames = {}\n",
    "    for video_folder in os.listdir(labeled_data_folder):\n",
    "        images = os.listdir(labeled_data_folder / video_folder)\n",
    "        images = list(filter(lambda x: r.match(x), images))\n",
    "        frames = list(map(lambda x: int(r.match(x).group(1)), images))\n",
    "        labeled_frames[video_folder] = frames\n",
    "    \n",
    "    return labeled_frames\n",
    "\n",
    "labeled_frames = get_labeled_frames()\n",
    "print(json.dumps(labeled_frames, indent=4))"
   ]
  },
  {
   "cell_type": "markdown",
   "metadata": {},
   "source": [
    "# Random Sample Frames\n",
    "\n",
    "## Select Videos\n",
    "\n",
    "### Get Videos from Project"
   ]
  },
  {
   "cell_type": "code",
   "execution_count": 44,
   "metadata": {},
   "outputs": [
    {
     "data": {
      "text/plain": [
       "[WindowsPath('C:/Users/Owner/Documents/repos/COMP4905/pose-estimation/MousePose-AndreTelfer-2020-05-21/videos/Rat 2 LPS 1.MP4'),\n",
       " WindowsPath('C:/Users/Owner/Documents/repos/COMP4905/pose-estimation/MousePose-AndreTelfer-2020-05-21/videos/Rat 4 Control 1.MP4')]"
      ]
     },
     "execution_count": 44,
     "metadata": {},
     "output_type": "execute_result"
    }
   ],
   "source": [
    "import os\n",
    "import shutil\n",
    "\n",
    "# Temporarily change the CWD, this lets us use pathlib to resolve relative paths\n",
    "initial_cwd = os.getcwd()\n",
    "os.chdir(project_path)\n",
    "    \n",
    "videos = list(config['video_sets'].keys())\n",
    "videos = list(map(lambda x: Path(os.path.abspath(x)), videos))\n",
    "\n",
    "# Change CWD back\n",
    "os.chdir(initial_cwd)\n",
    "\n",
    "videos"
   ]
  },
  {
   "cell_type": "markdown",
   "metadata": {},
   "source": [
    "### Specify Videos Manually"
   ]
  },
  {
   "cell_type": "code",
   "execution_count": 46,
   "metadata": {},
   "outputs": [],
   "source": [
    "video_folder = Path(r\"C:\\Users\\Owner\\Documents\\repos\\COMP4905\\videos\")\n",
    "videos = [\n",
    "    *map(lambda x: video_folder / x, os.listdir(video_folder))\n",
    "]"
   ]
  },
  {
   "cell_type": "markdown",
   "metadata": {},
   "source": [
    "# Sample Frames According to Spring Simulation"
   ]
  },
  {
   "cell_type": "code",
   "execution_count": 375,
   "metadata": {},
   "outputs": [
    {
     "name": "stdout",
     "output_type": "stream",
     "text": [
      "New frames: [6026.0, 19331.0, 19560.0, 22567.0, 26274.0, 26552.0, 44582.0, 47866.0, 52295.0, 63124.0]\n",
      "Saving frame 6026.0 to C:\\Users\\Owner\\Documents\\repos\\COMP4905\\pose-estimation\\MousePose-AndreTelfer-2020-05-21\\labeled-data\\Rat 2 LPS 1\\img06026.png\n",
      "Saving frame 19331.0 to C:\\Users\\Owner\\Documents\\repos\\COMP4905\\pose-estimation\\MousePose-AndreTelfer-2020-05-21\\labeled-data\\Rat 2 LPS 1\\img19331.png\n",
      "Saving frame 19560.0 to C:\\Users\\Owner\\Documents\\repos\\COMP4905\\pose-estimation\\MousePose-AndreTelfer-2020-05-21\\labeled-data\\Rat 2 LPS 1\\img19560.png\n",
      "Saving frame 22567.0 to C:\\Users\\Owner\\Documents\\repos\\COMP4905\\pose-estimation\\MousePose-AndreTelfer-2020-05-21\\labeled-data\\Rat 2 LPS 1\\img22567.png\n",
      "Saving frame 26274.0 to C:\\Users\\Owner\\Documents\\repos\\COMP4905\\pose-estimation\\MousePose-AndreTelfer-2020-05-21\\labeled-data\\Rat 2 LPS 1\\img26274.png\n",
      "Saving frame 26552.0 to C:\\Users\\Owner\\Documents\\repos\\COMP4905\\pose-estimation\\MousePose-AndreTelfer-2020-05-21\\labeled-data\\Rat 2 LPS 1\\img26552.png\n",
      "Saving frame 44582.0 to C:\\Users\\Owner\\Documents\\repos\\COMP4905\\pose-estimation\\MousePose-AndreTelfer-2020-05-21\\labeled-data\\Rat 2 LPS 1\\img44582.png\n",
      "Saving frame 47866.0 to C:\\Users\\Owner\\Documents\\repos\\COMP4905\\pose-estimation\\MousePose-AndreTelfer-2020-05-21\\labeled-data\\Rat 2 LPS 1\\img47866.png\n",
      "Saving frame 52295.0 to C:\\Users\\Owner\\Documents\\repos\\COMP4905\\pose-estimation\\MousePose-AndreTelfer-2020-05-21\\labeled-data\\Rat 2 LPS 1\\img52295.png\n",
      "Saving frame 63124.0 to C:\\Users\\Owner\\Documents\\repos\\COMP4905\\pose-estimation\\MousePose-AndreTelfer-2020-05-21\\labeled-data\\Rat 2 LPS 1\\img63124.png\n",
      "New frames: [1285.0, 5029.0, 14228.0, 16532.0, 18199.0, 25957.0, 32472.0, 33565.0, 38782.0, 41704.0]\n",
      "Saving frame 1285.0 to C:\\Users\\Owner\\Documents\\repos\\COMP4905\\pose-estimation\\MousePose-AndreTelfer-2020-05-21\\labeled-data\\Rat 4 Control 1\\img01285.png\n",
      "Saving frame 5029.0 to C:\\Users\\Owner\\Documents\\repos\\COMP4905\\pose-estimation\\MousePose-AndreTelfer-2020-05-21\\labeled-data\\Rat 4 Control 1\\img05029.png\n",
      "Saving frame 14228.0 to C:\\Users\\Owner\\Documents\\repos\\COMP4905\\pose-estimation\\MousePose-AndreTelfer-2020-05-21\\labeled-data\\Rat 4 Control 1\\img14228.png\n",
      "Saving frame 16532.0 to C:\\Users\\Owner\\Documents\\repos\\COMP4905\\pose-estimation\\MousePose-AndreTelfer-2020-05-21\\labeled-data\\Rat 4 Control 1\\img16532.png\n",
      "Saving frame 18199.0 to C:\\Users\\Owner\\Documents\\repos\\COMP4905\\pose-estimation\\MousePose-AndreTelfer-2020-05-21\\labeled-data\\Rat 4 Control 1\\img18199.png\n",
      "Saving frame 25957.0 to C:\\Users\\Owner\\Documents\\repos\\COMP4905\\pose-estimation\\MousePose-AndreTelfer-2020-05-21\\labeled-data\\Rat 4 Control 1\\img25957.png\n",
      "Saving frame 32472.0 to C:\\Users\\Owner\\Documents\\repos\\COMP4905\\pose-estimation\\MousePose-AndreTelfer-2020-05-21\\labeled-data\\Rat 4 Control 1\\img32472.png\n",
      "Saving frame 33565.0 to C:\\Users\\Owner\\Documents\\repos\\COMP4905\\pose-estimation\\MousePose-AndreTelfer-2020-05-21\\labeled-data\\Rat 4 Control 1\\img33565.png\n",
      "Saving frame 38782.0 to C:\\Users\\Owner\\Documents\\repos\\COMP4905\\pose-estimation\\MousePose-AndreTelfer-2020-05-21\\labeled-data\\Rat 4 Control 1\\img38782.png\n",
      "Saving frame 41704.0 to C:\\Users\\Owner\\Documents\\repos\\COMP4905\\pose-estimation\\MousePose-AndreTelfer-2020-05-21\\labeled-data\\Rat 4 Control 1\\img41704.png\n"
     ]
    }
   ],
   "source": [
    "import cv2\n",
    "import os\n",
    "import numpy as np\n",
    "\n",
    "n_samples = 10\n",
    "labeled_frames = get_labeled_frames()\n",
    "frame_name_format = \"img{}.png\"\n",
    "\n",
    "for video in videos:\n",
    "    cap = cv2.VideoCapture(str(video))\n",
    "    frames = int(cap.get(cv2.CAP_PROP_FRAME_COUNT))\n",
    "    \n",
    "    name, ext = os.path.splitext(video.name)\n",
    "    fixed_points = labeled_frames[name]\n",
    "    \n",
    "    new_frames = np.random.choice(np.arange(frames+1), size=n_samples).astype(np.float32)\n",
    "    new_frames = sorted(new_frames)\n",
    "    \n",
    "    idx = 0\n",
    "    print(f\"\\nNew frames: {new_frames}\")\n",
    "    \n",
    "    for frame_idx in new_frames:\n",
    "        cap.set(cv2.CAP_PROP_POS_FRAMES, frame_idx)\n",
    "        ret, frame = cap.read()\n",
    "        if not ret:\n",
    "            print(f\"Error reading frame {frame_idx}, skipping...\")\n",
    "            continue\n",
    "        padded_idx = str(int(frame_idx)).zfill(math.ceil(np.log(frames)/np.log(10))) # Get the frame index with leading 0s (with enough digits for any frame in video)\n",
    "        file_name = project_path / 'labeled-data' / name / frame_name_format.format(padded_idx)\n",
    "        file_name = str(file_name)\n",
    "        print(f\"Saving frame {frame_idx} to {file_name}\")\n",
    "        cv2.imwrite(file_name, frame)\n",
    "        new_frames = new_frames[1:]\n",
    "    "
   ]
  },
  {
   "cell_type": "markdown",
   "metadata": {},
   "source": [
    "# Test Labeling"
   ]
  },
  {
   "cell_type": "code",
   "execution_count": 378,
   "metadata": {},
   "outputs": [],
   "source": [
    "import deeplabcut\n",
    "\n",
    "deeplabcut.label_frames(project_path / \"config.yaml\")"
   ]
  },
  {
   "cell_type": "markdown",
   "metadata": {},
   "source": []
  },
  {
   "cell_type": "code",
   "execution_count": null,
   "metadata": {},
   "outputs": [],
   "source": []
  }
 ],
 "metadata": {
  "kernelspec": {
   "display_name": "DLC-CPU",
   "language": "python",
   "name": "dlc-cpu"
  },
  "language_info": {
   "codemirror_mode": {
    "name": "ipython",
    "version": 3
   },
   "file_extension": ".py",
   "mimetype": "text/x-python",
   "name": "python",
   "nbconvert_exporter": "python",
   "pygments_lexer": "ipython3",
   "version": "3.7.7"
  }
 },
 "nbformat": 4,
 "nbformat_minor": 2
}
