{
 "cells": [
  {
   "cell_type": "code",
   "execution_count": 1,
   "metadata": {},
   "outputs": [
    {
     "name": "stdout",
     "output_type": "stream",
     "text": [
      "DLC loaded in light mode; you cannot use any GUI (labeling, relabeling and standalone GUI)\n"
     ]
    }
   ],
   "source": [
    "import deeplabcut"
   ]
  },
  {
   "cell_type": "code",
   "execution_count": 2,
   "metadata": {},
   "outputs": [],
   "source": [
    "import os\n",
    "from pathlib import Path\n",
    "\n",
    "project_path = Path(os.getcwd())"
   ]
  },
  {
   "cell_type": "code",
   "execution_count": 10,
   "metadata": {},
   "outputs": [
    {
     "name": "stdout",
     "output_type": "stream",
     "text": [
      "Collecting deeplabcut\n",
      "  Using cached deeplabcut-2.1.8.2-py3-none-any.whl (400 kB)\n",
      "Requirement already satisfied: intel-openmp in /root/miniconda/envs/DLC-GPU/lib/python3.7/site-packages (from deeplabcut) (2020.0.133)\n",
      "Requirement already satisfied: tables in /root/miniconda/envs/DLC-GPU/lib/python3.7/site-packages (from deeplabcut) (3.6.1)\n",
      "Requirement already satisfied: click in /root/miniconda/envs/DLC-GPU/lib/python3.7/site-packages (from deeplabcut) (7.1.2)\n",
      "Requirement already satisfied: wheel in /root/miniconda/envs/DLC-GPU/lib/python3.7/site-packages (from deeplabcut) (0.34.2)\n",
      "Requirement already satisfied: tensorpack>=0.9.7.1 in /root/miniconda/envs/DLC-GPU/lib/python3.7/site-packages (from deeplabcut) (0.10.1)\n",
      "Requirement already satisfied: statsmodels in /root/miniconda/envs/DLC-GPU/lib/python3.7/site-packages (from deeplabcut) (0.11.1)\n",
      "Requirement already satisfied: matplotlib==3.0.3 in /root/miniconda/envs/DLC-GPU/lib/python3.7/site-packages (from deeplabcut) (3.0.3)\n",
      "Requirement already satisfied: numpy==1.16.4 in /root/miniconda/envs/DLC-GPU/lib/python3.7/site-packages (from deeplabcut) (1.16.4)\n",
      "Requirement already satisfied: chardet in /root/miniconda/envs/DLC-GPU/lib/python3.7/site-packages (from deeplabcut) (3.0.4)\n",
      "Requirement already satisfied: ruamel.yaml~=0.15 in /root/miniconda/envs/DLC-GPU/lib/python3.7/site-packages (from deeplabcut) (0.16.10)\n",
      "Requirement already satisfied: ipython in /root/miniconda/envs/DLC-GPU/lib/python3.7/site-packages (from deeplabcut) (7.13.0)\n",
      "Requirement already satisfied: ipython-genutils in /root/miniconda/envs/DLC-GPU/lib/python3.7/site-packages (from deeplabcut) (0.2.0)\n",
      "Requirement already satisfied: patsy in /root/miniconda/envs/DLC-GPU/lib/python3.7/site-packages (from deeplabcut) (0.5.1)\n",
      "Requirement already satisfied: imgaug in /root/miniconda/envs/DLC-GPU/lib/python3.7/site-packages (from deeplabcut) (0.4.0)\n",
      "Requirement already satisfied: opencv-python~=3.4 in /root/miniconda/envs/DLC-GPU/lib/python3.7/site-packages (from deeplabcut) (3.4.9.33)\n",
      "Requirement already satisfied: scikit-learn in /root/miniconda/envs/DLC-GPU/lib/python3.7/site-packages (from deeplabcut) (0.23.1)\n",
      "Requirement already satisfied: moviepy<=1.0.1 in /root/miniconda/envs/DLC-GPU/lib/python3.7/site-packages (from deeplabcut) (1.0.1)\n",
      "Requirement already satisfied: scikit-image in /root/miniconda/envs/DLC-GPU/lib/python3.7/site-packages (from deeplabcut) (0.17.2)\n",
      "Requirement already satisfied: certifi in /root/miniconda/envs/DLC-GPU/lib/python3.7/site-packages (from deeplabcut) (2020.4.5.1)\n",
      "Requirement already satisfied: h5py~=2.7 in /root/miniconda/envs/DLC-GPU/lib/python3.7/site-packages (from deeplabcut) (2.10.0)\n",
      "Requirement already satisfied: scipy in /root/miniconda/envs/DLC-GPU/lib/python3.7/site-packages (from deeplabcut) (1.4.1)\n",
      "Requirement already satisfied: setuptools in /root/miniconda/envs/DLC-GPU/lib/python3.7/site-packages (from deeplabcut) (47.1.1)\n",
      "Requirement already satisfied: requests in /root/miniconda/envs/DLC-GPU/lib/python3.7/site-packages (from deeplabcut) (2.23.0)\n",
      "Requirement already satisfied: python-dateutil in /root/miniconda/envs/DLC-GPU/lib/python3.7/site-packages (from deeplabcut) (2.8.1)\n",
      "Requirement already satisfied: easydict in /root/miniconda/envs/DLC-GPU/lib/python3.7/site-packages (from deeplabcut) (1.9)\n",
      "Requirement already satisfied: pandas>=1.0. in /root/miniconda/envs/DLC-GPU/lib/python3.7/site-packages (from deeplabcut) (1.0.4)\n",
      "Requirement already satisfied: tqdm in /root/miniconda/envs/DLC-GPU/lib/python3.7/site-packages (from deeplabcut) (4.46.1)\n",
      "Requirement already satisfied: pyyaml>=5.1 in /root/miniconda/envs/DLC-GPU/lib/python3.7/site-packages (from deeplabcut) (5.3.1)\n",
      "Requirement already satisfied: six in /root/miniconda/envs/DLC-GPU/lib/python3.7/site-packages (from deeplabcut) (1.15.0)\n",
      "Requirement already satisfied: numexpr>=2.6.2 in /root/miniconda/envs/DLC-GPU/lib/python3.7/site-packages (from tables->deeplabcut) (2.7.1)\n",
      "Requirement already satisfied: psutil>=5 in /root/miniconda/envs/DLC-GPU/lib/python3.7/site-packages (from tensorpack>=0.9.7.1->deeplabcut) (5.7.0)\n",
      "Requirement already satisfied: pyzmq>=16 in /root/miniconda/envs/DLC-GPU/lib/python3.7/site-packages (from tensorpack>=0.9.7.1->deeplabcut) (18.1.1)\n",
      "Requirement already satisfied: msgpack>=0.5.2 in /root/miniconda/envs/DLC-GPU/lib/python3.7/site-packages (from tensorpack>=0.9.7.1->deeplabcut) (1.0.0)\n",
      "Requirement already satisfied: msgpack-numpy>=0.4.4.2 in /root/miniconda/envs/DLC-GPU/lib/python3.7/site-packages (from tensorpack>=0.9.7.1->deeplabcut) (0.4.6.post0)\n",
      "Requirement already satisfied: tabulate>=0.7.7 in /root/miniconda/envs/DLC-GPU/lib/python3.7/site-packages (from tensorpack>=0.9.7.1->deeplabcut) (0.8.7)\n",
      "Requirement already satisfied: termcolor>=1.1 in /root/miniconda/envs/DLC-GPU/lib/python3.7/site-packages (from tensorpack>=0.9.7.1->deeplabcut) (1.1.0)\n",
      "Requirement already satisfied: cycler>=0.10 in /root/miniconda/envs/DLC-GPU/lib/python3.7/site-packages (from matplotlib==3.0.3->deeplabcut) (0.10.0)\n",
      "Requirement already satisfied: pyparsing!=2.0.4,!=2.1.2,!=2.1.6,>=2.0.1 in /root/miniconda/envs/DLC-GPU/lib/python3.7/site-packages (from matplotlib==3.0.3->deeplabcut) (2.4.7)\n",
      "Requirement already satisfied: kiwisolver>=1.0.1 in /root/miniconda/envs/DLC-GPU/lib/python3.7/site-packages (from matplotlib==3.0.3->deeplabcut) (1.2.0)\n",
      "Requirement already satisfied: ruamel.yaml.clib>=0.1.2; platform_python_implementation == \"CPython\" and python_version < \"3.9\" in /root/miniconda/envs/DLC-GPU/lib/python3.7/site-packages (from ruamel.yaml~=0.15->deeplabcut) (0.2.0)\n",
      "Requirement already satisfied: pexpect; sys_platform != \"win32\" in /root/miniconda/envs/DLC-GPU/lib/python3.7/site-packages (from ipython->deeplabcut) (4.8.0)\n",
      "Requirement already satisfied: backcall in /root/miniconda/envs/DLC-GPU/lib/python3.7/site-packages (from ipython->deeplabcut) (0.2.0)\n",
      "Requirement already satisfied: jedi>=0.10 in /root/miniconda/envs/DLC-GPU/lib/python3.7/site-packages (from ipython->deeplabcut) (0.17.0)\n",
      "Requirement already satisfied: prompt-toolkit!=3.0.0,!=3.0.1,<3.1.0,>=2.0.0 in /root/miniconda/envs/DLC-GPU/lib/python3.7/site-packages (from ipython->deeplabcut) (3.0.5)\n",
      "Requirement already satisfied: pygments in /root/miniconda/envs/DLC-GPU/lib/python3.7/site-packages (from ipython->deeplabcut) (2.6.1)\n",
      "Requirement already satisfied: pickleshare in /root/miniconda/envs/DLC-GPU/lib/python3.7/site-packages (from ipython->deeplabcut) (0.7.5)\n",
      "Requirement already satisfied: decorator in /root/miniconda/envs/DLC-GPU/lib/python3.7/site-packages (from ipython->deeplabcut) (4.4.2)\n",
      "Requirement already satisfied: traitlets>=4.2 in /root/miniconda/envs/DLC-GPU/lib/python3.7/site-packages (from ipython->deeplabcut) (4.3.3)\n",
      "Requirement already satisfied: imageio in /root/miniconda/envs/DLC-GPU/lib/python3.7/site-packages (from imgaug->deeplabcut) (2.8.0)\n",
      "Requirement already satisfied: Shapely in /root/miniconda/envs/DLC-GPU/lib/python3.7/site-packages (from imgaug->deeplabcut) (1.7.0)\n",
      "Requirement already satisfied: Pillow in /root/miniconda/envs/DLC-GPU/lib/python3.7/site-packages (from imgaug->deeplabcut) (7.1.2)\n",
      "Requirement already satisfied: threadpoolctl>=2.0.0 in /root/miniconda/envs/DLC-GPU/lib/python3.7/site-packages (from scikit-learn->deeplabcut) (2.1.0)\n",
      "Requirement already satisfied: joblib>=0.11 in /root/miniconda/envs/DLC-GPU/lib/python3.7/site-packages (from scikit-learn->deeplabcut) (0.15.1)\n",
      "Requirement already satisfied: proglog<=1.0.0 in /root/miniconda/envs/DLC-GPU/lib/python3.7/site-packages (from moviepy<=1.0.1->deeplabcut) (0.1.9)\n",
      "Requirement already satisfied: imageio-ffmpeg>=0.2.0; python_version >= \"3.4\" in /root/miniconda/envs/DLC-GPU/lib/python3.7/site-packages (from moviepy<=1.0.1->deeplabcut) (0.4.2)\n",
      "Requirement already satisfied: tifffile>=2019.7.26 in /root/miniconda/envs/DLC-GPU/lib/python3.7/site-packages (from scikit-image->deeplabcut) (2020.6.3)\n",
      "Requirement already satisfied: networkx>=2.0 in /root/miniconda/envs/DLC-GPU/lib/python3.7/site-packages (from scikit-image->deeplabcut) (2.4)\n",
      "Requirement already satisfied: PyWavelets>=1.1.1 in /root/miniconda/envs/DLC-GPU/lib/python3.7/site-packages (from scikit-image->deeplabcut) (1.1.1)\n",
      "Requirement already satisfied: urllib3!=1.25.0,!=1.25.1,<1.26,>=1.21.1 in /root/miniconda/envs/DLC-GPU/lib/python3.7/site-packages (from requests->deeplabcut) (1.25.9)\n",
      "Requirement already satisfied: idna<3,>=2.5 in /root/miniconda/envs/DLC-GPU/lib/python3.7/site-packages (from requests->deeplabcut) (2.9)\n",
      "Requirement already satisfied: pytz>=2017.2 in /root/miniconda/envs/DLC-GPU/lib/python3.7/site-packages (from pandas>=1.0.->deeplabcut) (2020.1)\n",
      "Requirement already satisfied: ptyprocess>=0.5 in /root/miniconda/envs/DLC-GPU/lib/python3.7/site-packages (from pexpect; sys_platform != \"win32\"->ipython->deeplabcut) (0.6.0)\n",
      "Requirement already satisfied: parso>=0.7.0 in /root/miniconda/envs/DLC-GPU/lib/python3.7/site-packages (from jedi>=0.10->ipython->deeplabcut) (0.7.0)\n",
      "Requirement already satisfied: wcwidth in /root/miniconda/envs/DLC-GPU/lib/python3.7/site-packages (from prompt-toolkit!=3.0.0,!=3.0.1,<3.1.0,>=2.0.0->ipython->deeplabcut) (0.2.4)\n",
      "Installing collected packages: deeplabcut\n",
      "Successfully installed deeplabcut-2.1.8.2\n",
      "\n"
     ]
    }
   ],
   "source": [
    "! conda run -n \"DLC-GPU\" pip install deeplabcut"
   ]
  },
  {
   "cell_type": "code",
   "execution_count": 14,
   "metadata": {},
   "outputs": [],
   "source": [
    "! sed -i 's/pd.concat(AnnotationData).sort_index()/AnnotationData = AnnotationData/g' ~/miniconda/envs/DLC-GPU/lib/python3.7/site-packages/deeplabcut/generate_training_dataset/trainingsetmanipulation.py"
   ]
  },
  {
   "cell_type": "code",
   "execution_count": 26,
   "metadata": {},
   "outputs": [],
   "source": [
    "! rm labeled-data/duplicate"
   ]
  },
  {
   "cell_type": "code",
   "execution_count": 3,
   "metadata": {},
   "outputs": [
    {
     "name": "stdout",
     "output_type": "stream",
     "text": [
      "/storage/repos/Mouse-Emotion-Video-Classification/pose-estimation/Darknet-MousePose-AndreTelfer-2020-06-09/training-datasets/iteration-0/UnaugmentedDataSet_Darknet-MousePoseJun9  already exists!\n",
      "/storage/repos/Mouse-Emotion-Video-Classification/pose-estimation/Darknet-MousePose-AndreTelfer-2020-06-09/labeled-data/..\\videos\\Rat 2 LPS 1/CollectedData_AndreTelfer.h5  not found (perhaps not annotated)\n",
      "Annotation data was not found by splitting video paths (from config['video_sets']). An alternative route is taken...\n",
      "The following folders were found: ['2020-06-07']\n",
      "It appears that the images were labeled on a Windows system, but you are currently trying to create a training set on a Unix system. \n",
      " In this case the paths should be converted. Do you want to proceed with the conversion?\n"
     ]
    },
    {
     "name": "stdin",
     "output_type": "stream",
     "text": [
      "yes/no yes\n"
     ]
    },
    {
     "name": "stdout",
     "output_type": "stream",
     "text": [
      "Annotation data converted to unix format...\n",
      "Downloading a ImageNet-pretrained model from http://download.tensorflow.org/models/resnet_v1_50_2016_08_28.tar.gz....\n",
      "The training dataset is successfully created. Use the function 'train_network' to start training. Happy training!\n"
     ]
    },
    {
     "data": {
      "text/plain": [
       "[(0.95,\n",
       "  1,\n",
       "  (array([112,  41,  79,  24,  12, 118, 113,  20,  35,  38,  83, 143, 101,\n",
       "           29,  45,  84,  26, 121, 103,  70, 122,  99,  60,  17, 137,  32,\n",
       "           56,  37,  66, 135, 147, 111, 120, 126,  30, 130,  94,  52, 110,\n",
       "           43,  98,  63,  23,   0, 138,  77, 128, 102,  14,  13, 115,  59,\n",
       "          144, 123,  44,   9,  10,   8,  86,  87, 116,  72,  92,  80,  19,\n",
       "           78,  53, 146,  27, 124, 139, 114,  74, 132,  42,  68,  96,  47,\n",
       "          131, 136, 119,  61,  34, 129,  88,  81,   3,  90, 106,  85,  31,\n",
       "           58,  25,  50,  91,  73,  93, 140,  82,  65,   5,  62, 125,  11,\n",
       "           51, 109,  21, 100,  76,  33,  18,  69, 127,  71,  40, 145,  46,\n",
       "           15,   7,  39, 141, 105,  89,  57,   6,  49,   1, 108,  95,  54,\n",
       "            4,  22,  55,  16,  97,  48,  75,   2,  64, 117]),\n",
       "   array([104,  36,  67,  28, 134, 133, 142, 107])))]"
      ]
     },
     "execution_count": 3,
     "metadata": {},
     "output_type": "execute_result"
    }
   ],
   "source": [
    "deeplabcut.create_training_dataset(project_path / 'config.yaml')"
   ]
  },
  {
   "cell_type": "code",
   "execution_count": 5,
   "metadata": {},
   "outputs": [
    {
     "name": "stderr",
     "output_type": "stream",
     "text": [
      "Config:\n",
      "{'all_joints': [[0],\n",
      "                [1],\n",
      "                [2],\n",
      "                [3],\n",
      "                [4],\n",
      "                [5],\n",
      "                [6],\n",
      "                [7],\n",
      "                [8],\n",
      "                [9],\n",
      "                [10],\n",
      "                [11],\n",
      "                [12],\n",
      "                [13],\n",
      "                [14],\n",
      "                [15]],\n",
      " 'all_joints_names': ['nose',\n",
      "                      'left-ear',\n",
      "                      'right-ear',\n",
      "                      'left-eye-top',\n",
      "                      'left-eye-bottom',\n",
      "                      'left-eye-front',\n",
      "                      'left-eye-back',\n",
      "                      'right-eye-top',\n",
      "                      'right-eye-bottom',\n",
      "                      'right-eye-front',\n",
      "                      'right-eye-back',\n",
      "                      'tail-base',\n",
      "                      'left-rear-paw',\n",
      "                      'right-rear-paw',\n",
      "                      'left-front-paw',\n",
      "                      'right-front-paw'],\n",
      " 'batch_size': 1,\n",
      " 'bottomheight': 400,\n",
      " 'crop': True,\n",
      " 'crop_pad': 0,\n",
      " 'cropratio': 0.4,\n",
      " 'dataset': 'training-datasets/iteration-0/UnaugmentedDataSet_Darknet-MousePoseJun9/Darknet-MousePose_AndreTelfer95shuffle1.mat',\n",
      " 'dataset_type': 'default',\n",
      " 'deconvolutionstride': 2,\n",
      " 'deterministic': False,\n",
      " 'display_iters': 1000,\n",
      " 'fg_fraction': 0.25,\n",
      " 'global_scale': 0.8,\n",
      " 'init_weights': '/root/miniconda/envs/DLC-GPU/lib/python3.7/site-packages/deeplabcut/pose_estimation_tensorflow/models/pretrained/resnet_v1_50.ckpt',\n",
      " 'intermediate_supervision': False,\n",
      " 'intermediate_supervision_layer': 12,\n",
      " 'leftwidth': 400,\n",
      " 'location_refinement': True,\n",
      " 'locref_huber_loss': True,\n",
      " 'locref_loss_weight': 0.05,\n",
      " 'locref_stdev': 7.2801,\n",
      " 'log_dir': 'log',\n",
      " 'max_input_size': 1500,\n",
      " 'mean_pixel': [123.68, 116.779, 103.939],\n",
      " 'metadataset': 'training-datasets/iteration-0/UnaugmentedDataSet_Darknet-MousePoseJun9/Documentation_data-Darknet-MousePose_95shuffle1.pickle',\n",
      " 'min_input_size': 64,\n",
      " 'minsize': 100,\n",
      " 'mirror': False,\n",
      " 'multi_step': [[0.005, 10000],\n",
      "                [0.02, 430000],\n",
      "                [0.002, 730000],\n",
      "                [0.001, 1030000]],\n",
      " 'net_type': 'resnet_50',\n",
      " 'num_joints': 16,\n",
      " 'optimizer': 'sgd',\n",
      " 'output_stride': 16,\n",
      " 'pos_dist_thresh': 17,\n",
      " 'project_path': '/storage/repos/Mouse-Emotion-Video-Classification/pose-estimation/Darknet-MousePose-AndreTelfer-2020-06-09/',\n",
      " 'regularize': False,\n",
      " 'rightwidth': 400,\n",
      " 'save_iters': 50000,\n",
      " 'scale_jitter_lo': 0.5,\n",
      " 'scale_jitter_up': 1.25,\n",
      " 'scoremap_dir': 'test',\n",
      " 'shuffle': True,\n",
      " 'snapshot_prefix': '/storage/repos/Mouse-Emotion-Video-Classification/pose-estimation/Darknet-MousePose-AndreTelfer-2020-06-09/dlc-models/iteration-0/Darknet-MousePoseJun9-trainset95shuffle1/train/snapshot',\n",
      " 'stride': 8.0,\n",
      " 'topheight': 400,\n",
      " 'weigh_negatives': False,\n",
      " 'weigh_only_present_joints': False,\n",
      " 'weigh_part_predictions': False,\n",
      " 'weight_decay': 0.0001}\n"
     ]
    },
    {
     "name": "stdout",
     "output_type": "stream",
     "text": [
      "Switching batchsize to 1, as default/tensorpack/deterministic loaders do not support batches >1. Use imgaug loader.\n",
      "Starting with standard pose-dataset loader.\n",
      "Initializing ResNet\n",
      "Loading ImageNet-pretrained resnet_50\n",
      "INFO:tensorflow:Restoring parameters from /root/miniconda/envs/DLC-GPU/lib/python3.7/site-packages/deeplabcut/pose_estimation_tensorflow/models/pretrained/resnet_v1_50.ckpt\n",
      "Training parameter:\n",
      "{'stride': 8.0, 'weigh_part_predictions': False, 'weigh_negatives': False, 'fg_fraction': 0.25, 'weigh_only_present_joints': False, 'mean_pixel': [123.68, 116.779, 103.939], 'shuffle': True, 'snapshot_prefix': '/storage/repos/Mouse-Emotion-Video-Classification/pose-estimation/Darknet-MousePose-AndreTelfer-2020-06-09/dlc-models/iteration-0/Darknet-MousePoseJun9-trainset95shuffle1/train/snapshot', 'log_dir': 'log', 'global_scale': 0.8, 'location_refinement': True, 'locref_stdev': 7.2801, 'locref_loss_weight': 0.05, 'locref_huber_loss': True, 'optimizer': 'sgd', 'intermediate_supervision': False, 'intermediate_supervision_layer': 12, 'regularize': False, 'weight_decay': 0.0001, 'mirror': False, 'crop_pad': 0, 'scoremap_dir': 'test', 'batch_size': 1, 'dataset_type': 'default', 'deterministic': False, 'crop': True, 'cropratio': 0.4, 'minsize': 100, 'leftwidth': 400, 'rightwidth': 400, 'topheight': 400, 'bottomheight': 400, 'all_joints': [[0], [1], [2], [3], [4], [5], [6], [7], [8], [9], [10], [11], [12], [13], [14], [15]], 'all_joints_names': ['nose', 'left-ear', 'right-ear', 'left-eye-top', 'left-eye-bottom', 'left-eye-front', 'left-eye-back', 'right-eye-top', 'right-eye-bottom', 'right-eye-front', 'right-eye-back', 'tail-base', 'left-rear-paw', 'right-rear-paw', 'left-front-paw', 'right-front-paw'], 'dataset': 'training-datasets/iteration-0/UnaugmentedDataSet_Darknet-MousePoseJun9/Darknet-MousePose_AndreTelfer95shuffle1.mat', 'display_iters': 1000, 'init_weights': '/root/miniconda/envs/DLC-GPU/lib/python3.7/site-packages/deeplabcut/pose_estimation_tensorflow/models/pretrained/resnet_v1_50.ckpt', 'max_input_size': 1500, 'metadataset': 'training-datasets/iteration-0/UnaugmentedDataSet_Darknet-MousePoseJun9/Documentation_data-Darknet-MousePose_95shuffle1.pickle', 'min_input_size': 64, 'multi_step': [[0.005, 10000], [0.02, 430000], [0.002, 730000], [0.001, 1030000]], 'net_type': 'resnet_50', 'num_joints': 16, 'pos_dist_thresh': 17, 'project_path': '/storage/repos/Mouse-Emotion-Video-Classification/pose-estimation/Darknet-MousePose-AndreTelfer-2020-06-09/', 'save_iters': 50000, 'scale_jitter_lo': 0.5, 'scale_jitter_up': 1.25, 'output_stride': 16, 'deconvolutionstride': 2}\n",
      "Starting training....\n"
     ]
    },
    {
     "ename": "UnknownError",
     "evalue": "Failed to get convolution algorithm. This is probably because cuDNN failed to initialize, so try looking to see if a warning log message was printed above.\n\t [[node resnet_v1_50/conv1/Conv2D (defined at /root/miniconda/envs/DLC-GPU/lib/python3.7/site-packages/deeplabcut/pose_estimation_tensorflow/nnet/pose_net.py:52) ]]\n\t [[node sigmoid_cross_entropy_loss/value (defined at /root/miniconda/envs/DLC-GPU/lib/python3.7/site-packages/deeplabcut/pose_estimation_tensorflow/nnet/pose_net.py:162) ]]\n\nCaused by op 'resnet_v1_50/conv1/Conv2D', defined at:\n  File \"/root/miniconda/envs/DLC-GPU/lib/python3.7/runpy.py\", line 193, in _run_module_as_main\n    \"__main__\", mod_spec)\n  File \"/root/miniconda/envs/DLC-GPU/lib/python3.7/runpy.py\", line 85, in _run_code\n    exec(code, run_globals)\n  File \"/root/miniconda/envs/DLC-GPU/lib/python3.7/site-packages/ipykernel_launcher.py\", line 16, in <module>\n    app.launch_new_instance()\n  File \"/root/miniconda/envs/DLC-GPU/lib/python3.7/site-packages/traitlets/config/application.py\", line 664, in launch_instance\n    app.start()\n  File \"/root/miniconda/envs/DLC-GPU/lib/python3.7/site-packages/ipykernel/kernelapp.py\", line 583, in start\n    self.io_loop.start()\n  File \"/root/miniconda/envs/DLC-GPU/lib/python3.7/site-packages/tornado/platform/asyncio.py\", line 149, in start\n    self.asyncio_loop.run_forever()\n  File \"/root/miniconda/envs/DLC-GPU/lib/python3.7/asyncio/base_events.py\", line 541, in run_forever\n    self._run_once()\n  File \"/root/miniconda/envs/DLC-GPU/lib/python3.7/asyncio/base_events.py\", line 1786, in _run_once\n    handle._run()\n  File \"/root/miniconda/envs/DLC-GPU/lib/python3.7/asyncio/events.py\", line 88, in _run\n    self._context.run(self._callback, *self._args)\n  File \"/root/miniconda/envs/DLC-GPU/lib/python3.7/site-packages/tornado/ioloop.py\", line 690, in <lambda>\n    lambda f: self._run_callback(functools.partial(callback, future))\n  File \"/root/miniconda/envs/DLC-GPU/lib/python3.7/site-packages/tornado/ioloop.py\", line 743, in _run_callback\n    ret = callback()\n  File \"/root/miniconda/envs/DLC-GPU/lib/python3.7/site-packages/tornado/gen.py\", line 787, in inner\n    self.run()\n  File \"/root/miniconda/envs/DLC-GPU/lib/python3.7/site-packages/tornado/gen.py\", line 748, in run\n    yielded = self.gen.send(value)\n  File \"/root/miniconda/envs/DLC-GPU/lib/python3.7/site-packages/ipykernel/kernelbase.py\", line 361, in process_one\n    yield gen.maybe_future(dispatch(*args))\n  File \"/root/miniconda/envs/DLC-GPU/lib/python3.7/site-packages/tornado/gen.py\", line 209, in wrapper\n    yielded = next(result)\n  File \"/root/miniconda/envs/DLC-GPU/lib/python3.7/site-packages/ipykernel/kernelbase.py\", line 268, in dispatch_shell\n    yield gen.maybe_future(handler(stream, idents, msg))\n  File \"/root/miniconda/envs/DLC-GPU/lib/python3.7/site-packages/tornado/gen.py\", line 209, in wrapper\n    yielded = next(result)\n  File \"/root/miniconda/envs/DLC-GPU/lib/python3.7/site-packages/ipykernel/kernelbase.py\", line 541, in execute_request\n    user_expressions, allow_stdin,\n  File \"/root/miniconda/envs/DLC-GPU/lib/python3.7/site-packages/tornado/gen.py\", line 209, in wrapper\n    yielded = next(result)\n  File \"/root/miniconda/envs/DLC-GPU/lib/python3.7/site-packages/ipykernel/ipkernel.py\", line 300, in do_execute\n    res = shell.run_cell(code, store_history=store_history, silent=silent)\n  File \"/root/miniconda/envs/DLC-GPU/lib/python3.7/site-packages/ipykernel/zmqshell.py\", line 536, in run_cell\n    return super(ZMQInteractiveShell, self).run_cell(*args, **kwargs)\n  File \"/root/miniconda/envs/DLC-GPU/lib/python3.7/site-packages/IPython/core/interactiveshell.py\", line 2858, in run_cell\n    raw_cell, store_history, silent, shell_futures)\n  File \"/root/miniconda/envs/DLC-GPU/lib/python3.7/site-packages/IPython/core/interactiveshell.py\", line 2886, in _run_cell\n    return runner(coro)\n  File \"/root/miniconda/envs/DLC-GPU/lib/python3.7/site-packages/IPython/core/async_helpers.py\", line 68, in _pseudo_sync_runner\n    coro.send(None)\n  File \"/root/miniconda/envs/DLC-GPU/lib/python3.7/site-packages/IPython/core/interactiveshell.py\", line 3063, in run_cell_async\n    interactivity=interactivity, compiler=compiler, result=result)\n  File \"/root/miniconda/envs/DLC-GPU/lib/python3.7/site-packages/IPython/core/interactiveshell.py\", line 3254, in run_ast_nodes\n    if (await self.run_code(code, result,  async_=asy)):\n  File \"/root/miniconda/envs/DLC-GPU/lib/python3.7/site-packages/IPython/core/interactiveshell.py\", line 3331, in run_code\n    exec(code_obj, self.user_global_ns, self.user_ns)\n  File \"<ipython-input-5-dbbe8e95d8d6>\", line 1, in <module>\n    deeplabcut.train_network(project_path / 'config.yaml')\n  File \"/root/miniconda/envs/DLC-GPU/lib/python3.7/site-packages/deeplabcut/pose_estimation_tensorflow/training.py\", line 132, in train_network\n    train(str(poseconfigfile),displayiters,saveiters,maxiters,max_to_keep=max_snapshots_to_keep,keepdeconvweights=keepdeconvweights,allow_growth=allow_growth) #pass on path and file name for pose_cfg.yaml!\n  File \"/root/miniconda/envs/DLC-GPU/lib/python3.7/site-packages/deeplabcut/pose_estimation_tensorflow/train.py\", line 119, in train\n    losses = pose_net(cfg).train(batch)\n  File \"/root/miniconda/envs/DLC-GPU/lib/python3.7/site-packages/deeplabcut/pose_estimation_tensorflow/nnet/pose_net.py\", line 154, in train\n    heads = self.get_net(batch[Batch.inputs])\n  File \"/root/miniconda/envs/DLC-GPU/lib/python3.7/site-packages/deeplabcut/pose_estimation_tensorflow/nnet/pose_net.py\", line 81, in get_net\n    net, end_points = self.extract_features(inputs)\n  File \"/root/miniconda/envs/DLC-GPU/lib/python3.7/site-packages/deeplabcut/pose_estimation_tensorflow/nnet/pose_net.py\", line 52, in extract_features\n    global_pool=False, output_stride=self.cfg.output_stride,is_training=False)\n  File \"/root/miniconda/envs/DLC-GPU/lib/python3.7/site-packages/tensorflow/contrib/slim/python/slim/nets/resnet_v1.py\", line 274, in resnet_v1_50\n    scope=scope)\n  File \"/root/miniconda/envs/DLC-GPU/lib/python3.7/site-packages/tensorflow/contrib/slim/python/slim/nets/resnet_v1.py\", line 205, in resnet_v1\n    net = resnet_utils.conv2d_same(net, 64, 7, stride=2, scope='conv1')\n  File \"/root/miniconda/envs/DLC-GPU/lib/python3.7/site-packages/tensorflow/contrib/slim/python/slim/nets/resnet_utils.py\", line 146, in conv2d_same\n    scope=scope)\n  File \"/root/miniconda/envs/DLC-GPU/lib/python3.7/site-packages/tensorflow/contrib/framework/python/ops/arg_scope.py\", line 182, in func_with_args\n    return func(*args, **current_args)\n  File \"/root/miniconda/envs/DLC-GPU/lib/python3.7/site-packages/tensorflow/contrib/layers/python/layers/layers.py\", line 1155, in convolution2d\n    conv_dims=2)\n  File \"/root/miniconda/envs/DLC-GPU/lib/python3.7/site-packages/tensorflow/contrib/framework/python/ops/arg_scope.py\", line 182, in func_with_args\n    return func(*args, **current_args)\n  File \"/root/miniconda/envs/DLC-GPU/lib/python3.7/site-packages/tensorflow/contrib/layers/python/layers/layers.py\", line 1058, in convolution\n    outputs = layer.apply(inputs)\n  File \"/root/miniconda/envs/DLC-GPU/lib/python3.7/site-packages/tensorflow/python/keras/engine/base_layer.py\", line 1227, in apply\n    return self.__call__(inputs, *args, **kwargs)\n  File \"/root/miniconda/envs/DLC-GPU/lib/python3.7/site-packages/tensorflow/python/layers/base.py\", line 530, in __call__\n    outputs = super(Layer, self).__call__(inputs, *args, **kwargs)\n  File \"/root/miniconda/envs/DLC-GPU/lib/python3.7/site-packages/tensorflow/python/keras/engine/base_layer.py\", line 554, in __call__\n    outputs = self.call(inputs, *args, **kwargs)\n  File \"/root/miniconda/envs/DLC-GPU/lib/python3.7/site-packages/tensorflow/python/keras/layers/convolutional.py\", line 194, in call\n    outputs = self._convolution_op(inputs, self.kernel)\n  File \"/root/miniconda/envs/DLC-GPU/lib/python3.7/site-packages/tensorflow/python/ops/nn_ops.py\", line 966, in __call__\n    return self.conv_op(inp, filter)\n  File \"/root/miniconda/envs/DLC-GPU/lib/python3.7/site-packages/tensorflow/python/ops/nn_ops.py\", line 591, in __call__\n    return self.call(inp, filter)\n  File \"/root/miniconda/envs/DLC-GPU/lib/python3.7/site-packages/tensorflow/python/ops/nn_ops.py\", line 208, in __call__\n    name=self.name)\n  File \"/root/miniconda/envs/DLC-GPU/lib/python3.7/site-packages/tensorflow/python/ops/gen_nn_ops.py\", line 1026, in conv2d\n    data_format=data_format, dilations=dilations, name=name)\n  File \"/root/miniconda/envs/DLC-GPU/lib/python3.7/site-packages/tensorflow/python/framework/op_def_library.py\", line 788, in _apply_op_helper\n    op_def=op_def)\n  File \"/root/miniconda/envs/DLC-GPU/lib/python3.7/site-packages/tensorflow/python/util/deprecation.py\", line 507, in new_func\n    return func(*args, **kwargs)\n  File \"/root/miniconda/envs/DLC-GPU/lib/python3.7/site-packages/tensorflow/python/framework/ops.py\", line 3300, in create_op\n    op_def=op_def)\n  File \"/root/miniconda/envs/DLC-GPU/lib/python3.7/site-packages/tensorflow/python/framework/ops.py\", line 1801, in __init__\n    self._traceback = tf_stack.extract_stack()\n\nUnknownError (see above for traceback): Failed to get convolution algorithm. This is probably because cuDNN failed to initialize, so try looking to see if a warning log message was printed above.\n\t [[node resnet_v1_50/conv1/Conv2D (defined at /root/miniconda/envs/DLC-GPU/lib/python3.7/site-packages/deeplabcut/pose_estimation_tensorflow/nnet/pose_net.py:52) ]]\n\t [[node sigmoid_cross_entropy_loss/value (defined at /root/miniconda/envs/DLC-GPU/lib/python3.7/site-packages/deeplabcut/pose_estimation_tensorflow/nnet/pose_net.py:162) ]]\n",
     "output_type": "error",
     "traceback": [
      "\u001b[0;31m---------------------------------------------------------------------------\u001b[0m",
      "\u001b[0;31mUnknownError\u001b[0m                              Traceback (most recent call last)",
      "\u001b[0;32m~/miniconda/envs/DLC-GPU/lib/python3.7/site-packages/tensorflow/python/client/session.py\u001b[0m in \u001b[0;36m_do_call\u001b[0;34m(self, fn, *args)\u001b[0m\n\u001b[1;32m   1333\u001b[0m     \u001b[0;32mtry\u001b[0m\u001b[0;34m:\u001b[0m\u001b[0;34m\u001b[0m\u001b[0;34m\u001b[0m\u001b[0m\n\u001b[0;32m-> 1334\u001b[0;31m       \u001b[0;32mreturn\u001b[0m \u001b[0mfn\u001b[0m\u001b[0;34m(\u001b[0m\u001b[0;34m*\u001b[0m\u001b[0margs\u001b[0m\u001b[0;34m)\u001b[0m\u001b[0;34m\u001b[0m\u001b[0;34m\u001b[0m\u001b[0m\n\u001b[0m\u001b[1;32m   1335\u001b[0m     \u001b[0;32mexcept\u001b[0m \u001b[0merrors\u001b[0m\u001b[0;34m.\u001b[0m\u001b[0mOpError\u001b[0m \u001b[0;32mas\u001b[0m \u001b[0me\u001b[0m\u001b[0;34m:\u001b[0m\u001b[0;34m\u001b[0m\u001b[0;34m\u001b[0m\u001b[0m\n",
      "\u001b[0;32m~/miniconda/envs/DLC-GPU/lib/python3.7/site-packages/tensorflow/python/client/session.py\u001b[0m in \u001b[0;36m_run_fn\u001b[0;34m(feed_dict, fetch_list, target_list, options, run_metadata)\u001b[0m\n\u001b[1;32m   1318\u001b[0m       return self._call_tf_sessionrun(\n\u001b[0;32m-> 1319\u001b[0;31m           options, feed_dict, fetch_list, target_list, run_metadata)\n\u001b[0m\u001b[1;32m   1320\u001b[0m \u001b[0;34m\u001b[0m\u001b[0m\n",
      "\u001b[0;32m~/miniconda/envs/DLC-GPU/lib/python3.7/site-packages/tensorflow/python/client/session.py\u001b[0m in \u001b[0;36m_call_tf_sessionrun\u001b[0;34m(self, options, feed_dict, fetch_list, target_list, run_metadata)\u001b[0m\n\u001b[1;32m   1406\u001b[0m         \u001b[0mself\u001b[0m\u001b[0;34m.\u001b[0m\u001b[0m_session\u001b[0m\u001b[0;34m,\u001b[0m \u001b[0moptions\u001b[0m\u001b[0;34m,\u001b[0m \u001b[0mfeed_dict\u001b[0m\u001b[0;34m,\u001b[0m \u001b[0mfetch_list\u001b[0m\u001b[0;34m,\u001b[0m \u001b[0mtarget_list\u001b[0m\u001b[0;34m,\u001b[0m\u001b[0;34m\u001b[0m\u001b[0;34m\u001b[0m\u001b[0m\n\u001b[0;32m-> 1407\u001b[0;31m         run_metadata)\n\u001b[0m\u001b[1;32m   1408\u001b[0m \u001b[0;34m\u001b[0m\u001b[0m\n",
      "\u001b[0;31mUnknownError\u001b[0m: Failed to get convolution algorithm. This is probably because cuDNN failed to initialize, so try looking to see if a warning log message was printed above.\n\t [[{{node resnet_v1_50/conv1/Conv2D}}]]\n\t [[{{node sigmoid_cross_entropy_loss/value}}]]",
      "\nDuring handling of the above exception, another exception occurred:\n",
      "\u001b[0;31mUnknownError\u001b[0m                              Traceback (most recent call last)",
      "\u001b[0;32m<ipython-input-5-dbbe8e95d8d6>\u001b[0m in \u001b[0;36m<module>\u001b[0;34m\u001b[0m\n\u001b[0;32m----> 1\u001b[0;31m \u001b[0mdeeplabcut\u001b[0m\u001b[0;34m.\u001b[0m\u001b[0mtrain_network\u001b[0m\u001b[0;34m(\u001b[0m\u001b[0mproject_path\u001b[0m \u001b[0;34m/\u001b[0m \u001b[0;34m'config.yaml'\u001b[0m\u001b[0;34m)\u001b[0m\u001b[0;34m\u001b[0m\u001b[0;34m\u001b[0m\u001b[0m\n\u001b[0m",
      "\u001b[0;32m~/miniconda/envs/DLC-GPU/lib/python3.7/site-packages/deeplabcut/pose_estimation_tensorflow/training.py\u001b[0m in \u001b[0;36mtrain_network\u001b[0;34m(config, shuffle, trainingsetindex, max_snapshots_to_keep, displayiters, saveiters, maxiters, allow_growth, gputouse, autotune, keepdeconvweights)\u001b[0m\n\u001b[1;32m    132\u001b[0m         \u001b[0mtrain\u001b[0m\u001b[0;34m(\u001b[0m\u001b[0mstr\u001b[0m\u001b[0;34m(\u001b[0m\u001b[0mposeconfigfile\u001b[0m\u001b[0;34m)\u001b[0m\u001b[0;34m,\u001b[0m\u001b[0mdisplayiters\u001b[0m\u001b[0;34m,\u001b[0m\u001b[0msaveiters\u001b[0m\u001b[0;34m,\u001b[0m\u001b[0mmaxiters\u001b[0m\u001b[0;34m,\u001b[0m\u001b[0mmax_to_keep\u001b[0m\u001b[0;34m=\u001b[0m\u001b[0mmax_snapshots_to_keep\u001b[0m\u001b[0;34m,\u001b[0m\u001b[0mkeepdeconvweights\u001b[0m\u001b[0;34m=\u001b[0m\u001b[0mkeepdeconvweights\u001b[0m\u001b[0;34m,\u001b[0m\u001b[0mallow_growth\u001b[0m\u001b[0;34m=\u001b[0m\u001b[0mallow_growth\u001b[0m\u001b[0;34m)\u001b[0m \u001b[0;31m#pass on path and file name for pose_cfg.yaml!\u001b[0m\u001b[0;34m\u001b[0m\u001b[0;34m\u001b[0m\u001b[0m\n\u001b[1;32m    133\u001b[0m     \u001b[0;32mexcept\u001b[0m \u001b[0mBaseException\u001b[0m \u001b[0;32mas\u001b[0m \u001b[0me\u001b[0m\u001b[0;34m:\u001b[0m\u001b[0;34m\u001b[0m\u001b[0;34m\u001b[0m\u001b[0m\n\u001b[0;32m--> 134\u001b[0;31m         \u001b[0;32mraise\u001b[0m \u001b[0me\u001b[0m\u001b[0;34m\u001b[0m\u001b[0;34m\u001b[0m\u001b[0m\n\u001b[0m\u001b[1;32m    135\u001b[0m     \u001b[0;32mfinally\u001b[0m\u001b[0;34m:\u001b[0m\u001b[0;34m\u001b[0m\u001b[0;34m\u001b[0m\u001b[0m\n\u001b[1;32m    136\u001b[0m         \u001b[0mos\u001b[0m\u001b[0;34m.\u001b[0m\u001b[0mchdir\u001b[0m\u001b[0;34m(\u001b[0m\u001b[0mstr\u001b[0m\u001b[0;34m(\u001b[0m\u001b[0mstart_path\u001b[0m\u001b[0;34m)\u001b[0m\u001b[0;34m)\u001b[0m\u001b[0;34m\u001b[0m\u001b[0;34m\u001b[0m\u001b[0m\n",
      "\u001b[0;32m~/miniconda/envs/DLC-GPU/lib/python3.7/site-packages/deeplabcut/pose_estimation_tensorflow/training.py\u001b[0m in \u001b[0;36mtrain_network\u001b[0;34m(config, shuffle, trainingsetindex, max_snapshots_to_keep, displayiters, saveiters, maxiters, allow_growth, gputouse, autotune, keepdeconvweights)\u001b[0m\n\u001b[1;32m    130\u001b[0m             \u001b[0mos\u001b[0m\u001b[0;34m.\u001b[0m\u001b[0menviron\u001b[0m\u001b[0;34m[\u001b[0m\u001b[0;34m'CUDA_VISIBLE_DEVICES'\u001b[0m\u001b[0;34m]\u001b[0m \u001b[0;34m=\u001b[0m \u001b[0mstr\u001b[0m\u001b[0;34m(\u001b[0m\u001b[0mgputouse\u001b[0m\u001b[0;34m)\u001b[0m\u001b[0;34m\u001b[0m\u001b[0;34m\u001b[0m\u001b[0m\n\u001b[1;32m    131\u001b[0m     \u001b[0;32mtry\u001b[0m\u001b[0;34m:\u001b[0m\u001b[0;34m\u001b[0m\u001b[0;34m\u001b[0m\u001b[0m\n\u001b[0;32m--> 132\u001b[0;31m         \u001b[0mtrain\u001b[0m\u001b[0;34m(\u001b[0m\u001b[0mstr\u001b[0m\u001b[0;34m(\u001b[0m\u001b[0mposeconfigfile\u001b[0m\u001b[0;34m)\u001b[0m\u001b[0;34m,\u001b[0m\u001b[0mdisplayiters\u001b[0m\u001b[0;34m,\u001b[0m\u001b[0msaveiters\u001b[0m\u001b[0;34m,\u001b[0m\u001b[0mmaxiters\u001b[0m\u001b[0;34m,\u001b[0m\u001b[0mmax_to_keep\u001b[0m\u001b[0;34m=\u001b[0m\u001b[0mmax_snapshots_to_keep\u001b[0m\u001b[0;34m,\u001b[0m\u001b[0mkeepdeconvweights\u001b[0m\u001b[0;34m=\u001b[0m\u001b[0mkeepdeconvweights\u001b[0m\u001b[0;34m,\u001b[0m\u001b[0mallow_growth\u001b[0m\u001b[0;34m=\u001b[0m\u001b[0mallow_growth\u001b[0m\u001b[0;34m)\u001b[0m \u001b[0;31m#pass on path and file name for pose_cfg.yaml!\u001b[0m\u001b[0;34m\u001b[0m\u001b[0;34m\u001b[0m\u001b[0m\n\u001b[0m\u001b[1;32m    133\u001b[0m     \u001b[0;32mexcept\u001b[0m \u001b[0mBaseException\u001b[0m \u001b[0;32mas\u001b[0m \u001b[0me\u001b[0m\u001b[0;34m:\u001b[0m\u001b[0;34m\u001b[0m\u001b[0;34m\u001b[0m\u001b[0m\n\u001b[1;32m    134\u001b[0m         \u001b[0;32mraise\u001b[0m \u001b[0me\u001b[0m\u001b[0;34m\u001b[0m\u001b[0;34m\u001b[0m\u001b[0m\n",
      "\u001b[0;32m~/miniconda/envs/DLC-GPU/lib/python3.7/site-packages/deeplabcut/pose_estimation_tensorflow/train.py\u001b[0m in \u001b[0;36mtrain\u001b[0;34m(config_yaml, displayiters, saveiters, maxiters, max_to_keep, keepdeconvweights, allow_growth)\u001b[0m\n\u001b[1;32m    188\u001b[0m         \u001b[0mcurrent_lr\u001b[0m \u001b[0;34m=\u001b[0m \u001b[0mlr_gen\u001b[0m\u001b[0;34m.\u001b[0m\u001b[0mget_lr\u001b[0m\u001b[0;34m(\u001b[0m\u001b[0mit\u001b[0m\u001b[0;34m)\u001b[0m\u001b[0;34m\u001b[0m\u001b[0;34m\u001b[0m\u001b[0m\n\u001b[1;32m    189\u001b[0m         [_, loss_val, summary] = sess.run([train_op, total_loss, merged_summaries],\n\u001b[0;32m--> 190\u001b[0;31m                                           feed_dict={learning_rate: current_lr})\n\u001b[0m\u001b[1;32m    191\u001b[0m         \u001b[0mcum_loss\u001b[0m \u001b[0;34m+=\u001b[0m \u001b[0mloss_val\u001b[0m\u001b[0;34m\u001b[0m\u001b[0;34m\u001b[0m\u001b[0m\n\u001b[1;32m    192\u001b[0m         \u001b[0mtrain_writer\u001b[0m\u001b[0;34m.\u001b[0m\u001b[0madd_summary\u001b[0m\u001b[0;34m(\u001b[0m\u001b[0msummary\u001b[0m\u001b[0;34m,\u001b[0m \u001b[0mit\u001b[0m\u001b[0;34m)\u001b[0m\u001b[0;34m\u001b[0m\u001b[0;34m\u001b[0m\u001b[0m\n",
      "\u001b[0;32m~/miniconda/envs/DLC-GPU/lib/python3.7/site-packages/tensorflow/python/client/session.py\u001b[0m in \u001b[0;36mrun\u001b[0;34m(self, fetches, feed_dict, options, run_metadata)\u001b[0m\n\u001b[1;32m    927\u001b[0m     \u001b[0;32mtry\u001b[0m\u001b[0;34m:\u001b[0m\u001b[0;34m\u001b[0m\u001b[0;34m\u001b[0m\u001b[0m\n\u001b[1;32m    928\u001b[0m       result = self._run(None, fetches, feed_dict, options_ptr,\n\u001b[0;32m--> 929\u001b[0;31m                          run_metadata_ptr)\n\u001b[0m\u001b[1;32m    930\u001b[0m       \u001b[0;32mif\u001b[0m \u001b[0mrun_metadata\u001b[0m\u001b[0;34m:\u001b[0m\u001b[0;34m\u001b[0m\u001b[0;34m\u001b[0m\u001b[0m\n\u001b[1;32m    931\u001b[0m         \u001b[0mproto_data\u001b[0m \u001b[0;34m=\u001b[0m \u001b[0mtf_session\u001b[0m\u001b[0;34m.\u001b[0m\u001b[0mTF_GetBuffer\u001b[0m\u001b[0;34m(\u001b[0m\u001b[0mrun_metadata_ptr\u001b[0m\u001b[0;34m)\u001b[0m\u001b[0;34m\u001b[0m\u001b[0;34m\u001b[0m\u001b[0m\n",
      "\u001b[0;32m~/miniconda/envs/DLC-GPU/lib/python3.7/site-packages/tensorflow/python/client/session.py\u001b[0m in \u001b[0;36m_run\u001b[0;34m(self, handle, fetches, feed_dict, options, run_metadata)\u001b[0m\n\u001b[1;32m   1150\u001b[0m     \u001b[0;32mif\u001b[0m \u001b[0mfinal_fetches\u001b[0m \u001b[0;32mor\u001b[0m \u001b[0mfinal_targets\u001b[0m \u001b[0;32mor\u001b[0m \u001b[0;34m(\u001b[0m\u001b[0mhandle\u001b[0m \u001b[0;32mand\u001b[0m \u001b[0mfeed_dict_tensor\u001b[0m\u001b[0;34m)\u001b[0m\u001b[0;34m:\u001b[0m\u001b[0;34m\u001b[0m\u001b[0;34m\u001b[0m\u001b[0m\n\u001b[1;32m   1151\u001b[0m       results = self._do_run(handle, final_targets, final_fetches,\n\u001b[0;32m-> 1152\u001b[0;31m                              feed_dict_tensor, options, run_metadata)\n\u001b[0m\u001b[1;32m   1153\u001b[0m     \u001b[0;32melse\u001b[0m\u001b[0;34m:\u001b[0m\u001b[0;34m\u001b[0m\u001b[0;34m\u001b[0m\u001b[0m\n\u001b[1;32m   1154\u001b[0m       \u001b[0mresults\u001b[0m \u001b[0;34m=\u001b[0m \u001b[0;34m[\u001b[0m\u001b[0;34m]\u001b[0m\u001b[0;34m\u001b[0m\u001b[0;34m\u001b[0m\u001b[0m\n",
      "\u001b[0;32m~/miniconda/envs/DLC-GPU/lib/python3.7/site-packages/tensorflow/python/client/session.py\u001b[0m in \u001b[0;36m_do_run\u001b[0;34m(self, handle, target_list, fetch_list, feed_dict, options, run_metadata)\u001b[0m\n\u001b[1;32m   1326\u001b[0m     \u001b[0;32mif\u001b[0m \u001b[0mhandle\u001b[0m \u001b[0;32mis\u001b[0m \u001b[0;32mNone\u001b[0m\u001b[0;34m:\u001b[0m\u001b[0;34m\u001b[0m\u001b[0;34m\u001b[0m\u001b[0m\n\u001b[1;32m   1327\u001b[0m       return self._do_call(_run_fn, feeds, fetches, targets, options,\n\u001b[0;32m-> 1328\u001b[0;31m                            run_metadata)\n\u001b[0m\u001b[1;32m   1329\u001b[0m     \u001b[0;32melse\u001b[0m\u001b[0;34m:\u001b[0m\u001b[0;34m\u001b[0m\u001b[0;34m\u001b[0m\u001b[0m\n\u001b[1;32m   1330\u001b[0m       \u001b[0;32mreturn\u001b[0m \u001b[0mself\u001b[0m\u001b[0;34m.\u001b[0m\u001b[0m_do_call\u001b[0m\u001b[0;34m(\u001b[0m\u001b[0m_prun_fn\u001b[0m\u001b[0;34m,\u001b[0m \u001b[0mhandle\u001b[0m\u001b[0;34m,\u001b[0m \u001b[0mfeeds\u001b[0m\u001b[0;34m,\u001b[0m \u001b[0mfetches\u001b[0m\u001b[0;34m)\u001b[0m\u001b[0;34m\u001b[0m\u001b[0;34m\u001b[0m\u001b[0m\n",
      "\u001b[0;32m~/miniconda/envs/DLC-GPU/lib/python3.7/site-packages/tensorflow/python/client/session.py\u001b[0m in \u001b[0;36m_do_call\u001b[0;34m(self, fn, *args)\u001b[0m\n\u001b[1;32m   1346\u001b[0m           \u001b[0;32mpass\u001b[0m\u001b[0;34m\u001b[0m\u001b[0;34m\u001b[0m\u001b[0m\n\u001b[1;32m   1347\u001b[0m       \u001b[0mmessage\u001b[0m \u001b[0;34m=\u001b[0m \u001b[0merror_interpolation\u001b[0m\u001b[0;34m.\u001b[0m\u001b[0minterpolate\u001b[0m\u001b[0;34m(\u001b[0m\u001b[0mmessage\u001b[0m\u001b[0;34m,\u001b[0m \u001b[0mself\u001b[0m\u001b[0;34m.\u001b[0m\u001b[0m_graph\u001b[0m\u001b[0;34m)\u001b[0m\u001b[0;34m\u001b[0m\u001b[0;34m\u001b[0m\u001b[0m\n\u001b[0;32m-> 1348\u001b[0;31m       \u001b[0;32mraise\u001b[0m \u001b[0mtype\u001b[0m\u001b[0;34m(\u001b[0m\u001b[0me\u001b[0m\u001b[0;34m)\u001b[0m\u001b[0;34m(\u001b[0m\u001b[0mnode_def\u001b[0m\u001b[0;34m,\u001b[0m \u001b[0mop\u001b[0m\u001b[0;34m,\u001b[0m \u001b[0mmessage\u001b[0m\u001b[0;34m)\u001b[0m\u001b[0;34m\u001b[0m\u001b[0;34m\u001b[0m\u001b[0m\n\u001b[0m\u001b[1;32m   1349\u001b[0m \u001b[0;34m\u001b[0m\u001b[0m\n\u001b[1;32m   1350\u001b[0m   \u001b[0;32mdef\u001b[0m \u001b[0m_extend_graph\u001b[0m\u001b[0;34m(\u001b[0m\u001b[0mself\u001b[0m\u001b[0;34m)\u001b[0m\u001b[0;34m:\u001b[0m\u001b[0;34m\u001b[0m\u001b[0;34m\u001b[0m\u001b[0m\n",
      "\u001b[0;31mUnknownError\u001b[0m: Failed to get convolution algorithm. This is probably because cuDNN failed to initialize, so try looking to see if a warning log message was printed above.\n\t [[node resnet_v1_50/conv1/Conv2D (defined at /root/miniconda/envs/DLC-GPU/lib/python3.7/site-packages/deeplabcut/pose_estimation_tensorflow/nnet/pose_net.py:52) ]]\n\t [[node sigmoid_cross_entropy_loss/value (defined at /root/miniconda/envs/DLC-GPU/lib/python3.7/site-packages/deeplabcut/pose_estimation_tensorflow/nnet/pose_net.py:162) ]]\n\nCaused by op 'resnet_v1_50/conv1/Conv2D', defined at:\n  File \"/root/miniconda/envs/DLC-GPU/lib/python3.7/runpy.py\", line 193, in _run_module_as_main\n    \"__main__\", mod_spec)\n  File \"/root/miniconda/envs/DLC-GPU/lib/python3.7/runpy.py\", line 85, in _run_code\n    exec(code, run_globals)\n  File \"/root/miniconda/envs/DLC-GPU/lib/python3.7/site-packages/ipykernel_launcher.py\", line 16, in <module>\n    app.launch_new_instance()\n  File \"/root/miniconda/envs/DLC-GPU/lib/python3.7/site-packages/traitlets/config/application.py\", line 664, in launch_instance\n    app.start()\n  File \"/root/miniconda/envs/DLC-GPU/lib/python3.7/site-packages/ipykernel/kernelapp.py\", line 583, in start\n    self.io_loop.start()\n  File \"/root/miniconda/envs/DLC-GPU/lib/python3.7/site-packages/tornado/platform/asyncio.py\", line 149, in start\n    self.asyncio_loop.run_forever()\n  File \"/root/miniconda/envs/DLC-GPU/lib/python3.7/asyncio/base_events.py\", line 541, in run_forever\n    self._run_once()\n  File \"/root/miniconda/envs/DLC-GPU/lib/python3.7/asyncio/base_events.py\", line 1786, in _run_once\n    handle._run()\n  File \"/root/miniconda/envs/DLC-GPU/lib/python3.7/asyncio/events.py\", line 88, in _run\n    self._context.run(self._callback, *self._args)\n  File \"/root/miniconda/envs/DLC-GPU/lib/python3.7/site-packages/tornado/ioloop.py\", line 690, in <lambda>\n    lambda f: self._run_callback(functools.partial(callback, future))\n  File \"/root/miniconda/envs/DLC-GPU/lib/python3.7/site-packages/tornado/ioloop.py\", line 743, in _run_callback\n    ret = callback()\n  File \"/root/miniconda/envs/DLC-GPU/lib/python3.7/site-packages/tornado/gen.py\", line 787, in inner\n    self.run()\n  File \"/root/miniconda/envs/DLC-GPU/lib/python3.7/site-packages/tornado/gen.py\", line 748, in run\n    yielded = self.gen.send(value)\n  File \"/root/miniconda/envs/DLC-GPU/lib/python3.7/site-packages/ipykernel/kernelbase.py\", line 361, in process_one\n    yield gen.maybe_future(dispatch(*args))\n  File \"/root/miniconda/envs/DLC-GPU/lib/python3.7/site-packages/tornado/gen.py\", line 209, in wrapper\n    yielded = next(result)\n  File \"/root/miniconda/envs/DLC-GPU/lib/python3.7/site-packages/ipykernel/kernelbase.py\", line 268, in dispatch_shell\n    yield gen.maybe_future(handler(stream, idents, msg))\n  File \"/root/miniconda/envs/DLC-GPU/lib/python3.7/site-packages/tornado/gen.py\", line 209, in wrapper\n    yielded = next(result)\n  File \"/root/miniconda/envs/DLC-GPU/lib/python3.7/site-packages/ipykernel/kernelbase.py\", line 541, in execute_request\n    user_expressions, allow_stdin,\n  File \"/root/miniconda/envs/DLC-GPU/lib/python3.7/site-packages/tornado/gen.py\", line 209, in wrapper\n    yielded = next(result)\n  File \"/root/miniconda/envs/DLC-GPU/lib/python3.7/site-packages/ipykernel/ipkernel.py\", line 300, in do_execute\n    res = shell.run_cell(code, store_history=store_history, silent=silent)\n  File \"/root/miniconda/envs/DLC-GPU/lib/python3.7/site-packages/ipykernel/zmqshell.py\", line 536, in run_cell\n    return super(ZMQInteractiveShell, self).run_cell(*args, **kwargs)\n  File \"/root/miniconda/envs/DLC-GPU/lib/python3.7/site-packages/IPython/core/interactiveshell.py\", line 2858, in run_cell\n    raw_cell, store_history, silent, shell_futures)\n  File \"/root/miniconda/envs/DLC-GPU/lib/python3.7/site-packages/IPython/core/interactiveshell.py\", line 2886, in _run_cell\n    return runner(coro)\n  File \"/root/miniconda/envs/DLC-GPU/lib/python3.7/site-packages/IPython/core/async_helpers.py\", line 68, in _pseudo_sync_runner\n    coro.send(None)\n  File \"/root/miniconda/envs/DLC-GPU/lib/python3.7/site-packages/IPython/core/interactiveshell.py\", line 3063, in run_cell_async\n    interactivity=interactivity, compiler=compiler, result=result)\n  File \"/root/miniconda/envs/DLC-GPU/lib/python3.7/site-packages/IPython/core/interactiveshell.py\", line 3254, in run_ast_nodes\n    if (await self.run_code(code, result,  async_=asy)):\n  File \"/root/miniconda/envs/DLC-GPU/lib/python3.7/site-packages/IPython/core/interactiveshell.py\", line 3331, in run_code\n    exec(code_obj, self.user_global_ns, self.user_ns)\n  File \"<ipython-input-5-dbbe8e95d8d6>\", line 1, in <module>\n    deeplabcut.train_network(project_path / 'config.yaml')\n  File \"/root/miniconda/envs/DLC-GPU/lib/python3.7/site-packages/deeplabcut/pose_estimation_tensorflow/training.py\", line 132, in train_network\n    train(str(poseconfigfile),displayiters,saveiters,maxiters,max_to_keep=max_snapshots_to_keep,keepdeconvweights=keepdeconvweights,allow_growth=allow_growth) #pass on path and file name for pose_cfg.yaml!\n  File \"/root/miniconda/envs/DLC-GPU/lib/python3.7/site-packages/deeplabcut/pose_estimation_tensorflow/train.py\", line 119, in train\n    losses = pose_net(cfg).train(batch)\n  File \"/root/miniconda/envs/DLC-GPU/lib/python3.7/site-packages/deeplabcut/pose_estimation_tensorflow/nnet/pose_net.py\", line 154, in train\n    heads = self.get_net(batch[Batch.inputs])\n  File \"/root/miniconda/envs/DLC-GPU/lib/python3.7/site-packages/deeplabcut/pose_estimation_tensorflow/nnet/pose_net.py\", line 81, in get_net\n    net, end_points = self.extract_features(inputs)\n  File \"/root/miniconda/envs/DLC-GPU/lib/python3.7/site-packages/deeplabcut/pose_estimation_tensorflow/nnet/pose_net.py\", line 52, in extract_features\n    global_pool=False, output_stride=self.cfg.output_stride,is_training=False)\n  File \"/root/miniconda/envs/DLC-GPU/lib/python3.7/site-packages/tensorflow/contrib/slim/python/slim/nets/resnet_v1.py\", line 274, in resnet_v1_50\n    scope=scope)\n  File \"/root/miniconda/envs/DLC-GPU/lib/python3.7/site-packages/tensorflow/contrib/slim/python/slim/nets/resnet_v1.py\", line 205, in resnet_v1\n    net = resnet_utils.conv2d_same(net, 64, 7, stride=2, scope='conv1')\n  File \"/root/miniconda/envs/DLC-GPU/lib/python3.7/site-packages/tensorflow/contrib/slim/python/slim/nets/resnet_utils.py\", line 146, in conv2d_same\n    scope=scope)\n  File \"/root/miniconda/envs/DLC-GPU/lib/python3.7/site-packages/tensorflow/contrib/framework/python/ops/arg_scope.py\", line 182, in func_with_args\n    return func(*args, **current_args)\n  File \"/root/miniconda/envs/DLC-GPU/lib/python3.7/site-packages/tensorflow/contrib/layers/python/layers/layers.py\", line 1155, in convolution2d\n    conv_dims=2)\n  File \"/root/miniconda/envs/DLC-GPU/lib/python3.7/site-packages/tensorflow/contrib/framework/python/ops/arg_scope.py\", line 182, in func_with_args\n    return func(*args, **current_args)\n  File \"/root/miniconda/envs/DLC-GPU/lib/python3.7/site-packages/tensorflow/contrib/layers/python/layers/layers.py\", line 1058, in convolution\n    outputs = layer.apply(inputs)\n  File \"/root/miniconda/envs/DLC-GPU/lib/python3.7/site-packages/tensorflow/python/keras/engine/base_layer.py\", line 1227, in apply\n    return self.__call__(inputs, *args, **kwargs)\n  File \"/root/miniconda/envs/DLC-GPU/lib/python3.7/site-packages/tensorflow/python/layers/base.py\", line 530, in __call__\n    outputs = super(Layer, self).__call__(inputs, *args, **kwargs)\n  File \"/root/miniconda/envs/DLC-GPU/lib/python3.7/site-packages/tensorflow/python/keras/engine/base_layer.py\", line 554, in __call__\n    outputs = self.call(inputs, *args, **kwargs)\n  File \"/root/miniconda/envs/DLC-GPU/lib/python3.7/site-packages/tensorflow/python/keras/layers/convolutional.py\", line 194, in call\n    outputs = self._convolution_op(inputs, self.kernel)\n  File \"/root/miniconda/envs/DLC-GPU/lib/python3.7/site-packages/tensorflow/python/ops/nn_ops.py\", line 966, in __call__\n    return self.conv_op(inp, filter)\n  File \"/root/miniconda/envs/DLC-GPU/lib/python3.7/site-packages/tensorflow/python/ops/nn_ops.py\", line 591, in __call__\n    return self.call(inp, filter)\n  File \"/root/miniconda/envs/DLC-GPU/lib/python3.7/site-packages/tensorflow/python/ops/nn_ops.py\", line 208, in __call__\n    name=self.name)\n  File \"/root/miniconda/envs/DLC-GPU/lib/python3.7/site-packages/tensorflow/python/ops/gen_nn_ops.py\", line 1026, in conv2d\n    data_format=data_format, dilations=dilations, name=name)\n  File \"/root/miniconda/envs/DLC-GPU/lib/python3.7/site-packages/tensorflow/python/framework/op_def_library.py\", line 788, in _apply_op_helper\n    op_def=op_def)\n  File \"/root/miniconda/envs/DLC-GPU/lib/python3.7/site-packages/tensorflow/python/util/deprecation.py\", line 507, in new_func\n    return func(*args, **kwargs)\n  File \"/root/miniconda/envs/DLC-GPU/lib/python3.7/site-packages/tensorflow/python/framework/ops.py\", line 3300, in create_op\n    op_def=op_def)\n  File \"/root/miniconda/envs/DLC-GPU/lib/python3.7/site-packages/tensorflow/python/framework/ops.py\", line 1801, in __init__\n    self._traceback = tf_stack.extract_stack()\n\nUnknownError (see above for traceback): Failed to get convolution algorithm. This is probably because cuDNN failed to initialize, so try looking to see if a warning log message was printed above.\n\t [[node resnet_v1_50/conv1/Conv2D (defined at /root/miniconda/envs/DLC-GPU/lib/python3.7/site-packages/deeplabcut/pose_estimation_tensorflow/nnet/pose_net.py:52) ]]\n\t [[node sigmoid_cross_entropy_loss/value (defined at /root/miniconda/envs/DLC-GPU/lib/python3.7/site-packages/deeplabcut/pose_estimation_tensorflow/nnet/pose_net.py:162) ]]\n"
     ]
    }
   ],
   "source": [
    "deeplabcut.train_network(project_path / 'config.yaml')"
   ]
  },
  {
   "cell_type": "code",
   "execution_count": 6,
   "metadata": {},
   "outputs": [
    {
     "data": {
      "text/plain": [
       "'1.13.1'"
      ]
     },
     "execution_count": 6,
     "metadata": {},
     "output_type": "execute_result"
    }
   ],
   "source": [
    "import tensorflow as tf\n",
    "\n",
    "tf.__version__"
   ]
  }
 ],
 "metadata": {
  "kernelspec": {
   "display_name": "DLC-GPU",
   "language": "python",
   "name": "dlc-gpu"
  },
  "language_info": {
   "codemirror_mode": {
    "name": "ipython",
    "version": 3
   },
   "file_extension": ".py",
   "mimetype": "text/x-python",
   "name": "python",
   "nbconvert_exporter": "python",
   "pygments_lexer": "ipython3",
   "version": "3.7.7"
  }
 },
 "nbformat": 4,
 "nbformat_minor": 4
}
