{
 "cells": [
  {
   "cell_type": "code",
   "execution_count": 1,
   "metadata": {},
   "outputs": [],
   "source": [
    "import deeplabcut "
   ]
  },
  {
   "cell_type": "markdown",
   "metadata": {},
   "source": [
    "# Create the Project\n",
    "\n",
    "Download the videos separately and update the videos arg as the directory path \n",
    "\n",
    "- Note: on windows there may be issues creating symbolic links to videos if jupyter lab wasn't run from a console with admin privilege. If it fails the project is still created, so you can add them manually to the project's video folder with `mklink`"
   ]
  },
  {
   "cell_type": "code",
   "execution_count": 4,
   "metadata": {},
   "outputs": [
    {
     "name": "stdout",
     "output_type": "stream",
     "text": [
      "Created \"C:\\Users\\Owner\\Documents\\repos\\COMP4905\\pose-estimation\\MousePose-AndreTelfer-2020-05-21\\videos\"\n",
      "Created \"C:\\Users\\Owner\\Documents\\repos\\COMP4905\\pose-estimation\\MousePose-AndreTelfer-2020-05-21\\labeled-data\"\n",
      "Created \"C:\\Users\\Owner\\Documents\\repos\\COMP4905\\pose-estimation\\MousePose-AndreTelfer-2020-05-21\\training-datasets\"\n",
      "Created \"C:\\Users\\Owner\\Documents\\repos\\COMP4905\\pose-estimation\\MousePose-AndreTelfer-2020-05-21\\dlc-models\"\n",
      "Attempting to create a symbolic link of the video ...\n",
      "Created the symlink of ..\\videos\\Rat 2 LPS 1.MP4 to C:\\Users\\Owner\\Documents\\repos\\COMP4905\\pose-estimation\\MousePose-AndreTelfer-2020-05-21\\videos\\Rat 2 LPS 1.MP4\n",
      "C:\\Users\\Owner\\Documents\\repos\\COMP4905\\pose-estimation\\MousePose-AndreTelfer-2020-05-21\\videos\\Rat 2 LPS 1.MP4\n",
      "Generated \"C:\\Users\\Owner\\Documents\\repos\\COMP4905\\pose-estimation\\MousePose-AndreTelfer-2020-05-21\\config.yaml\"\n",
      "\n",
      "A new project with name MousePose-AndreTelfer-2020-05-21 is created at C:\\Users\\Owner\\Documents\\repos\\COMP4905\\pose-estimation and a configurable file (config.yaml) is stored there. Change the parameters in this file to adapt to your project's needs.\n",
      " Once you have changed the configuration file, use the function 'extract_frames' to select frames for labeling.\n",
      ". [OPTIONAL] Use the function 'add_new_videos' to add new videos to your project (at any stage).\n"
     ]
    },
    {
     "data": {
      "text/plain": [
       "'C:\\\\Users\\\\Owner\\\\Documents\\\\repos\\\\COMP4905\\\\pose-estimation\\\\MousePose-AndreTelfer-2020-05-21\\\\config.yaml'"
      ]
     },
     "execution_count": 4,
     "metadata": {},
     "output_type": "execute_result"
    }
   ],
   "source": [
    "videos = [\n",
    "    \"../videos/Rat 2 LPS 1.MP4\"\n",
    "]\n",
    "\n",
    "config_path = deeplabcut.create_new_project(\"MousePose\", \"AndreTelfer\", videos=videos)"
   ]
  },
  {
   "cell_type": "markdown",
   "metadata": {},
   "source": [
    "# Use Existing Project"
   ]
  },
  {
   "cell_type": "code",
   "execution_count": 3,
   "metadata": {},
   "outputs": [],
   "source": [
    "# Your path here\n",
    "config_path = r\"C:\\\\Users\\\\Owner\\\\Documents\\\\repos\\\\COMP4905\\\\pose-estimation\\\\MousePose-AndreTelfer-2020-05-21\\\\config.yaml\""
   ]
  },
  {
   "cell_type": "markdown",
   "metadata": {},
   "source": [
    "# Add Video"
   ]
  },
  {
   "cell_type": "code",
   "execution_count": null,
   "metadata": {},
   "outputs": [],
   "source": [
    "videos = [\n",
    "    \"../videos/Rat 4 Control 1.MP4\"\n",
    "]\n",
    "deeplabcut.add_new_videos(config_path, videos)"
   ]
  },
  {
   "cell_type": "markdown",
   "metadata": {},
   "source": [
    "# Select Frames"
   ]
  },
  {
   "cell_type": "code",
   "execution_count": 15,
   "metadata": {},
   "outputs": [
    {
     "name": "stdout",
     "output_type": "stream",
     "text": [
      "Quitting for now!\n"
     ]
    }
   ],
   "source": [
    "deeplabcut.extract_frames(config_path, mode='manual')"
   ]
  },
  {
   "cell_type": "markdown",
   "metadata": {},
   "source": [
    "# Label Frames"
   ]
  },
  {
   "cell_type": "code",
   "execution_count": null,
   "metadata": {},
   "outputs": [],
   "source": [
    "deeplabcut.label_frames(config_path)"
   ]
  }
 ],
 "metadata": {
  "kernelspec": {
   "display_name": "DLC-CPU",
   "language": "python",
   "name": "dlc-cpu"
  },
  "language_info": {
   "codemirror_mode": {
    "name": "ipython",
    "version": 3
   },
   "file_extension": ".py",
   "mimetype": "text/x-python",
   "name": "python",
   "nbconvert_exporter": "python",
   "pygments_lexer": "ipython3",
   "version": "3.7.7"
  }
 },
 "nbformat": 4,
 "nbformat_minor": 2
}
