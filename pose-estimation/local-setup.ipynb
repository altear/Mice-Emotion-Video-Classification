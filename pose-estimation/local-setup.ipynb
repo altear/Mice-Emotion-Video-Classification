{
 "cells": [
  {
   "cell_type": "code",
   "execution_count": 1,
   "metadata": {},
   "outputs": [],
   "source": [
    "import deeplabcut "
   ]
  },
  {
   "cell_type": "markdown",
   "metadata": {},
   "source": [
    "# Create the Project\n",
    "\n",
    "Download the videos separately and update the videos arg as the directory path "
   ]
  },
  {
   "cell_type": "code",
   "execution_count": 3,
   "metadata": {},
   "outputs": [
    {
     "name": "stdout",
     "output_type": "stream",
     "text": [
      "Created \"C:\\Users\\Owner\\Documents\\repos\\COMP4905\\pose-estimation\\mouse-pose-model-andre-telfer-2020-05-21\\videos\"\n",
      "Created \"C:\\Users\\Owner\\Documents\\repos\\COMP4905\\pose-estimation\\mouse-pose-model-andre-telfer-2020-05-21\\labeled-data\"\n",
      "Created \"C:\\Users\\Owner\\Documents\\repos\\COMP4905\\pose-estimation\\mouse-pose-model-andre-telfer-2020-05-21\\training-datasets\"\n",
      "Created \"C:\\Users\\Owner\\Documents\\repos\\COMP4905\\pose-estimation\\mouse-pose-model-andre-telfer-2020-05-21\\dlc-models\"\n",
      "Attempting to create a symbolic link of the video ...\n",
      "WARNING: No valid videos were found. The project was not created ...\n",
      "Verify the video files and re-create the project.\n"
     ]
    },
    {
     "data": {
      "text/plain": [
       "'nothingcreated'"
      ]
     },
     "execution_count": 3,
     "metadata": {},
     "output_type": "execute_result"
    }
   ],
   "source": [
    "deeplabcut.create_new_project(\"mouse-pose-model\", \"andre-telfer\", videos=)"
   ]
  }
 ],
 "metadata": {
  "kernelspec": {
   "display_name": "DLC-CPU",
   "language": "python",
   "name": "dlc-cpu"
  },
  "language_info": {
   "codemirror_mode": {
    "name": "ipython",
    "version": 3
   },
   "file_extension": ".py",
   "mimetype": "text/x-python",
   "name": "python",
   "nbconvert_exporter": "python",
   "pygments_lexer": "ipython3",
   "version": "3.7.7"
  }
 },
 "nbformat": 4,
 "nbformat_minor": 2
}
