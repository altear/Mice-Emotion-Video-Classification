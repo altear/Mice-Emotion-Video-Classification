{
 "cells": [
  {
   "cell_type": "code",
   "execution_count": 4,
   "metadata": {},
   "outputs": [
    {
     "name": "stdout",
     "output_type": "stream",
     "text": [
      "DLC loaded in light mode; you cannot use any GUI (labeling, relabeling and standalone GUI)\n"
     ]
    }
   ],
   "source": [
    "import deeplabcut\n",
    "import os\n",
    "from pathlib import Path"
   ]
  },
  {
   "cell_type": "code",
   "execution_count": 5,
   "metadata": {},
   "outputs": [],
   "source": [
    "lps_videos = Path(r\"/workspace/gs/LPS Rats Jan 2020\")\n",
    "control_videos = Path(r\"/workspace/gs/Rat Controls Jan 2020 \")\n",
    "\n",
    "lps_videos = [lps_videos / file for file in os.listdir(lps_videos)]\n",
    "control_videos = [control_videos / file for file in os.listdir(control_videos)]"
   ]
  },
  {
   "cell_type": "code",
   "execution_count": 7,
   "metadata": {},
   "outputs": [
    {
     "name": "stdout",
     "output_type": "stream",
     "text": [
      "\u001b[0m\u001b[01;34m'LPS Rats Jan 2020'\u001b[0m/  \u001b[01;34m'Rat Controls Jan 2020 '\u001b[0m/\n"
     ]
    }
   ],
   "source": [
    "ls /workspace/gs"
   ]
  },
  {
   "cell_type": "code",
   "execution_count": 18,
   "metadata": {},
   "outputs": [
    {
     "name": "stdout",
     "output_type": "stream",
     "text": [
      "ffmpeg -y -hwaccel_output_format cuda -hwaccel_device 0 -hwaccel cuvid -c:v hevc_cuvid -i \"/workspace/gs/LPS Rats Jan 2020/Rat 8 LPS 1.MP4\" -r 24 -c:v hevc_nvenc -b:v 128K -strict -2 -movflags faststart /workspace/videos/24fps_trial3/rat8-lps1.mp4 -c:v hevc_cuvid\n",
      "ffmpeg -y -hwaccel_output_format cuda -hwaccel_device 0 -hwaccel cuvid -c:v hevc_cuvid -i \"/workspace/gs/LPS Rats Jan 2020/Rat 7 LPS 1.MP4\" -r 24 -c:v hevc_nvenc -b:v 128K -strict -2 -movflags faststart /workspace/videos/24fps_trial3/rat7-lps1.mp4 -c:v hevc_cuvid\n",
      "ffmpeg -y -hwaccel_output_format cuda -hwaccel_device 0 -hwaccel cuvid -c:v hevc_cuvid -i \"/workspace/gs/LPS Rats Jan 2020/Rat 2 LPS 1.MP4\" -r 24 -c:v hevc_nvenc -b:v 128K -strict -2 -movflags faststart /workspace/videos/24fps_trial3/rat2-lps1.mp4 -c:v hevc_cuvid\n",
      "ffmpeg -y -hwaccel_output_format cuda -hwaccel_device 0 -hwaccel cuvid -c:v hevc_cuvid -i \"/workspace/gs/LPS Rats Jan 2020/Rat 8 LPS 2.MP4\" -r 24 -c:v hevc_nvenc -b:v 128K -strict -2 -movflags faststart /workspace/videos/24fps_trial3/rat8-lps2.mp4 -c:v hevc_cuvid\n",
      "ffmpeg -y -hwaccel_output_format cuda -hwaccel_device 0 -hwaccel cuvid -c:v hevc_cuvid -i \"/workspace/gs/LPS Rats Jan 2020/Rat 9 LPS 2.MP4\" -r 24 -c:v hevc_nvenc -b:v 128K -strict -2 -movflags faststart /workspace/videos/24fps_trial3/rat9-lps2.mp4 -c:v hevc_cuvid\n",
      "ffmpeg -y -hwaccel_output_format cuda -hwaccel_device 0 -hwaccel cuvid -c:v hevc_cuvid -i \"/workspace/gs/LPS Rats Jan 2020/Rat 2 LPS 2.MP4\" -r 24 -c:v hevc_nvenc -b:v 128K -strict -2 -movflags faststart /workspace/videos/24fps_trial3/rat2-lps2.mp4 -c:v hevc_cuvid\n",
      "ffmpeg -y -hwaccel_output_format cuda -hwaccel_device 0 -hwaccel cuvid -c:v hevc_cuvid -i \"/workspace/gs/LPS Rats Jan 2020/Rat 7 LPS 2.MP4\" -r 24 -c:v hevc_nvenc -b:v 128K -strict -2 -movflags faststart /workspace/videos/24fps_trial3/rat7-lps2.mp4 -c:v hevc_cuvid\n",
      "ffmpeg -y -hwaccel_output_format cuda -hwaccel_device 0 -hwaccel cuvid -c:v hevc_cuvid -i \"/workspace/gs/LPS Rats Jan 2020/Rat 3 LPS 1.MP4\" -r 24 -c:v hevc_nvenc -b:v 128K -strict -2 -movflags faststart /workspace/videos/24fps_trial3/rat3-lps1.mp4 -c:v hevc_cuvid\n",
      "ffmpeg -y -hwaccel_output_format cuda -hwaccel_device 0 -hwaccel cuvid -c:v hevc_cuvid -i \"/workspace/gs/LPS Rats Jan 2020/Rat 4 LPS 1.MP4\" -r 24 -c:v hevc_nvenc -b:v 128K -strict -2 -movflags faststart /workspace/videos/24fps_trial3/rat4-lps1.mp4 -c:v hevc_cuvid\n",
      "ffmpeg -y -hwaccel_output_format cuda -hwaccel_device 0 -hwaccel cuvid -c:v hevc_cuvid -i \"/workspace/gs/LPS Rats Jan 2020/Rat 5 LPS 2.MP4\" -r 24 -c:v hevc_nvenc -b:v 128K -strict -2 -movflags faststart /workspace/videos/24fps_trial3/rat5-lps2.mp4 -c:v hevc_cuvid\n",
      "ffmpeg -y -hwaccel_output_format cuda -hwaccel_device 0 -hwaccel cuvid -c:v hevc_cuvid -i \"/workspace/gs/LPS Rats Jan 2020/Rat 2 LPS 4.MP4\" -r 24 -c:v hevc_nvenc -b:v 128K -strict -2 -movflags faststart /workspace/videos/24fps_trial3/rat2-lps4.mp4 -c:v hevc_cuvid\n",
      "ffmpeg -y -hwaccel_output_format cuda -hwaccel_device 0 -hwaccel cuvid -c:v hevc_cuvid -i \"/workspace/gs/LPS Rats Jan 2020/Rat 4 LPS 2.MP4\" -r 24 -c:v hevc_nvenc -b:v 128K -strict -2 -movflags faststart /workspace/videos/24fps_trial3/rat4-lps2.mp4 -c:v hevc_cuvid\n",
      "ffmpeg -y -hwaccel_output_format cuda -hwaccel_device 0 -hwaccel cuvid -c:v hevc_cuvid -i \"/workspace/gs/LPS Rats Jan 2020/Rat 9 LPS 1.MP4\" -r 24 -c:v hevc_nvenc -b:v 128K -strict -2 -movflags faststart /workspace/videos/24fps_trial3/rat9-lps1.mp4 -c:v hevc_cuvid\n",
      "ffmpeg -y -hwaccel_output_format cuda -hwaccel_device 0 -hwaccel cuvid -c:v hevc_cuvid -i \"/workspace/gs/LPS Rats Jan 2020/Rat 2 LPS 3.MP4\" -r 24 -c:v hevc_nvenc -b:v 128K -strict -2 -movflags faststart /workspace/videos/24fps_trial3/rat2-lps3.mp4 -c:v hevc_cuvid\n",
      "ffmpeg -y -hwaccel_output_format cuda -hwaccel_device 0 -hwaccel cuvid -c:v hevc_cuvid -i \"/workspace/gs/LPS Rats Jan 2020/Rat 6 LPS 1.MP4\" -r 24 -c:v hevc_nvenc -b:v 128K -strict -2 -movflags faststart /workspace/videos/24fps_trial3/rat6-lps1.mp4 -c:v hevc_cuvid\n",
      "ffmpeg -y -hwaccel_output_format cuda -hwaccel_device 0 -hwaccel cuvid -c:v hevc_cuvid -i \"/workspace/gs/LPS Rats Jan 2020/Rat 5 LPS 1.MP4\" -r 24 -c:v hevc_nvenc -b:v 128K -strict -2 -movflags faststart /workspace/videos/24fps_trial3/rat5-lps1.mp4 -c:v hevc_cuvid\n",
      "ffmpeg -y -hwaccel_output_format cuda -hwaccel_device 0 -hwaccel cuvid -c:v hevc_cuvid -i \"/workspace/gs/LPS Rats Jan 2020/Rat 3 LPS 2.MP4\" -r 24 -c:v hevc_nvenc -b:v 128K -strict -2 -movflags faststart /workspace/videos/24fps_trial3/rat3-lps2.mp4 -c:v hevc_cuvid\n",
      "ffmpeg -y -hwaccel_output_format cuda -hwaccel_device 0 -hwaccel cuvid -c:v hevc_cuvid -i \"/workspace/gs/LPS Rats Jan 2020/Rat 6 LPS 2.MP4\" -r 24 -c:v hevc_nvenc -b:v 128K -strict -2 -movflags faststart /workspace/videos/24fps_trial3/rat6-lps2.mp4 -c:v hevc_cuvid\n",
      "ffmpeg -y -hwaccel_output_format cuda -hwaccel_device 0 -hwaccel cuvid -c:v hevc_cuvid -i \"/workspace/gs/Rat Controls Jan 2020 /Rat 1 Control 3.MP4\" -r 24 -c:v hevc_nvenc -b:v 128K -strict -2 -movflags faststart /workspace/videos/24fps_trial3/rat1-control3.mp4 -c:v hevc_cuvid\n",
      "ffmpeg -y -hwaccel_output_format cuda -hwaccel_device 0 -hwaccel cuvid -c:v hevc_cuvid -i \"/workspace/gs/Rat Controls Jan 2020 /Rat 2 Control 2.MP4\" -r 24 -c:v hevc_nvenc -b:v 128K -strict -2 -movflags faststart /workspace/videos/24fps_trial3/rat2-control2.mp4 -c:v hevc_cuvid\n",
      "ffmpeg -y -hwaccel_output_format cuda -hwaccel_device 0 -hwaccel cuvid -c:v hevc_cuvid -i \"/workspace/gs/Rat Controls Jan 2020 /Rat 4 Control 1.MP4\" -r 24 -c:v hevc_nvenc -b:v 128K -strict -2 -movflags faststart /workspace/videos/24fps_trial3/rat4-control1.mp4 -c:v hevc_cuvid\n",
      "ffmpeg -y -hwaccel_output_format cuda -hwaccel_device 0 -hwaccel cuvid -c:v hevc_cuvid -i \"/workspace/gs/Rat Controls Jan 2020 /Rat 1 Control 1.MP4\" -r 24 -c:v hevc_nvenc -b:v 128K -strict -2 -movflags faststart /workspace/videos/24fps_trial3/rat1-control1.mp4 -c:v hevc_cuvid\n",
      "ffmpeg -y -hwaccel_output_format cuda -hwaccel_device 0 -hwaccel cuvid -c:v hevc_cuvid -i \"/workspace/gs/Rat Controls Jan 2020 /Rat 5 Control 2.MP4\" -r 24 -c:v hevc_nvenc -b:v 128K -strict -2 -movflags faststart /workspace/videos/24fps_trial3/rat5-control2.mp4 -c:v hevc_cuvid\n",
      "ffmpeg -y -hwaccel_output_format cuda -hwaccel_device 0 -hwaccel cuvid -c:v hevc_cuvid -i \"/workspace/gs/Rat Controls Jan 2020 /Rat 1 Control 4.MP4\" -r 24 -c:v hevc_nvenc -b:v 128K -strict -2 -movflags faststart /workspace/videos/24fps_trial3/rat1-control4.mp4 -c:v hevc_cuvid\n",
      "ffmpeg -y -hwaccel_output_format cuda -hwaccel_device 0 -hwaccel cuvid -c:v hevc_cuvid -i \"/workspace/gs/Rat Controls Jan 2020 /Rat 2 Control 3.MP4\" -r 24 -c:v hevc_nvenc -b:v 128K -strict -2 -movflags faststart /workspace/videos/24fps_trial3/rat2-control3.mp4 -c:v hevc_cuvid\n",
      "ffmpeg -y -hwaccel_output_format cuda -hwaccel_device 0 -hwaccel cuvid -c:v hevc_cuvid -i \"/workspace/gs/Rat Controls Jan 2020 /Rat 5 Control 1.MP4\" -r 24 -c:v hevc_nvenc -b:v 128K -strict -2 -movflags faststart /workspace/videos/24fps_trial3/rat5-control1.mp4 -c:v hevc_cuvid\n",
      "ffmpeg -y -hwaccel_output_format cuda -hwaccel_device 0 -hwaccel cuvid -c:v hevc_cuvid -i \"/workspace/gs/Rat Controls Jan 2020 /Rat 9 Control 2.MP4\" -r 24 -c:v hevc_nvenc -b:v 128K -strict -2 -movflags faststart /workspace/videos/24fps_trial3/rat9-control2.mp4 -c:v hevc_cuvid\n",
      "ffmpeg -y -hwaccel_output_format cuda -hwaccel_device 0 -hwaccel cuvid -c:v hevc_cuvid -i \"/workspace/gs/Rat Controls Jan 2020 /Rat 2 Control 4.MP4\" -r 24 -c:v hevc_nvenc -b:v 128K -strict -2 -movflags faststart /workspace/videos/24fps_trial3/rat2-control4.mp4 -c:v hevc_cuvid\n",
      "ffmpeg -y -hwaccel_output_format cuda -hwaccel_device 0 -hwaccel cuvid -c:v hevc_cuvid -i \"/workspace/gs/Rat Controls Jan 2020 /Rat 7 Control 4.MP4\" -r 24 -c:v hevc_nvenc -b:v 128K -strict -2 -movflags faststart /workspace/videos/24fps_trial3/rat7-control4.mp4 -c:v hevc_cuvid\n",
      "ffmpeg -y -hwaccel_output_format cuda -hwaccel_device 0 -hwaccel cuvid -c:v hevc_cuvid -i \"/workspace/gs/Rat Controls Jan 2020 /Rat 3 Control 1.MP4\" -r 24 -c:v hevc_nvenc -b:v 128K -strict -2 -movflags faststart /workspace/videos/24fps_trial3/rat3-control1.mp4 -c:v hevc_cuvid\n",
      "ffmpeg -y -hwaccel_output_format cuda -hwaccel_device 0 -hwaccel cuvid -c:v hevc_cuvid -i \"/workspace/gs/Rat Controls Jan 2020 /Rat 6 Control 2.MP4\" -r 24 -c:v hevc_nvenc -b:v 128K -strict -2 -movflags faststart /workspace/videos/24fps_trial3/rat6-control2.mp4 -c:v hevc_cuvid\n",
      "ffmpeg -y -hwaccel_output_format cuda -hwaccel_device 0 -hwaccel cuvid -c:v hevc_cuvid -i \"/workspace/gs/Rat Controls Jan 2020 /Rat 6 Control 3.MP4\" -r 24 -c:v hevc_nvenc -b:v 128K -strict -2 -movflags faststart /workspace/videos/24fps_trial3/rat6-control3.mp4 -c:v hevc_cuvid\n",
      "ffmpeg -y -hwaccel_output_format cuda -hwaccel_device 0 -hwaccel cuvid -c:v hevc_cuvid -i \"/workspace/gs/Rat Controls Jan 2020 /Rat 7 Control 3.MP4\" -r 24 -c:v hevc_nvenc -b:v 128K -strict -2 -movflags faststart /workspace/videos/24fps_trial3/rat7-control3.mp4 -c:v hevc_cuvid\n",
      "ffmpeg -y -hwaccel_output_format cuda -hwaccel_device 0 -hwaccel cuvid -c:v hevc_cuvid -i \"/workspace/gs/Rat Controls Jan 2020 /Rat 6 Control 5.MP4\" -r 24 -c:v hevc_nvenc -b:v 128K -strict -2 -movflags faststart /workspace/videos/24fps_trial3/rat6-control5.mp4 -c:v hevc_cuvid\n",
      "ffmpeg -y -hwaccel_output_format cuda -hwaccel_device 0 -hwaccel cuvid -c:v hevc_cuvid -i \"/workspace/gs/Rat Controls Jan 2020 /Rat 6 Control 1.MP4\" -r 24 -c:v hevc_nvenc -b:v 128K -strict -2 -movflags faststart /workspace/videos/24fps_trial3/rat6-control1.mp4 -c:v hevc_cuvid\n",
      "ffmpeg -y -hwaccel_output_format cuda -hwaccel_device 0 -hwaccel cuvid -c:v hevc_cuvid -i \"/workspace/gs/Rat Controls Jan 2020 /Rat 3 Control 3.MP4\" -r 24 -c:v hevc_nvenc -b:v 128K -strict -2 -movflags faststart /workspace/videos/24fps_trial3/rat3-control3.mp4 -c:v hevc_cuvid\n",
      "ffmpeg -y -hwaccel_output_format cuda -hwaccel_device 0 -hwaccel cuvid -c:v hevc_cuvid -i \"/workspace/gs/Rat Controls Jan 2020 /Rat 6 Control 4.MP4\" -r 24 -c:v hevc_nvenc -b:v 128K -strict -2 -movflags faststart /workspace/videos/24fps_trial3/rat6-control4.mp4 -c:v hevc_cuvid\n",
      "ffmpeg -y -hwaccel_output_format cuda -hwaccel_device 0 -hwaccel cuvid -c:v hevc_cuvid -i \"/workspace/gs/Rat Controls Jan 2020 /Rat 8 Control 2.MP4\" -r 24 -c:v hevc_nvenc -b:v 128K -strict -2 -movflags faststart /workspace/videos/24fps_trial3/rat8-control2.mp4 -c:v hevc_cuvid\n",
      "ffmpeg -y -hwaccel_output_format cuda -hwaccel_device 0 -hwaccel cuvid -c:v hevc_cuvid -i \"/workspace/gs/Rat Controls Jan 2020 /Rat 7 Control 2.MP4\" -r 24 -c:v hevc_nvenc -b:v 128K -strict -2 -movflags faststart /workspace/videos/24fps_trial3/rat7-control2.mp4 -c:v hevc_cuvid\n",
      "ffmpeg -y -hwaccel_output_format cuda -hwaccel_device 0 -hwaccel cuvid -c:v hevc_cuvid -i \"/workspace/gs/Rat Controls Jan 2020 /Rat 9 Control 1.MP4\" -r 24 -c:v hevc_nvenc -b:v 128K -strict -2 -movflags faststart /workspace/videos/24fps_trial3/rat9-control1.mp4 -c:v hevc_cuvid\n",
      "ffmpeg -y -hwaccel_output_format cuda -hwaccel_device 0 -hwaccel cuvid -c:v hevc_cuvid -i \"/workspace/gs/Rat Controls Jan 2020 /Rat 7 Control 1.MP4\" -r 24 -c:v hevc_nvenc -b:v 128K -strict -2 -movflags faststart /workspace/videos/24fps_trial3/rat7-control1.mp4 -c:v hevc_cuvid\n",
      "ffmpeg -y -hwaccel_output_format cuda -hwaccel_device 0 -hwaccel cuvid -c:v hevc_cuvid -i \"/workspace/gs/Rat Controls Jan 2020 /Rat 3 Control 4.MP4\" -r 24 -c:v hevc_nvenc -b:v 128K -strict -2 -movflags faststart /workspace/videos/24fps_trial3/rat3-control4.mp4 -c:v hevc_cuvid\n",
      "ffmpeg -y -hwaccel_output_format cuda -hwaccel_device 0 -hwaccel cuvid -c:v hevc_cuvid -i \"/workspace/gs/Rat Controls Jan 2020 /Rat 3 Control 2.MP4\" -r 24 -c:v hevc_nvenc -b:v 128K -strict -2 -movflags faststart /workspace/videos/24fps_trial3/rat3-control2.mp4 -c:v hevc_cuvid\n",
      "ffmpeg -y -hwaccel_output_format cuda -hwaccel_device 0 -hwaccel cuvid -c:v hevc_cuvid -i \"/workspace/gs/Rat Controls Jan 2020 /Rat 8 Control 1.MP4\" -r 24 -c:v hevc_nvenc -b:v 128K -strict -2 -movflags faststart /workspace/videos/24fps_trial3/rat8-control1.mp4 -c:v hevc_cuvid\n",
      "ffmpeg -y -hwaccel_output_format cuda -hwaccel_device 0 -hwaccel cuvid -c:v hevc_cuvid -i \"/workspace/gs/Rat Controls Jan 2020 /Rat 2 Control 1.MP4\" -r 24 -c:v hevc_nvenc -b:v 128K -strict -2 -movflags faststart /workspace/videos/24fps_trial3/rat2-control1.mp4 -c:v hevc_cuvid\n",
      "ffmpeg -y -hwaccel_output_format cuda -hwaccel_device 0 -hwaccel cuvid -c:v hevc_cuvid -i \"/workspace/gs/Rat Controls Jan 2020 /Rat 4 Control 2.MP4\" -r 24 -c:v hevc_nvenc -b:v 128K -strict -2 -movflags faststart /workspace/videos/24fps_trial3/rat4-control2.mp4 -c:v hevc_cuvid\n",
      "ffmpeg -y -hwaccel_output_format cuda -hwaccel_device 0 -hwaccel cuvid -c:v hevc_cuvid -i \"/workspace/gs/Rat Controls Jan 2020 /Rat 1 Control 2 .MP4\" -r 24 -c:v hevc_nvenc -b:v 128K -strict -2 -movflags faststart /workspace/videos/24fps_trial3/rat1-control2.mp4 -c:v hevc_cuvid\n"
     ]
    }
   ],
   "source": [
    "import subprocess\n",
    "import os\n",
    "import re\n",
    "import time\n",
    "\n",
    "output_dir = Path(\"/workspace/videos/24fps_trial3\")\n",
    "\n",
    "if not os.path.exists(output_dir):\n",
    "    os.makedirs(output_dir)\n",
    "os.chdir(output_dir)\n",
    "\n",
    "video_filename_pattern = re.compile(r\"rat (?P<rat>\\d+) (?P<type>.*) (?P<recording>\\d+)(\\s)?\\.(?P<ext>.*)\")\n",
    "\n",
    "for video_path in lps_videos + control_videos:\n",
    "    video_folder, video_name = os.path.split(video_path)\n",
    "    match = video_filename_pattern.match(video_name.lower())\n",
    "    if not match:\n",
    "        print(f\"Error parsing video path. Skipping {video_path}\")\n",
    "        continue\n",
    "        \n",
    "    output_filename = \"rat{rat}-{type}{recording}.{ext}\".format(**match.groupdict())\n",
    "    \n",
    "    # This one works!\n",
    "    cmd = f'ffmpeg -hwaccel cuvid -threads 2 -i \"{video_path}\" -filter:v fps=fps=24 -c:v h264_nvenc -max_muxing_queue_size 1000 {output_dir / output_filename}'\n",
    "    \n",
    "    # This one also works!\n",
    "    cmd = f'ffmpeg {hwaccel[0]} -y -i \"{video_path}\" -r 24 -c:v libx264 -b:v 3M -strict -2 -movflags faststart {output_dir / output_filename} {hwaccel[1]}'\n",
    "    \n",
    "    cmd = f'ffmpeg -y -hwaccel_output_format cuda -hwaccel_device 0 -hwaccel cuvid -c:v hevc_cuvid -i \"{video_path}\" -r 24 -c:v hevc_nvenc -b:v 128K -strict -2 -movflags faststart {output_dir / output_filename} -c:v hevc_cuvid'\n",
    "\n",
    "#     ffmpeg -y -i seeing_noaudio.mp4 -vf \"setpts=1.25*PTS\" -r 24 seeing.mp4\n",
    "    \n",
    "    print(cmd)"
   ]
  },
  {
   "cell_type": "code",
   "execution_count": 13,
   "metadata": {},
   "outputs": [
    {
     "data": {
      "text/plain": [
       "{'rat': '9', 'recording': '2', 'ext': 'mp4'}"
      ]
     },
     "execution_count": 13,
     "metadata": {},
     "output_type": "execute_result"
    }
   ],
   "source": [
    "import re\n",
    "\n",
    "video_filename_pattern.match(\"Rat 9 Control 2.MP4\".lower()).groupdict()"
   ]
  },
  {
   "cell_type": "code",
   "execution_count": null,
   "metadata": {},
   "outputs": [],
   "source": [
    "l"
   ]
  },
  {
   "cell_type": "code",
   "execution_count": 22,
   "metadata": {},
   "outputs": [],
   "source": [
    "project_path = Path(\"/workspace/repos/Mouse-Emotion-Video-Classification/pose-estimation/MousePose-AndreTelfer-2020-05-21\")"
   ]
  },
  {
   "cell_type": "markdown",
   "metadata": {},
   "source": [
    "# Remove Existing Videos"
   ]
  },
  {
   "cell_type": "code",
   "execution_count": 10,
   "metadata": {},
   "outputs": [],
   "source": [
    "from ruamel.yaml import YAML\n",
    "from collections import OrderedDict\n",
    "\n",
    "yaml = YAML()\n",
    "\n",
    "with open(project_path / \"config.yaml\", 'r') as fp:\n",
    "    config = yaml.load(fp)\n",
    "    \n",
    "del config['video_sets']\n",
    "\n",
    "with open(project_path / \"config.yaml\", 'w') as fp:\n",
    "    yaml.dump(config, fp)"
   ]
  },
  {
   "cell_type": "code",
   "execution_count": 23,
   "metadata": {},
   "outputs": [],
   "source": [
    "# check if it worked"
   ]
  },
  {
   "cell_type": "code",
   "execution_count": 22,
   "metadata": {},
   "outputs": [
    {
     "data": {
      "text/plain": [
       "CommentedOrderedMap()"
      ]
     },
     "execution_count": 22,
     "metadata": {},
     "output_type": "execute_result"
    }
   ],
   "source": [
    "with open(project_path / \"config.yaml\", 'r') as fp:\n",
    "    config = yaml.load(fp)\n",
    "config['video_sets']"
   ]
  },
  {
   "cell_type": "code",
   "execution_count": 30,
   "metadata": {},
   "outputs": [
    {
     "name": "stdout",
     "output_type": "stream",
     "text": [
      "# Project definitions (do not edit)\n",
      "Task: MousePose\n",
      "scorer: AndreTelfer\n",
      "date: May21\n",
      "\n",
      "# Project path (change when moving around)\n",
      "project_path: C:\\Users\\Owner\\Documents\\repos\\COMP4905\\pose-estimation\\MousePose-AndreTelfer-2020-05-21\n",
      "\n",
      "# Annotation data set configuration (and individual video cropping parameters)\n",
      "video_sets:\n",
      "bodyparts:\n",
      "- left_ear\n",
      "- right_ear\n",
      "- nose\n",
      "- body_N\n",
      "- body_E\n",
      "- body_S\n",
      "- body_W\n",
      "- left_eye_N\n",
      "- left_eye_E\n",
      "- left_eye_S\n",
      "- left_eye_W\n",
      "- right_eye_N\n",
      "- right_eye_E\n",
      "- right_eye_S\n",
      "- right_eye_W\n",
      "start: 0\n",
      "stop: 1\n",
      "numframes2pick: 20\n",
      "\n",
      "# Plotting configuration\n",
      "skeleton:\n",
      "- - left_ear\n",
      "  - right_ear\n",
      "  - nose\n",
      "  - body_N\n",
      "  - body_E\n",
      "  - body_S\n",
      "  - body_W\n",
      "  - left_eye_N\n",
      "  - left_eye_E\n",
      "  - left_eye_S\n",
      "  - left_eye_W\n",
      "  - right_eye_N\n",
      "  - right_eye_E\n",
      "  - right_eye_S\n",
      "  - right_eye_W\n",
      "skeleton_color: black\n",
      "pcutoff: 0.6\n",
      "dotsize: 3\n",
      "alphavalue: 0.7\n",
      "colormap: jet\n",
      "\n",
      "# Training,Evaluation and Analysis configuration\n",
      "TrainingFraction:\n",
      "- 0.95\n",
      "iteration: 0\n",
      "resnet:\n",
      "snapshotindex: -1\n",
      "batch_size: 8\n",
      "\n",
      "# Cropping Parameters (for analysis and outlier frame detection)\n",
      "cropping: false\n",
      "#if cropping is true for analysis, then set the values here:\n",
      "x1: 0\n",
      "x2: 640\n",
      "y1: 277\n",
      "y2: 624\n",
      "\n",
      "# Refinement configuration (parameters from annotation dataset configuration also relevant in this stage)\n",
      "corner2move2:\n",
      "- 50\n",
      "- 50\n",
      "move2corner: true\n",
      "default_net_type: resnet_50\n",
      "default_augmenter: default\n"
     ]
    }
   ],
   "source": [
    "config_path = project_path / \"config.yaml\"\n",
    "! cat $config_path"
   ]
  },
  {
   "cell_type": "markdown",
   "metadata": {},
   "source": [
    "# Add new video sets"
   ]
  },
  {
   "cell_type": "code",
   "execution_count": 46,
   "metadata": {},
   "outputs": [
    {
     "name": "stdout",
     "output_type": "stream",
     "text": [
      "Creating the symbolic link of the video\n"
     ]
    },
    {
     "ename": "AttributeError",
     "evalue": "'NoneType' object has no attribute 'update'",
     "output_type": "error",
     "traceback": [
      "\u001b[0;31m---------------------------------------------------------------------------\u001b[0m",
      "\u001b[0;31mAttributeError\u001b[0m                            Traceback (most recent call last)",
      "\u001b[0;32m<ipython-input-46-9213367b2bba>\u001b[0m in \u001b[0;36m<module>\u001b[0;34m\u001b[0m\n\u001b[1;32m      3\u001b[0m     \u001b[0mos\u001b[0m\u001b[0;34m.\u001b[0m\u001b[0mmakedirs\u001b[0m\u001b[0;34m(\u001b[0m\u001b[0mproject_path\u001b[0m \u001b[0;34m/\u001b[0m \u001b[0;34m'videos'\u001b[0m\u001b[0;34m)\u001b[0m\u001b[0;34m\u001b[0m\u001b[0;34m\u001b[0m\u001b[0m\n\u001b[1;32m      4\u001b[0m \u001b[0;34m\u001b[0m\u001b[0m\n\u001b[0;32m----> 5\u001b[0;31m \u001b[0mdeeplabcut\u001b[0m\u001b[0;34m.\u001b[0m\u001b[0madd_new_videos\u001b[0m\u001b[0;34m(\u001b[0m\u001b[0mproject_path\u001b[0m \u001b[0;34m/\u001b[0m \u001b[0;34m'config.yaml'\u001b[0m\u001b[0;34m,\u001b[0m \u001b[0;34m[\u001b[0m\u001b[0mvideo_dir\u001b[0m \u001b[0;34m/\u001b[0m \u001b[0mvideo\u001b[0m \u001b[0;32mfor\u001b[0m \u001b[0mvideo\u001b[0m \u001b[0;32min\u001b[0m \u001b[0mos\u001b[0m\u001b[0;34m.\u001b[0m\u001b[0mlistdir\u001b[0m\u001b[0;34m(\u001b[0m\u001b[0mvideo_dir\u001b[0m\u001b[0;34m)\u001b[0m\u001b[0;34m]\u001b[0m\u001b[0;34m)\u001b[0m\u001b[0;34m\u001b[0m\u001b[0;34m\u001b[0m\u001b[0m\n\u001b[0m",
      "\u001b[0;32m~/miniconda/envs/DLC-GPU/lib/python3.7/site-packages/deeplabcut/create_project/add.py\u001b[0m in \u001b[0;36madd_new_videos\u001b[0;34m(config, videos, copy_videos, coords)\u001b[0m\n\u001b[1;32m     97\u001b[0m            \u001b[0mheight\u001b[0m \u001b[0;34m=\u001b[0m \u001b[0mint\u001b[0m\u001b[0;34m(\u001b[0m\u001b[0mvcap\u001b[0m\u001b[0;34m.\u001b[0m\u001b[0mget\u001b[0m\u001b[0;34m(\u001b[0m\u001b[0mcv2\u001b[0m\u001b[0;34m.\u001b[0m\u001b[0mCAP_PROP_FRAME_HEIGHT\u001b[0m\u001b[0;34m)\u001b[0m\u001b[0;34m)\u001b[0m\u001b[0;34m\u001b[0m\u001b[0;34m\u001b[0m\u001b[0m\n\u001b[1;32m     98\u001b[0m            \u001b[0;32mif\u001b[0m \u001b[0mcoords\u001b[0m \u001b[0;34m==\u001b[0m \u001b[0;32mNone\u001b[0m\u001b[0;34m:\u001b[0m\u001b[0;34m\u001b[0m\u001b[0;34m\u001b[0m\u001b[0m\n\u001b[0;32m---> 99\u001b[0;31m                 \u001b[0mcfg\u001b[0m\u001b[0;34m[\u001b[0m\u001b[0;34m'video_sets'\u001b[0m\u001b[0;34m]\u001b[0m\u001b[0;34m.\u001b[0m\u001b[0mupdate\u001b[0m\u001b[0;34m(\u001b[0m\u001b[0;34m{\u001b[0m\u001b[0mvideo_path\u001b[0m \u001b[0;34m:\u001b[0m \u001b[0;34m{\u001b[0m\u001b[0;34m'crop'\u001b[0m\u001b[0;34m:\u001b[0m \u001b[0;34m', '\u001b[0m\u001b[0;34m.\u001b[0m\u001b[0mjoin\u001b[0m\u001b[0;34m(\u001b[0m\u001b[0mmap\u001b[0m\u001b[0;34m(\u001b[0m\u001b[0mstr\u001b[0m\u001b[0;34m,\u001b[0m \u001b[0;34m[\u001b[0m\u001b[0;36m0\u001b[0m\u001b[0;34m,\u001b[0m \u001b[0mwidth\u001b[0m\u001b[0;34m,\u001b[0m \u001b[0;36m0\u001b[0m\u001b[0;34m,\u001b[0m \u001b[0mheight\u001b[0m\u001b[0;34m]\u001b[0m\u001b[0;34m)\u001b[0m\u001b[0;34m)\u001b[0m\u001b[0;34m}\u001b[0m\u001b[0;34m}\u001b[0m\u001b[0;34m)\u001b[0m\u001b[0;34m\u001b[0m\u001b[0;34m\u001b[0m\u001b[0m\n\u001b[0m\u001b[1;32m    100\u001b[0m            \u001b[0;32melse\u001b[0m\u001b[0;34m:\u001b[0m\u001b[0;34m\u001b[0m\u001b[0;34m\u001b[0m\u001b[0m\n\u001b[1;32m    101\u001b[0m                 \u001b[0mc\u001b[0m \u001b[0;34m=\u001b[0m \u001b[0mcoords\u001b[0m\u001b[0;34m[\u001b[0m\u001b[0midx\u001b[0m\u001b[0;34m]\u001b[0m\u001b[0;34m\u001b[0m\u001b[0;34m\u001b[0m\u001b[0m\n",
      "\u001b[0;31mAttributeError\u001b[0m: 'NoneType' object has no attribute 'update'"
     ]
    }
   ],
   "source": [
    "video_dir = Path(\"/workspace/videos/24fps\")\n",
    "if not os.path.exists(project_path / 'videos'):\n",
    "    os.makedirs(project_path / 'videos')\n",
    "    \n",
    "deeplabcut.add_new_videos(project_path / 'config.yaml', [video_dir / video for video in os.listdir(video_dir)])"
   ]
  },
  {
   "cell_type": "markdown",
   "metadata": {},
   "source": []
  },
  {
   "cell_type": "code",
   "execution_count": 20,
   "metadata": {},
   "outputs": [
    {
     "name": "stdout",
     "output_type": "stream",
     "text": [
      "/workspace/videos/24fps_trial3/rat3-control3.mp4 12771.0 24.0\n",
      "/workspace/videos/24fps_trial3/rat7-control2.mp4 3370.0 24.0\n",
      "/workspace/videos/24fps_trial3/rat7-control1.mp4 12759.0 24.0\n",
      "/workspace/videos/24fps_trial3/rat5-lps1.mp4 10539.0 24.0\n",
      "/workspace/videos/24fps_trial3/rat3-control2.mp4 4085.0 24.0\n",
      "/workspace/videos/24fps_trial3/rat3-lps1.mp4 12771.0 24.0\n",
      "/workspace/videos/24fps_trial3/rat6-control4.mp4 12759.0 24.0\n",
      "/workspace/videos/24fps_trial3/rat4-control2.mp4 2214.0 24.0\n",
      "/workspace/videos/24fps_trial3/rat5-control2.mp4 1775.0 24.0\n",
      "/workspace/videos/24fps_trial3/rat6-control2.mp4 3151.0 24.0\n",
      "/workspace/videos/24fps_trial3/rat1-control1.mp4 12771.0 24.0\n",
      "/workspace/videos/24fps_trial3/rat8-control2.mp4 2626.0 24.0\n",
      "/workspace/videos/24fps_trial3/rat7-control4.mp4 2234.0 24.0\n",
      "/workspace/videos/24fps_trial3/rat4-lps1.mp4 12759.0 24.0\n",
      "/workspace/videos/24fps_trial3/rat5-lps2.mp4 1857.0 24.0\n",
      "/workspace/videos/24fps_trial3/rat2-control1.mp4 12759.0 24.0\n",
      "/workspace/videos/24fps_trial3/rat4-control1.mp4 12771.0 24.0\n",
      "/workspace/videos/24fps_trial3/rat5-control1.mp4 12771.0 24.0\n",
      "/workspace/videos/24fps_trial3/rat2-control4.mp4 2638.0 24.0\n",
      "/workspace/videos/24fps_trial3/rat6-control1.mp4 12759.0 24.0\n",
      "/workspace/videos/24fps_trial3/rat7-lps1.mp4 10684.0 24.0\n",
      "/workspace/videos/24fps_trial3/rat8-lps1.mp4 12771.0 24.0\n",
      "/workspace/videos/24fps_trial3/rat3-lps2.mp4 3035.0 24.0\n",
      "/workspace/videos/24fps_trial3/rat7-control3.mp4 12771.0 24.0\n",
      "/workspace/videos/24fps_trial3/rat6-control5.mp4 1491.0 24.0\n",
      "/workspace/videos/24fps_trial3/rat9-lps2.mp4 2305.0 24.0\n",
      "/workspace/videos/24fps_trial3/rat2-control3.mp4 12759.0 24.0\n",
      "/workspace/videos/24fps_trial3/rat9-lps1.mp4 12759.0 24.0\n",
      "/workspace/videos/24fps_trial3/rat2-lps2.mp4 1829.0 24.0\n",
      "/workspace/videos/24fps_trial3/rat1-control2.mp4 2633.0 24.0\n",
      "/workspace/videos/24fps_trial3/rat8-lps2.mp4 5210.0 24.0\n",
      "/workspace/videos/24fps_trial3/rat4-lps2.mp4 1214.0 24.0\n",
      "/workspace/videos/24fps_trial3/rat2-lps3.mp4 12759.0 24.0\n",
      "/workspace/videos/24fps_trial3/rat6-control3.mp4 12496.0 24.0\n",
      "/workspace/videos/24fps_trial3/rat8-control1.mp4 12771.0 24.0\n",
      "/workspace/videos/24fps_trial3/rat2-lps4.mp4 2210.0 24.0\n",
      "/workspace/videos/24fps_trial3/rat7-lps2.mp4 6906.0 24.0\n",
      "/workspace/videos/24fps_trial3/rat1-control3.mp4 12759.0 24.0\n",
      "/workspace/videos/24fps_trial3/rat9-control1.mp4 12759.0 24.0\n",
      "/workspace/videos/24fps_trial3/rat6-lps2.mp4 1870.0 24.0\n",
      "/workspace/videos/24fps_trial3/rat3-control1.mp4 12759.0 24.0\n",
      "/workspace/videos/24fps_trial3/rat2-lps1.mp4 12759.0 24.0\n",
      "/workspace/videos/24fps_trial3/rat3-control4.mp4 1608.0 24.0\n",
      "/workspace/videos/24fps_trial3/rat9-control2.mp4 2680.0 24.0\n",
      "/workspace/videos/24fps_trial3/rat6-lps1.mp4 12771.0 24.0\n",
      "/workspace/videos/24fps_trial3/rat2-control2.mp4 2342.0 24.0\n",
      "/workspace/videos/24fps_trial3/rat1-control4.mp4 2032.0 24.0\n"
     ]
    }
   ],
   "source": [
    "import cv2\n",
    "\n",
    "video_dir =  Path(\"/workspace/videos/24fps_trial3\")\n",
    "videos = [video_dir / video for video in os.listdir(video_dir)]\n",
    "# videos = ['/storage/videos/24fps/rat1-control1.mp4']\n",
    "# videos = \n",
    "for video in videos:\n",
    "    cap = cv2.VideoCapture(str(video))\n",
    "    frames = cap.get(cv2.CAP_PROP_FRAME_COUNT)\n",
    "    print(video, frames, cap.get(cv2.CAP_PROP_FPS))\n",
    "    cap.release()"
   ]
  },
  {
   "cell_type": "code",
   "execution_count": 23,
   "metadata": {},
   "outputs": [
    {
     "name": "stdout",
     "output_type": "stream",
     "text": [
      "New video was added to the project! Use the function 'extract_frames' to select frames for labeling.\n"
     ]
    }
   ],
   "source": [
    "video_dir =  Path(\"/workspace/videos/24fps\")\n",
    "videos = [video_dir / video for video in os.listdir(video_dir)]\n",
    "\n",
    "deeplabcut.add_new_videos(project_path / 'config.yaml', videos)"
   ]
  },
  {
   "cell_type": "code",
   "execution_count": 18,
   "metadata": {},
   "outputs": [],
   "source": [
    "config"
   ]
  },
  {
   "cell_type": "code",
   "execution_count": 27,
   "metadata": {},
   "outputs": [
    {
     "name": "stdout",
     "output_type": "stream",
     "text": [
      "Config file read successfully.\n",
      "Extracting frames based on uniform ...\n",
      "Uniformly extracting of frames from 0.0  seconds to 532.12  seconds.\n",
      "Extracting frames based on uniform ...\n",
      "Uniformly extracting of frames from 0.0  seconds to 140.42  seconds.\n",
      "Extracting frames based on uniform ...\n",
      "Uniformly extracting of frames from 0.0  seconds to 531.62  seconds.\n",
      "Extracting frames based on uniform ...\n",
      "Uniformly extracting of frames from 0.0  seconds to 439.12  seconds.\n",
      "Extracting frames based on uniform ...\n",
      "Uniformly extracting of frames from 0.0  seconds to 170.21  seconds.\n",
      "Extracting frames based on uniform ...\n",
      "Uniformly extracting of frames from 0.0  seconds to 532.12  seconds.\n",
      "Extracting frames based on uniform ...\n",
      "Uniformly extracting of frames from 0.0  seconds to 531.62  seconds.\n",
      "Extracting frames based on uniform ...\n",
      "Uniformly extracting of frames from 0.0  seconds to 92.25  seconds.\n",
      "Extracting frames based on uniform ...\n",
      "Uniformly extracting of frames from 0.0  seconds to 73.96  seconds.\n",
      "Extracting frames based on uniform ...\n",
      "Uniformly extracting of frames from 0.0  seconds to 131.29  seconds.\n",
      "Extracting frames based on uniform ...\n",
      "Uniformly extracting of frames from 0.0  seconds to 532.12  seconds.\n",
      "Extracting frames based on uniform ...\n",
      "Uniformly extracting of frames from 0.0  seconds to 109.42  seconds.\n",
      "Extracting frames based on uniform ...\n",
      "Uniformly extracting of frames from 0.0  seconds to 93.08  seconds.\n",
      "Extracting frames based on uniform ...\n",
      "Uniformly extracting of frames from 0.0  seconds to 531.62  seconds.\n",
      "Extracting frames based on uniform ...\n",
      "Uniformly extracting of frames from 0.0  seconds to 77.38  seconds.\n",
      "Extracting frames based on uniform ...\n",
      "Uniformly extracting of frames from 0.0  seconds to 531.62  seconds.\n",
      "Extracting frames based on uniform ...\n",
      "Uniformly extracting of frames from 0.0  seconds to 532.12  seconds.\n",
      "Extracting frames based on uniform ...\n",
      "Uniformly extracting of frames from 0.0  seconds to 532.12  seconds.\n",
      "Extracting frames based on uniform ...\n",
      "Uniformly extracting of frames from 0.0  seconds to 109.92  seconds.\n",
      "Extracting frames based on uniform ...\n",
      "Uniformly extracting of frames from 0.0  seconds to 531.62  seconds.\n",
      "Extracting frames based on uniform ...\n",
      "Uniformly extracting of frames from 0.0  seconds to 445.17  seconds.\n",
      "Extracting frames based on uniform ...\n",
      "Uniformly extracting of frames from 0.0  seconds to 532.12  seconds.\n",
      "Extracting frames based on uniform ...\n",
      "Uniformly extracting of frames from 0.0  seconds to 126.46  seconds.\n",
      "Extracting frames based on uniform ...\n",
      "Uniformly extracting of frames from 0.0  seconds to 532.12  seconds.\n",
      "Extracting frames based on uniform ...\n",
      "Uniformly extracting of frames from 0.0  seconds to 62.12  seconds.\n",
      "Extracting frames based on uniform ...\n",
      "Uniformly extracting of frames from 0.0  seconds to 96.04  seconds.\n",
      "Extracting frames based on uniform ...\n",
      "Uniformly extracting of frames from 0.0  seconds to 531.62  seconds.\n",
      "Extracting frames based on uniform ...\n",
      "Uniformly extracting of frames from 0.0  seconds to 531.62  seconds.\n",
      "Extracting frames based on uniform ...\n",
      "Uniformly extracting of frames from 0.0  seconds to 76.21  seconds.\n",
      "Extracting frames based on uniform ...\n",
      "Uniformly extracting of frames from 0.0  seconds to 109.71  seconds.\n",
      "Extracting frames based on uniform ...\n",
      "Uniformly extracting of frames from 0.0  seconds to 217.08  seconds.\n",
      "Extracting frames based on uniform ...\n",
      "Uniformly extracting of frames from 0.0  seconds to 50.58  seconds.\n",
      "Extracting frames based on uniform ...\n",
      "Uniformly extracting of frames from 0.0  seconds to 531.62  seconds.\n",
      "Extracting frames based on uniform ...\n",
      "Uniformly extracting of frames from 0.0  seconds to 520.67  seconds.\n",
      "Extracting frames based on uniform ...\n",
      "Uniformly extracting of frames from 0.0  seconds to 532.12  seconds.\n",
      "Extracting frames based on uniform ...\n",
      "Uniformly extracting of frames from 0.0  seconds to 92.08  seconds.\n",
      "Extracting frames based on uniform ...\n",
      "Uniformly extracting of frames from 0.0  seconds to 287.75  seconds.\n",
      "Extracting frames based on uniform ...\n",
      "Uniformly extracting of frames from 0.0  seconds to 531.62  seconds.\n",
      "Extracting frames based on uniform ...\n",
      "Uniformly extracting of frames from 0.0  seconds to 531.62  seconds.\n",
      "Extracting frames based on uniform ...\n",
      "Uniformly extracting of frames from 0.0  seconds to 77.92  seconds.\n",
      "Extracting frames based on uniform ...\n",
      "Uniformly extracting of frames from 0.0  seconds to 531.62  seconds.\n",
      "Extracting frames based on uniform ...\n",
      "Uniformly extracting of frames from 0.0  seconds to 531.62  seconds.\n",
      "Extracting frames based on uniform ...\n",
      "Uniformly extracting of frames from 0.0  seconds to 67.0  seconds.\n",
      "Extracting frames based on uniform ...\n",
      "Uniformly extracting of frames from 0.0  seconds to 111.67  seconds.\n",
      "Extracting frames based on uniform ...\n",
      "Uniformly extracting of frames from 0.0  seconds to 532.12  seconds.\n",
      "Extracting frames based on uniform ...\n",
      "Uniformly extracting of frames from 0.0  seconds to 97.58  seconds.\n",
      "Extracting frames based on uniform ...\n",
      "Uniformly extracting of frames from 0.0  seconds to 84.67  seconds.\n",
      "Frames were successfully extracted.\n",
      "\n",
      "You can now label the frames using the function 'label_frames' (if you extracted enough frames for all videos).\n"
     ]
    }
   ],
   "source": [
    "deeplabcut.extract_frames(project_path / 'config.yaml', algo='uniform', userfeedback=False, cluster_step=6)"
   ]
  }
 ],
 "metadata": {
  "kernelspec": {
   "display_name": "DLC-GPU",
   "language": "python",
   "name": "dlc-gpu"
  },
  "language_info": {
   "codemirror_mode": {
    "name": "ipython",
    "version": 3
   },
   "file_extension": ".py",
   "mimetype": "text/x-python",
   "name": "python",
   "nbconvert_exporter": "python",
   "pygments_lexer": "ipython3",
   "version": "3.7.7"
  }
 },
 "nbformat": 4,
 "nbformat_minor": 4
}
